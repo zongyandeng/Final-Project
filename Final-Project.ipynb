{
 "cells": [
  {
   "cell_type": "markdown",
   "id": "da28fea0-a4f9-47c9-9b1e-575af53b55d4",
   "metadata": {},
   "source": [
    "# Title : COVID-19 Pandamic"
   ]
  },
  {
   "cell_type": "code",
   "execution_count": 1,
   "id": "9dca14d3-41bd-4542-a550-a3b9a0c23107",
   "metadata": {},
   "outputs": [],
   "source": [
    "#importing libraries\n",
    "import pandas as pd\n",
    "import numpy as np\n",
    "import matplotlib.pyplot as plt\n",
    "import seaborn as sns\n",
    "import plotly.express as px"
   ]
  },
  {
   "cell_type": "code",
   "execution_count": 2,
   "id": "f1a5821f-a3e1-4b1d-854a-c24afc85d4a8",
   "metadata": {},
   "outputs": [],
   "source": [
    "#data loading\n",
    "df = pd.read_csv('Covid Live.csv')"
   ]
  },
  {
   "cell_type": "code",
   "execution_count": 3,
   "id": "8edde09d-db0d-4117-8191-a5729af7e9fb",
   "metadata": {},
   "outputs": [
    {
     "data": {
      "text/html": [
       "<div>\n",
       "<style scoped>\n",
       "    .dataframe tbody tr th:only-of-type {\n",
       "        vertical-align: middle;\n",
       "    }\n",
       "\n",
       "    .dataframe tbody tr th {\n",
       "        vertical-align: top;\n",
       "    }\n",
       "\n",
       "    .dataframe thead th {\n",
       "        text-align: right;\n",
       "    }\n",
       "</style>\n",
       "<table border=\"1\" class=\"dataframe\">\n",
       "  <thead>\n",
       "    <tr style=\"text-align: right;\">\n",
       "      <th></th>\n",
       "      <th>#</th>\n",
       "      <th>Country,\\nOther</th>\n",
       "      <th>Total\\nCases</th>\n",
       "      <th>Total\\nDeaths</th>\n",
       "      <th>New\\nDeaths</th>\n",
       "      <th>Total\\nRecovered</th>\n",
       "      <th>Active\\nCases</th>\n",
       "      <th>Serious,\\nCritical</th>\n",
       "      <th>Tot Cases/\\n1M pop</th>\n",
       "      <th>Deaths/\\n1M pop</th>\n",
       "      <th>Total\\nTests</th>\n",
       "      <th>Tests/\\n1M pop</th>\n",
       "      <th>Population</th>\n",
       "    </tr>\n",
       "  </thead>\n",
       "  <tbody>\n",
       "    <tr>\n",
       "      <th>0</th>\n",
       "      <td>1</td>\n",
       "      <td>USA</td>\n",
       "      <td>98,166,904</td>\n",
       "      <td>1,084,282</td>\n",
       "      <td>NaN</td>\n",
       "      <td>94,962,112</td>\n",
       "      <td>2,120,510</td>\n",
       "      <td>2,970</td>\n",
       "      <td>293,206</td>\n",
       "      <td>3,239</td>\n",
       "      <td>1,118,158,870</td>\n",
       "      <td>3,339,729</td>\n",
       "      <td>334,805,269</td>\n",
       "    </tr>\n",
       "    <tr>\n",
       "      <th>1</th>\n",
       "      <td>2</td>\n",
       "      <td>India</td>\n",
       "      <td>44,587,307</td>\n",
       "      <td>528,629</td>\n",
       "      <td>NaN</td>\n",
       "      <td>44,019,095</td>\n",
       "      <td>39,583</td>\n",
       "      <td>698</td>\n",
       "      <td>31,698</td>\n",
       "      <td>376</td>\n",
       "      <td>894,416,853</td>\n",
       "      <td>635,857</td>\n",
       "      <td>1,406,631,776</td>\n",
       "    </tr>\n",
       "    <tr>\n",
       "      <th>2</th>\n",
       "      <td>3</td>\n",
       "      <td>France</td>\n",
       "      <td>35,342,950</td>\n",
       "      <td>155,078</td>\n",
       "      <td>NaN</td>\n",
       "      <td>34,527,115</td>\n",
       "      <td>660,757</td>\n",
       "      <td>869</td>\n",
       "      <td>538,892</td>\n",
       "      <td>2,365</td>\n",
       "      <td>271,490,188</td>\n",
       "      <td>4,139,547</td>\n",
       "      <td>65,584,518</td>\n",
       "    </tr>\n",
       "    <tr>\n",
       "      <th>3</th>\n",
       "      <td>4</td>\n",
       "      <td>Brazil</td>\n",
       "      <td>34,706,757</td>\n",
       "      <td>686,027</td>\n",
       "      <td>NaN</td>\n",
       "      <td>33,838,636</td>\n",
       "      <td>182,094</td>\n",
       "      <td>8,318</td>\n",
       "      <td>161,162</td>\n",
       "      <td>3,186</td>\n",
       "      <td>63,776,166</td>\n",
       "      <td>296,146</td>\n",
       "      <td>215,353,593</td>\n",
       "    </tr>\n",
       "    <tr>\n",
       "      <th>4</th>\n",
       "      <td>5</td>\n",
       "      <td>Germany</td>\n",
       "      <td>33,312,373</td>\n",
       "      <td>149,948</td>\n",
       "      <td>NaN</td>\n",
       "      <td>32,315,200</td>\n",
       "      <td>847,225</td>\n",
       "      <td>1,406</td>\n",
       "      <td>397,126</td>\n",
       "      <td>1,788</td>\n",
       "      <td>122,332,384</td>\n",
       "      <td>1,458,359</td>\n",
       "      <td>83,883,596</td>\n",
       "    </tr>\n",
       "  </tbody>\n",
       "</table>\n",
       "</div>"
      ],
      "text/plain": [
       "   # Country,\\nOther Total\\nCases Total\\nDeaths  New\\nDeaths Total\\nRecovered  \\\n",
       "0  1             USA   98,166,904     1,084,282          NaN       94,962,112   \n",
       "1  2           India   44,587,307       528,629          NaN       44,019,095   \n",
       "2  3          France   35,342,950       155,078          NaN       34,527,115   \n",
       "3  4          Brazil   34,706,757       686,027          NaN       33,838,636   \n",
       "4  5         Germany   33,312,373       149,948          NaN       32,315,200   \n",
       "\n",
       "  Active\\nCases Serious,\\nCritical Tot Cases/\\n1M pop Deaths/\\n1M pop  \\\n",
       "0     2,120,510              2,970            293,206           3,239   \n",
       "1        39,583                698             31,698             376   \n",
       "2       660,757                869            538,892           2,365   \n",
       "3       182,094              8,318            161,162           3,186   \n",
       "4       847,225              1,406            397,126           1,788   \n",
       "\n",
       "    Total\\nTests Tests/\\n1M pop     Population  \n",
       "0  1,118,158,870      3,339,729    334,805,269  \n",
       "1    894,416,853        635,857  1,406,631,776  \n",
       "2    271,490,188      4,139,547     65,584,518  \n",
       "3     63,776,166        296,146    215,353,593  \n",
       "4    122,332,384      1,458,359     83,883,596  "
      ]
     },
     "execution_count": 3,
     "metadata": {},
     "output_type": "execute_result"
    }
   ],
   "source": [
    "#view the data\n",
    "df.head() #default value n=5"
   ]
  },
  {
   "cell_type": "code",
   "execution_count": 4,
   "id": "c7cb184c-6ec2-4883-a111-244a72f9ca86",
   "metadata": {},
   "outputs": [],
   "source": [
    "#remove the '#' \n",
    "df.drop('#', axis=1, inplace=True) #directly modify the original data"
   ]
  },
  {
   "cell_type": "code",
   "execution_count": 5,
   "id": "068576f7-dfc9-47a9-973f-823d82d079a2",
   "metadata": {},
   "outputs": [
    {
     "data": {
      "text/plain": [
       "['Country,\\nOther',\n",
       " 'Total\\nCases',\n",
       " 'Total\\nDeaths',\n",
       " 'New\\nDeaths',\n",
       " 'Total\\nRecovered',\n",
       " 'Active\\nCases',\n",
       " 'Serious,\\nCritical',\n",
       " 'Tot Cases/\\n1M pop',\n",
       " 'Deaths/\\n1M pop',\n",
       " 'Total\\nTests',\n",
       " 'Tests/\\n1M pop',\n",
       " 'Population']"
      ]
     },
     "execution_count": 5,
     "metadata": {},
     "output_type": "execute_result"
    }
   ],
   "source": [
    "#Get a list containing all column names\n",
    "columns = df.columns.tolist()\n",
    "columns"
   ]
  },
  {
   "cell_type": "code",
   "execution_count": 6,
   "id": "e6f1693f-ae54-4f43-b542-6a27677c1be6",
   "metadata": {},
   "outputs": [
    {
     "data": {
      "text/html": [
       "<div>\n",
       "<style scoped>\n",
       "    .dataframe tbody tr th:only-of-type {\n",
       "        vertical-align: middle;\n",
       "    }\n",
       "\n",
       "    .dataframe tbody tr th {\n",
       "        vertical-align: top;\n",
       "    }\n",
       "\n",
       "    .dataframe thead th {\n",
       "        text-align: right;\n",
       "    }\n",
       "</style>\n",
       "<table border=\"1\" class=\"dataframe\">\n",
       "  <thead>\n",
       "    <tr style=\"text-align: right;\">\n",
       "      <th></th>\n",
       "      <th>Country</th>\n",
       "      <th>Total Cases</th>\n",
       "      <th>Total Deaths</th>\n",
       "      <th>New Deaths</th>\n",
       "      <th>Total Recovered</th>\n",
       "      <th>Active Cases</th>\n",
       "      <th>Serious Cases</th>\n",
       "      <th>Total Cases/1M pop</th>\n",
       "      <th>Deaths/1M pop</th>\n",
       "      <th>Total Tests</th>\n",
       "      <th>Test/1M pop</th>\n",
       "      <th>Population</th>\n",
       "    </tr>\n",
       "  </thead>\n",
       "  <tbody>\n",
       "    <tr>\n",
       "      <th>0</th>\n",
       "      <td>USA</td>\n",
       "      <td>98,166,904</td>\n",
       "      <td>1,084,282</td>\n",
       "      <td>NaN</td>\n",
       "      <td>94,962,112</td>\n",
       "      <td>2,120,510</td>\n",
       "      <td>2,970</td>\n",
       "      <td>293,206</td>\n",
       "      <td>3,239</td>\n",
       "      <td>1,118,158,870</td>\n",
       "      <td>3,339,729</td>\n",
       "      <td>334,805,269</td>\n",
       "    </tr>\n",
       "    <tr>\n",
       "      <th>1</th>\n",
       "      <td>India</td>\n",
       "      <td>44,587,307</td>\n",
       "      <td>528,629</td>\n",
       "      <td>NaN</td>\n",
       "      <td>44,019,095</td>\n",
       "      <td>39,583</td>\n",
       "      <td>698</td>\n",
       "      <td>31,698</td>\n",
       "      <td>376</td>\n",
       "      <td>894,416,853</td>\n",
       "      <td>635,857</td>\n",
       "      <td>1,406,631,776</td>\n",
       "    </tr>\n",
       "    <tr>\n",
       "      <th>2</th>\n",
       "      <td>France</td>\n",
       "      <td>35,342,950</td>\n",
       "      <td>155,078</td>\n",
       "      <td>NaN</td>\n",
       "      <td>34,527,115</td>\n",
       "      <td>660,757</td>\n",
       "      <td>869</td>\n",
       "      <td>538,892</td>\n",
       "      <td>2,365</td>\n",
       "      <td>271,490,188</td>\n",
       "      <td>4,139,547</td>\n",
       "      <td>65,584,518</td>\n",
       "    </tr>\n",
       "    <tr>\n",
       "      <th>3</th>\n",
       "      <td>Brazil</td>\n",
       "      <td>34,706,757</td>\n",
       "      <td>686,027</td>\n",
       "      <td>NaN</td>\n",
       "      <td>33,838,636</td>\n",
       "      <td>182,094</td>\n",
       "      <td>8,318</td>\n",
       "      <td>161,162</td>\n",
       "      <td>3,186</td>\n",
       "      <td>63,776,166</td>\n",
       "      <td>296,146</td>\n",
       "      <td>215,353,593</td>\n",
       "    </tr>\n",
       "    <tr>\n",
       "      <th>4</th>\n",
       "      <td>Germany</td>\n",
       "      <td>33,312,373</td>\n",
       "      <td>149,948</td>\n",
       "      <td>NaN</td>\n",
       "      <td>32,315,200</td>\n",
       "      <td>847,225</td>\n",
       "      <td>1,406</td>\n",
       "      <td>397,126</td>\n",
       "      <td>1,788</td>\n",
       "      <td>122,332,384</td>\n",
       "      <td>1,458,359</td>\n",
       "      <td>83,883,596</td>\n",
       "    </tr>\n",
       "  </tbody>\n",
       "</table>\n",
       "</div>"
      ],
      "text/plain": [
       "   Country Total Cases Total Deaths  New Deaths Total Recovered Active Cases  \\\n",
       "0      USA  98,166,904    1,084,282         NaN      94,962,112    2,120,510   \n",
       "1    India  44,587,307      528,629         NaN      44,019,095       39,583   \n",
       "2   France  35,342,950      155,078         NaN      34,527,115      660,757   \n",
       "3   Brazil  34,706,757      686,027         NaN      33,838,636      182,094   \n",
       "4  Germany  33,312,373      149,948         NaN      32,315,200      847,225   \n",
       "\n",
       "  Serious Cases Total Cases/1M pop Deaths/1M pop    Total Tests Test/1M pop  \\\n",
       "0         2,970            293,206         3,239  1,118,158,870   3,339,729   \n",
       "1           698             31,698           376    894,416,853     635,857   \n",
       "2           869            538,892         2,365    271,490,188   4,139,547   \n",
       "3         8,318            161,162         3,186     63,776,166     296,146   \n",
       "4         1,406            397,126         1,788    122,332,384   1,458,359   \n",
       "\n",
       "      Population  \n",
       "0    334,805,269  \n",
       "1  1,406,631,776  \n",
       "2     65,584,518  \n",
       "3    215,353,593  \n",
       "4     83,883,596  "
      ]
     },
     "execution_count": 6,
     "metadata": {},
     "output_type": "execute_result"
    }
   ],
   "source": [
    "#rename the columns\n",
    "columns[0] = \"Country\"\n",
    "columns[1] = \"Total Cases\"\n",
    "columns[2] = \"Total Deaths\"\n",
    "columns[3] = \"New Deaths\"\n",
    "columns[4] = \"Total Recovered\"\n",
    "columns[5] = \"Active Cases\"\n",
    "columns[6] = \"Serious Cases\"\n",
    "columns[7] = \"Total Cases/1M pop\"\n",
    "columns[8] = \"Deaths/1M pop\"\n",
    "columns[9] = \"Total Tests\"\n",
    "columns[10] = \"Test/1M pop\"\n",
    "df.columns = columns\n",
    "df.head()"
   ]
  },
  {
   "cell_type": "code",
   "execution_count": 7,
   "id": "593b371a-728d-4cba-8be2-9ceb3b7a0e2d",
   "metadata": {},
   "outputs": [
    {
     "data": {
      "text/plain": [
       "(230, 12)"
      ]
     },
     "execution_count": 7,
     "metadata": {},
     "output_type": "execute_result"
    }
   ],
   "source": [
    "df.shape"
   ]
  },
  {
   "cell_type": "code",
   "execution_count": 8,
   "id": "275cb475-3d0a-4bcb-9494-d495e9cfd4d9",
   "metadata": {},
   "outputs": [
    {
     "name": "stdout",
     "output_type": "stream",
     "text": [
      "<class 'pandas.core.frame.DataFrame'>\n",
      "RangeIndex: 230 entries, 0 to 229\n",
      "Data columns (total 12 columns):\n",
      " #   Column              Non-Null Count  Dtype  \n",
      "---  ------              --------------  -----  \n",
      " 0   Country             230 non-null    object \n",
      " 1   Total Cases         230 non-null    object \n",
      " 2   Total Deaths        225 non-null    object \n",
      " 3   New Deaths          3 non-null      float64\n",
      " 4   Total Recovered     214 non-null    object \n",
      " 5   Active Cases        215 non-null    object \n",
      " 6   Serious Cases       147 non-null    object \n",
      " 7   Total Cases/1M pop  228 non-null    object \n",
      " 8   Deaths/1M pop       223 non-null    object \n",
      " 9   Total Tests         214 non-null    object \n",
      " 10  Test/1M pop         214 non-null    object \n",
      " 11  Population          228 non-null    object \n",
      "dtypes: float64(1), object(11)\n",
      "memory usage: 21.7+ KB\n"
     ]
    }
   ],
   "source": [
    "#check the info\n",
    "df.info()"
   ]
  },
  {
   "cell_type": "code",
   "execution_count": 9,
   "id": "039c117d-5d85-4179-81df-7786a5c451bd",
   "metadata": {},
   "outputs": [],
   "source": [
    "#convert the datatype from string into float\n",
    "df[\"Total Cases\"] = df[\"Total Cases\"].str.replace(\",\",\"\").astype(float)\n",
    "df[\"Total Deaths\"] = df[\"Total Deaths\"].str.replace(\",\",\"\").astype(float)\n",
    "df[\"Total Recovered\"] = df[\"Total Recovered\"].str.replace(\",\",\"\").astype(float)\n",
    "df[\"Active Cases\"] = df[\"Active Cases\"].str.replace(\",\",\"\").astype(float)\n",
    "df[\"Serious Cases\"] = df[\"Serious Cases\"].str.replace(\",\",\"\").astype(float)\n",
    "df[\"Total Cases/1M pop\"] = df[\"Total Cases/1M pop\"].str.replace(\",\",\"\").astype(float)\n",
    "df[\"Deaths/1M pop\"] = df[\"Deaths/1M pop\"].str.replace(\",\",\"\").astype(float)\n",
    "df[\"Total Tests\"] = df[\"Total Tests\"].str.replace(\",\",\"\").astype(float)\n",
    "df[\"Test/1M pop\"] = df[\"Test/1M pop\"].str.replace(\",\",\"\").astype(float)\n",
    "df[\"Population\"] = df[\"Population\"].str.replace(\",\",\"\").astype(float)"
   ]
  },
  {
   "cell_type": "code",
   "execution_count": 10,
   "id": "eba32a44-47ec-43fd-8a12-b8023f982c7a",
   "metadata": {},
   "outputs": [
    {
     "data": {
      "text/plain": [
       "Country                 0\n",
       "Total Cases             0\n",
       "Total Deaths            5\n",
       "New Deaths            227\n",
       "Total Recovered        16\n",
       "Active Cases           15\n",
       "Serious Cases          83\n",
       "Total Cases/1M pop      2\n",
       "Deaths/1M pop           7\n",
       "Total Tests            16\n",
       "Test/1M pop            16\n",
       "Population              2\n",
       "dtype: int64"
      ]
     },
     "execution_count": 10,
     "metadata": {},
     "output_type": "execute_result"
    }
   ],
   "source": [
    "#Count the number of missing values\n",
    "df.isnull().sum()"
   ]
  },
  {
   "cell_type": "code",
   "execution_count": 11,
   "id": "e1e0d6aa-2a75-4ed2-9c4c-4a3962792bd6",
   "metadata": {},
   "outputs": [
    {
     "data": {
      "text/plain": [
       "Country                0.000000\n",
       "Total Cases            0.000000\n",
       "Total Deaths           2.173913\n",
       "New Deaths            98.695652\n",
       "Total Recovered        6.956522\n",
       "Active Cases           6.521739\n",
       "Serious Cases         36.086957\n",
       "Total Cases/1M pop     0.869565\n",
       "Deaths/1M pop          3.043478\n",
       "Total Tests            6.956522\n",
       "Test/1M pop            6.956522\n",
       "Population             0.869565\n",
       "dtype: float64"
      ]
     },
     "execution_count": 11,
     "metadata": {},
     "output_type": "execute_result"
    }
   ],
   "source": [
    "#checking for null values in percentage\n",
    "df.isnull().sum() * 100 / len(df)"
   ]
  },
  {
   "cell_type": "code",
   "execution_count": 12,
   "id": "3db350f0-1598-4cb7-80ec-8234b3c9d728",
   "metadata": {},
   "outputs": [
    {
     "data": {
      "text/plain": [
       "<Axes: >"
      ]
     },
     "execution_count": 12,
     "metadata": {},
     "output_type": "execute_result"
    },
    {
     "data": {
      "image/png": "[encoded data removed]",
      "text/plain": [
       "<Figure size 640x480 with 1 Axes>"
      ]
     },
     "metadata": {},
     "output_type": "display_data"
    }
   ],
   "source": [
    "#create a bar chart\n",
    "df.isnull().sum().plot(kind = 'barh')"
   ]
  },
  {
   "cell_type": "code",
   "execution_count": 13,
   "id": "1e93df59-5887-4d20-81a1-19018181eddf",
   "metadata": {},
   "outputs": [],
   "source": [
    "#Because most of the New Death is empty, it is filled with 0\n",
    "df['New Deaths'] = df['New Deaths'].fillna(0)"
   ]
  },
  {
   "cell_type": "code",
   "execution_count": 14,
   "id": "0f5bd8ca-a416-4d78-974e-f5155005a366",
   "metadata": {},
   "outputs": [],
   "source": [
    "#import SimpleImputer  for imputing (filling in) missing values with either constant values or statistical measures. \n",
    "from sklearn.impute import SimpleImputer"
   ]
  },
  {
   "cell_type": "code",
   "execution_count": 15,
   "id": "75f80898-8577-4d21-9020-71474727efdd",
   "metadata": {},
   "outputs": [],
   "source": [
    "#imputer Initialization\n",
    "imputer = SimpleImputer(missing_values=np.nan, strategy=\"median\",fill_value=None)\n",
    "\n",
    "#Imputeration on each column\n",
    "df[\"Total Deaths\"] = imputer.fit_transform(df[[\"Total Deaths\"]])\n",
    "df[\"Total Recovered\"] = imputer.fit_transform(df[[\"Total Recovered\"]])\n",
    "df[\"Active Cases\"] = imputer.fit_transform(df[[\"Active Cases\"]])\n",
    "df[\"Serious Cases\"] = imputer.fit_transform(df[[\"Serious Cases\"]])\n",
    "df[\"Deaths/1M pop\"] = imputer.fit_transform(df[[\"Deaths/1M pop\"]])\n",
    "df[\"Total Tests\"] = imputer.fit_transform(df[[\"Total Tests\"]])\n",
    "df[\"Total Cases/1M pop\"] = imputer.fit_transform(df[[\"Total Cases/1M pop\"]])\n",
    "df[\"Test/1M pop\"] = imputer.fit_transform(df[[\"Test/1M pop\"]])\n",
    "df[\"Population\"] = imputer.fit_transform(df[[\"Population\"]])\n",
    "\n",
    "#can use for loop \n",
    "# columns_to_impute = [\"Total Deaths\", \"Total Recovered\", \"Active Cases\", \"Serious Cases\",\n",
    "#     \"Deaths/1M pop\", \"Total Tests\", \"Total Cases/1M pop\", \"Test/1M pop\", \"Population\"]\n",
    "\n",
    "# imputer = SimpleImputer(missing_values=np.nan, strategy=\"median\",fill_value=None)\n",
    "\n",
    "# for col in columns_to_impute:\n",
    "#     df[col] = imputer.fit_transform(df[[col]]).ravel()"
   ]
  },
  {
   "cell_type": "code",
   "execution_count": 16,
   "id": "d729214e-6199-4190-926d-d42216d8c045",
   "metadata": {},
   "outputs": [
    {
     "data": {
      "text/plain": [
       "Country               0\n",
       "Total Cases           0\n",
       "Total Deaths          0\n",
       "New Deaths            0\n",
       "Total Recovered       0\n",
       "Active Cases          0\n",
       "Serious Cases         0\n",
       "Total Cases/1M pop    0\n",
       "Deaths/1M pop         0\n",
       "Total Tests           0\n",
       "Test/1M pop           0\n",
       "Population            0\n",
       "dtype: int64"
      ]
     },
     "execution_count": 16,
     "metadata": {},
     "output_type": "execute_result"
    }
   ],
   "source": [
    "#check the null values\n",
    "df.isnull().sum()"
   ]
  },
  {
   "cell_type": "code",
   "execution_count": 17,
   "id": "a4236713-bd60-4ebc-b483-61a973169f36",
   "metadata": {},
   "outputs": [
    {
     "data": {
      "text/plain": [
       "np.int64(0)"
      ]
     },
     "execution_count": 17,
     "metadata": {},
     "output_type": "execute_result"
    }
   ],
   "source": [
    "#check the duplicated value\n",
    "df.duplicated().sum()"
   ]
  },
  {
   "cell_type": "code",
   "execution_count": 18,
   "id": "2bfa6412-f491-4c87-a44a-03976c10afb4",
   "metadata": {},
   "outputs": [
    {
     "data": {
      "text/html": [
       "<div>\n",
       "<style scoped>\n",
       "    .dataframe tbody tr th:only-of-type {\n",
       "        vertical-align: middle;\n",
       "    }\n",
       "\n",
       "    .dataframe tbody tr th {\n",
       "        vertical-align: top;\n",
       "    }\n",
       "\n",
       "    .dataframe thead th {\n",
       "        text-align: right;\n",
       "    }\n",
       "</style>\n",
       "<table border=\"1\" class=\"dataframe\">\n",
       "  <thead>\n",
       "    <tr style=\"text-align: right;\">\n",
       "      <th></th>\n",
       "      <th>Total Cases</th>\n",
       "      <th>Total Deaths</th>\n",
       "      <th>New Deaths</th>\n",
       "      <th>Total Recovered</th>\n",
       "      <th>Active Cases</th>\n",
       "      <th>Serious Cases</th>\n",
       "      <th>Total Cases/1M pop</th>\n",
       "      <th>Deaths/1M pop</th>\n",
       "      <th>Total Tests</th>\n",
       "      <th>Test/1M pop</th>\n",
       "      <th>Population</th>\n",
       "    </tr>\n",
       "  </thead>\n",
       "  <tbody>\n",
       "    <tr>\n",
       "      <th>count</th>\n",
       "      <td>2.300000e+02</td>\n",
       "      <td>2.300000e+02</td>\n",
       "      <td>230.000000</td>\n",
       "      <td>2.300000e+02</td>\n",
       "      <td>2.300000e+02</td>\n",
       "      <td>230.000000</td>\n",
       "      <td>230.000000</td>\n",
       "      <td>230.000000</td>\n",
       "      <td>2.300000e+02</td>\n",
       "      <td>2.300000e+02</td>\n",
       "      <td>2.300000e+02</td>\n",
       "    </tr>\n",
       "    <tr>\n",
       "      <th>mean</th>\n",
       "      <td>2.705969e+06</td>\n",
       "      <td>2.851300e+04</td>\n",
       "      <td>0.234783</td>\n",
       "      <td>2.627620e+06</td>\n",
       "      <td>5.378354e+04</td>\n",
       "      <td>179.204348</td>\n",
       "      <td>179085.795652</td>\n",
       "      <td>1185.156522</td>\n",
       "      <td>2.933894e+07</td>\n",
       "      <td>1.968860e+06</td>\n",
       "      <td>3.459377e+07</td>\n",
       "    </tr>\n",
       "    <tr>\n",
       "      <th>std</th>\n",
       "      <td>8.779899e+06</td>\n",
       "      <td>1.011682e+05</td>\n",
       "      <td>2.835614</td>\n",
       "      <td>8.527212e+06</td>\n",
       "      <td>2.009570e+05</td>\n",
       "      <td>746.681337</td>\n",
       "      <td>181664.951320</td>\n",
       "      <td>1229.921910</td>\n",
       "      <td>1.106360e+08</td>\n",
       "      <td>3.379768e+06</td>\n",
       "      <td>1.383417e+08</td>\n",
       "    </tr>\n",
       "    <tr>\n",
       "      <th>min</th>\n",
       "      <td>9.000000e+00</td>\n",
       "      <td>1.000000e+00</td>\n",
       "      <td>0.000000</td>\n",
       "      <td>2.000000e+00</td>\n",
       "      <td>0.000000e+00</td>\n",
       "      <td>1.000000</td>\n",
       "      <td>16.000000</td>\n",
       "      <td>2.000000</td>\n",
       "      <td>5.117000e+03</td>\n",
       "      <td>5.091000e+03</td>\n",
       "      <td>7.990000e+02</td>\n",
       "    </tr>\n",
       "    <tr>\n",
       "      <th>25%</th>\n",
       "      <td>2.364900e+04</td>\n",
       "      <td>2.160000e+02</td>\n",
       "      <td>0.000000</td>\n",
       "      <td>2.449950e+04</td>\n",
       "      <td>1.700000e+02</td>\n",
       "      <td>10.000000</td>\n",
       "      <td>17017.500000</td>\n",
       "      <td>174.250000</td>\n",
       "      <td>4.007550e+05</td>\n",
       "      <td>1.968250e+05</td>\n",
       "      <td>5.476582e+05</td>\n",
       "    </tr>\n",
       "    <tr>\n",
       "      <th>50%</th>\n",
       "      <td>2.037110e+05</td>\n",
       "      <td>2.179000e+03</td>\n",
       "      <td>0.000000</td>\n",
       "      <td>2.250110e+05</td>\n",
       "      <td>1.246000e+03</td>\n",
       "      <td>18.000000</td>\n",
       "      <td>117976.000000</td>\n",
       "      <td>777.000000</td>\n",
       "      <td>2.172044e+06</td>\n",
       "      <td>8.717415e+05</td>\n",
       "      <td>5.816378e+06</td>\n",
       "    </tr>\n",
       "    <tr>\n",
       "      <th>75%</th>\n",
       "      <td>1.256286e+06</td>\n",
       "      <td>1.327200e+04</td>\n",
       "      <td>0.000000</td>\n",
       "      <td>1.214962e+06</td>\n",
       "      <td>1.827425e+04</td>\n",
       "      <td>34.500000</td>\n",
       "      <td>292559.750000</td>\n",
       "      <td>1896.750000</td>\n",
       "      <td>1.130354e+07</td>\n",
       "      <td>2.072495e+06</td>\n",
       "      <td>2.197109e+07</td>\n",
       "    </tr>\n",
       "    <tr>\n",
       "      <th>max</th>\n",
       "      <td>9.816690e+07</td>\n",
       "      <td>1.084282e+06</td>\n",
       "      <td>42.000000</td>\n",
       "      <td>9.496211e+07</td>\n",
       "      <td>2.120510e+06</td>\n",
       "      <td>8318.000000</td>\n",
       "      <td>703959.000000</td>\n",
       "      <td>6429.000000</td>\n",
       "      <td>1.118159e+09</td>\n",
       "      <td>2.200494e+07</td>\n",
       "      <td>1.448471e+09</td>\n",
       "    </tr>\n",
       "  </tbody>\n",
       "</table>\n",
       "</div>"
      ],
      "text/plain": [
       "        Total Cases  Total Deaths  New Deaths  Total Recovered  Active Cases  \\\n",
       "count  2.300000e+02  2.300000e+02  230.000000     2.300000e+02  2.300000e+02   \n",
       "mean   2.705969e+06  2.851300e+04    0.234783     2.627620e+06  5.378354e+04   \n",
       "std    8.779899e+06  1.011682e+05    2.835614     8.527212e+06  2.009570e+05   \n",
       "min    9.000000e+00  1.000000e+00    0.000000     2.000000e+00  0.000000e+00   \n",
       "25%    2.364900e+04  2.160000e+02    0.000000     2.449950e+04  1.700000e+02   \n",
       "50%    2.037110e+05  2.179000e+03    0.000000     2.250110e+05  1.246000e+03   \n",
       "75%    1.256286e+06  1.327200e+04    0.000000     1.214962e+06  1.827425e+04   \n",
       "max    9.816690e+07  1.084282e+06   42.000000     9.496211e+07  2.120510e+06   \n",
       "\n",
       "       Serious Cases  Total Cases/1M pop  Deaths/1M pop   Total Tests  \\\n",
       "count     230.000000          230.000000     230.000000  2.300000e+02   \n",
       "mean      179.204348       179085.795652    1185.156522  2.933894e+07   \n",
       "std       746.681337       181664.951320    1229.921910  1.106360e+08   \n",
       "min         1.000000           16.000000       2.000000  5.117000e+03   \n",
       "25%        10.000000        17017.500000     174.250000  4.007550e+05   \n",
       "50%        18.000000       117976.000000     777.000000  2.172044e+06   \n",
       "75%        34.500000       292559.750000    1896.750000  1.130354e+07   \n",
       "max      8318.000000       703959.000000    6429.000000  1.118159e+09   \n",
       "\n",
       "        Test/1M pop    Population  \n",
       "count  2.300000e+02  2.300000e+02  \n",
       "mean   1.968860e+06  3.459377e+07  \n",
       "std    3.379768e+06  1.383417e+08  \n",
       "min    5.091000e+03  7.990000e+02  \n",
       "25%    1.968250e+05  5.476582e+05  \n",
       "50%    8.717415e+05  5.816378e+06  \n",
       "75%    2.072495e+06  2.197109e+07  \n",
       "max    2.200494e+07  1.448471e+09  "
      ]
     },
     "execution_count": 18,
     "metadata": {},
     "output_type": "execute_result"
    }
   ],
   "source": [
    "#descriptive statistics\n",
    "df.describe()"
   ]
  },
  {
   "cell_type": "code",
   "execution_count": 31,
   "id": "6af06985-97de-4736-9ffe-d4c5e3ab347c",
   "metadata": {},
   "outputs": [],
   "source": [
    "#check the correlation\n",
    "#drop the 'Country' column\n",
    "df_corr = df.drop(columns='Country')"
   ]
  },
  {
   "cell_type": "code",
   "execution_count": 32,
   "id": "91890a3e-7a6d-4220-ada4-99386720bc18",
   "metadata": {},
   "outputs": [
    {
     "data": {
      "application/vnd.plotly.v1+json": {
       "config": {
        "plotlyServerURL": "https://plot.ly"
       },
       "data": [
        {
         "coloraxis": "coloraxis",
         "hovertemplate": "x: %{x}<br>y: %{y}<br>color: %{z}<extra></extra>",
         "name": "0",
         "type": "heatmap",
         "x": [
          "Total Cases",
          "Total Deaths",
          "New Deaths",
          "Total Recovered",
          "Active Cases",
          "Serious Cases",
          "Total Cases/1M pop",
          "Deaths/1M pop",
          "Total Tests",
          "Test/1M pop",
          "Population"
         ],
         "xaxis": "x",
         "y": [
          "Total Cases",
          "Total Deaths",
          "New Deaths",
          "Total Recovered",
          "Active Cases",
          "Serious Cases",
          "Total Cases/1M pop",
          "Deaths/1M pop",
          "Total Tests",
          "Test/1M pop",
          "Population"
         ],
         "yaxis": "y",
         "z": [
          [
           1,
           0.8909379375729646,
           0.16505592865492022,
           0.9998682606047122,
           0.8058025716672249,
           0.5114881049361316,
           0.143205025818447,
           0.21189596844030442,
           0.8604201817415249,
           0.061292975997710275,
           0.3922403366472057
          ],
          [
           0.8909379375729646,
           1,
           0.000610419644030388,
           0.8897061988733289,
           0.6576858403516644,
           0.7151503813307926,
           0.0211207221348435,
           0.2856054248142036,
           0.7874086271057696,
           0.0009983634343456416,
           0.41941376047068807
          ],
          [
           0.16505592865492022,
           0.000610419644030388,
           1,
           0.16489643166136184,
           0.2123708682263322,
           0.03859237654438258,
           0.09509680555182973,
           -0.04527784441829315,
           -0.009376989830959269,
           -0.04135950990546454,
           0.01788834697106545
          ],
          [
           0.9998682606047122,
           0.8897061988733289,
           0.16489643166136184,
           1,
           0.7981891455306379,
           0.5082850389488223,
           0.14473547153605668,
           0.21036021317979375,
           0.862600224778083,
           0.06323517291546787,
           0.3950391708102727
          ],
          [
           0.8058025716672249,
           0.6576858403516644,
           0.2123708682263322,
           0.7981891455306379,
           1,
           0.4119352031290939,
           0.13474582726113554,
           0.16293259048001008,
           0.5871595919866549,
           0.023660014745003226,
           0.15853214992465317
          ],
          [
           0.5114881049361316,
           0.7151503813307926,
           0.03859237654438258,
           0.5082850389488223,
           0.4119352031290939,
           1,
           -0.035516552562399384,
           0.17946396885532323,
           0.28918852101297726,
           -0.0603505693749523,
           0.22062764780027666
          ],
          [
           0.143205025818447,
           0.0211207221348435,
           0.09509680555182973,
           0.14473547153605668,
           0.13474582726113554,
           -0.035516552562399384,
           1,
           0.4622236395600232,
           0.09405388501361174,
           0.5580744989853708,
           -0.1392070033708168
          ],
          [
           0.21189596844030442,
           0.2856054248142036,
           -0.04527784441829315,
           0.21036021317979375,
           0.16293259048001008,
           0.17946396885532323,
           0.4622236395600232,
           1,
           0.16042160795525345,
           0.22004342229365573,
           -0.0737214207893028
          ],
          [
           0.8604201817415249,
           0.7874086271057696,
           -0.009376989830959269,
           0.862600224778083,
           0.5871595919866549,
           0.28918852101297726,
           0.09405388501361174,
           0.16042160795525345,
           1,
           0.20911504976708992,
           0.5435954966604094
          ],
          [
           0.061292975997710275,
           0.0009983634343456416,
           -0.04135950990546454,
           0.06323517291546787,
           0.023660014745003226,
           -0.0603505693749523,
           0.5580744989853708,
           0.22004342229365573,
           0.20911504976708992,
           1,
           -0.08263372046197051
          ],
          [
           0.3922403366472057,
           0.41941376047068807,
           0.01788834697106545,
           0.3950391708102727,
           0.15853214992465317,
           0.22062764780027666,
           -0.1392070033708168,
           -0.0737214207893028,
           0.5435954966604094,
           -0.08263372046197051,
           1
          ]
         ]
        }
       ],
       "layout": {
        "coloraxis": {
         "colorscale": [
          [
           0,
           "#440154"
          ],
          [
           0.1111111111111111,
           "#482878"
          ],
          [
           0.2222222222222222,
           "#3e4989"
          ],
          [
           0.3333333333333333,
           "#31688e"
          ],
          [
           0.4444444444444444,
           "#26828e"
          ],
          [
           0.5555555555555556,
           "#1f9e89"
          ],
          [
           0.6666666666666666,
           "#35b779"
          ],
          [
           0.7777777777777778,
           "#6ece58"
          ],
          [
           0.8888888888888888,
           "#b5de2b"
          ],
          [
           1,
           "#fde725"
          ]
         ]
        },
        "margin": {
         "t": 60
        },
        "template": {
         "data": {
          "bar": [
           {
            "error_x": {
             "color": "#2a3f5f"
            },
            "error_y": {
             "color": "#2a3f5f"
            },
            "marker": {
             "line": {
              "color": "#E5ECF6",
              "width": 0.5
             },
             "pattern": {
              "fillmode": "overlay",
              "size": 10,
              "solidity": 0.2
             }
            },
            "type": "bar"
           }
          ],
          "barpolar": [
           {
            "marker": {
             "line": {
              "color": "#E5ECF6",
              "width": 0.5
             },
             "pattern": {
              "fillmode": "overlay",
              "size": 10,
              "solidity": 0.2
             }
            },
            "type": "barpolar"
           }
          ],
          "carpet": [
           {
            "aaxis": {
             "endlinecolor": "#2a3f5f",
             "gridcolor": "white",
             "linecolor": "white",
             "minorgridcolor": "white",
             "startlinecolor": "#2a3f5f"
            },
            "baxis": {
             "endlinecolor": "#2a3f5f",
             "gridcolor": "white",
             "linecolor": "white",
             "minorgridcolor": "white",
             "startlinecolor": "#2a3f5f"
            },
            "type": "carpet"
           }
          ],
          "choropleth": [
           {
            "colorbar": {
             "outlinewidth": 0,
             "ticks": ""
            },
            "type": "choropleth"
           }
          ],
          "contour": [
           {
            "colorbar": {
             "outlinewidth": 0,
             "ticks": ""
            },
            "colorscale": [
             [
              0,
              "#0d0887"
             ],
             [
              0.1111111111111111,
              "#46039f"
             ],
             [
              0.2222222222222222,
              "#7201a8"
             ],
             [
              0.3333333333333333,
              "#9c179e"
             ],
             [
              0.4444444444444444,
              "#bd3786"
             ],
             [
              0.5555555555555556,
              "#d8576b"
             ],
             [
              0.6666666666666666,
              "#ed7953"
             ],
             [
              0.7777777777777778,
              "#fb9f3a"
             ],
             [
              0.8888888888888888,
              "#fdca26"
             ],
             [
              1,
              "#f0f921"
             ]
            ],
            "type": "contour"
           }
          ],
          "contourcarpet": [
           {
            "colorbar": {
             "outlinewidth": 0,
             "ticks": ""
            },
            "type": "contourcarpet"
           }
          ],
          "heatmap": [
           {
            "colorbar": {
             "outlinewidth": 0,
             "ticks": ""
            },
            "colorscale": [
             [
              0,
              "#0d0887"
             ],
             [
              0.1111111111111111,
              "#46039f"
             ],
             [
              0.2222222222222222,
              "#7201a8"
             ],
             [
              0.3333333333333333,
              "#9c179e"
             ],
             [
              0.4444444444444444,
              "#bd3786"
             ],
             [
              0.5555555555555556,
              "#d8576b"
             ],
             [
              0.6666666666666666,
              "#ed7953"
             ],
             [
              0.7777777777777778,
              "#fb9f3a"
             ],
             [
              0.8888888888888888,
              "#fdca26"
             ],
             [
              1,
              "#f0f921"
             ]
            ],
            "type": "heatmap"
           }
          ],
          "heatmapgl": [
           {
            "colorbar": {
             "outlinewidth": 0,
             "ticks": ""
            },
            "colorscale": [
             [
              0,
              "#0d0887"
             ],
             [
              0.1111111111111111,
              "#46039f"
             ],
             [
              0.2222222222222222,
              "#7201a8"
             ],
             [
              0.3333333333333333,
              "#9c179e"
             ],
             [
              0.4444444444444444,
              "#bd3786"
             ],
             [
              0.5555555555555556,
              "#d8576b"
             ],
             [
              0.6666666666666666,
              "#ed7953"
             ],
             [
              0.7777777777777778,
              "#fb9f3a"
             ],
             [
              0.8888888888888888,
              "#fdca26"
             ],
             [
              1,
              "#f0f921"
             ]
            ],
            "type": "heatmapgl"
           }
          ],
          "histogram": [
           {
            "marker": {
             "pattern": {
              "fillmode": "overlay",
              "size": 10,
              "solidity": 0.2
             }
            },
            "type": "histogram"
           }
          ],
          "histogram2d": [
           {
            "colorbar": {
             "outlinewidth": 0,
             "ticks": ""
            },
            "colorscale": [
             [
              0,
              "#0d0887"
             ],
             [
              0.1111111111111111,
              "#46039f"
             ],
             [
              0.2222222222222222,
              "#7201a8"
             ],
             [
              0.3333333333333333,
              "#9c179e"
             ],
             [
              0.4444444444444444,
              "#bd3786"
             ],
             [
              0.5555555555555556,
              "#d8576b"
             ],
             [
              0.6666666666666666,
              "#ed7953"
             ],
             [
              0.7777777777777778,
              "#fb9f3a"
             ],
             [
              0.8888888888888888,
              "#fdca26"
             ],
             [
              1,
              "#f0f921"
             ]
            ],
            "type": "histogram2d"
           }
          ],
          "histogram2dcontour": [
           {
            "colorbar": {
             "outlinewidth": 0,
             "ticks": ""
            },
            "colorscale": [
             [
              0,
              "#0d0887"
             ],
             [
              0.1111111111111111,
              "#46039f"
             ],
             [
              0.2222222222222222,
              "#7201a8"
             ],
             [
              0.3333333333333333,
              "#9c179e"
             ],
             [
              0.4444444444444444,
              "#bd3786"
             ],
             [
              0.5555555555555556,
              "#d8576b"
             ],
             [
              0.6666666666666666,
              "#ed7953"
             ],
             [
              0.7777777777777778,
              "#fb9f3a"
             ],
             [
              0.8888888888888888,
              "#fdca26"
             ],
             [
              1,
              "#f0f921"
             ]
            ],
            "type": "histogram2dcontour"
           }
          ],
          "mesh3d": [
           {
            "colorbar": {
             "outlinewidth": 0,
             "ticks": ""
            },
            "type": "mesh3d"
           }
          ],
          "parcoords": [
           {
            "line": {
             "colorbar": {
              "outlinewidth": 0,
              "ticks": ""
             }
            },
            "type": "parcoords"
           }
          ],
          "pie": [
           {
            "automargin": true,
            "type": "pie"
           }
          ],
          "scatter": [
           {
            "fillpattern": {
             "fillmode": "overlay",
             "size": 10,
             "solidity": 0.2
            },
            "type": "scatter"
           }
          ],
          "scatter3d": [
           {
            "line": {
             "colorbar": {
              "outlinewidth": 0,
              "ticks": ""
             }
            },
            "marker": {
             "colorbar": {
              "outlinewidth": 0,
              "ticks": ""
             }
            },
            "type": "scatter3d"
           }
          ],
          "scattercarpet": [
           {
            "marker": {
             "colorbar": {
              "outlinewidth": 0,
              "ticks": ""
             }
            },
            "type": "scattercarpet"
           }
          ],
          "scattergeo": [
           {
            "marker": {
             "colorbar": {
              "outlinewidth": 0,
              "ticks": ""
             }
            },
            "type": "scattergeo"
           }
          ],
          "scattergl": [
           {
            "marker": {
             "colorbar": {
              "outlinewidth": 0,
              "ticks": ""
             }
            },
            "type": "scattergl"
           }
          ],
          "scattermapbox": [
           {
            "marker": {
             "colorbar": {
              "outlinewidth": 0,
              "ticks": ""
             }
            },
            "type": "scattermapbox"
           }
          ],
          "scatterpolar": [
           {
            "marker": {
             "colorbar": {
              "outlinewidth": 0,
              "ticks": ""
             }
            },
            "type": "scatterpolar"
           }
          ],
          "scatterpolargl": [
           {
            "marker": {
             "colorbar": {
              "outlinewidth": 0,
              "ticks": ""
             }
            },
            "type": "scatterpolargl"
           }
          ],
          "scatterternary": [
           {
            "marker": {
             "colorbar": {
              "outlinewidth": 0,
              "ticks": ""
             }
            },
            "type": "scatterternary"
           }
          ],
          "surface": [
           {
            "colorbar": {
             "outlinewidth": 0,
             "ticks": ""
            },
            "colorscale": [
             [
              0,
              "#0d0887"
             ],
             [
              0.1111111111111111,
              "#46039f"
             ],
             [
              0.2222222222222222,
              "#7201a8"
             ],
             [
              0.3333333333333333,
              "#9c179e"
             ],
             [
              0.4444444444444444,
              "#bd3786"
             ],
             [
              0.5555555555555556,
              "#d8576b"
             ],
             [
              0.6666666666666666,
              "#ed7953"
             ],
             [
              0.7777777777777778,
              "#fb9f3a"
             ],
             [
              0.8888888888888888,
              "#fdca26"
             ],
             [
              1,
              "#f0f921"
             ]
            ],
            "type": "surface"
           }
          ],
          "table": [
           {
            "cells": {
             "fill": {
              "color": "#EBF0F8"
             },
             "line": {
              "color": "white"
             }
            },
            "header": {
             "fill": {
              "color": "#C8D4E3"
             },
             "line": {
              "color": "white"
             }
            },
            "type": "table"
           }
          ]
         },
         "layout": {
          "annotationdefaults": {
           "arrowcolor": "#2a3f5f",
           "arrowhead": 0,
           "arrowwidth": 1
          },
          "autotypenumbers": "strict",
          "coloraxis": {
           "colorbar": {
            "outlinewidth": 0,
            "ticks": ""
           }
          },
          "colorscale": {
           "diverging": [
            [
             0,
             "#8e0152"
            ],
            [
             0.1,
             "#c51b7d"
            ],
            [
             0.2,
             "#de77ae"
            ],
            [
             0.3,
             "#f1b6da"
            ],
            [
             0.4,
             "#fde0ef"
            ],
            [
             0.5,
             "#f7f7f7"
            ],
            [
             0.6,
             "#e6f5d0"
            ],
            [
             0.7,
             "#b8e186"
            ],
            [
             0.8,
             "#7fbc41"
            ],
            [
             0.9,
             "#4d9221"
            ],
            [
             1,
             "#276419"
            ]
           ],
           "sequential": [
            [
             0,
             "#0d0887"
            ],
            [
             0.1111111111111111,
             "#46039f"
            ],
            [
             0.2222222222222222,
             "#7201a8"
            ],
            [
             0.3333333333333333,
             "#9c179e"
            ],
            [
             0.4444444444444444,
             "#bd3786"
            ],
            [
             0.5555555555555556,
             "#d8576b"
            ],
            [
             0.6666666666666666,
             "#ed7953"
            ],
            [
             0.7777777777777778,
             "#fb9f3a"
            ],
            [
             0.8888888888888888,
             "#fdca26"
            ],
            [
             1,
             "#f0f921"
            ]
           ],
           "sequentialminus": [
            [
             0,
             "#0d0887"
            ],
            [
             0.1111111111111111,
             "#46039f"
            ],
            [
             0.2222222222222222,
             "#7201a8"
            ],
            [
             0.3333333333333333,
             "#9c179e"
            ],
            [
             0.4444444444444444,
             "#bd3786"
            ],
            [
             0.5555555555555556,
             "#d8576b"
            ],
            [
             0.6666666666666666,
             "#ed7953"
            ],
            [
             0.7777777777777778,
             "#fb9f3a"
            ],
            [
             0.8888888888888888,
             "#fdca26"
            ],
            [
             1,
             "#f0f921"
            ]
           ]
          },
          "colorway": [
           "#636efa",
           "#EF553B",
           "#00cc96",
           "#ab63fa",
           "#FFA15A",
           "#19d3f3",
           "#FF6692",
           "#B6E880",
           "#FF97FF",
           "#FECB52"
          ],
          "font": {
           "color": "#2a3f5f"
          },
          "geo": {
           "bgcolor": "white",
           "lakecolor": "white",
           "landcolor": "#E5ECF6",
           "showlakes": true,
           "showland": true,
           "subunitcolor": "white"
          },
          "hoverlabel": {
           "align": "left"
          },
          "hovermode": "closest",
          "mapbox": {
           "style": "light"
          },
          "paper_bgcolor": "white",
          "plot_bgcolor": "#E5ECF6",
          "polar": {
           "angularaxis": {
            "gridcolor": "white",
            "linecolor": "white",
            "ticks": ""
           },
           "bgcolor": "#E5ECF6",
           "radialaxis": {
            "gridcolor": "white",
            "linecolor": "white",
            "ticks": ""
           }
          },
          "scene": {
           "xaxis": {
            "backgroundcolor": "#E5ECF6",
            "gridcolor": "white",
            "gridwidth": 2,
            "linecolor": "white",
            "showbackground": true,
            "ticks": "",
            "zerolinecolor": "white"
           },
           "yaxis": {
            "backgroundcolor": "#E5ECF6",
            "gridcolor": "white",
            "gridwidth": 2,
            "linecolor": "white",
            "showbackground": true,
            "ticks": "",
            "zerolinecolor": "white"
           },
           "zaxis": {
            "backgroundcolor": "#E5ECF6",
            "gridcolor": "white",
            "gridwidth": 2,
            "linecolor": "white",
            "showbackground": true,
            "ticks": "",
            "zerolinecolor": "white"
           }
          },
          "shapedefaults": {
           "line": {
            "color": "#2a3f5f"
           }
          },
          "ternary": {
           "aaxis": {
            "gridcolor": "white",
            "linecolor": "white",
            "ticks": ""
           },
           "baxis": {
            "gridcolor": "white",
            "linecolor": "white",
            "ticks": ""
           },
           "bgcolor": "#E5ECF6",
           "caxis": {
            "gridcolor": "white",
            "linecolor": "white",
            "ticks": ""
           }
          },
          "title": {
           "x": 0.05
          },
          "xaxis": {
           "automargin": true,
           "gridcolor": "white",
           "linecolor": "white",
           "ticks": "",
           "title": {
            "standoff": 15
           },
           "zerolinecolor": "white",
           "zerolinewidth": 2
          },
          "yaxis": {
           "automargin": true,
           "gridcolor": "white",
           "linecolor": "white",
           "ticks": "",
           "title": {
            "standoff": 15
           },
           "zerolinecolor": "white",
           "zerolinewidth": 2
          }
         }
        },
        "xaxis": {
         "anchor": "y",
         "constrain": "domain",
         "domain": [
          0,
          1
         ],
         "scaleanchor": "y"
        },
        "yaxis": {
         "anchor": "x",
         "autorange": "reversed",
         "constrain": "domain",
         "domain": [
          0,
          1
         ]
        }
       }
      },
      "image/png": "[encoded data removed]",
      "text/html": [
       "<div>                            <div id=\"455f6196-412c-44d5-891c-e18cdf493e7f\" class=\"plotly-graph-div\" style=\"height:525px; width:100%;\"></div>            <script type=\"text/javascript\">                require([\"plotly\"], function(Plotly) {                    window.PLOTLYENV=window.PLOTLYENV || {};                                    if (document.getElementById(\"455f6196-412c-44d5-891c-e18cdf493e7f\")) {                    Plotly.newPlot(                        \"455f6196-412c-44d5-891c-e18cdf493e7f\",                        [{\"coloraxis\":\"coloraxis\",\"name\":\"0\",\"x\":[\"Total Cases\",\"Total Deaths\",\"New Deaths\",\"Total Recovered\",\"Active Cases\",\"Serious Cases\",\"Total Cases\\u002f1M pop\",\"Deaths\\u002f1M pop\",\"Total Tests\",\"Test\\u002f1M pop\",\"Population\"],\"y\":[\"Total Cases\",\"Total Deaths\",\"New Deaths\",\"Total Recovered\",\"Active Cases\",\"Serious Cases\",\"Total Cases\\u002f1M pop\",\"Deaths\\u002f1M pop\",\"Total Tests\",\"Test\\u002f1M pop\",\"Population\"],\"z\":[[1.0,0.8909379375729646,0.16505592865492022,0.9998682606047122,0.8058025716672249,0.5114881049361316,0.143205025818447,0.21189596844030442,0.8604201817415249,0.061292975997710275,0.3922403366472057],[0.8909379375729646,1.0,0.000610419644030388,0.8897061988733289,0.6576858403516644,0.7151503813307926,0.0211207221348435,0.2856054248142036,0.7874086271057696,0.0009983634343456416,0.41941376047068807],[0.16505592865492022,0.000610419644030388,1.0,0.16489643166136184,0.2123708682263322,0.03859237654438258,0.09509680555182973,-0.04527784441829315,-0.009376989830959269,-0.04135950990546454,0.01788834697106545],[0.9998682606047122,0.8897061988733289,0.16489643166136184,1.0,0.7981891455306379,0.5082850389488223,0.14473547153605668,0.21036021317979375,0.862600224778083,0.06323517291546787,0.3950391708102727],[0.8058025716672249,0.6576858403516644,0.2123708682263322,0.7981891455306379,1.0,0.4119352031290939,0.13474582726113554,0.16293259048001008,0.5871595919866549,0.023660014745003226,0.15853214992465317],[0.5114881049361316,0.7151503813307926,0.03859237654438258,0.5082850389488223,0.4119352031290939,1.0,-0.035516552562399384,0.17946396885532323,0.28918852101297726,-0.0603505693749523,0.22062764780027666],[0.143205025818447,0.0211207221348435,0.09509680555182973,0.14473547153605668,0.13474582726113554,-0.035516552562399384,1.0,0.4622236395600232,0.09405388501361174,0.5580744989853708,-0.1392070033708168],[0.21189596844030442,0.2856054248142036,-0.04527784441829315,0.21036021317979375,0.16293259048001008,0.17946396885532323,0.4622236395600232,1.0,0.16042160795525345,0.22004342229365573,-0.0737214207893028],[0.8604201817415249,0.7874086271057696,-0.009376989830959269,0.862600224778083,0.5871595919866549,0.28918852101297726,0.09405388501361174,0.16042160795525345,1.0,0.20911504976708992,0.5435954966604094],[0.061292975997710275,0.0009983634343456416,-0.04135950990546454,0.06323517291546787,0.023660014745003226,-0.0603505693749523,0.5580744989853708,0.22004342229365573,0.20911504976708992,1.0,-0.08263372046197051],[0.3922403366472057,0.41941376047068807,0.01788834697106545,0.3950391708102727,0.15853214992465317,0.22062764780027666,-0.1392070033708168,-0.0737214207893028,0.5435954966604094,-0.08263372046197051,1.0]],\"type\":\"heatmap\",\"xaxis\":\"x\",\"yaxis\":\"y\",\"hovertemplate\":\"x: %{x}\\u003cbr\\u003ey: %{y}\\u003cbr\\u003ecolor: %{z}\\u003cextra\\u003e\\u003c\\u002fextra\\u003e\"}],                        {\"template\":{\"data\":{\"histogram2dcontour\":[{\"type\":\"histogram2dcontour\",\"colorbar\":{\"outlinewidth\":0,\"ticks\":\"\"},\"colorscale\":[[0.0,\"#0d0887\"],[0.1111111111111111,\"#46039f\"],[0.2222222222222222,\"#7201a8\"],[0.3333333333333333,\"#9c179e\"],[0.4444444444444444,\"#bd3786\"],[0.5555555555555556,\"#d8576b\"],[0.6666666666666666,\"#ed7953\"],[0.7777777777777778,\"#fb9f3a\"],[0.8888888888888888,\"#fdca26\"],[1.0,\"#f0f921\"]]}],\"choropleth\":[{\"type\":\"choropleth\",\"colorbar\":{\"outlinewidth\":0,\"ticks\":\"\"}}],\"histogram2d\":[{\"type\":\"histogram2d\",\"colorbar\":{\"outlinewidth\":0,\"ticks\":\"\"},\"colorscale\":[[0.0,\"#0d0887\"],[0.1111111111111111,\"#46039f\"],[0.2222222222222222,\"#7201a8\"],[0.3333333333333333,\"#9c179e\"],[0.4444444444444444,\"#bd3786\"],[0.5555555555555556,\"#d8576b\"],[0.6666666666666666,\"#ed7953\"],[0.7777777777777778,\"#fb9f3a\"],[0.8888888888888888,\"#fdca26\"],[1.0,\"#f0f921\"]]}],\"heatmap\":[{\"type\":\"heatmap\",\"colorbar\":{\"outlinewidth\":0,\"ticks\":\"\"},\"colorscale\":[[0.0,\"#0d0887\"],[0.1111111111111111,\"#46039f\"],[0.2222222222222222,\"#7201a8\"],[0.3333333333333333,\"#9c179e\"],[0.4444444444444444,\"#bd3786\"],[0.5555555555555556,\"#d8576b\"],[0.6666666666666666,\"#ed7953\"],[0.7777777777777778,\"#fb9f3a\"],[0.8888888888888888,\"#fdca26\"],[1.0,\"#f0f921\"]]}],\"heatmapgl\":[{\"type\":\"heatmapgl\",\"colorbar\":{\"outlinewidth\":0,\"ticks\":\"\"},\"colorscale\":[[0.0,\"#0d0887\"],[0.1111111111111111,\"#46039f\"],[0.2222222222222222,\"#7201a8\"],[0.3333333333333333,\"#9c179e\"],[0.4444444444444444,\"#bd3786\"],[0.5555555555555556,\"#d8576b\"],[0.6666666666666666,\"#ed7953\"],[0.7777777777777778,\"#fb9f3a\"],[0.8888888888888888,\"#fdca26\"],[1.0,\"#f0f921\"]]}],\"contourcarpet\":[{\"type\":\"contourcarpet\",\"colorbar\":{\"outlinewidth\":0,\"ticks\":\"\"}}],\"contour\":[{\"type\":\"contour\",\"colorbar\":{\"outlinewidth\":0,\"ticks\":\"\"},\"colorscale\":[[0.0,\"#0d0887\"],[0.1111111111111111,\"#46039f\"],[0.2222222222222222,\"#7201a8\"],[0.3333333333333333,\"#9c179e\"],[0.4444444444444444,\"#bd3786\"],[0.5555555555555556,\"#d8576b\"],[0.6666666666666666,\"#ed7953\"],[0.7777777777777778,\"#fb9f3a\"],[0.8888888888888888,\"#fdca26\"],[1.0,\"#f0f921\"]]}],\"surface\":[{\"type\":\"surface\",\"colorbar\":{\"outlinewidth\":0,\"ticks\":\"\"},\"colorscale\":[[0.0,\"#0d0887\"],[0.1111111111111111,\"#46039f\"],[0.2222222222222222,\"#7201a8\"],[0.3333333333333333,\"#9c179e\"],[0.4444444444444444,\"#bd3786\"],[0.5555555555555556,\"#d8576b\"],[0.6666666666666666,\"#ed7953\"],[0.7777777777777778,\"#fb9f3a\"],[0.8888888888888888,\"#fdca26\"],[1.0,\"#f0f921\"]]}],\"mesh3d\":[{\"type\":\"mesh3d\",\"colorbar\":{\"outlinewidth\":0,\"ticks\":\"\"}}],\"scatter\":[{\"fillpattern\":{\"fillmode\":\"overlay\",\"size\":10,\"solidity\":0.2},\"type\":\"scatter\"}],\"parcoords\":[{\"type\":\"parcoords\",\"line\":{\"colorbar\":{\"outlinewidth\":0,\"ticks\":\"\"}}}],\"scatterpolargl\":[{\"type\":\"scatterpolargl\",\"marker\":{\"colorbar\":{\"outlinewidth\":0,\"ticks\":\"\"}}}],\"bar\":[{\"error_x\":{\"color\":\"#2a3f5f\"},\"error_y\":{\"color\":\"#2a3f5f\"},\"marker\":{\"line\":{\"color\":\"#E5ECF6\",\"width\":0.5},\"pattern\":{\"fillmode\":\"overlay\",\"size\":10,\"solidity\":0.2}},\"type\":\"bar\"}],\"scattergeo\":[{\"type\":\"scattergeo\",\"marker\":{\"colorbar\":{\"outlinewidth\":0,\"ticks\":\"\"}}}],\"scatterpolar\":[{\"type\":\"scatterpolar\",\"marker\":{\"colorbar\":{\"outlinewidth\":0,\"ticks\":\"\"}}}],\"histogram\":[{\"marker\":{\"pattern\":{\"fillmode\":\"overlay\",\"size\":10,\"solidity\":0.2}},\"type\":\"histogram\"}],\"scattergl\":[{\"type\":\"scattergl\",\"marker\":{\"colorbar\":{\"outlinewidth\":0,\"ticks\":\"\"}}}],\"scatter3d\":[{\"type\":\"scatter3d\",\"line\":{\"colorbar\":{\"outlinewidth\":0,\"ticks\":\"\"}},\"marker\":{\"colorbar\":{\"outlinewidth\":0,\"ticks\":\"\"}}}],\"scattermapbox\":[{\"type\":\"scattermapbox\",\"marker\":{\"colorbar\":{\"outlinewidth\":0,\"ticks\":\"\"}}}],\"scatterternary\":[{\"type\":\"scatterternary\",\"marker\":{\"colorbar\":{\"outlinewidth\":0,\"ticks\":\"\"}}}],\"scattercarpet\":[{\"type\":\"scattercarpet\",\"marker\":{\"colorbar\":{\"outlinewidth\":0,\"ticks\":\"\"}}}],\"carpet\":[{\"aaxis\":{\"endlinecolor\":\"#2a3f5f\",\"gridcolor\":\"white\",\"linecolor\":\"white\",\"minorgridcolor\":\"white\",\"startlinecolor\":\"#2a3f5f\"},\"baxis\":{\"endlinecolor\":\"#2a3f5f\",\"gridcolor\":\"white\",\"linecolor\":\"white\",\"minorgridcolor\":\"white\",\"startlinecolor\":\"#2a3f5f\"},\"type\":\"carpet\"}],\"table\":[{\"cells\":{\"fill\":{\"color\":\"#EBF0F8\"},\"line\":{\"color\":\"white\"}},\"header\":{\"fill\":{\"color\":\"#C8D4E3\"},\"line\":{\"color\":\"white\"}},\"type\":\"table\"}],\"barpolar\":[{\"marker\":{\"line\":{\"color\":\"#E5ECF6\",\"width\":0.5},\"pattern\":{\"fillmode\":\"overlay\",\"size\":10,\"solidity\":0.2}},\"type\":\"barpolar\"}],\"pie\":[{\"automargin\":true,\"type\":\"pie\"}]},\"layout\":{\"autotypenumbers\":\"strict\",\"colorway\":[\"#636efa\",\"#EF553B\",\"#00cc96\",\"#ab63fa\",\"#FFA15A\",\"#19d3f3\",\"#FF6692\",\"#B6E880\",\"#FF97FF\",\"#FECB52\"],\"font\":{\"color\":\"#2a3f5f\"},\"hovermode\":\"closest\",\"hoverlabel\":{\"align\":\"left\"},\"paper_bgcolor\":\"white\",\"plot_bgcolor\":\"#E5ECF6\",\"polar\":{\"bgcolor\":\"#E5ECF6\",\"angularaxis\":{\"gridcolor\":\"white\",\"linecolor\":\"white\",\"ticks\":\"\"},\"radialaxis\":{\"gridcolor\":\"white\",\"linecolor\":\"white\",\"ticks\":\"\"}},\"ternary\":{\"bgcolor\":\"#E5ECF6\",\"aaxis\":{\"gridcolor\":\"white\",\"linecolor\":\"white\",\"ticks\":\"\"},\"baxis\":{\"gridcolor\":\"white\",\"linecolor\":\"white\",\"ticks\":\"\"},\"caxis\":{\"gridcolor\":\"white\",\"linecolor\":\"white\",\"ticks\":\"\"}},\"coloraxis\":{\"colorbar\":{\"outlinewidth\":0,\"ticks\":\"\"}},\"colorscale\":{\"sequential\":[[0.0,\"#0d0887\"],[0.1111111111111111,\"#46039f\"],[0.2222222222222222,\"#7201a8\"],[0.3333333333333333,\"#9c179e\"],[0.4444444444444444,\"#bd3786\"],[0.5555555555555556,\"#d8576b\"],[0.6666666666666666,\"#ed7953\"],[0.7777777777777778,\"#fb9f3a\"],[0.8888888888888888,\"#fdca26\"],[1.0,\"#f0f921\"]],\"sequentialminus\":[[0.0,\"#0d0887\"],[0.1111111111111111,\"#46039f\"],[0.2222222222222222,\"#7201a8\"],[0.3333333333333333,\"#9c179e\"],[0.4444444444444444,\"#bd3786\"],[0.5555555555555556,\"#d8576b\"],[0.6666666666666666,\"#ed7953\"],[0.7777777777777778,\"#fb9f3a\"],[0.8888888888888888,\"#fdca26\"],[1.0,\"#f0f921\"]],\"diverging\":[[0,\"#8e0152\"],[0.1,\"#c51b7d\"],[0.2,\"#de77ae\"],[0.3,\"#f1b6da\"],[0.4,\"#fde0ef\"],[0.5,\"#f7f7f7\"],[0.6,\"#e6f5d0\"],[0.7,\"#b8e186\"],[0.8,\"#7fbc41\"],[0.9,\"#4d9221\"],[1,\"#276419\"]]},\"xaxis\":{\"gridcolor\":\"white\",\"linecolor\":\"white\",\"ticks\":\"\",\"title\":{\"standoff\":15},\"zerolinecolor\":\"white\",\"automargin\":true,\"zerolinewidth\":2},\"yaxis\":{\"gridcolor\":\"white\",\"linecolor\":\"white\",\"ticks\":\"\",\"title\":{\"standoff\":15},\"zerolinecolor\":\"white\",\"automargin\":true,\"zerolinewidth\":2},\"scene\":{\"xaxis\":{\"backgroundcolor\":\"#E5ECF6\",\"gridcolor\":\"white\",\"linecolor\":\"white\",\"showbackground\":true,\"ticks\":\"\",\"zerolinecolor\":\"white\",\"gridwidth\":2},\"yaxis\":{\"backgroundcolor\":\"#E5ECF6\",\"gridcolor\":\"white\",\"linecolor\":\"white\",\"showbackground\":true,\"ticks\":\"\",\"zerolinecolor\":\"white\",\"gridwidth\":2},\"zaxis\":{\"backgroundcolor\":\"#E5ECF6\",\"gridcolor\":\"white\",\"linecolor\":\"white\",\"showbackground\":true,\"ticks\":\"\",\"zerolinecolor\":\"white\",\"gridwidth\":2}},\"shapedefaults\":{\"line\":{\"color\":\"#2a3f5f\"}},\"annotationdefaults\":{\"arrowcolor\":\"#2a3f5f\",\"arrowhead\":0,\"arrowwidth\":1},\"geo\":{\"bgcolor\":\"white\",\"landcolor\":\"#E5ECF6\",\"subunitcolor\":\"white\",\"showland\":true,\"showlakes\":true,\"lakecolor\":\"white\"},\"title\":{\"x\":0.05},\"mapbox\":{\"style\":\"light\"}}},\"xaxis\":{\"anchor\":\"y\",\"domain\":[0.0,1.0],\"scaleanchor\":\"y\",\"constrain\":\"domain\"},\"yaxis\":{\"anchor\":\"x\",\"domain\":[0.0,1.0],\"autorange\":\"reversed\",\"constrain\":\"domain\"},\"coloraxis\":{\"colorscale\":[[0.0,\"#440154\"],[0.1111111111111111,\"#482878\"],[0.2222222222222222,\"#3e4989\"],[0.3333333333333333,\"#31688e\"],[0.4444444444444444,\"#26828e\"],[0.5555555555555556,\"#1f9e89\"],[0.6666666666666666,\"#35b779\"],[0.7777777777777778,\"#6ece58\"],[0.8888888888888888,\"#b5de2b\"],[1.0,\"#fde725\"]]},\"margin\":{\"t\":60}},                        {\"responsive\": true}                    ).then(function(){\n",
       "                            \n",
       "var gd = document.getElementById('455f6196-412c-44d5-891c-e18cdf493e7f');\n",
       "var x = new MutationObserver(function (mutations, observer) {{\n",
       "        var display = window.getComputedStyle(gd).display;\n",
       "        if (!display || display === 'none') {{\n",
       "            console.log([gd, 'removed!']);\n",
       "            Plotly.purge(gd);\n",
       "            observer.disconnect();\n",
       "        }}\n",
       "}});\n",
       "\n",
       "// Listen for the removal of the full notebook cells\n",
       "var notebookContainer = gd.closest('#notebook-container');\n",
       "if (notebookContainer) {{\n",
       "    x.observe(notebookContainer, {childList: true});\n",
       "}}\n",
       "\n",
       "// Listen for the clearing of the current output cell\n",
       "var outputEl = gd.closest('.output');\n",
       "if (outputEl) {{\n",
       "    x.observe(outputEl, {childList: true});\n",
       "}}\n",
       "\n",
       "                        })                };                });            </script>        </div>"
      ]
     },
     "metadata": {},
     "output_type": "display_data"
    }
   ],
   "source": [
    "corr_matrix = df_corr.corr()\n",
    "\n",
    "fig = px.imshow(corr_matrix)\n",
    "fig = px.imshow(corr_matrix, color_continuous_scale='Viridis')\n",
    "fig.show()"
   ]
  },
  {
   "cell_type": "code",
   "execution_count": 21,
   "id": "e8a872ae-f325-4951-9c26-158b3647703f",
   "metadata": {},
   "outputs": [
    {
     "data": {
      "text/html": [
       "<div>\n",
       "<style scoped>\n",
       "    .dataframe tbody tr th:only-of-type {\n",
       "        vertical-align: middle;\n",
       "    }\n",
       "\n",
       "    .dataframe tbody tr th {\n",
       "        vertical-align: top;\n",
       "    }\n",
       "\n",
       "    .dataframe thead th {\n",
       "        text-align: right;\n",
       "    }\n",
       "</style>\n",
       "<table border=\"1\" class=\"dataframe\">\n",
       "  <thead>\n",
       "    <tr style=\"text-align: right;\">\n",
       "      <th></th>\n",
       "      <th>Country</th>\n",
       "      <th>Total Cases</th>\n",
       "      <th>Total Deaths</th>\n",
       "      <th>New Deaths</th>\n",
       "      <th>Total Recovered</th>\n",
       "      <th>Active Cases</th>\n",
       "      <th>Serious Cases</th>\n",
       "      <th>Total Cases/1M pop</th>\n",
       "      <th>Deaths/1M pop</th>\n",
       "      <th>Total Tests</th>\n",
       "      <th>Test/1M pop</th>\n",
       "      <th>Population</th>\n",
       "    </tr>\n",
       "  </thead>\n",
       "  <tbody>\n",
       "    <tr>\n",
       "      <th>0</th>\n",
       "      <td>USA</td>\n",
       "      <td>98166904.0</td>\n",
       "      <td>1084282.0</td>\n",
       "      <td>0.0</td>\n",
       "      <td>94962112.0</td>\n",
       "      <td>2120510.0</td>\n",
       "      <td>2970.0</td>\n",
       "      <td>293206.0</td>\n",
       "      <td>3239.0</td>\n",
       "      <td>1.118159e+09</td>\n",
       "      <td>3339729.0</td>\n",
       "      <td>3.348053e+08</td>\n",
       "    </tr>\n",
       "    <tr>\n",
       "      <th>1</th>\n",
       "      <td>India</td>\n",
       "      <td>44587307.0</td>\n",
       "      <td>528629.0</td>\n",
       "      <td>0.0</td>\n",
       "      <td>44019095.0</td>\n",
       "      <td>39583.0</td>\n",
       "      <td>698.0</td>\n",
       "      <td>31698.0</td>\n",
       "      <td>376.0</td>\n",
       "      <td>8.944169e+08</td>\n",
       "      <td>635857.0</td>\n",
       "      <td>1.406632e+09</td>\n",
       "    </tr>\n",
       "    <tr>\n",
       "      <th>2</th>\n",
       "      <td>France</td>\n",
       "      <td>35342950.0</td>\n",
       "      <td>155078.0</td>\n",
       "      <td>0.0</td>\n",
       "      <td>34527115.0</td>\n",
       "      <td>660757.0</td>\n",
       "      <td>869.0</td>\n",
       "      <td>538892.0</td>\n",
       "      <td>2365.0</td>\n",
       "      <td>2.714902e+08</td>\n",
       "      <td>4139547.0</td>\n",
       "      <td>6.558452e+07</td>\n",
       "    </tr>\n",
       "    <tr>\n",
       "      <th>3</th>\n",
       "      <td>Brazil</td>\n",
       "      <td>34706757.0</td>\n",
       "      <td>686027.0</td>\n",
       "      <td>0.0</td>\n",
       "      <td>33838636.0</td>\n",
       "      <td>182094.0</td>\n",
       "      <td>8318.0</td>\n",
       "      <td>161162.0</td>\n",
       "      <td>3186.0</td>\n",
       "      <td>6.377617e+07</td>\n",
       "      <td>296146.0</td>\n",
       "      <td>2.153536e+08</td>\n",
       "    </tr>\n",
       "    <tr>\n",
       "      <th>4</th>\n",
       "      <td>Germany</td>\n",
       "      <td>33312373.0</td>\n",
       "      <td>149948.0</td>\n",
       "      <td>0.0</td>\n",
       "      <td>32315200.0</td>\n",
       "      <td>847225.0</td>\n",
       "      <td>1406.0</td>\n",
       "      <td>397126.0</td>\n",
       "      <td>1788.0</td>\n",
       "      <td>1.223324e+08</td>\n",
       "      <td>1458359.0</td>\n",
       "      <td>8.388360e+07</td>\n",
       "    </tr>\n",
       "  </tbody>\n",
       "</table>\n",
       "</div>"
      ],
      "text/plain": [
       "   Country  Total Cases  Total Deaths  New Deaths  Total Recovered  \\\n",
       "0      USA   98166904.0     1084282.0         0.0       94962112.0   \n",
       "1    India   44587307.0      528629.0         0.0       44019095.0   \n",
       "2   France   35342950.0      155078.0         0.0       34527115.0   \n",
       "3   Brazil   34706757.0      686027.0         0.0       33838636.0   \n",
       "4  Germany   33312373.0      149948.0         0.0       32315200.0   \n",
       "\n",
       "   Active Cases  Serious Cases  Total Cases/1M pop  Deaths/1M pop  \\\n",
       "0     2120510.0         2970.0            293206.0         3239.0   \n",
       "1       39583.0          698.0             31698.0          376.0   \n",
       "2      660757.0          869.0            538892.0         2365.0   \n",
       "3      182094.0         8318.0            161162.0         3186.0   \n",
       "4      847225.0         1406.0            397126.0         1788.0   \n",
       "\n",
       "    Total Tests  Test/1M pop    Population  \n",
       "0  1.118159e+09    3339729.0  3.348053e+08  \n",
       "1  8.944169e+08     635857.0  1.406632e+09  \n",
       "2  2.714902e+08    4139547.0  6.558452e+07  \n",
       "3  6.377617e+07     296146.0  2.153536e+08  \n",
       "4  1.223324e+08    1458359.0  8.388360e+07  "
      ]
     },
     "execution_count": 21,
     "metadata": {},
     "output_type": "execute_result"
    }
   ],
   "source": [
    "#EDA\n",
    "df.head()"
   ]
  },
  {
   "cell_type": "markdown",
   "id": "b7649c00-8396-4684-85ad-bf3676d0743f",
   "metadata": {},
   "source": [
    "# Total Cases VS Total Recovered"
   ]
  },
  {
   "cell_type": "code",
   "execution_count": 22,
   "id": "c6779161-7cc1-4dfa-9153-eed1c66cc44d",
   "metadata": {},
   "outputs": [
    {
     "data": {
      "application/vnd.plotly.v1+json": {
       "config": {
        "plotlyServerURL": "https://plot.ly"
       },
       "data": [
        {
         "hovertemplate": "Total Cases=%{x}<br>Total Recovered=%{marker.color}<extra></extra>",
         "legendgroup": "",
         "marker": {
          "color": [
           94962112,
           44019095,
           34527115,
           33838636,
           32315200,
           24013461,
           23347871,
           21779604,
           20380089,
           19979763,
           16754301,
           13218892,
           10590917,
           10133494,
           9563348,
           8362464,
           7325370,
           6353953,
           6253317,
           5603195,
           6134690,
           5335940,
           5394788,
           4973554,
           5006572,
           4836903,
           4777329,
           4772739,
           4642083,
           4641394,
           4540886,
           4451569,
           4131367,
           3914598,
           4035333,
           4012833,
           3909265,
           3854478,
           3180124,
           3093396,
           2548125,
           2433704,
           2298536,
           2014175,
           1964501,
           1821160,
           1817938,
           1637293,
           1767660,
           1469240,
           1731007,
           1648405,
           1536924,
           1457108,
           1378440,
           1263711,
           1248543,
           1211397,
           1216151,
           1209524,
           1087587,
           1145051,
           225011,
           1102988,
           1102548,
           1051789,
           860711,
           1006369,
           964320,
           986617,
           985592,
           976873,
           976760,
           979439,
           891237,
           810181,
           803546,
           696110,
           675724,
           653779,
           655316,
           638911,
           597898,
           608749,
           524990,
           504142,
           578452,
           538033,
           442182,
           500507,
           471918,
           418572,
           225011,
           443418,
           430192,
           376654,
           384669,
           332806,
           332663,
           329375,
           326729,
           322955,
           283668,
           276154,
           182306,
           258381,
           251281,
           242254,
           241486,
           227882,
           222140,
           225011,
           225011,
           196406,
           225011,
           179410,
           177850,
           225011,
           163687,
           174214,
           100431,
           164813,
           167307,
           99239,
           134745,
           130955,
           118616,
           113195,
           101155,
           101760,
           11254,
           83504,
           90639,
           86297,
           84872,
           86338,
           225011,
           225011,
           73823,
           71955,
           69977,
           68079,
           66302,
           65242,
           57290,
           61789,
           61890,
           61564,
           54078,
           49559,
           48292,
           46446,
           46011,
           44720,
           43982,
           42438,
           38786,
           225011,
           225011,
           38528,
           225011,
           36880,
           36070,
           225011,
           25980,
           31307,
           31591,
           8553,
           28475,
           27322,
           13182,
           24006,
           23102,
           21143,
           16357,
           20524,
           16579,
           19403,
           19248,
           4225,
           17969,
           17335,
           17264,
           16690,
           15638,
           1605,
           15651,
           15427,
           15166,
           14520,
           14478,
           12028,
           1399,
           2761,
           9124,
           11894,
           10476,
           10773,
           10063,
           8890,
           157,
           8923,
           8301,
           8305,
           7636,
           225011,
           4874,
           225011,
           6641,
           6482,
           6384,
           6321,
           6132,
           5444,
           225011,
           4605,
           3848,
           2703,
           2449,
           1886,
           1353,
           2,
           787,
           438,
           699,
           80,
           29,
           225011,
           9,
           7
          ],
          "coloraxis": "coloraxis",
          "symbol": "circle"
         },
         "mode": "markers",
         "name": "",
         "orientation": "v",
         "showlegend": false,
         "type": "scatter",
         "x": [
          98166904,
          44587307,
          35342950,
          34706757,
          33312373,
          24769101,
          23621952,
          22432803,
          21229216,
          20948470,
          16873793,
          13412263,
          11477886,
          10209239,
          9708420,
          8422336,
          7548320,
          7084488,
          6429767,
          6417941,
          6307372,
          6289672,
          5490639,
          5177217,
          5118512,
          4920192,
          4838872,
          4772813,
          4681309,
          4661096,
          4620377,
          4533249,
          4233468,
          4143085,
          4100480,
          4084307,
          4018769,
          3945566,
          3267370,
          3110831,
          2588441,
          2459982,
          2359530,
          2094142,
          2024489,
          1904192,
          1843220,
          1780691,
          1779476,
          1761381,
          1746997,
          1663653,
          1572598,
          1462318,
          1393468,
          1292940,
          1264935,
          1258670,
          1249134,
          1231575,
          1215511,
          1181073,
          1145686,
          1123465,
          1111179,
          1108195,
          1072807,
          1027031,
          1003778,
          999712,
          994037,
          986866,
          985422,
          982864,
          929051,
          821162,
          816389,
          716059,
          680271,
          670763,
          658520,
          644016,
          622802,
          620548,
          601869,
          589388,
          585313,
          544687,
          515645,
          506991,
          493563,
          472336,
          456391,
          450448,
          442875,
          398668,
          397993,
          342775,
          338420,
          333531,
          332173,
          326308,
          288658,
          280002,
          270668,
          265382,
          257409,
          250449,
          244199,
          230219,
          226237,
          221618,
          215843,
          206083,
          205637,
          201785,
          199067,
          192801,
          185042,
          182597,
          169396,
          169253,
          169100,
          151829,
          137870,
          132498,
          121652,
          114652,
          103131,
          102546,
          93974,
          92852,
          91561,
          88373,
          88024,
          87208,
          81106,
          76599,
          74152,
          73390,
          71336,
          68826,
          68242,
          66676,
          63285,
          62812,
          62371,
          61730,
          57299,
          50129,
          48691,
          47141,
          46227,
          45127,
          44997,
          42914,
          40461,
          40243,
          39440,
          39034,
          38008,
          37652,
          37267,
          34658,
          34490,
          33733,
          32625,
          30661,
          29408,
          27638,
          27214,
          24837,
          23253,
          21631,
          21544,
          20763,
          20092,
          19713,
          19536,
          18491,
          18154,
          17823,
          17786,
          17012,
          16182,
          15925,
          15747,
          15690,
          15275,
          14913,
          14608,
          12508,
          11978,
          11971,
          11935,
          11930,
          11235,
          10863,
          10169,
          9931,
          9759,
          9098,
          8796,
          8471,
          7961,
          7751,
          7583,
          7305,
          7112,
          6541,
          6389,
          6380,
          6230,
          5460,
          5285,
          4611,
          3865,
          3430,
          3188,
          1886,
          1396,
          1355,
          793,
          761,
          712,
          80,
          29,
          20,
          10,
          9
         ],
         "xaxis": "x",
         "y": [
          94962112,
          44019095,
          34527115,
          33838636,
          32315200,
          24013461,
          23347871,
          21779604,
          20380089,
          19979763,
          16754301,
          13218892,
          10590917,
          10133494,
          9563348,
          8362464,
          7325370,
          6353953,
          6253317,
          5603195,
          6134690,
          5335940,
          5394788,
          4973554,
          5006572,
          4836903,
          4777329,
          4772739,
          4642083,
          4641394,
          4540886,
          4451569,
          4131367,
          3914598,
          4035333,
          4012833,
          3909265,
          3854478,
          3180124,
          3093396,
          2548125,
          2433704,
          2298536,
          2014175,
          1964501,
          1821160,
          1817938,
          1637293,
          1767660,
          1469240,
          1731007,
          1648405,
          1536924,
          1457108,
          1378440,
          1263711,
          1248543,
          1211397,
          1216151,
          1209524,
          1087587,
          1145051,
          225011,
          1102988,
          1102548,
          1051789,
          860711,
          1006369,
          964320,
          986617,
          985592,
          976873,
          976760,
          979439,
          891237,
          810181,
          803546,
          696110,
          675724,
          653779,
          655316,
          638911,
          597898,
          608749,
          524990,
          504142,
          578452,
          538033,
          442182,
          500507,
          471918,
          418572,
          225011,
          443418,
          430192,
          376654,
          384669,
          332806,
          332663,
          329375,
          326729,
          322955,
          283668,
          276154,
          182306,
          258381,
          251281,
          242254,
          241486,
          227882,
          222140,
          225011,
          225011,
          196406,
          225011,
          179410,
          177850,
          225011,
          163687,
          174214,
          100431,
          164813,
          167307,
          99239,
          134745,
          130955,
          118616,
          113195,
          101155,
          101760,
          11254,
          83504,
          90639,
          86297,
          84872,
          86338,
          225011,
          225011,
          73823,
          71955,
          69977,
          68079,
          66302,
          65242,
          57290,
          61789,
          61890,
          61564,
          54078,
          49559,
          48292,
          46446,
          46011,
          44720,
          43982,
          42438,
          38786,
          225011,
          225011,
          38528,
          225011,
          36880,
          36070,
          225011,
          25980,
          31307,
          31591,
          8553,
          28475,
          27322,
          13182,
          24006,
          23102,
          21143,
          16357,
          20524,
          16579,
          19403,
          19248,
          4225,
          17969,
          17335,
          17264,
          16690,
          15638,
          1605,
          15651,
          15427,
          15166,
          14520,
          14478,
          12028,
          1399,
          2761,
          9124,
          11894,
          10476,
          10773,
          10063,
          8890,
          157,
          8923,
          8301,
          8305,
          7636,
          225011,
          4874,
          225011,
          6641,
          6482,
          6384,
          6321,
          6132,
          5444,
          225011,
          4605,
          3848,
          2703,
          2449,
          1886,
          1353,
          2,
          787,
          438,
          699,
          80,
          29,
          225011,
          9,
          7
         ],
         "yaxis": "y"
        }
       ],
       "layout": {
        "coloraxis": {
         "colorbar": {
          "title": {
           "text": "Total Recovered"
          }
         },
         "colorscale": [
          [
           0,
           "#440154"
          ],
          [
           0.1111111111111111,
           "#482878"
          ],
          [
           0.2222222222222222,
           "#3e4989"
          ],
          [
           0.3333333333333333,
           "#31688e"
          ],
          [
           0.4444444444444444,
           "#26828e"
          ],
          [
           0.5555555555555556,
           "#1f9e89"
          ],
          [
           0.6666666666666666,
           "#35b779"
          ],
          [
           0.7777777777777778,
           "#6ece58"
          ],
          [
           0.8888888888888888,
           "#b5de2b"
          ],
          [
           1,
           "#fde725"
          ]
         ]
        },
        "legend": {
         "tracegroupgap": 0
        },
        "template": {
         "data": {
          "bar": [
           {
            "error_x": {
             "color": "#2a3f5f"
            },
            "error_y": {
             "color": "#2a3f5f"
            },
            "marker": {
             "line": {
              "color": "#E5ECF6",
              "width": 0.5
             },
             "pattern": {
              "fillmode": "overlay",
              "size": 10,
              "solidity": 0.2
             }
            },
            "type": "bar"
           }
          ],
          "barpolar": [
           {
            "marker": {
             "line": {
              "color": "#E5ECF6",
              "width": 0.5
             },
             "pattern": {
              "fillmode": "overlay",
              "size": 10,
              "solidity": 0.2
             }
            },
            "type": "barpolar"
           }
          ],
          "carpet": [
           {
            "aaxis": {
             "endlinecolor": "#2a3f5f",
             "gridcolor": "white",
             "linecolor": "white",
             "minorgridcolor": "white",
             "startlinecolor": "#2a3f5f"
            },
            "baxis": {
             "endlinecolor": "#2a3f5f",
             "gridcolor": "white",
             "linecolor": "white",
             "minorgridcolor": "white",
             "startlinecolor": "#2a3f5f"
            },
            "type": "carpet"
           }
          ],
          "choropleth": [
           {
            "colorbar": {
             "outlinewidth": 0,
             "ticks": ""
            },
            "type": "choropleth"
           }
          ],
          "contour": [
           {
            "colorbar": {
             "outlinewidth": 0,
             "ticks": ""
            },
            "colorscale": [
             [
              0,
              "#0d0887"
             ],
             [
              0.1111111111111111,
              "#46039f"
             ],
             [
              0.2222222222222222,
              "#7201a8"
             ],
             [
              0.3333333333333333,
              "#9c179e"
             ],
             [
              0.4444444444444444,
              "#bd3786"
             ],
             [
              0.5555555555555556,
              "#d8576b"
             ],
             [
              0.6666666666666666,
              "#ed7953"
             ],
             [
              0.7777777777777778,
              "#fb9f3a"
             ],
             [
              0.8888888888888888,
              "#fdca26"
             ],
             [
              1,
              "#f0f921"
             ]
            ],
            "type": "contour"
           }
          ],
          "contourcarpet": [
           {
            "colorbar": {
             "outlinewidth": 0,
             "ticks": ""
            },
            "type": "contourcarpet"
           }
          ],
          "heatmap": [
           {
            "colorbar": {
             "outlinewidth": 0,
             "ticks": ""
            },
            "colorscale": [
             [
              0,
              "#0d0887"
             ],
             [
              0.1111111111111111,
              "#46039f"
             ],
             [
              0.2222222222222222,
              "#7201a8"
             ],
             [
              0.3333333333333333,
              "#9c179e"
             ],
             [
              0.4444444444444444,
              "#bd3786"
             ],
             [
              0.5555555555555556,
              "#d8576b"
             ],
             [
              0.6666666666666666,
              "#ed7953"
             ],
             [
              0.7777777777777778,
              "#fb9f3a"
             ],
             [
              0.8888888888888888,
              "#fdca26"
             ],
             [
              1,
              "#f0f921"
             ]
            ],
            "type": "heatmap"
           }
          ],
          "heatmapgl": [
           {
            "colorbar": {
             "outlinewidth": 0,
             "ticks": ""
            },
            "colorscale": [
             [
              0,
              "#0d0887"
             ],
             [
              0.1111111111111111,
              "#46039f"
             ],
             [
              0.2222222222222222,
              "#7201a8"
             ],
             [
              0.3333333333333333,
              "#9c179e"
             ],
             [
              0.4444444444444444,
              "#bd3786"
             ],
             [
              0.5555555555555556,
              "#d8576b"
             ],
             [
              0.6666666666666666,
              "#ed7953"
             ],
             [
              0.7777777777777778,
              "#fb9f3a"
             ],
             [
              0.8888888888888888,
              "#fdca26"
             ],
             [
              1,
              "#f0f921"
             ]
            ],
            "type": "heatmapgl"
           }
          ],
          "histogram": [
           {
            "marker": {
             "pattern": {
              "fillmode": "overlay",
              "size": 10,
              "solidity": 0.2
             }
            },
            "type": "histogram"
           }
          ],
          "histogram2d": [
           {
            "colorbar": {
             "outlinewidth": 0,
             "ticks": ""
            },
            "colorscale": [
             [
              0,
              "#0d0887"
             ],
             [
              0.1111111111111111,
              "#46039f"
             ],
             [
              0.2222222222222222,
              "#7201a8"
             ],
             [
              0.3333333333333333,
              "#9c179e"
             ],
             [
              0.4444444444444444,
              "#bd3786"
             ],
             [
              0.5555555555555556,
              "#d8576b"
             ],
             [
              0.6666666666666666,
              "#ed7953"
             ],
             [
              0.7777777777777778,
              "#fb9f3a"
             ],
             [
              0.8888888888888888,
              "#fdca26"
             ],
             [
              1,
              "#f0f921"
             ]
            ],
            "type": "histogram2d"
           }
          ],
          "histogram2dcontour": [
           {
            "colorbar": {
             "outlinewidth": 0,
             "ticks": ""
            },
            "colorscale": [
             [
              0,
              "#0d0887"
             ],
             [
              0.1111111111111111,
              "#46039f"
             ],
             [
              0.2222222222222222,
              "#7201a8"
             ],
             [
              0.3333333333333333,
              "#9c179e"
             ],
             [
              0.4444444444444444,
              "#bd3786"
             ],
             [
              0.5555555555555556,
              "#d8576b"
             ],
             [
              0.6666666666666666,
              "#ed7953"
             ],
             [
              0.7777777777777778,
              "#fb9f3a"
             ],
             [
              0.8888888888888888,
              "#fdca26"
             ],
             [
              1,
              "#f0f921"
             ]
            ],
            "type": "histogram2dcontour"
           }
          ],
          "mesh3d": [
           {
            "colorbar": {
             "outlinewidth": 0,
             "ticks": ""
            },
            "type": "mesh3d"
           }
          ],
          "parcoords": [
           {
            "line": {
             "colorbar": {
              "outlinewidth": 0,
              "ticks": ""
             }
            },
            "type": "parcoords"
           }
          ],
          "pie": [
           {
            "automargin": true,
            "type": "pie"
           }
          ],
          "scatter": [
           {
            "fillpattern": {
             "fillmode": "overlay",
             "size": 10,
             "solidity": 0.2
            },
            "type": "scatter"
           }
          ],
          "scatter3d": [
           {
            "line": {
             "colorbar": {
              "outlinewidth": 0,
              "ticks": ""
             }
            },
            "marker": {
             "colorbar": {
              "outlinewidth": 0,
              "ticks": ""
             }
            },
            "type": "scatter3d"
           }
          ],
          "scattercarpet": [
           {
            "marker": {
             "colorbar": {
              "outlinewidth": 0,
              "ticks": ""
             }
            },
            "type": "scattercarpet"
           }
          ],
          "scattergeo": [
           {
            "marker": {
             "colorbar": {
              "outlinewidth": 0,
              "ticks": ""
             }
            },
            "type": "scattergeo"
           }
          ],
          "scattergl": [
           {
            "marker": {
             "colorbar": {
              "outlinewidth": 0,
              "ticks": ""
             }
            },
            "type": "scattergl"
           }
          ],
          "scattermapbox": [
           {
            "marker": {
             "colorbar": {
              "outlinewidth": 0,
              "ticks": ""
             }
            },
            "type": "scattermapbox"
           }
          ],
          "scatterpolar": [
           {
            "marker": {
             "colorbar": {
              "outlinewidth": 0,
              "ticks": ""
             }
            },
            "type": "scatterpolar"
           }
          ],
          "scatterpolargl": [
           {
            "marker": {
             "colorbar": {
              "outlinewidth": 0,
              "ticks": ""
             }
            },
            "type": "scatterpolargl"
           }
          ],
          "scatterternary": [
           {
            "marker": {
             "colorbar": {
              "outlinewidth": 0,
              "ticks": ""
             }
            },
            "type": "scatterternary"
           }
          ],
          "surface": [
           {
            "colorbar": {
             "outlinewidth": 0,
             "ticks": ""
            },
            "colorscale": [
             [
              0,
              "#0d0887"
             ],
             [
              0.1111111111111111,
              "#46039f"
             ],
             [
              0.2222222222222222,
              "#7201a8"
             ],
             [
              0.3333333333333333,
              "#9c179e"
             ],
             [
              0.4444444444444444,
              "#bd3786"
             ],
             [
              0.5555555555555556,
              "#d8576b"
             ],
             [
              0.6666666666666666,
              "#ed7953"
             ],
             [
              0.7777777777777778,
              "#fb9f3a"
             ],
             [
              0.8888888888888888,
              "#fdca26"
             ],
             [
              1,
              "#f0f921"
             ]
            ],
            "type": "surface"
           }
          ],
          "table": [
           {
            "cells": {
             "fill": {
              "color": "#EBF0F8"
             },
             "line": {
              "color": "white"
             }
            },
            "header": {
             "fill": {
              "color": "#C8D4E3"
             },
             "line": {
              "color": "white"
             }
            },
            "type": "table"
           }
          ]
         },
         "layout": {
          "annotationdefaults": {
           "arrowcolor": "#2a3f5f",
           "arrowhead": 0,
           "arrowwidth": 1
          },
          "autotypenumbers": "strict",
          "coloraxis": {
           "colorbar": {
            "outlinewidth": 0,
            "ticks": ""
           }
          },
          "colorscale": {
           "diverging": [
            [
             0,
             "#8e0152"
            ],
            [
             0.1,
             "#c51b7d"
            ],
            [
             0.2,
             "#de77ae"
            ],
            [
             0.3,
             "#f1b6da"
            ],
            [
             0.4,
             "#fde0ef"
            ],
            [
             0.5,
             "#f7f7f7"
            ],
            [
             0.6,
             "#e6f5d0"
            ],
            [
             0.7,
             "#b8e186"
            ],
            [
             0.8,
             "#7fbc41"
            ],
            [
             0.9,
             "#4d9221"
            ],
            [
             1,
             "#276419"
            ]
           ],
           "sequential": [
            [
             0,
             "#0d0887"
            ],
            [
             0.1111111111111111,
             "#46039f"
            ],
            [
             0.2222222222222222,
             "#7201a8"
            ],
            [
             0.3333333333333333,
             "#9c179e"
            ],
            [
             0.4444444444444444,
             "#bd3786"
            ],
            [
             0.5555555555555556,
             "#d8576b"
            ],
            [
             0.6666666666666666,
             "#ed7953"
            ],
            [
             0.7777777777777778,
             "#fb9f3a"
            ],
            [
             0.8888888888888888,
             "#fdca26"
            ],
            [
             1,
             "#f0f921"
            ]
           ],
           "sequentialminus": [
            [
             0,
             "#0d0887"
            ],
            [
             0.1111111111111111,
             "#46039f"
            ],
            [
             0.2222222222222222,
             "#7201a8"
            ],
            [
             0.3333333333333333,
             "#9c179e"
            ],
            [
             0.4444444444444444,
             "#bd3786"
            ],
            [
             0.5555555555555556,
             "#d8576b"
            ],
            [
             0.6666666666666666,
             "#ed7953"
            ],
            [
             0.7777777777777778,
             "#fb9f3a"
            ],
            [
             0.8888888888888888,
             "#fdca26"
            ],
            [
             1,
             "#f0f921"
            ]
           ]
          },
          "colorway": [
           "#636efa",
           "#EF553B",
           "#00cc96",
           "#ab63fa",
           "#FFA15A",
           "#19d3f3",
           "#FF6692",
           "#B6E880",
           "#FF97FF",
           "#FECB52"
          ],
          "font": {
           "color": "#2a3f5f"
          },
          "geo": {
           "bgcolor": "white",
           "lakecolor": "white",
           "landcolor": "#E5ECF6",
           "showlakes": true,
           "showland": true,
           "subunitcolor": "white"
          },
          "hoverlabel": {
           "align": "left"
          },
          "hovermode": "closest",
          "mapbox": {
           "style": "light"
          },
          "paper_bgcolor": "white",
          "plot_bgcolor": "#E5ECF6",
          "polar": {
           "angularaxis": {
            "gridcolor": "white",
            "linecolor": "white",
            "ticks": ""
           },
           "bgcolor": "#E5ECF6",
           "radialaxis": {
            "gridcolor": "white",
            "linecolor": "white",
            "ticks": ""
           }
          },
          "scene": {
           "xaxis": {
            "backgroundcolor": "#E5ECF6",
            "gridcolor": "white",
            "gridwidth": 2,
            "linecolor": "white",
            "showbackground": true,
            "ticks": "",
            "zerolinecolor": "white"
           },
           "yaxis": {
            "backgroundcolor": "#E5ECF6",
            "gridcolor": "white",
            "gridwidth": 2,
            "linecolor": "white",
            "showbackground": true,
            "ticks": "",
            "zerolinecolor": "white"
           },
           "zaxis": {
            "backgroundcolor": "#E5ECF6",
            "gridcolor": "white",
            "gridwidth": 2,
            "linecolor": "white",
            "showbackground": true,
            "ticks": "",
            "zerolinecolor": "white"
           }
          },
          "shapedefaults": {
           "line": {
            "color": "#2a3f5f"
           }
          },
          "ternary": {
           "aaxis": {
            "gridcolor": "white",
            "linecolor": "white",
            "ticks": ""
           },
           "baxis": {
            "gridcolor": "white",
            "linecolor": "white",
            "ticks": ""
           },
           "bgcolor": "#E5ECF6",
           "caxis": {
            "gridcolor": "white",
            "linecolor": "white",
            "ticks": ""
           }
          },
          "title": {
           "x": 0.05
          },
          "xaxis": {
           "automargin": true,
           "gridcolor": "white",
           "linecolor": "white",
           "ticks": "",
           "title": {
            "standoff": 15
           },
           "zerolinecolor": "white",
           "zerolinewidth": 2
          },
          "yaxis": {
           "automargin": true,
           "gridcolor": "white",
           "linecolor": "white",
           "ticks": "",
           "title": {
            "standoff": 15
           },
           "zerolinecolor": "white",
           "zerolinewidth": 2
          }
         }
        },
        "title": {
         "text": "Total Cases vs Total Recovered"
        },
        "xaxis": {
         "anchor": "y",
         "domain": [
          0,
          1
         ],
         "title": {
          "text": "Total Cases"
         }
        },
        "yaxis": {
         "anchor": "x",
         "domain": [
          0,
          1
         ],
         "title": {
          "text": "Total Recovered"
         }
        }
       }
      },
      "text/html": [
       "<div>                            <div id=\"5b7f540e-7c74-45b9-8cd1-08a000d382b2\" class=\"plotly-graph-div\" style=\"height:525px; width:100%;\"></div>            <script type=\"text/javascript\">                require([\"plotly\"], function(Plotly) {                    window.PLOTLYENV=window.PLOTLYENV || {};                                    if (document.getElementById(\"5b7f540e-7c74-45b9-8cd1-08a000d382b2\")) {                    Plotly.newPlot(                        \"5b7f540e-7c74-45b9-8cd1-08a000d382b2\",                        [{\"hovertemplate\":\"Total Cases=%{x}\\u003cbr\\u003eTotal Recovered=%{marker.color}\\u003cextra\\u003e\\u003c\\u002fextra\\u003e\",\"legendgroup\":\"\",\"marker\":{\"color\":[94962112.0,44019095.0,34527115.0,33838636.0,32315200.0,24013461.0,23347871.0,21779604.0,20380089.0,19979763.0,16754301.0,13218892.0,10590917.0,10133494.0,9563348.0,8362464.0,7325370.0,6353953.0,6253317.0,5603195.0,6134690.0,5335940.0,5394788.0,4973554.0,5006572.0,4836903.0,4777329.0,4772739.0,4642083.0,4641394.0,4540886.0,4451569.0,4131367.0,3914598.0,4035333.0,4012833.0,3909265.0,3854478.0,3180124.0,3093396.0,2548125.0,2433704.0,2298536.0,2014175.0,1964501.0,1821160.0,1817938.0,1637293.0,1767660.0,1469240.0,1731007.0,1648405.0,1536924.0,1457108.0,1378440.0,1263711.0,1248543.0,1211397.0,1216151.0,1209524.0,1087587.0,1145051.0,225011.0,1102988.0,1102548.0,1051789.0,860711.0,1006369.0,964320.0,986617.0,985592.0,976873.0,976760.0,979439.0,891237.0,810181.0,803546.0,696110.0,675724.0,653779.0,655316.0,638911.0,597898.0,608749.0,524990.0,504142.0,578452.0,538033.0,442182.0,500507.0,471918.0,418572.0,225011.0,443418.0,430192.0,376654.0,384669.0,332806.0,332663.0,329375.0,326729.0,322955.0,283668.0,276154.0,182306.0,258381.0,251281.0,242254.0,241486.0,227882.0,222140.0,225011.0,225011.0,196406.0,225011.0,179410.0,177850.0,225011.0,163687.0,174214.0,100431.0,164813.0,167307.0,99239.0,134745.0,130955.0,118616.0,113195.0,101155.0,101760.0,11254.0,83504.0,90639.0,86297.0,84872.0,86338.0,225011.0,225011.0,73823.0,71955.0,69977.0,68079.0,66302.0,65242.0,57290.0,61789.0,61890.0,61564.0,54078.0,49559.0,48292.0,46446.0,46011.0,44720.0,43982.0,42438.0,38786.0,225011.0,225011.0,38528.0,225011.0,36880.0,36070.0,225011.0,25980.0,31307.0,31591.0,8553.0,28475.0,27322.0,13182.0,24006.0,23102.0,21143.0,16357.0,20524.0,16579.0,19403.0,19248.0,4225.0,17969.0,17335.0,17264.0,16690.0,15638.0,1605.0,15651.0,15427.0,15166.0,14520.0,14478.0,12028.0,1399.0,2761.0,9124.0,11894.0,10476.0,10773.0,10063.0,8890.0,157.0,8923.0,8301.0,8305.0,7636.0,225011.0,4874.0,225011.0,6641.0,6482.0,6384.0,6321.0,6132.0,5444.0,225011.0,4605.0,3848.0,2703.0,2449.0,1886.0,1353.0,2.0,787.0,438.0,699.0,80.0,29.0,225011.0,9.0,7.0],\"coloraxis\":\"coloraxis\",\"symbol\":\"circle\"},\"mode\":\"markers\",\"name\":\"\",\"orientation\":\"v\",\"showlegend\":false,\"x\":[98166904.0,44587307.0,35342950.0,34706757.0,33312373.0,24769101.0,23621952.0,22432803.0,21229216.0,20948470.0,16873793.0,13412263.0,11477886.0,10209239.0,9708420.0,8422336.0,7548320.0,7084488.0,6429767.0,6417941.0,6307372.0,6289672.0,5490639.0,5177217.0,5118512.0,4920192.0,4838872.0,4772813.0,4681309.0,4661096.0,4620377.0,4533249.0,4233468.0,4143085.0,4100480.0,4084307.0,4018769.0,3945566.0,3267370.0,3110831.0,2588441.0,2459982.0,2359530.0,2094142.0,2024489.0,1904192.0,1843220.0,1780691.0,1779476.0,1761381.0,1746997.0,1663653.0,1572598.0,1462318.0,1393468.0,1292940.0,1264935.0,1258670.0,1249134.0,1231575.0,1215511.0,1181073.0,1145686.0,1123465.0,1111179.0,1108195.0,1072807.0,1027031.0,1003778.0,999712.0,994037.0,986866.0,985422.0,982864.0,929051.0,821162.0,816389.0,716059.0,680271.0,670763.0,658520.0,644016.0,622802.0,620548.0,601869.0,589388.0,585313.0,544687.0,515645.0,506991.0,493563.0,472336.0,456391.0,450448.0,442875.0,398668.0,397993.0,342775.0,338420.0,333531.0,332173.0,326308.0,288658.0,280002.0,270668.0,265382.0,257409.0,250449.0,244199.0,230219.0,226237.0,221618.0,215843.0,206083.0,205637.0,201785.0,199067.0,192801.0,185042.0,182597.0,169396.0,169253.0,169100.0,151829.0,137870.0,132498.0,121652.0,114652.0,103131.0,102546.0,93974.0,92852.0,91561.0,88373.0,88024.0,87208.0,81106.0,76599.0,74152.0,73390.0,71336.0,68826.0,68242.0,66676.0,63285.0,62812.0,62371.0,61730.0,57299.0,50129.0,48691.0,47141.0,46227.0,45127.0,44997.0,42914.0,40461.0,40243.0,39440.0,39034.0,38008.0,37652.0,37267.0,34658.0,34490.0,33733.0,32625.0,30661.0,29408.0,27638.0,27214.0,24837.0,23253.0,21631.0,21544.0,20763.0,20092.0,19713.0,19536.0,18491.0,18154.0,17823.0,17786.0,17012.0,16182.0,15925.0,15747.0,15690.0,15275.0,14913.0,14608.0,12508.0,11978.0,11971.0,11935.0,11930.0,11235.0,10863.0,10169.0,9931.0,9759.0,9098.0,8796.0,8471.0,7961.0,7751.0,7583.0,7305.0,7112.0,6541.0,6389.0,6380.0,6230.0,5460.0,5285.0,4611.0,3865.0,3430.0,3188.0,1886.0,1396.0,1355.0,793.0,761.0,712.0,80.0,29.0,20.0,10.0,9.0],\"xaxis\":\"x\",\"y\":[94962112.0,44019095.0,34527115.0,33838636.0,32315200.0,24013461.0,23347871.0,21779604.0,20380089.0,19979763.0,16754301.0,13218892.0,10590917.0,10133494.0,9563348.0,8362464.0,7325370.0,6353953.0,6253317.0,5603195.0,6134690.0,5335940.0,5394788.0,4973554.0,5006572.0,4836903.0,4777329.0,4772739.0,4642083.0,4641394.0,4540886.0,4451569.0,4131367.0,3914598.0,4035333.0,4012833.0,3909265.0,3854478.0,3180124.0,3093396.0,2548125.0,2433704.0,2298536.0,2014175.0,1964501.0,1821160.0,1817938.0,1637293.0,1767660.0,1469240.0,1731007.0,1648405.0,1536924.0,1457108.0,1378440.0,1263711.0,1248543.0,1211397.0,1216151.0,1209524.0,1087587.0,1145051.0,225011.0,1102988.0,1102548.0,1051789.0,860711.0,1006369.0,964320.0,986617.0,985592.0,976873.0,976760.0,979439.0,891237.0,810181.0,803546.0,696110.0,675724.0,653779.0,655316.0,638911.0,597898.0,608749.0,524990.0,504142.0,578452.0,538033.0,442182.0,500507.0,471918.0,418572.0,225011.0,443418.0,430192.0,376654.0,384669.0,332806.0,332663.0,329375.0,326729.0,322955.0,283668.0,276154.0,182306.0,258381.0,251281.0,242254.0,241486.0,227882.0,222140.0,225011.0,225011.0,196406.0,225011.0,179410.0,177850.0,225011.0,163687.0,174214.0,100431.0,164813.0,167307.0,99239.0,134745.0,130955.0,118616.0,113195.0,101155.0,101760.0,11254.0,83504.0,90639.0,86297.0,84872.0,86338.0,225011.0,225011.0,73823.0,71955.0,69977.0,68079.0,66302.0,65242.0,57290.0,61789.0,61890.0,61564.0,54078.0,49559.0,48292.0,46446.0,46011.0,44720.0,43982.0,42438.0,38786.0,225011.0,225011.0,38528.0,225011.0,36880.0,36070.0,225011.0,25980.0,31307.0,31591.0,8553.0,28475.0,27322.0,13182.0,24006.0,23102.0,21143.0,16357.0,20524.0,16579.0,19403.0,19248.0,4225.0,17969.0,17335.0,17264.0,16690.0,15638.0,1605.0,15651.0,15427.0,15166.0,14520.0,14478.0,12028.0,1399.0,2761.0,9124.0,11894.0,10476.0,10773.0,10063.0,8890.0,157.0,8923.0,8301.0,8305.0,7636.0,225011.0,4874.0,225011.0,6641.0,6482.0,6384.0,6321.0,6132.0,5444.0,225011.0,4605.0,3848.0,2703.0,2449.0,1886.0,1353.0,2.0,787.0,438.0,699.0,80.0,29.0,225011.0,9.0,7.0],\"yaxis\":\"y\",\"type\":\"scatter\"}],                        {\"template\":{\"data\":{\"histogram2dcontour\":[{\"type\":\"histogram2dcontour\",\"colorbar\":{\"outlinewidth\":0,\"ticks\":\"\"},\"colorscale\":[[0.0,\"#0d0887\"],[0.1111111111111111,\"#46039f\"],[0.2222222222222222,\"#7201a8\"],[0.3333333333333333,\"#9c179e\"],[0.4444444444444444,\"#bd3786\"],[0.5555555555555556,\"#d8576b\"],[0.6666666666666666,\"#ed7953\"],[0.7777777777777778,\"#fb9f3a\"],[0.8888888888888888,\"#fdca26\"],[1.0,\"#f0f921\"]]}],\"choropleth\":[{\"type\":\"choropleth\",\"colorbar\":{\"outlinewidth\":0,\"ticks\":\"\"}}],\"histogram2d\":[{\"type\":\"histogram2d\",\"colorbar\":{\"outlinewidth\":0,\"ticks\":\"\"},\"colorscale\":[[0.0,\"#0d0887\"],[0.1111111111111111,\"#46039f\"],[0.2222222222222222,\"#7201a8\"],[0.3333333333333333,\"#9c179e\"],[0.4444444444444444,\"#bd3786\"],[0.5555555555555556,\"#d8576b\"],[0.6666666666666666,\"#ed7953\"],[0.7777777777777778,\"#fb9f3a\"],[0.8888888888888888,\"#fdca26\"],[1.0,\"#f0f921\"]]}],\"heatmap\":[{\"type\":\"heatmap\",\"colorbar\":{\"outlinewidth\":0,\"ticks\":\"\"},\"colorscale\":[[0.0,\"#0d0887\"],[0.1111111111111111,\"#46039f\"],[0.2222222222222222,\"#7201a8\"],[0.3333333333333333,\"#9c179e\"],[0.4444444444444444,\"#bd3786\"],[0.5555555555555556,\"#d8576b\"],[0.6666666666666666,\"#ed7953\"],[0.7777777777777778,\"#fb9f3a\"],[0.8888888888888888,\"#fdca26\"],[1.0,\"#f0f921\"]]}],\"heatmapgl\":[{\"type\":\"heatmapgl\",\"colorbar\":{\"outlinewidth\":0,\"ticks\":\"\"},\"colorscale\":[[0.0,\"#0d0887\"],[0.1111111111111111,\"#46039f\"],[0.2222222222222222,\"#7201a8\"],[0.3333333333333333,\"#9c179e\"],[0.4444444444444444,\"#bd3786\"],[0.5555555555555556,\"#d8576b\"],[0.6666666666666666,\"#ed7953\"],[0.7777777777777778,\"#fb9f3a\"],[0.8888888888888888,\"#fdca26\"],[1.0,\"#f0f921\"]]}],\"contourcarpet\":[{\"type\":\"contourcarpet\",\"colorbar\":{\"outlinewidth\":0,\"ticks\":\"\"}}],\"contour\":[{\"type\":\"contour\",\"colorbar\":{\"outlinewidth\":0,\"ticks\":\"\"},\"colorscale\":[[0.0,\"#0d0887\"],[0.1111111111111111,\"#46039f\"],[0.2222222222222222,\"#7201a8\"],[0.3333333333333333,\"#9c179e\"],[0.4444444444444444,\"#bd3786\"],[0.5555555555555556,\"#d8576b\"],[0.6666666666666666,\"#ed7953\"],[0.7777777777777778,\"#fb9f3a\"],[0.8888888888888888,\"#fdca26\"],[1.0,\"#f0f921\"]]}],\"surface\":[{\"type\":\"surface\",\"colorbar\":{\"outlinewidth\":0,\"ticks\":\"\"},\"colorscale\":[[0.0,\"#0d0887\"],[0.1111111111111111,\"#46039f\"],[0.2222222222222222,\"#7201a8\"],[0.3333333333333333,\"#9c179e\"],[0.4444444444444444,\"#bd3786\"],[0.5555555555555556,\"#d8576b\"],[0.6666666666666666,\"#ed7953\"],[0.7777777777777778,\"#fb9f3a\"],[0.8888888888888888,\"#fdca26\"],[1.0,\"#f0f921\"]]}],\"mesh3d\":[{\"type\":\"mesh3d\",\"colorbar\":{\"outlinewidth\":0,\"ticks\":\"\"}}],\"scatter\":[{\"fillpattern\":{\"fillmode\":\"overlay\",\"size\":10,\"solidity\":0.2},\"type\":\"scatter\"}],\"parcoords\":[{\"type\":\"parcoords\",\"line\":{\"colorbar\":{\"outlinewidth\":0,\"ticks\":\"\"}}}],\"scatterpolargl\":[{\"type\":\"scatterpolargl\",\"marker\":{\"colorbar\":{\"outlinewidth\":0,\"ticks\":\"\"}}}],\"bar\":[{\"error_x\":{\"color\":\"#2a3f5f\"},\"error_y\":{\"color\":\"#2a3f5f\"},\"marker\":{\"line\":{\"color\":\"#E5ECF6\",\"width\":0.5},\"pattern\":{\"fillmode\":\"overlay\",\"size\":10,\"solidity\":0.2}},\"type\":\"bar\"}],\"scattergeo\":[{\"type\":\"scattergeo\",\"marker\":{\"colorbar\":{\"outlinewidth\":0,\"ticks\":\"\"}}}],\"scatterpolar\":[{\"type\":\"scatterpolar\",\"marker\":{\"colorbar\":{\"outlinewidth\":0,\"ticks\":\"\"}}}],\"histogram\":[{\"marker\":{\"pattern\":{\"fillmode\":\"overlay\",\"size\":10,\"solidity\":0.2}},\"type\":\"histogram\"}],\"scattergl\":[{\"type\":\"scattergl\",\"marker\":{\"colorbar\":{\"outlinewidth\":0,\"ticks\":\"\"}}}],\"scatter3d\":[{\"type\":\"scatter3d\",\"line\":{\"colorbar\":{\"outlinewidth\":0,\"ticks\":\"\"}},\"marker\":{\"colorbar\":{\"outlinewidth\":0,\"ticks\":\"\"}}}],\"scattermapbox\":[{\"type\":\"scattermapbox\",\"marker\":{\"colorbar\":{\"outlinewidth\":0,\"ticks\":\"\"}}}],\"scatterternary\":[{\"type\":\"scatterternary\",\"marker\":{\"colorbar\":{\"outlinewidth\":0,\"ticks\":\"\"}}}],\"scattercarpet\":[{\"type\":\"scattercarpet\",\"marker\":{\"colorbar\":{\"outlinewidth\":0,\"ticks\":\"\"}}}],\"carpet\":[{\"aaxis\":{\"endlinecolor\":\"#2a3f5f\",\"gridcolor\":\"white\",\"linecolor\":\"white\",\"minorgridcolor\":\"white\",\"startlinecolor\":\"#2a3f5f\"},\"baxis\":{\"endlinecolor\":\"#2a3f5f\",\"gridcolor\":\"white\",\"linecolor\":\"white\",\"minorgridcolor\":\"white\",\"startlinecolor\":\"#2a3f5f\"},\"type\":\"carpet\"}],\"table\":[{\"cells\":{\"fill\":{\"color\":\"#EBF0F8\"},\"line\":{\"color\":\"white\"}},\"header\":{\"fill\":{\"color\":\"#C8D4E3\"},\"line\":{\"color\":\"white\"}},\"type\":\"table\"}],\"barpolar\":[{\"marker\":{\"line\":{\"color\":\"#E5ECF6\",\"width\":0.5},\"pattern\":{\"fillmode\":\"overlay\",\"size\":10,\"solidity\":0.2}},\"type\":\"barpolar\"}],\"pie\":[{\"automargin\":true,\"type\":\"pie\"}]},\"layout\":{\"autotypenumbers\":\"strict\",\"colorway\":[\"#636efa\",\"#EF553B\",\"#00cc96\",\"#ab63fa\",\"#FFA15A\",\"#19d3f3\",\"#FF6692\",\"#B6E880\",\"#FF97FF\",\"#FECB52\"],\"font\":{\"color\":\"#2a3f5f\"},\"hovermode\":\"closest\",\"hoverlabel\":{\"align\":\"left\"},\"paper_bgcolor\":\"white\",\"plot_bgcolor\":\"#E5ECF6\",\"polar\":{\"bgcolor\":\"#E5ECF6\",\"angularaxis\":{\"gridcolor\":\"white\",\"linecolor\":\"white\",\"ticks\":\"\"},\"radialaxis\":{\"gridcolor\":\"white\",\"linecolor\":\"white\",\"ticks\":\"\"}},\"ternary\":{\"bgcolor\":\"#E5ECF6\",\"aaxis\":{\"gridcolor\":\"white\",\"linecolor\":\"white\",\"ticks\":\"\"},\"baxis\":{\"gridcolor\":\"white\",\"linecolor\":\"white\",\"ticks\":\"\"},\"caxis\":{\"gridcolor\":\"white\",\"linecolor\":\"white\",\"ticks\":\"\"}},\"coloraxis\":{\"colorbar\":{\"outlinewidth\":0,\"ticks\":\"\"}},\"colorscale\":{\"sequential\":[[0.0,\"#0d0887\"],[0.1111111111111111,\"#46039f\"],[0.2222222222222222,\"#7201a8\"],[0.3333333333333333,\"#9c179e\"],[0.4444444444444444,\"#bd3786\"],[0.5555555555555556,\"#d8576b\"],[0.6666666666666666,\"#ed7953\"],[0.7777777777777778,\"#fb9f3a\"],[0.8888888888888888,\"#fdca26\"],[1.0,\"#f0f921\"]],\"sequentialminus\":[[0.0,\"#0d0887\"],[0.1111111111111111,\"#46039f\"],[0.2222222222222222,\"#7201a8\"],[0.3333333333333333,\"#9c179e\"],[0.4444444444444444,\"#bd3786\"],[0.5555555555555556,\"#d8576b\"],[0.6666666666666666,\"#ed7953\"],[0.7777777777777778,\"#fb9f3a\"],[0.8888888888888888,\"#fdca26\"],[1.0,\"#f0f921\"]],\"diverging\":[[0,\"#8e0152\"],[0.1,\"#c51b7d\"],[0.2,\"#de77ae\"],[0.3,\"#f1b6da\"],[0.4,\"#fde0ef\"],[0.5,\"#f7f7f7\"],[0.6,\"#e6f5d0\"],[0.7,\"#b8e186\"],[0.8,\"#7fbc41\"],[0.9,\"#4d9221\"],[1,\"#276419\"]]},\"xaxis\":{\"gridcolor\":\"white\",\"linecolor\":\"white\",\"ticks\":\"\",\"title\":{\"standoff\":15},\"zerolinecolor\":\"white\",\"automargin\":true,\"zerolinewidth\":2},\"yaxis\":{\"gridcolor\":\"white\",\"linecolor\":\"white\",\"ticks\":\"\",\"title\":{\"standoff\":15},\"zerolinecolor\":\"white\",\"automargin\":true,\"zerolinewidth\":2},\"scene\":{\"xaxis\":{\"backgroundcolor\":\"#E5ECF6\",\"gridcolor\":\"white\",\"linecolor\":\"white\",\"showbackground\":true,\"ticks\":\"\",\"zerolinecolor\":\"white\",\"gridwidth\":2},\"yaxis\":{\"backgroundcolor\":\"#E5ECF6\",\"gridcolor\":\"white\",\"linecolor\":\"white\",\"showbackground\":true,\"ticks\":\"\",\"zerolinecolor\":\"white\",\"gridwidth\":2},\"zaxis\":{\"backgroundcolor\":\"#E5ECF6\",\"gridcolor\":\"white\",\"linecolor\":\"white\",\"showbackground\":true,\"ticks\":\"\",\"zerolinecolor\":\"white\",\"gridwidth\":2}},\"shapedefaults\":{\"line\":{\"color\":\"#2a3f5f\"}},\"annotationdefaults\":{\"arrowcolor\":\"#2a3f5f\",\"arrowhead\":0,\"arrowwidth\":1},\"geo\":{\"bgcolor\":\"white\",\"landcolor\":\"#E5ECF6\",\"subunitcolor\":\"white\",\"showland\":true,\"showlakes\":true,\"lakecolor\":\"white\"},\"title\":{\"x\":0.05},\"mapbox\":{\"style\":\"light\"}}},\"xaxis\":{\"anchor\":\"y\",\"domain\":[0.0,1.0],\"title\":{\"text\":\"Total Cases\"}},\"yaxis\":{\"anchor\":\"x\",\"domain\":[0.0,1.0],\"title\":{\"text\":\"Total Recovered\"}},\"coloraxis\":{\"colorbar\":{\"title\":{\"text\":\"Total Recovered\"}},\"colorscale\":[[0.0,\"#440154\"],[0.1111111111111111,\"#482878\"],[0.2222222222222222,\"#3e4989\"],[0.3333333333333333,\"#31688e\"],[0.4444444444444444,\"#26828e\"],[0.5555555555555556,\"#1f9e89\"],[0.6666666666666666,\"#35b779\"],[0.7777777777777778,\"#6ece58\"],[0.8888888888888888,\"#b5de2b\"],[1.0,\"#fde725\"]]},\"legend\":{\"tracegroupgap\":0},\"title\":{\"text\":\"Total Cases vs Total Recovered\"}},                        {\"responsive\": true}                    ).then(function(){\n",
       "                            \n",
       "var gd = document.getElementById('5b7f540e-7c74-45b9-8cd1-08a000d382b2');\n",
       "var x = new MutationObserver(function (mutations, observer) {{\n",
       "        var display = window.getComputedStyle(gd).display;\n",
       "        if (!display || display === 'none') {{\n",
       "            console.log([gd, 'removed!']);\n",
       "            Plotly.purge(gd);\n",
       "            observer.disconnect();\n",
       "        }}\n",
       "}});\n",
       "\n",
       "// Listen for the removal of the full notebook cells\n",
       "var notebookContainer = gd.closest('#notebook-container');\n",
       "if (notebookContainer) {{\n",
       "    x.observe(notebookContainer, {childList: true});\n",
       "}}\n",
       "\n",
       "// Listen for the clearing of the current output cell\n",
       "var outputEl = gd.closest('.output');\n",
       "if (outputEl) {{\n",
       "    x.observe(outputEl, {childList: true});\n",
       "}}\n",
       "\n",
       "                        })                };                });            </script>        </div>"
      ]
     },
     "metadata": {},
     "output_type": "display_data"
    }
   ],
   "source": [
    "fig = px.scatter(df, x='Total Cases', y='Total Recovered', title=\"Total Cases vs Total Recovered\", color_continuous_scale='Viridis', color='Total Recovered')\n",
    "fig.show()"
   ]
  },
  {
   "cell_type": "markdown",
   "id": "b5272b07-c850-466d-a825-5996f517a6b6",
   "metadata": {},
   "source": [
    "# Total Cases VS Total Deaths"
   ]
  },
  {
   "cell_type": "code",
   "execution_count": 23,
   "id": "8df1a170-77e6-4903-89bb-66970d71e323",
   "metadata": {},
   "outputs": [
    {
     "data": {
      "application/vnd.plotly.v1+json": {
       "config": {
        "plotlyServerURL": "https://plot.ly"
       },
       "data": [
        {
         "hovertemplate": "Total Cases=%{x}<br>Total Deaths=%{marker.color}<extra></extra>",
         "legendgroup": "",
         "marker": {
          "color": [
           1084282,
           528629,
           155078,
           686027,
           149948,
           28406,
           189919,
           177054,
           44678,
           387163,
           101139,
           114084,
           43148,
           14984,
           129897,
           22643,
           144421,
           330065,
           158093,
           11003,
           141794,
           117539,
           25024,
           109206,
           20738,
           33111,
           36369,
           74,
           32767,
           11698,
           61141,
           32659,
           44992,
           216539,
           41059,
           14183,
           102185,
           62916,
           67016,
           7065,
           20194,
           25355,
           17000,
           47503,
           29362,
           1617,
           20455,
           16900,
           2959,
           10153,
           14122,
           7905,
           30616,
           4098,
           13690,
           5981,
           16278,
           37714,
           9320,
           16902,
           10674,
           6820,
           29249,
           19789,
           8530,
           22234,
           8913,
           2345,
           35894,
           12018,
           7118,
           8497,
           7485,
           2179,
           5990,
           9910,
           9351,
           19583,
           1520,
           16761,
           2563,
           4384,
           19458,
           5403,
           2681,
           11844,
           1180,
           5814,
           24613,
           6437,
           7572,
           893,
           10993,
           682,
           8683,
           16136,
           4260,
           9534,
           5678,
           4017,
           3588,
           2789,
           1123,
           2781,
           6879,
           3155,
           5602,
           5226,
           1637,
           2221,
           225,
           1044,
           758,
           2991,
           213,
           4229,
           7799,
           989,
           308,
           4195,
           3628,
           4065,
           1459,
           3317,
           3056,
           1466,
           1935,
           806,
           1917,
           559,
           410,
           1442,
           202,
           1968,
           2682,
           826,
           1385,
           649,
           314,
           1422,
           1281,
           683,
           878,
           1410,
           4961,
           995,
           410,
           21,
           3163,
           38,
           306,
           169,
           155,
           282,
           668,
           227,
           1024,
           187,
           845,
           285,
           116,
           449,
           833,
           28,
           706,
           857,
           742,
           32,
           391,
           163,
           1352,
           386,
           138,
           387,
           153,
           118,
           108,
           86,
           237,
           225,
           148,
           138,
           125,
           183,
           12,
           29,
           74,
           189,
           17,
           113,
           63,
           372,
           63,
           21,
           2157,
           14,
           36,
           87,
           103,
           312,
           29,
           146,
           175,
           161,
           294,
           126,
           193,
           64,
           115,
           46,
           1,
           36,
           77,
           6,
           6,
           1,
           12,
           13,
           1,
           2179,
           8,
           2179,
           6,
           7,
           13,
           2179,
           2179,
           2179,
           1,
           2
          ],
          "coloraxis": "coloraxis",
          "symbol": "circle"
         },
         "mode": "markers",
         "name": "",
         "orientation": "v",
         "showlegend": false,
         "type": "scatter",
         "x": [
          98166904,
          44587307,
          35342950,
          34706757,
          33312373,
          24769101,
          23621952,
          22432803,
          21229216,
          20948470,
          16873793,
          13412263,
          11477886,
          10209239,
          9708420,
          8422336,
          7548320,
          7084488,
          6429767,
          6417941,
          6307372,
          6289672,
          5490639,
          5177217,
          5118512,
          4920192,
          4838872,
          4772813,
          4681309,
          4661096,
          4620377,
          4533249,
          4233468,
          4143085,
          4100480,
          4084307,
          4018769,
          3945566,
          3267370,
          3110831,
          2588441,
          2459982,
          2359530,
          2094142,
          2024489,
          1904192,
          1843220,
          1780691,
          1779476,
          1761381,
          1746997,
          1663653,
          1572598,
          1462318,
          1393468,
          1292940,
          1264935,
          1258670,
          1249134,
          1231575,
          1215511,
          1181073,
          1145686,
          1123465,
          1111179,
          1108195,
          1072807,
          1027031,
          1003778,
          999712,
          994037,
          986866,
          985422,
          982864,
          929051,
          821162,
          816389,
          716059,
          680271,
          670763,
          658520,
          644016,
          622802,
          620548,
          601869,
          589388,
          585313,
          544687,
          515645,
          506991,
          493563,
          472336,
          456391,
          450448,
          442875,
          398668,
          397993,
          342775,
          338420,
          333531,
          332173,
          326308,
          288658,
          280002,
          270668,
          265382,
          257409,
          250449,
          244199,
          230219,
          226237,
          221618,
          215843,
          206083,
          205637,
          201785,
          199067,
          192801,
          185042,
          182597,
          169396,
          169253,
          169100,
          151829,
          137870,
          132498,
          121652,
          114652,
          103131,
          102546,
          93974,
          92852,
          91561,
          88373,
          88024,
          87208,
          81106,
          76599,
          74152,
          73390,
          71336,
          68826,
          68242,
          66676,
          63285,
          62812,
          62371,
          61730,
          57299,
          50129,
          48691,
          47141,
          46227,
          45127,
          44997,
          42914,
          40461,
          40243,
          39440,
          39034,
          38008,
          37652,
          37267,
          34658,
          34490,
          33733,
          32625,
          30661,
          29408,
          27638,
          27214,
          24837,
          23253,
          21631,
          21544,
          20763,
          20092,
          19713,
          19536,
          18491,
          18154,
          17823,
          17786,
          17012,
          16182,
          15925,
          15747,
          15690,
          15275,
          14913,
          14608,
          12508,
          11978,
          11971,
          11935,
          11930,
          11235,
          10863,
          10169,
          9931,
          9759,
          9098,
          8796,
          8471,
          7961,
          7751,
          7583,
          7305,
          7112,
          6541,
          6389,
          6380,
          6230,
          5460,
          5285,
          4611,
          3865,
          3430,
          3188,
          1886,
          1396,
          1355,
          793,
          761,
          712,
          80,
          29,
          20,
          10,
          9
         ],
         "xaxis": "x",
         "y": [
          1084282,
          528629,
          155078,
          686027,
          149948,
          28406,
          189919,
          177054,
          44678,
          387163,
          101139,
          114084,
          43148,
          14984,
          129897,
          22643,
          144421,
          330065,
          158093,
          11003,
          141794,
          117539,
          25024,
          109206,
          20738,
          33111,
          36369,
          74,
          32767,
          11698,
          61141,
          32659,
          44992,
          216539,
          41059,
          14183,
          102185,
          62916,
          67016,
          7065,
          20194,
          25355,
          17000,
          47503,
          29362,
          1617,
          20455,
          16900,
          2959,
          10153,
          14122,
          7905,
          30616,
          4098,
          13690,
          5981,
          16278,
          37714,
          9320,
          16902,
          10674,
          6820,
          29249,
          19789,
          8530,
          22234,
          8913,
          2345,
          35894,
          12018,
          7118,
          8497,
          7485,
          2179,
          5990,
          9910,
          9351,
          19583,
          1520,
          16761,
          2563,
          4384,
          19458,
          5403,
          2681,
          11844,
          1180,
          5814,
          24613,
          6437,
          7572,
          893,
          10993,
          682,
          8683,
          16136,
          4260,
          9534,
          5678,
          4017,
          3588,
          2789,
          1123,
          2781,
          6879,
          3155,
          5602,
          5226,
          1637,
          2221,
          225,
          1044,
          758,
          2991,
          213,
          4229,
          7799,
          989,
          308,
          4195,
          3628,
          4065,
          1459,
          3317,
          3056,
          1466,
          1935,
          806,
          1917,
          559,
          410,
          1442,
          202,
          1968,
          2682,
          826,
          1385,
          649,
          314,
          1422,
          1281,
          683,
          878,
          1410,
          4961,
          995,
          410,
          21,
          3163,
          38,
          306,
          169,
          155,
          282,
          668,
          227,
          1024,
          187,
          845,
          285,
          116,
          449,
          833,
          28,
          706,
          857,
          742,
          32,
          391,
          163,
          1352,
          386,
          138,
          387,
          153,
          118,
          108,
          86,
          237,
          225,
          148,
          138,
          125,
          183,
          12,
          29,
          74,
          189,
          17,
          113,
          63,
          372,
          63,
          21,
          2157,
          14,
          36,
          87,
          103,
          312,
          29,
          146,
          175,
          161,
          294,
          126,
          193,
          64,
          115,
          46,
          1,
          36,
          77,
          6,
          6,
          1,
          12,
          13,
          1,
          2179,
          8,
          2179,
          6,
          7,
          13,
          2179,
          2179,
          2179,
          1,
          2
         ],
         "yaxis": "y"
        }
       ],
       "layout": {
        "coloraxis": {
         "colorbar": {
          "title": {
           "text": "Total Deaths"
          }
         },
         "colorscale": [
          [
           0,
           "#440154"
          ],
          [
           0.1111111111111111,
           "#482878"
          ],
          [
           0.2222222222222222,
           "#3e4989"
          ],
          [
           0.3333333333333333,
           "#31688e"
          ],
          [
           0.4444444444444444,
           "#26828e"
          ],
          [
           0.5555555555555556,
           "#1f9e89"
          ],
          [
           0.6666666666666666,
           "#35b779"
          ],
          [
           0.7777777777777778,
           "#6ece58"
          ],
          [
           0.8888888888888888,
           "#b5de2b"
          ],
          [
           1,
           "#fde725"
          ]
         ]
        },
        "legend": {
         "tracegroupgap": 0
        },
        "template": {
         "data": {
          "bar": [
           {
            "error_x": {
             "color": "#2a3f5f"
            },
            "error_y": {
             "color": "#2a3f5f"
            },
            "marker": {
             "line": {
              "color": "#E5ECF6",
              "width": 0.5
             },
             "pattern": {
              "fillmode": "overlay",
              "size": 10,
              "solidity": 0.2
             }
            },
            "type": "bar"
           }
          ],
          "barpolar": [
           {
            "marker": {
             "line": {
              "color": "#E5ECF6",
              "width": 0.5
             },
             "pattern": {
              "fillmode": "overlay",
              "size": 10,
              "solidity": 0.2
             }
            },
            "type": "barpolar"
           }
          ],
          "carpet": [
           {
            "aaxis": {
             "endlinecolor": "#2a3f5f",
             "gridcolor": "white",
             "linecolor": "white",
             "minorgridcolor": "white",
             "startlinecolor": "#2a3f5f"
            },
            "baxis": {
             "endlinecolor": "#2a3f5f",
             "gridcolor": "white",
             "linecolor": "white",
             "minorgridcolor": "white",
             "startlinecolor": "#2a3f5f"
            },
            "type": "carpet"
           }
          ],
          "choropleth": [
           {
            "colorbar": {
             "outlinewidth": 0,
             "ticks": ""
            },
            "type": "choropleth"
           }
          ],
          "contour": [
           {
            "colorbar": {
             "outlinewidth": 0,
             "ticks": ""
            },
            "colorscale": [
             [
              0,
              "#0d0887"
             ],
             [
              0.1111111111111111,
              "#46039f"
             ],
             [
              0.2222222222222222,
              "#7201a8"
             ],
             [
              0.3333333333333333,
              "#9c179e"
             ],
             [
              0.4444444444444444,
              "#bd3786"
             ],
             [
              0.5555555555555556,
              "#d8576b"
             ],
             [
              0.6666666666666666,
              "#ed7953"
             ],
             [
              0.7777777777777778,
              "#fb9f3a"
             ],
             [
              0.8888888888888888,
              "#fdca26"
             ],
             [
              1,
              "#f0f921"
             ]
            ],
            "type": "contour"
           }
          ],
          "contourcarpet": [
           {
            "colorbar": {
             "outlinewidth": 0,
             "ticks": ""
            },
            "type": "contourcarpet"
           }
          ],
          "heatmap": [
           {
            "colorbar": {
             "outlinewidth": 0,
             "ticks": ""
            },
            "colorscale": [
             [
              0,
              "#0d0887"
             ],
             [
              0.1111111111111111,
              "#46039f"
             ],
             [
              0.2222222222222222,
              "#7201a8"
             ],
             [
              0.3333333333333333,
              "#9c179e"
             ],
             [
              0.4444444444444444,
              "#bd3786"
             ],
             [
              0.5555555555555556,
              "#d8576b"
             ],
             [
              0.6666666666666666,
              "#ed7953"
             ],
             [
              0.7777777777777778,
              "#fb9f3a"
             ],
             [
              0.8888888888888888,
              "#fdca26"
             ],
             [
              1,
              "#f0f921"
             ]
            ],
            "type": "heatmap"
           }
          ],
          "heatmapgl": [
           {
            "colorbar": {
             "outlinewidth": 0,
             "ticks": ""
            },
            "colorscale": [
             [
              0,
              "#0d0887"
             ],
             [
              0.1111111111111111,
              "#46039f"
             ],
             [
              0.2222222222222222,
              "#7201a8"
             ],
             [
              0.3333333333333333,
              "#9c179e"
             ],
             [
              0.4444444444444444,
              "#bd3786"
             ],
             [
              0.5555555555555556,
              "#d8576b"
             ],
             [
              0.6666666666666666,
              "#ed7953"
             ],
             [
              0.7777777777777778,
              "#fb9f3a"
             ],
             [
              0.8888888888888888,
              "#fdca26"
             ],
             [
              1,
              "#f0f921"
             ]
            ],
            "type": "heatmapgl"
           }
          ],
          "histogram": [
           {
            "marker": {
             "pattern": {
              "fillmode": "overlay",
              "size": 10,
              "solidity": 0.2
             }
            },
            "type": "histogram"
           }
          ],
          "histogram2d": [
           {
            "colorbar": {
             "outlinewidth": 0,
             "ticks": ""
            },
            "colorscale": [
             [
              0,
              "#0d0887"
             ],
             [
              0.1111111111111111,
              "#46039f"
             ],
             [
              0.2222222222222222,
              "#7201a8"
             ],
             [
              0.3333333333333333,
              "#9c179e"
             ],
             [
              0.4444444444444444,
              "#bd3786"
             ],
             [
              0.5555555555555556,
              "#d8576b"
             ],
             [
              0.6666666666666666,
              "#ed7953"
             ],
             [
              0.7777777777777778,
              "#fb9f3a"
             ],
             [
              0.8888888888888888,
              "#fdca26"
             ],
             [
              1,
              "#f0f921"
             ]
            ],
            "type": "histogram2d"
           }
          ],
          "histogram2dcontour": [
           {
            "colorbar": {
             "outlinewidth": 0,
             "ticks": ""
            },
            "colorscale": [
             [
              0,
              "#0d0887"
             ],
             [
              0.1111111111111111,
              "#46039f"
             ],
             [
              0.2222222222222222,
              "#7201a8"
             ],
             [
              0.3333333333333333,
              "#9c179e"
             ],
             [
              0.4444444444444444,
              "#bd3786"
             ],
             [
              0.5555555555555556,
              "#d8576b"
             ],
             [
              0.6666666666666666,
              "#ed7953"
             ],
             [
              0.7777777777777778,
              "#fb9f3a"
             ],
             [
              0.8888888888888888,
              "#fdca26"
             ],
             [
              1,
              "#f0f921"
             ]
            ],
            "type": "histogram2dcontour"
           }
          ],
          "mesh3d": [
           {
            "colorbar": {
             "outlinewidth": 0,
             "ticks": ""
            },
            "type": "mesh3d"
           }
          ],
          "parcoords": [
           {
            "line": {
             "colorbar": {
              "outlinewidth": 0,
              "ticks": ""
             }
            },
            "type": "parcoords"
           }
          ],
          "pie": [
           {
            "automargin": true,
            "type": "pie"
           }
          ],
          "scatter": [
           {
            "fillpattern": {
             "fillmode": "overlay",
             "size": 10,
             "solidity": 0.2
            },
            "type": "scatter"
           }
          ],
          "scatter3d": [
           {
            "line": {
             "colorbar": {
              "outlinewidth": 0,
              "ticks": ""
             }
            },
            "marker": {
             "colorbar": {
              "outlinewidth": 0,
              "ticks": ""
             }
            },
            "type": "scatter3d"
           }
          ],
          "scattercarpet": [
           {
            "marker": {
             "colorbar": {
              "outlinewidth": 0,
              "ticks": ""
             }
            },
            "type": "scattercarpet"
           }
          ],
          "scattergeo": [
           {
            "marker": {
             "colorbar": {
              "outlinewidth": 0,
              "ticks": ""
             }
            },
            "type": "scattergeo"
           }
          ],
          "scattergl": [
           {
            "marker": {
             "colorbar": {
              "outlinewidth": 0,
              "ticks": ""
             }
            },
            "type": "scattergl"
           }
          ],
          "scattermapbox": [
           {
            "marker": {
             "colorbar": {
              "outlinewidth": 0,
              "ticks": ""
             }
            },
            "type": "scattermapbox"
           }
          ],
          "scatterpolar": [
           {
            "marker": {
             "colorbar": {
              "outlinewidth": 0,
              "ticks": ""
             }
            },
            "type": "scatterpolar"
           }
          ],
          "scatterpolargl": [
           {
            "marker": {
             "colorbar": {
              "outlinewidth": 0,
              "ticks": ""
             }
            },
            "type": "scatterpolargl"
           }
          ],
          "scatterternary": [
           {
            "marker": {
             "colorbar": {
              "outlinewidth": 0,
              "ticks": ""
             }
            },
            "type": "scatterternary"
           }
          ],
          "surface": [
           {
            "colorbar": {
             "outlinewidth": 0,
             "ticks": ""
            },
            "colorscale": [
             [
              0,
              "#0d0887"
             ],
             [
              0.1111111111111111,
              "#46039f"
             ],
             [
              0.2222222222222222,
              "#7201a8"
             ],
             [
              0.3333333333333333,
              "#9c179e"
             ],
             [
              0.4444444444444444,
              "#bd3786"
             ],
             [
              0.5555555555555556,
              "#d8576b"
             ],
             [
              0.6666666666666666,
              "#ed7953"
             ],
             [
              0.7777777777777778,
              "#fb9f3a"
             ],
             [
              0.8888888888888888,
              "#fdca26"
             ],
             [
              1,
              "#f0f921"
             ]
            ],
            "type": "surface"
           }
          ],
          "table": [
           {
            "cells": {
             "fill": {
              "color": "#EBF0F8"
             },
             "line": {
              "color": "white"
             }
            },
            "header": {
             "fill": {
              "color": "#C8D4E3"
             },
             "line": {
              "color": "white"
             }
            },
            "type": "table"
           }
          ]
         },
         "layout": {
          "annotationdefaults": {
           "arrowcolor": "#2a3f5f",
           "arrowhead": 0,
           "arrowwidth": 1
          },
          "autotypenumbers": "strict",
          "coloraxis": {
           "colorbar": {
            "outlinewidth": 0,
            "ticks": ""
           }
          },
          "colorscale": {
           "diverging": [
            [
             0,
             "#8e0152"
            ],
            [
             0.1,
             "#c51b7d"
            ],
            [
             0.2,
             "#de77ae"
            ],
            [
             0.3,
             "#f1b6da"
            ],
            [
             0.4,
             "#fde0ef"
            ],
            [
             0.5,
             "#f7f7f7"
            ],
            [
             0.6,
             "#e6f5d0"
            ],
            [
             0.7,
             "#b8e186"
            ],
            [
             0.8,
             "#7fbc41"
            ],
            [
             0.9,
             "#4d9221"
            ],
            [
             1,
             "#276419"
            ]
           ],
           "sequential": [
            [
             0,
             "#0d0887"
            ],
            [
             0.1111111111111111,
             "#46039f"
            ],
            [
             0.2222222222222222,
             "#7201a8"
            ],
            [
             0.3333333333333333,
             "#9c179e"
            ],
            [
             0.4444444444444444,
             "#bd3786"
            ],
            [
             0.5555555555555556,
             "#d8576b"
            ],
            [
             0.6666666666666666,
             "#ed7953"
            ],
            [
             0.7777777777777778,
             "#fb9f3a"
            ],
            [
             0.8888888888888888,
             "#fdca26"
            ],
            [
             1,
             "#f0f921"
            ]
           ],
           "sequentialminus": [
            [
             0,
             "#0d0887"
            ],
            [
             0.1111111111111111,
             "#46039f"
            ],
            [
             0.2222222222222222,
             "#7201a8"
            ],
            [
             0.3333333333333333,
             "#9c179e"
            ],
            [
             0.4444444444444444,
             "#bd3786"
            ],
            [
             0.5555555555555556,
             "#d8576b"
            ],
            [
             0.6666666666666666,
             "#ed7953"
            ],
            [
             0.7777777777777778,
             "#fb9f3a"
            ],
            [
             0.8888888888888888,
             "#fdca26"
            ],
            [
             1,
             "#f0f921"
            ]
           ]
          },
          "colorway": [
           "#636efa",
           "#EF553B",
           "#00cc96",
           "#ab63fa",
           "#FFA15A",
           "#19d3f3",
           "#FF6692",
           "#B6E880",
           "#FF97FF",
           "#FECB52"
          ],
          "font": {
           "color": "#2a3f5f"
          },
          "geo": {
           "bgcolor": "white",
           "lakecolor": "white",
           "landcolor": "#E5ECF6",
           "showlakes": true,
           "showland": true,
           "subunitcolor": "white"
          },
          "hoverlabel": {
           "align": "left"
          },
          "hovermode": "closest",
          "mapbox": {
           "style": "light"
          },
          "paper_bgcolor": "white",
          "plot_bgcolor": "#E5ECF6",
          "polar": {
           "angularaxis": {
            "gridcolor": "white",
            "linecolor": "white",
            "ticks": ""
           },
           "bgcolor": "#E5ECF6",
           "radialaxis": {
            "gridcolor": "white",
            "linecolor": "white",
            "ticks": ""
           }
          },
          "scene": {
           "xaxis": {
            "backgroundcolor": "#E5ECF6",
            "gridcolor": "white",
            "gridwidth": 2,
            "linecolor": "white",
            "showbackground": true,
            "ticks": "",
            "zerolinecolor": "white"
           },
           "yaxis": {
            "backgroundcolor": "#E5ECF6",
            "gridcolor": "white",
            "gridwidth": 2,
            "linecolor": "white",
            "showbackground": true,
            "ticks": "",
            "zerolinecolor": "white"
           },
           "zaxis": {
            "backgroundcolor": "#E5ECF6",
            "gridcolor": "white",
            "gridwidth": 2,
            "linecolor": "white",
            "showbackground": true,
            "ticks": "",
            "zerolinecolor": "white"
           }
          },
          "shapedefaults": {
           "line": {
            "color": "#2a3f5f"
           }
          },
          "ternary": {
           "aaxis": {
            "gridcolor": "white",
            "linecolor": "white",
            "ticks": ""
           },
           "baxis": {
            "gridcolor": "white",
            "linecolor": "white",
            "ticks": ""
           },
           "bgcolor": "#E5ECF6",
           "caxis": {
            "gridcolor": "white",
            "linecolor": "white",
            "ticks": ""
           }
          },
          "title": {
           "x": 0.05
          },
          "xaxis": {
           "automargin": true,
           "gridcolor": "white",
           "linecolor": "white",
           "ticks": "",
           "title": {
            "standoff": 15
           },
           "zerolinecolor": "white",
           "zerolinewidth": 2
          },
          "yaxis": {
           "automargin": true,
           "gridcolor": "white",
           "linecolor": "white",
           "ticks": "",
           "title": {
            "standoff": 15
           },
           "zerolinecolor": "white",
           "zerolinewidth": 2
          }
         }
        },
        "title": {
         "text": "Total Cases vs Total Deaths"
        },
        "xaxis": {
         "anchor": "y",
         "domain": [
          0,
          1
         ],
         "title": {
          "text": "Total Cases"
         }
        },
        "yaxis": {
         "anchor": "x",
         "domain": [
          0,
          1
         ],
         "title": {
          "text": "Total Deaths"
         }
        }
       }
      },
      "text/html": [
       "<div>                            <div id=\"4eaef711-5a9d-4b50-bd45-a29dc90c0c16\" class=\"plotly-graph-div\" style=\"height:525px; width:100%;\"></div>            <script type=\"text/javascript\">                require([\"plotly\"], function(Plotly) {                    window.PLOTLYENV=window.PLOTLYENV || {};                                    if (document.getElementById(\"4eaef711-5a9d-4b50-bd45-a29dc90c0c16\")) {                    Plotly.newPlot(                        \"4eaef711-5a9d-4b50-bd45-a29dc90c0c16\",                        [{\"hovertemplate\":\"Total Cases=%{x}\\u003cbr\\u003eTotal Deaths=%{marker.color}\\u003cextra\\u003e\\u003c\\u002fextra\\u003e\",\"legendgroup\":\"\",\"marker\":{\"color\":[1084282.0,528629.0,155078.0,686027.0,149948.0,28406.0,189919.0,177054.0,44678.0,387163.0,101139.0,114084.0,43148.0,14984.0,129897.0,22643.0,144421.0,330065.0,158093.0,11003.0,141794.0,117539.0,25024.0,109206.0,20738.0,33111.0,36369.0,74.0,32767.0,11698.0,61141.0,32659.0,44992.0,216539.0,41059.0,14183.0,102185.0,62916.0,67016.0,7065.0,20194.0,25355.0,17000.0,47503.0,29362.0,1617.0,20455.0,16900.0,2959.0,10153.0,14122.0,7905.0,30616.0,4098.0,13690.0,5981.0,16278.0,37714.0,9320.0,16902.0,10674.0,6820.0,29249.0,19789.0,8530.0,22234.0,8913.0,2345.0,35894.0,12018.0,7118.0,8497.0,7485.0,2179.0,5990.0,9910.0,9351.0,19583.0,1520.0,16761.0,2563.0,4384.0,19458.0,5403.0,2681.0,11844.0,1180.0,5814.0,24613.0,6437.0,7572.0,893.0,10993.0,682.0,8683.0,16136.0,4260.0,9534.0,5678.0,4017.0,3588.0,2789.0,1123.0,2781.0,6879.0,3155.0,5602.0,5226.0,1637.0,2221.0,225.0,1044.0,758.0,2991.0,213.0,4229.0,7799.0,989.0,308.0,4195.0,3628.0,4065.0,1459.0,3317.0,3056.0,1466.0,1935.0,806.0,1917.0,559.0,410.0,1442.0,202.0,1968.0,2682.0,826.0,1385.0,649.0,314.0,1422.0,1281.0,683.0,878.0,1410.0,4961.0,995.0,410.0,21.0,3163.0,38.0,306.0,169.0,155.0,282.0,668.0,227.0,1024.0,187.0,845.0,285.0,116.0,449.0,833.0,28.0,706.0,857.0,742.0,32.0,391.0,163.0,1352.0,386.0,138.0,387.0,153.0,118.0,108.0,86.0,237.0,225.0,148.0,138.0,125.0,183.0,12.0,29.0,74.0,189.0,17.0,113.0,63.0,372.0,63.0,21.0,2157.0,14.0,36.0,87.0,103.0,312.0,29.0,146.0,175.0,161.0,294.0,126.0,193.0,64.0,115.0,46.0,1.0,36.0,77.0,6.0,6.0,1.0,12.0,13.0,1.0,2179.0,8.0,2179.0,6.0,7.0,13.0,2179.0,2179.0,2179.0,1.0,2.0],\"coloraxis\":\"coloraxis\",\"symbol\":\"circle\"},\"mode\":\"markers\",\"name\":\"\",\"orientation\":\"v\",\"showlegend\":false,\"x\":[98166904.0,44587307.0,35342950.0,34706757.0,33312373.0,24769101.0,23621952.0,22432803.0,21229216.0,20948470.0,16873793.0,13412263.0,11477886.0,10209239.0,9708420.0,8422336.0,7548320.0,7084488.0,6429767.0,6417941.0,6307372.0,6289672.0,5490639.0,5177217.0,5118512.0,4920192.0,4838872.0,4772813.0,4681309.0,4661096.0,4620377.0,4533249.0,4233468.0,4143085.0,4100480.0,4084307.0,4018769.0,3945566.0,3267370.0,3110831.0,2588441.0,2459982.0,2359530.0,2094142.0,2024489.0,1904192.0,1843220.0,1780691.0,1779476.0,1761381.0,1746997.0,1663653.0,1572598.0,1462318.0,1393468.0,1292940.0,1264935.0,1258670.0,1249134.0,1231575.0,1215511.0,1181073.0,1145686.0,1123465.0,1111179.0,1108195.0,1072807.0,1027031.0,1003778.0,999712.0,994037.0,986866.0,985422.0,982864.0,929051.0,821162.0,816389.0,716059.0,680271.0,670763.0,658520.0,644016.0,622802.0,620548.0,601869.0,589388.0,585313.0,544687.0,515645.0,506991.0,493563.0,472336.0,456391.0,450448.0,442875.0,398668.0,397993.0,342775.0,338420.0,333531.0,332173.0,326308.0,288658.0,280002.0,270668.0,265382.0,257409.0,250449.0,244199.0,230219.0,226237.0,221618.0,215843.0,206083.0,205637.0,201785.0,199067.0,192801.0,185042.0,182597.0,169396.0,169253.0,169100.0,151829.0,137870.0,132498.0,121652.0,114652.0,103131.0,102546.0,93974.0,92852.0,91561.0,88373.0,88024.0,87208.0,81106.0,76599.0,74152.0,73390.0,71336.0,68826.0,68242.0,66676.0,63285.0,62812.0,62371.0,61730.0,57299.0,50129.0,48691.0,47141.0,46227.0,45127.0,44997.0,42914.0,40461.0,40243.0,39440.0,39034.0,38008.0,37652.0,37267.0,34658.0,34490.0,33733.0,32625.0,30661.0,29408.0,27638.0,27214.0,24837.0,23253.0,21631.0,21544.0,20763.0,20092.0,19713.0,19536.0,18491.0,18154.0,17823.0,17786.0,17012.0,16182.0,15925.0,15747.0,15690.0,15275.0,14913.0,14608.0,12508.0,11978.0,11971.0,11935.0,11930.0,11235.0,10863.0,10169.0,9931.0,9759.0,9098.0,8796.0,8471.0,7961.0,7751.0,7583.0,7305.0,7112.0,6541.0,6389.0,6380.0,6230.0,5460.0,5285.0,4611.0,3865.0,3430.0,3188.0,1886.0,1396.0,1355.0,793.0,761.0,712.0,80.0,29.0,20.0,10.0,9.0],\"xaxis\":\"x\",\"y\":[1084282.0,528629.0,155078.0,686027.0,149948.0,28406.0,189919.0,177054.0,44678.0,387163.0,101139.0,114084.0,43148.0,14984.0,129897.0,22643.0,144421.0,330065.0,158093.0,11003.0,141794.0,117539.0,25024.0,109206.0,20738.0,33111.0,36369.0,74.0,32767.0,11698.0,61141.0,32659.0,44992.0,216539.0,41059.0,14183.0,102185.0,62916.0,67016.0,7065.0,20194.0,25355.0,17000.0,47503.0,29362.0,1617.0,20455.0,16900.0,2959.0,10153.0,14122.0,7905.0,30616.0,4098.0,13690.0,5981.0,16278.0,37714.0,9320.0,16902.0,10674.0,6820.0,29249.0,19789.0,8530.0,22234.0,8913.0,2345.0,35894.0,12018.0,7118.0,8497.0,7485.0,2179.0,5990.0,9910.0,9351.0,19583.0,1520.0,16761.0,2563.0,4384.0,19458.0,5403.0,2681.0,11844.0,1180.0,5814.0,24613.0,6437.0,7572.0,893.0,10993.0,682.0,8683.0,16136.0,4260.0,9534.0,5678.0,4017.0,3588.0,2789.0,1123.0,2781.0,6879.0,3155.0,5602.0,5226.0,1637.0,2221.0,225.0,1044.0,758.0,2991.0,213.0,4229.0,7799.0,989.0,308.0,4195.0,3628.0,4065.0,1459.0,3317.0,3056.0,1466.0,1935.0,806.0,1917.0,559.0,410.0,1442.0,202.0,1968.0,2682.0,826.0,1385.0,649.0,314.0,1422.0,1281.0,683.0,878.0,1410.0,4961.0,995.0,410.0,21.0,3163.0,38.0,306.0,169.0,155.0,282.0,668.0,227.0,1024.0,187.0,845.0,285.0,116.0,449.0,833.0,28.0,706.0,857.0,742.0,32.0,391.0,163.0,1352.0,386.0,138.0,387.0,153.0,118.0,108.0,86.0,237.0,225.0,148.0,138.0,125.0,183.0,12.0,29.0,74.0,189.0,17.0,113.0,63.0,372.0,63.0,21.0,2157.0,14.0,36.0,87.0,103.0,312.0,29.0,146.0,175.0,161.0,294.0,126.0,193.0,64.0,115.0,46.0,1.0,36.0,77.0,6.0,6.0,1.0,12.0,13.0,1.0,2179.0,8.0,2179.0,6.0,7.0,13.0,2179.0,2179.0,2179.0,1.0,2.0],\"yaxis\":\"y\",\"type\":\"scatter\"}],                        {\"template\":{\"data\":{\"histogram2dcontour\":[{\"type\":\"histogram2dcontour\",\"colorbar\":{\"outlinewidth\":0,\"ticks\":\"\"},\"colorscale\":[[0.0,\"#0d0887\"],[0.1111111111111111,\"#46039f\"],[0.2222222222222222,\"#7201a8\"],[0.3333333333333333,\"#9c179e\"],[0.4444444444444444,\"#bd3786\"],[0.5555555555555556,\"#d8576b\"],[0.6666666666666666,\"#ed7953\"],[0.7777777777777778,\"#fb9f3a\"],[0.8888888888888888,\"#fdca26\"],[1.0,\"#f0f921\"]]}],\"choropleth\":[{\"type\":\"choropleth\",\"colorbar\":{\"outlinewidth\":0,\"ticks\":\"\"}}],\"histogram2d\":[{\"type\":\"histogram2d\",\"colorbar\":{\"outlinewidth\":0,\"ticks\":\"\"},\"colorscale\":[[0.0,\"#0d0887\"],[0.1111111111111111,\"#46039f\"],[0.2222222222222222,\"#7201a8\"],[0.3333333333333333,\"#9c179e\"],[0.4444444444444444,\"#bd3786\"],[0.5555555555555556,\"#d8576b\"],[0.6666666666666666,\"#ed7953\"],[0.7777777777777778,\"#fb9f3a\"],[0.8888888888888888,\"#fdca26\"],[1.0,\"#f0f921\"]]}],\"heatmap\":[{\"type\":\"heatmap\",\"colorbar\":{\"outlinewidth\":0,\"ticks\":\"\"},\"colorscale\":[[0.0,\"#0d0887\"],[0.1111111111111111,\"#46039f\"],[0.2222222222222222,\"#7201a8\"],[0.3333333333333333,\"#9c179e\"],[0.4444444444444444,\"#bd3786\"],[0.5555555555555556,\"#d8576b\"],[0.6666666666666666,\"#ed7953\"],[0.7777777777777778,\"#fb9f3a\"],[0.8888888888888888,\"#fdca26\"],[1.0,\"#f0f921\"]]}],\"heatmapgl\":[{\"type\":\"heatmapgl\",\"colorbar\":{\"outlinewidth\":0,\"ticks\":\"\"},\"colorscale\":[[0.0,\"#0d0887\"],[0.1111111111111111,\"#46039f\"],[0.2222222222222222,\"#7201a8\"],[0.3333333333333333,\"#9c179e\"],[0.4444444444444444,\"#bd3786\"],[0.5555555555555556,\"#d8576b\"],[0.6666666666666666,\"#ed7953\"],[0.7777777777777778,\"#fb9f3a\"],[0.8888888888888888,\"#fdca26\"],[1.0,\"#f0f921\"]]}],\"contourcarpet\":[{\"type\":\"contourcarpet\",\"colorbar\":{\"outlinewidth\":0,\"ticks\":\"\"}}],\"contour\":[{\"type\":\"contour\",\"colorbar\":{\"outlinewidth\":0,\"ticks\":\"\"},\"colorscale\":[[0.0,\"#0d0887\"],[0.1111111111111111,\"#46039f\"],[0.2222222222222222,\"#7201a8\"],[0.3333333333333333,\"#9c179e\"],[0.4444444444444444,\"#bd3786\"],[0.5555555555555556,\"#d8576b\"],[0.6666666666666666,\"#ed7953\"],[0.7777777777777778,\"#fb9f3a\"],[0.8888888888888888,\"#fdca26\"],[1.0,\"#f0f921\"]]}],\"surface\":[{\"type\":\"surface\",\"colorbar\":{\"outlinewidth\":0,\"ticks\":\"\"},\"colorscale\":[[0.0,\"#0d0887\"],[0.1111111111111111,\"#46039f\"],[0.2222222222222222,\"#7201a8\"],[0.3333333333333333,\"#9c179e\"],[0.4444444444444444,\"#bd3786\"],[0.5555555555555556,\"#d8576b\"],[0.6666666666666666,\"#ed7953\"],[0.7777777777777778,\"#fb9f3a\"],[0.8888888888888888,\"#fdca26\"],[1.0,\"#f0f921\"]]}],\"mesh3d\":[{\"type\":\"mesh3d\",\"colorbar\":{\"outlinewidth\":0,\"ticks\":\"\"}}],\"scatter\":[{\"fillpattern\":{\"fillmode\":\"overlay\",\"size\":10,\"solidity\":0.2},\"type\":\"scatter\"}],\"parcoords\":[{\"type\":\"parcoords\",\"line\":{\"colorbar\":{\"outlinewidth\":0,\"ticks\":\"\"}}}],\"scatterpolargl\":[{\"type\":\"scatterpolargl\",\"marker\":{\"colorbar\":{\"outlinewidth\":0,\"ticks\":\"\"}}}],\"bar\":[{\"error_x\":{\"color\":\"#2a3f5f\"},\"error_y\":{\"color\":\"#2a3f5f\"},\"marker\":{\"line\":{\"color\":\"#E5ECF6\",\"width\":0.5},\"pattern\":{\"fillmode\":\"overlay\",\"size\":10,\"solidity\":0.2}},\"type\":\"bar\"}],\"scattergeo\":[{\"type\":\"scattergeo\",\"marker\":{\"colorbar\":{\"outlinewidth\":0,\"ticks\":\"\"}}}],\"scatterpolar\":[{\"type\":\"scatterpolar\",\"marker\":{\"colorbar\":{\"outlinewidth\":0,\"ticks\":\"\"}}}],\"histogram\":[{\"marker\":{\"pattern\":{\"fillmode\":\"overlay\",\"size\":10,\"solidity\":0.2}},\"type\":\"histogram\"}],\"scattergl\":[{\"type\":\"scattergl\",\"marker\":{\"colorbar\":{\"outlinewidth\":0,\"ticks\":\"\"}}}],\"scatter3d\":[{\"type\":\"scatter3d\",\"line\":{\"colorbar\":{\"outlinewidth\":0,\"ticks\":\"\"}},\"marker\":{\"colorbar\":{\"outlinewidth\":0,\"ticks\":\"\"}}}],\"scattermapbox\":[{\"type\":\"scattermapbox\",\"marker\":{\"colorbar\":{\"outlinewidth\":0,\"ticks\":\"\"}}}],\"scatterternary\":[{\"type\":\"scatterternary\",\"marker\":{\"colorbar\":{\"outlinewidth\":0,\"ticks\":\"\"}}}],\"scattercarpet\":[{\"type\":\"scattercarpet\",\"marker\":{\"colorbar\":{\"outlinewidth\":0,\"ticks\":\"\"}}}],\"carpet\":[{\"aaxis\":{\"endlinecolor\":\"#2a3f5f\",\"gridcolor\":\"white\",\"linecolor\":\"white\",\"minorgridcolor\":\"white\",\"startlinecolor\":\"#2a3f5f\"},\"baxis\":{\"endlinecolor\":\"#2a3f5f\",\"gridcolor\":\"white\",\"linecolor\":\"white\",\"minorgridcolor\":\"white\",\"startlinecolor\":\"#2a3f5f\"},\"type\":\"carpet\"}],\"table\":[{\"cells\":{\"fill\":{\"color\":\"#EBF0F8\"},\"line\":{\"color\":\"white\"}},\"header\":{\"fill\":{\"color\":\"#C8D4E3\"},\"line\":{\"color\":\"white\"}},\"type\":\"table\"}],\"barpolar\":[{\"marker\":{\"line\":{\"color\":\"#E5ECF6\",\"width\":0.5},\"pattern\":{\"fillmode\":\"overlay\",\"size\":10,\"solidity\":0.2}},\"type\":\"barpolar\"}],\"pie\":[{\"automargin\":true,\"type\":\"pie\"}]},\"layout\":{\"autotypenumbers\":\"strict\",\"colorway\":[\"#636efa\",\"#EF553B\",\"#00cc96\",\"#ab63fa\",\"#FFA15A\",\"#19d3f3\",\"#FF6692\",\"#B6E880\",\"#FF97FF\",\"#FECB52\"],\"font\":{\"color\":\"#2a3f5f\"},\"hovermode\":\"closest\",\"hoverlabel\":{\"align\":\"left\"},\"paper_bgcolor\":\"white\",\"plot_bgcolor\":\"#E5ECF6\",\"polar\":{\"bgcolor\":\"#E5ECF6\",\"angularaxis\":{\"gridcolor\":\"white\",\"linecolor\":\"white\",\"ticks\":\"\"},\"radialaxis\":{\"gridcolor\":\"white\",\"linecolor\":\"white\",\"ticks\":\"\"}},\"ternary\":{\"bgcolor\":\"#E5ECF6\",\"aaxis\":{\"gridcolor\":\"white\",\"linecolor\":\"white\",\"ticks\":\"\"},\"baxis\":{\"gridcolor\":\"white\",\"linecolor\":\"white\",\"ticks\":\"\"},\"caxis\":{\"gridcolor\":\"white\",\"linecolor\":\"white\",\"ticks\":\"\"}},\"coloraxis\":{\"colorbar\":{\"outlinewidth\":0,\"ticks\":\"\"}},\"colorscale\":{\"sequential\":[[0.0,\"#0d0887\"],[0.1111111111111111,\"#46039f\"],[0.2222222222222222,\"#7201a8\"],[0.3333333333333333,\"#9c179e\"],[0.4444444444444444,\"#bd3786\"],[0.5555555555555556,\"#d8576b\"],[0.6666666666666666,\"#ed7953\"],[0.7777777777777778,\"#fb9f3a\"],[0.8888888888888888,\"#fdca26\"],[1.0,\"#f0f921\"]],\"sequentialminus\":[[0.0,\"#0d0887\"],[0.1111111111111111,\"#46039f\"],[0.2222222222222222,\"#7201a8\"],[0.3333333333333333,\"#9c179e\"],[0.4444444444444444,\"#bd3786\"],[0.5555555555555556,\"#d8576b\"],[0.6666666666666666,\"#ed7953\"],[0.7777777777777778,\"#fb9f3a\"],[0.8888888888888888,\"#fdca26\"],[1.0,\"#f0f921\"]],\"diverging\":[[0,\"#8e0152\"],[0.1,\"#c51b7d\"],[0.2,\"#de77ae\"],[0.3,\"#f1b6da\"],[0.4,\"#fde0ef\"],[0.5,\"#f7f7f7\"],[0.6,\"#e6f5d0\"],[0.7,\"#b8e186\"],[0.8,\"#7fbc41\"],[0.9,\"#4d9221\"],[1,\"#276419\"]]},\"xaxis\":{\"gridcolor\":\"white\",\"linecolor\":\"white\",\"ticks\":\"\",\"title\":{\"standoff\":15},\"zerolinecolor\":\"white\",\"automargin\":true,\"zerolinewidth\":2},\"yaxis\":{\"gridcolor\":\"white\",\"linecolor\":\"white\",\"ticks\":\"\",\"title\":{\"standoff\":15},\"zerolinecolor\":\"white\",\"automargin\":true,\"zerolinewidth\":2},\"scene\":{\"xaxis\":{\"backgroundcolor\":\"#E5ECF6\",\"gridcolor\":\"white\",\"linecolor\":\"white\",\"showbackground\":true,\"ticks\":\"\",\"zerolinecolor\":\"white\",\"gridwidth\":2},\"yaxis\":{\"backgroundcolor\":\"#E5ECF6\",\"gridcolor\":\"white\",\"linecolor\":\"white\",\"showbackground\":true,\"ticks\":\"\",\"zerolinecolor\":\"white\",\"gridwidth\":2},\"zaxis\":{\"backgroundcolor\":\"#E5ECF6\",\"gridcolor\":\"white\",\"linecolor\":\"white\",\"showbackground\":true,\"ticks\":\"\",\"zerolinecolor\":\"white\",\"gridwidth\":2}},\"shapedefaults\":{\"line\":{\"color\":\"#2a3f5f\"}},\"annotationdefaults\":{\"arrowcolor\":\"#2a3f5f\",\"arrowhead\":0,\"arrowwidth\":1},\"geo\":{\"bgcolor\":\"white\",\"landcolor\":\"#E5ECF6\",\"subunitcolor\":\"white\",\"showland\":true,\"showlakes\":true,\"lakecolor\":\"white\"},\"title\":{\"x\":0.05},\"mapbox\":{\"style\":\"light\"}}},\"xaxis\":{\"anchor\":\"y\",\"domain\":[0.0,1.0],\"title\":{\"text\":\"Total Cases\"}},\"yaxis\":{\"anchor\":\"x\",\"domain\":[0.0,1.0],\"title\":{\"text\":\"Total Deaths\"}},\"coloraxis\":{\"colorbar\":{\"title\":{\"text\":\"Total Deaths\"}},\"colorscale\":[[0.0,\"#440154\"],[0.1111111111111111,\"#482878\"],[0.2222222222222222,\"#3e4989\"],[0.3333333333333333,\"#31688e\"],[0.4444444444444444,\"#26828e\"],[0.5555555555555556,\"#1f9e89\"],[0.6666666666666666,\"#35b779\"],[0.7777777777777778,\"#6ece58\"],[0.8888888888888888,\"#b5de2b\"],[1.0,\"#fde725\"]]},\"legend\":{\"tracegroupgap\":0},\"title\":{\"text\":\"Total Cases vs Total Deaths\"}},                        {\"responsive\": true}                    ).then(function(){\n",
       "                            \n",
       "var gd = document.getElementById('4eaef711-5a9d-4b50-bd45-a29dc90c0c16');\n",
       "var x = new MutationObserver(function (mutations, observer) {{\n",
       "        var display = window.getComputedStyle(gd).display;\n",
       "        if (!display || display === 'none') {{\n",
       "            console.log([gd, 'removed!']);\n",
       "            Plotly.purge(gd);\n",
       "            observer.disconnect();\n",
       "        }}\n",
       "}});\n",
       "\n",
       "// Listen for the removal of the full notebook cells\n",
       "var notebookContainer = gd.closest('#notebook-container');\n",
       "if (notebookContainer) {{\n",
       "    x.observe(notebookContainer, {childList: true});\n",
       "}}\n",
       "\n",
       "// Listen for the clearing of the current output cell\n",
       "var outputEl = gd.closest('.output');\n",
       "if (outputEl) {{\n",
       "    x.observe(outputEl, {childList: true});\n",
       "}}\n",
       "\n",
       "                        })                };                });            </script>        </div>"
      ]
     },
     "metadata": {},
     "output_type": "display_data"
    }
   ],
   "source": [
    "fig = px.scatter(df, x='Total Cases', y='Total Deaths', title=\"Total Cases vs Total Deaths\", color_continuous_scale='Viridis', color='Total Deaths')\n",
    "fig.show()"
   ]
  },
  {
   "cell_type": "markdown",
   "id": "83bd9bf8-ec68-47e8-8cea-b6d94ef158b8",
   "metadata": {},
   "source": [
    "# Total Cases VS Active Cases"
   ]
  },
  {
   "cell_type": "code",
   "execution_count": 24,
   "id": "7cd8dcba-ae44-4b71-a754-3c6b4e4e9d21",
   "metadata": {},
   "outputs": [
    {
     "data": {
      "application/vnd.plotly.v1+json": {
       "config": {
        "plotlyServerURL": "https://plot.ly"
       },
       "data": [
        {
         "hovertemplate": "Total Cases=%{x}<br>Active Cases=%{marker.color}<extra></extra>",
         "legendgroup": "",
         "marker": {
          "color": [
           2120510,
           39583,
           660757,
           182094,
           847225,
           727234,
           84162,
           476145,
           804449,
           581544,
           18353,
           79287,
           843821,
           60761,
           15175,
           37229,
           78529,
           400470,
           18357,
           803743,
           30888,
           836193,
           70827,
           94457,
           91202,
           50178,
           25174,
           0,
           6459,
           8004,
           18350,
           49021,
           57109,
           11948,
           24088,
           57291,
           7319,
           28172,
           20230,
           10370,
           20122,
           923,
           43994,
           32464,
           30626,
           81415,
           4827,
           126498,
           8857,
           281988,
           1868,
           7343,
           5058,
           1112,
           1338,
           23248,
           114,
           9559,
           23663,
           5149,
           117250,
           29202,
           1246,
           688,
           101,
           34172,
           203183,
           18317,
           3564,
           1077,
           1327,
           1496,
           1177,
           1246,
           31824,
           1071,
           3492,
           366,
           3027,
           223,
           641,
           721,
           5446,
           6396,
           74198,
           73402,
           5681,
           840,
           48850,
           47,
           14073,
           52871,
           1246,
           6348,
           4000,
           5878,
           9064,
           435,
           79,
           139,
           1856,
           564,
           3867,
           1067,
           81483,
           3846,
           526,
           2969,
           1076,
           116,
           3872,
           1246,
           1246,
           6686,
           1246,
           18146,
           13418,
           1246,
           21047,
           4188,
           65337,
           375,
           334,
           49273,
           69,
           77,
           1101,
           651,
           59,
           227,
           82310,
           7906,
           720,
           108,
           470,
           44,
           1246,
           1246,
           15,
           13,
           78,
           64,
           1062,
           24,
           1034,
           28,
           71,
           145,
           58,
           532,
           93,
           526,
           61,
           125,
           347,
           249,
           651,
           1246,
           1246,
           221,
           1246,
           323,
           364,
           1246,
           7804,
           1569,
           292,
           22076,
           542,
           153,
           12680,
           445,
           13,
           101,
           5034,
           121,
           3405,
           224,
           51,
           14041,
           37,
           350,
           397,
           139,
           532,
           14291,
           22,
           74,
           92,
           280,
           67,
           108,
           10516,
           9189,
           654,
           22,
           723,
           3,
           3,
           729,
           9573,
           29,
           320,
           5,
           31,
           1246,
           2516,
           1246,
           356,
           13,
           4,
           23,
           21,
           10,
           1246,
           5,
           5,
           714,
           738,
           0,
           35,
           1353,
           0,
           316,
           0,
           0,
           0,
           20,
           0,
           0
          ],
          "coloraxis": "coloraxis",
          "symbol": "circle"
         },
         "mode": "markers",
         "name": "",
         "orientation": "v",
         "showlegend": false,
         "type": "scatter",
         "x": [
          98166904,
          44587307,
          35342950,
          34706757,
          33312373,
          24769101,
          23621952,
          22432803,
          21229216,
          20948470,
          16873793,
          13412263,
          11477886,
          10209239,
          9708420,
          8422336,
          7548320,
          7084488,
          6429767,
          6417941,
          6307372,
          6289672,
          5490639,
          5177217,
          5118512,
          4920192,
          4838872,
          4772813,
          4681309,
          4661096,
          4620377,
          4533249,
          4233468,
          4143085,
          4100480,
          4084307,
          4018769,
          3945566,
          3267370,
          3110831,
          2588441,
          2459982,
          2359530,
          2094142,
          2024489,
          1904192,
          1843220,
          1780691,
          1779476,
          1761381,
          1746997,
          1663653,
          1572598,
          1462318,
          1393468,
          1292940,
          1264935,
          1258670,
          1249134,
          1231575,
          1215511,
          1181073,
          1145686,
          1123465,
          1111179,
          1108195,
          1072807,
          1027031,
          1003778,
          999712,
          994037,
          986866,
          985422,
          982864,
          929051,
          821162,
          816389,
          716059,
          680271,
          670763,
          658520,
          644016,
          622802,
          620548,
          601869,
          589388,
          585313,
          544687,
          515645,
          506991,
          493563,
          472336,
          456391,
          450448,
          442875,
          398668,
          397993,
          342775,
          338420,
          333531,
          332173,
          326308,
          288658,
          280002,
          270668,
          265382,
          257409,
          250449,
          244199,
          230219,
          226237,
          221618,
          215843,
          206083,
          205637,
          201785,
          199067,
          192801,
          185042,
          182597,
          169396,
          169253,
          169100,
          151829,
          137870,
          132498,
          121652,
          114652,
          103131,
          102546,
          93974,
          92852,
          91561,
          88373,
          88024,
          87208,
          81106,
          76599,
          74152,
          73390,
          71336,
          68826,
          68242,
          66676,
          63285,
          62812,
          62371,
          61730,
          57299,
          50129,
          48691,
          47141,
          46227,
          45127,
          44997,
          42914,
          40461,
          40243,
          39440,
          39034,
          38008,
          37652,
          37267,
          34658,
          34490,
          33733,
          32625,
          30661,
          29408,
          27638,
          27214,
          24837,
          23253,
          21631,
          21544,
          20763,
          20092,
          19713,
          19536,
          18491,
          18154,
          17823,
          17786,
          17012,
          16182,
          15925,
          15747,
          15690,
          15275,
          14913,
          14608,
          12508,
          11978,
          11971,
          11935,
          11930,
          11235,
          10863,
          10169,
          9931,
          9759,
          9098,
          8796,
          8471,
          7961,
          7751,
          7583,
          7305,
          7112,
          6541,
          6389,
          6380,
          6230,
          5460,
          5285,
          4611,
          3865,
          3430,
          3188,
          1886,
          1396,
          1355,
          793,
          761,
          712,
          80,
          29,
          20,
          10,
          9
         ],
         "xaxis": "x",
         "y": [
          2120510,
          39583,
          660757,
          182094,
          847225,
          727234,
          84162,
          476145,
          804449,
          581544,
          18353,
          79287,
          843821,
          60761,
          15175,
          37229,
          78529,
          400470,
          18357,
          803743,
          30888,
          836193,
          70827,
          94457,
          91202,
          50178,
          25174,
          0,
          6459,
          8004,
          18350,
          49021,
          57109,
          11948,
          24088,
          57291,
          7319,
          28172,
          20230,
          10370,
          20122,
          923,
          43994,
          32464,
          30626,
          81415,
          4827,
          126498,
          8857,
          281988,
          1868,
          7343,
          5058,
          1112,
          1338,
          23248,
          114,
          9559,
          23663,
          5149,
          117250,
          29202,
          1246,
          688,
          101,
          34172,
          203183,
          18317,
          3564,
          1077,
          1327,
          1496,
          1177,
          1246,
          31824,
          1071,
          3492,
          366,
          3027,
          223,
          641,
          721,
          5446,
          6396,
          74198,
          73402,
          5681,
          840,
          48850,
          47,
          14073,
          52871,
          1246,
          6348,
          4000,
          5878,
          9064,
          435,
          79,
          139,
          1856,
          564,
          3867,
          1067,
          81483,
          3846,
          526,
          2969,
          1076,
          116,
          3872,
          1246,
          1246,
          6686,
          1246,
          18146,
          13418,
          1246,
          21047,
          4188,
          65337,
          375,
          334,
          49273,
          69,
          77,
          1101,
          651,
          59,
          227,
          82310,
          7906,
          720,
          108,
          470,
          44,
          1246,
          1246,
          15,
          13,
          78,
          64,
          1062,
          24,
          1034,
          28,
          71,
          145,
          58,
          532,
          93,
          526,
          61,
          125,
          347,
          249,
          651,
          1246,
          1246,
          221,
          1246,
          323,
          364,
          1246,
          7804,
          1569,
          292,
          22076,
          542,
          153,
          12680,
          445,
          13,
          101,
          5034,
          121,
          3405,
          224,
          51,
          14041,
          37,
          350,
          397,
          139,
          532,
          14291,
          22,
          74,
          92,
          280,
          67,
          108,
          10516,
          9189,
          654,
          22,
          723,
          3,
          3,
          729,
          9573,
          29,
          320,
          5,
          31,
          1246,
          2516,
          1246,
          356,
          13,
          4,
          23,
          21,
          10,
          1246,
          5,
          5,
          714,
          738,
          0,
          35,
          1353,
          0,
          316,
          0,
          0,
          0,
          20,
          0,
          0
         ],
         "yaxis": "y"
        }
       ],
       "layout": {
        "coloraxis": {
         "colorbar": {
          "title": {
           "text": "Active Cases"
          }
         },
         "colorscale": [
          [
           0,
           "#440154"
          ],
          [
           0.1111111111111111,
           "#482878"
          ],
          [
           0.2222222222222222,
           "#3e4989"
          ],
          [
           0.3333333333333333,
           "#31688e"
          ],
          [
           0.4444444444444444,
           "#26828e"
          ],
          [
           0.5555555555555556,
           "#1f9e89"
          ],
          [
           0.6666666666666666,
           "#35b779"
          ],
          [
           0.7777777777777778,
           "#6ece58"
          ],
          [
           0.8888888888888888,
           "#b5de2b"
          ],
          [
           1,
           "#fde725"
          ]
         ]
        },
        "legend": {
         "tracegroupgap": 0
        },
        "template": {
         "data": {
          "bar": [
           {
            "error_x": {
             "color": "#2a3f5f"
            },
            "error_y": {
             "color": "#2a3f5f"
            },
            "marker": {
             "line": {
              "color": "#E5ECF6",
              "width": 0.5
             },
             "pattern": {
              "fillmode": "overlay",
              "size": 10,
              "solidity": 0.2
             }
            },
            "type": "bar"
           }
          ],
          "barpolar": [
           {
            "marker": {
             "line": {
              "color": "#E5ECF6",
              "width": 0.5
             },
             "pattern": {
              "fillmode": "overlay",
              "size": 10,
              "solidity": 0.2
             }
            },
            "type": "barpolar"
           }
          ],
          "carpet": [
           {
            "aaxis": {
             "endlinecolor": "#2a3f5f",
             "gridcolor": "white",
             "linecolor": "white",
             "minorgridcolor": "white",
             "startlinecolor": "#2a3f5f"
            },
            "baxis": {
             "endlinecolor": "#2a3f5f",
             "gridcolor": "white",
             "linecolor": "white",
             "minorgridcolor": "white",
             "startlinecolor": "#2a3f5f"
            },
            "type": "carpet"
           }
          ],
          "choropleth": [
           {
            "colorbar": {
             "outlinewidth": 0,
             "ticks": ""
            },
            "type": "choropleth"
           }
          ],
          "contour": [
           {
            "colorbar": {
             "outlinewidth": 0,
             "ticks": ""
            },
            "colorscale": [
             [
              0,
              "#0d0887"
             ],
             [
              0.1111111111111111,
              "#46039f"
             ],
             [
              0.2222222222222222,
              "#7201a8"
             ],
             [
              0.3333333333333333,
              "#9c179e"
             ],
             [
              0.4444444444444444,
              "#bd3786"
             ],
             [
              0.5555555555555556,
              "#d8576b"
             ],
             [
              0.6666666666666666,
              "#ed7953"
             ],
             [
              0.7777777777777778,
              "#fb9f3a"
             ],
             [
              0.8888888888888888,
              "#fdca26"
             ],
             [
              1,
              "#f0f921"
             ]
            ],
            "type": "contour"
           }
          ],
          "contourcarpet": [
           {
            "colorbar": {
             "outlinewidth": 0,
             "ticks": ""
            },
            "type": "contourcarpet"
           }
          ],
          "heatmap": [
           {
            "colorbar": {
             "outlinewidth": 0,
             "ticks": ""
            },
            "colorscale": [
             [
              0,
              "#0d0887"
             ],
             [
              0.1111111111111111,
              "#46039f"
             ],
             [
              0.2222222222222222,
              "#7201a8"
             ],
             [
              0.3333333333333333,
              "#9c179e"
             ],
             [
              0.4444444444444444,
              "#bd3786"
             ],
             [
              0.5555555555555556,
              "#d8576b"
             ],
             [
              0.6666666666666666,
              "#ed7953"
             ],
             [
              0.7777777777777778,
              "#fb9f3a"
             ],
             [
              0.8888888888888888,
              "#fdca26"
             ],
             [
              1,
              "#f0f921"
             ]
            ],
            "type": "heatmap"
           }
          ],
          "heatmapgl": [
           {
            "colorbar": {
             "outlinewidth": 0,
             "ticks": ""
            },
            "colorscale": [
             [
              0,
              "#0d0887"
             ],
             [
              0.1111111111111111,
              "#46039f"
             ],
             [
              0.2222222222222222,
              "#7201a8"
             ],
             [
              0.3333333333333333,
              "#9c179e"
             ],
             [
              0.4444444444444444,
              "#bd3786"
             ],
             [
              0.5555555555555556,
              "#d8576b"
             ],
             [
              0.6666666666666666,
              "#ed7953"
             ],
             [
              0.7777777777777778,
              "#fb9f3a"
             ],
             [
              0.8888888888888888,
              "#fdca26"
             ],
             [
              1,
              "#f0f921"
             ]
            ],
            "type": "heatmapgl"
           }
          ],
          "histogram": [
           {
            "marker": {
             "pattern": {
              "fillmode": "overlay",
              "size": 10,
              "solidity": 0.2
             }
            },
            "type": "histogram"
           }
          ],
          "histogram2d": [
           {
            "colorbar": {
             "outlinewidth": 0,
             "ticks": ""
            },
            "colorscale": [
             [
              0,
              "#0d0887"
             ],
             [
              0.1111111111111111,
              "#46039f"
             ],
             [
              0.2222222222222222,
              "#7201a8"
             ],
             [
              0.3333333333333333,
              "#9c179e"
             ],
             [
              0.4444444444444444,
              "#bd3786"
             ],
             [
              0.5555555555555556,
              "#d8576b"
             ],
             [
              0.6666666666666666,
              "#ed7953"
             ],
             [
              0.7777777777777778,
              "#fb9f3a"
             ],
             [
              0.8888888888888888,
              "#fdca26"
             ],
             [
              1,
              "#f0f921"
             ]
            ],
            "type": "histogram2d"
           }
          ],
          "histogram2dcontour": [
           {
            "colorbar": {
             "outlinewidth": 0,
             "ticks": ""
            },
            "colorscale": [
             [
              0,
              "#0d0887"
             ],
             [
              0.1111111111111111,
              "#46039f"
             ],
             [
              0.2222222222222222,
              "#7201a8"
             ],
             [
              0.3333333333333333,
              "#9c179e"
             ],
             [
              0.4444444444444444,
              "#bd3786"
             ],
             [
              0.5555555555555556,
              "#d8576b"
             ],
             [
              0.6666666666666666,
              "#ed7953"
             ],
             [
              0.7777777777777778,
              "#fb9f3a"
             ],
             [
              0.8888888888888888,
              "#fdca26"
             ],
             [
              1,
              "#f0f921"
             ]
            ],
            "type": "histogram2dcontour"
           }
          ],
          "mesh3d": [
           {
            "colorbar": {
             "outlinewidth": 0,
             "ticks": ""
            },
            "type": "mesh3d"
           }
          ],
          "parcoords": [
           {
            "line": {
             "colorbar": {
              "outlinewidth": 0,
              "ticks": ""
             }
            },
            "type": "parcoords"
           }
          ],
          "pie": [
           {
            "automargin": true,
            "type": "pie"
           }
          ],
          "scatter": [
           {
            "fillpattern": {
             "fillmode": "overlay",
             "size": 10,
             "solidity": 0.2
            },
            "type": "scatter"
           }
          ],
          "scatter3d": [
           {
            "line": {
             "colorbar": {
              "outlinewidth": 0,
              "ticks": ""
             }
            },
            "marker": {
             "colorbar": {
              "outlinewidth": 0,
              "ticks": ""
             }
            },
            "type": "scatter3d"
           }
          ],
          "scattercarpet": [
           {
            "marker": {
             "colorbar": {
              "outlinewidth": 0,
              "ticks": ""
             }
            },
            "type": "scattercarpet"
           }
          ],
          "scattergeo": [
           {
            "marker": {
             "colorbar": {
              "outlinewidth": 0,
              "ticks": ""
             }
            },
            "type": "scattergeo"
           }
          ],
          "scattergl": [
           {
            "marker": {
             "colorbar": {
              "outlinewidth": 0,
              "ticks": ""
             }
            },
            "type": "scattergl"
           }
          ],
          "scattermapbox": [
           {
            "marker": {
             "colorbar": {
              "outlinewidth": 0,
              "ticks": ""
             }
            },
            "type": "scattermapbox"
           }
          ],
          "scatterpolar": [
           {
            "marker": {
             "colorbar": {
              "outlinewidth": 0,
              "ticks": ""
             }
            },
            "type": "scatterpolar"
           }
          ],
          "scatterpolargl": [
           {
            "marker": {
             "colorbar": {
              "outlinewidth": 0,
              "ticks": ""
             }
            },
            "type": "scatterpolargl"
           }
          ],
          "scatterternary": [
           {
            "marker": {
             "colorbar": {
              "outlinewidth": 0,
              "ticks": ""
             }
            },
            "type": "scatterternary"
           }
          ],
          "surface": [
           {
            "colorbar": {
             "outlinewidth": 0,
             "ticks": ""
            },
            "colorscale": [
             [
              0,
              "#0d0887"
             ],
             [
              0.1111111111111111,
              "#46039f"
             ],
             [
              0.2222222222222222,
              "#7201a8"
             ],
             [
              0.3333333333333333,
              "#9c179e"
             ],
             [
              0.4444444444444444,
              "#bd3786"
             ],
             [
              0.5555555555555556,
              "#d8576b"
             ],
             [
              0.6666666666666666,
              "#ed7953"
             ],
             [
              0.7777777777777778,
              "#fb9f3a"
             ],
             [
              0.8888888888888888,
              "#fdca26"
             ],
             [
              1,
              "#f0f921"
             ]
            ],
            "type": "surface"
           }
          ],
          "table": [
           {
            "cells": {
             "fill": {
              "color": "#EBF0F8"
             },
             "line": {
              "color": "white"
             }
            },
            "header": {
             "fill": {
              "color": "#C8D4E3"
             },
             "line": {
              "color": "white"
             }
            },
            "type": "table"
           }
          ]
         },
         "layout": {
          "annotationdefaults": {
           "arrowcolor": "#2a3f5f",
           "arrowhead": 0,
           "arrowwidth": 1
          },
          "autotypenumbers": "strict",
          "coloraxis": {
           "colorbar": {
            "outlinewidth": 0,
            "ticks": ""
           }
          },
          "colorscale": {
           "diverging": [
            [
             0,
             "#8e0152"
            ],
            [
             0.1,
             "#c51b7d"
            ],
            [
             0.2,
             "#de77ae"
            ],
            [
             0.3,
             "#f1b6da"
            ],
            [
             0.4,
             "#fde0ef"
            ],
            [
             0.5,
             "#f7f7f7"
            ],
            [
             0.6,
             "#e6f5d0"
            ],
            [
             0.7,
             "#b8e186"
            ],
            [
             0.8,
             "#7fbc41"
            ],
            [
             0.9,
             "#4d9221"
            ],
            [
             1,
             "#276419"
            ]
           ],
           "sequential": [
            [
             0,
             "#0d0887"
            ],
            [
             0.1111111111111111,
             "#46039f"
            ],
            [
             0.2222222222222222,
             "#7201a8"
            ],
            [
             0.3333333333333333,
             "#9c179e"
            ],
            [
             0.4444444444444444,
             "#bd3786"
            ],
            [
             0.5555555555555556,
             "#d8576b"
            ],
            [
             0.6666666666666666,
             "#ed7953"
            ],
            [
             0.7777777777777778,
             "#fb9f3a"
            ],
            [
             0.8888888888888888,
             "#fdca26"
            ],
            [
             1,
             "#f0f921"
            ]
           ],
           "sequentialminus": [
            [
             0,
             "#0d0887"
            ],
            [
             0.1111111111111111,
             "#46039f"
            ],
            [
             0.2222222222222222,
             "#7201a8"
            ],
            [
             0.3333333333333333,
             "#9c179e"
            ],
            [
             0.4444444444444444,
             "#bd3786"
            ],
            [
             0.5555555555555556,
             "#d8576b"
            ],
            [
             0.6666666666666666,
             "#ed7953"
            ],
            [
             0.7777777777777778,
             "#fb9f3a"
            ],
            [
             0.8888888888888888,
             "#fdca26"
            ],
            [
             1,
             "#f0f921"
            ]
           ]
          },
          "colorway": [
           "#636efa",
           "#EF553B",
           "#00cc96",
           "#ab63fa",
           "#FFA15A",
           "#19d3f3",
           "#FF6692",
           "#B6E880",
           "#FF97FF",
           "#FECB52"
          ],
          "font": {
           "color": "#2a3f5f"
          },
          "geo": {
           "bgcolor": "white",
           "lakecolor": "white",
           "landcolor": "#E5ECF6",
           "showlakes": true,
           "showland": true,
           "subunitcolor": "white"
          },
          "hoverlabel": {
           "align": "left"
          },
          "hovermode": "closest",
          "mapbox": {
           "style": "light"
          },
          "paper_bgcolor": "white",
          "plot_bgcolor": "#E5ECF6",
          "polar": {
           "angularaxis": {
            "gridcolor": "white",
            "linecolor": "white",
            "ticks": ""
           },
           "bgcolor": "#E5ECF6",
           "radialaxis": {
            "gridcolor": "white",
            "linecolor": "white",
            "ticks": ""
           }
          },
          "scene": {
           "xaxis": {
            "backgroundcolor": "#E5ECF6",
            "gridcolor": "white",
            "gridwidth": 2,
            "linecolor": "white",
            "showbackground": true,
            "ticks": "",
            "zerolinecolor": "white"
           },
           "yaxis": {
            "backgroundcolor": "#E5ECF6",
            "gridcolor": "white",
            "gridwidth": 2,
            "linecolor": "white",
            "showbackground": true,
            "ticks": "",
            "zerolinecolor": "white"
           },
           "zaxis": {
            "backgroundcolor": "#E5ECF6",
            "gridcolor": "white",
            "gridwidth": 2,
            "linecolor": "white",
            "showbackground": true,
            "ticks": "",
            "zerolinecolor": "white"
           }
          },
          "shapedefaults": {
           "line": {
            "color": "#2a3f5f"
           }
          },
          "ternary": {
           "aaxis": {
            "gridcolor": "white",
            "linecolor": "white",
            "ticks": ""
           },
           "baxis": {
            "gridcolor": "white",
            "linecolor": "white",
            "ticks": ""
           },
           "bgcolor": "#E5ECF6",
           "caxis": {
            "gridcolor": "white",
            "linecolor": "white",
            "ticks": ""
           }
          },
          "title": {
           "x": 0.05
          },
          "xaxis": {
           "automargin": true,
           "gridcolor": "white",
           "linecolor": "white",
           "ticks": "",
           "title": {
            "standoff": 15
           },
           "zerolinecolor": "white",
           "zerolinewidth": 2
          },
          "yaxis": {
           "automargin": true,
           "gridcolor": "white",
           "linecolor": "white",
           "ticks": "",
           "title": {
            "standoff": 15
           },
           "zerolinecolor": "white",
           "zerolinewidth": 2
          }
         }
        },
        "title": {
         "text": "Total Cases vs Active Cases"
        },
        "xaxis": {
         "anchor": "y",
         "domain": [
          0,
          1
         ],
         "title": {
          "text": "Total Cases"
         }
        },
        "yaxis": {
         "anchor": "x",
         "domain": [
          0,
          1
         ],
         "title": {
          "text": "Active Cases"
         }
        }
       }
      },
      "text/html": [
       "<div>                            <div id=\"aa94bab3-25c8-417b-bf8d-5ec6e2e1bf7f\" class=\"plotly-graph-div\" style=\"height:525px; width:100%;\"></div>            <script type=\"text/javascript\">                require([\"plotly\"], function(Plotly) {                    window.PLOTLYENV=window.PLOTLYENV || {};                                    if (document.getElementById(\"aa94bab3-25c8-417b-bf8d-5ec6e2e1bf7f\")) {                    Plotly.newPlot(                        \"aa94bab3-25c8-417b-bf8d-5ec6e2e1bf7f\",                        [{\"hovertemplate\":\"Total Cases=%{x}\\u003cbr\\u003eActive Cases=%{marker.color}\\u003cextra\\u003e\\u003c\\u002fextra\\u003e\",\"legendgroup\":\"\",\"marker\":{\"color\":[2120510.0,39583.0,660757.0,182094.0,847225.0,727234.0,84162.0,476145.0,804449.0,581544.0,18353.0,79287.0,843821.0,60761.0,15175.0,37229.0,78529.0,400470.0,18357.0,803743.0,30888.0,836193.0,70827.0,94457.0,91202.0,50178.0,25174.0,0.0,6459.0,8004.0,18350.0,49021.0,57109.0,11948.0,24088.0,57291.0,7319.0,28172.0,20230.0,10370.0,20122.0,923.0,43994.0,32464.0,30626.0,81415.0,4827.0,126498.0,8857.0,281988.0,1868.0,7343.0,5058.0,1112.0,1338.0,23248.0,114.0,9559.0,23663.0,5149.0,117250.0,29202.0,1246.0,688.0,101.0,34172.0,203183.0,18317.0,3564.0,1077.0,1327.0,1496.0,1177.0,1246.0,31824.0,1071.0,3492.0,366.0,3027.0,223.0,641.0,721.0,5446.0,6396.0,74198.0,73402.0,5681.0,840.0,48850.0,47.0,14073.0,52871.0,1246.0,6348.0,4000.0,5878.0,9064.0,435.0,79.0,139.0,1856.0,564.0,3867.0,1067.0,81483.0,3846.0,526.0,2969.0,1076.0,116.0,3872.0,1246.0,1246.0,6686.0,1246.0,18146.0,13418.0,1246.0,21047.0,4188.0,65337.0,375.0,334.0,49273.0,69.0,77.0,1101.0,651.0,59.0,227.0,82310.0,7906.0,720.0,108.0,470.0,44.0,1246.0,1246.0,15.0,13.0,78.0,64.0,1062.0,24.0,1034.0,28.0,71.0,145.0,58.0,532.0,93.0,526.0,61.0,125.0,347.0,249.0,651.0,1246.0,1246.0,221.0,1246.0,323.0,364.0,1246.0,7804.0,1569.0,292.0,22076.0,542.0,153.0,12680.0,445.0,13.0,101.0,5034.0,121.0,3405.0,224.0,51.0,14041.0,37.0,350.0,397.0,139.0,532.0,14291.0,22.0,74.0,92.0,280.0,67.0,108.0,10516.0,9189.0,654.0,22.0,723.0,3.0,3.0,729.0,9573.0,29.0,320.0,5.0,31.0,1246.0,2516.0,1246.0,356.0,13.0,4.0,23.0,21.0,10.0,1246.0,5.0,5.0,714.0,738.0,0.0,35.0,1353.0,0.0,316.0,0.0,0.0,0.0,20.0,0.0,0.0],\"coloraxis\":\"coloraxis\",\"symbol\":\"circle\"},\"mode\":\"markers\",\"name\":\"\",\"orientation\":\"v\",\"showlegend\":false,\"x\":[98166904.0,44587307.0,35342950.0,34706757.0,33312373.0,24769101.0,23621952.0,22432803.0,21229216.0,20948470.0,16873793.0,13412263.0,11477886.0,10209239.0,9708420.0,8422336.0,7548320.0,7084488.0,6429767.0,6417941.0,6307372.0,6289672.0,5490639.0,5177217.0,5118512.0,4920192.0,4838872.0,4772813.0,4681309.0,4661096.0,4620377.0,4533249.0,4233468.0,4143085.0,4100480.0,4084307.0,4018769.0,3945566.0,3267370.0,3110831.0,2588441.0,2459982.0,2359530.0,2094142.0,2024489.0,1904192.0,1843220.0,1780691.0,1779476.0,1761381.0,1746997.0,1663653.0,1572598.0,1462318.0,1393468.0,1292940.0,1264935.0,1258670.0,1249134.0,1231575.0,1215511.0,1181073.0,1145686.0,1123465.0,1111179.0,1108195.0,1072807.0,1027031.0,1003778.0,999712.0,994037.0,986866.0,985422.0,982864.0,929051.0,821162.0,816389.0,716059.0,680271.0,670763.0,658520.0,644016.0,622802.0,620548.0,601869.0,589388.0,585313.0,544687.0,515645.0,506991.0,493563.0,472336.0,456391.0,450448.0,442875.0,398668.0,397993.0,342775.0,338420.0,333531.0,332173.0,326308.0,288658.0,280002.0,270668.0,265382.0,257409.0,250449.0,244199.0,230219.0,226237.0,221618.0,215843.0,206083.0,205637.0,201785.0,199067.0,192801.0,185042.0,182597.0,169396.0,169253.0,169100.0,151829.0,137870.0,132498.0,121652.0,114652.0,103131.0,102546.0,93974.0,92852.0,91561.0,88373.0,88024.0,87208.0,81106.0,76599.0,74152.0,73390.0,71336.0,68826.0,68242.0,66676.0,63285.0,62812.0,62371.0,61730.0,57299.0,50129.0,48691.0,47141.0,46227.0,45127.0,44997.0,42914.0,40461.0,40243.0,39440.0,39034.0,38008.0,37652.0,37267.0,34658.0,34490.0,33733.0,32625.0,30661.0,29408.0,27638.0,27214.0,24837.0,23253.0,21631.0,21544.0,20763.0,20092.0,19713.0,19536.0,18491.0,18154.0,17823.0,17786.0,17012.0,16182.0,15925.0,15747.0,15690.0,15275.0,14913.0,14608.0,12508.0,11978.0,11971.0,11935.0,11930.0,11235.0,10863.0,10169.0,9931.0,9759.0,9098.0,8796.0,8471.0,7961.0,7751.0,7583.0,7305.0,7112.0,6541.0,6389.0,6380.0,6230.0,5460.0,5285.0,4611.0,3865.0,3430.0,3188.0,1886.0,1396.0,1355.0,793.0,761.0,712.0,80.0,29.0,20.0,10.0,9.0],\"xaxis\":\"x\",\"y\":[2120510.0,39583.0,660757.0,182094.0,847225.0,727234.0,84162.0,476145.0,804449.0,581544.0,18353.0,79287.0,843821.0,60761.0,15175.0,37229.0,78529.0,400470.0,18357.0,803743.0,30888.0,836193.0,70827.0,94457.0,91202.0,50178.0,25174.0,0.0,6459.0,8004.0,18350.0,49021.0,57109.0,11948.0,24088.0,57291.0,7319.0,28172.0,20230.0,10370.0,20122.0,923.0,43994.0,32464.0,30626.0,81415.0,4827.0,126498.0,8857.0,281988.0,1868.0,7343.0,5058.0,1112.0,1338.0,23248.0,114.0,9559.0,23663.0,5149.0,117250.0,29202.0,1246.0,688.0,101.0,34172.0,203183.0,18317.0,3564.0,1077.0,1327.0,1496.0,1177.0,1246.0,31824.0,1071.0,3492.0,366.0,3027.0,223.0,641.0,721.0,5446.0,6396.0,74198.0,73402.0,5681.0,840.0,48850.0,47.0,14073.0,52871.0,1246.0,6348.0,4000.0,5878.0,9064.0,435.0,79.0,139.0,1856.0,564.0,3867.0,1067.0,81483.0,3846.0,526.0,2969.0,1076.0,116.0,3872.0,1246.0,1246.0,6686.0,1246.0,18146.0,13418.0,1246.0,21047.0,4188.0,65337.0,375.0,334.0,49273.0,69.0,77.0,1101.0,651.0,59.0,227.0,82310.0,7906.0,720.0,108.0,470.0,44.0,1246.0,1246.0,15.0,13.0,78.0,64.0,1062.0,24.0,1034.0,28.0,71.0,145.0,58.0,532.0,93.0,526.0,61.0,125.0,347.0,249.0,651.0,1246.0,1246.0,221.0,1246.0,323.0,364.0,1246.0,7804.0,1569.0,292.0,22076.0,542.0,153.0,12680.0,445.0,13.0,101.0,5034.0,121.0,3405.0,224.0,51.0,14041.0,37.0,350.0,397.0,139.0,532.0,14291.0,22.0,74.0,92.0,280.0,67.0,108.0,10516.0,9189.0,654.0,22.0,723.0,3.0,3.0,729.0,9573.0,29.0,320.0,5.0,31.0,1246.0,2516.0,1246.0,356.0,13.0,4.0,23.0,21.0,10.0,1246.0,5.0,5.0,714.0,738.0,0.0,35.0,1353.0,0.0,316.0,0.0,0.0,0.0,20.0,0.0,0.0],\"yaxis\":\"y\",\"type\":\"scatter\"}],                        {\"template\":{\"data\":{\"histogram2dcontour\":[{\"type\":\"histogram2dcontour\",\"colorbar\":{\"outlinewidth\":0,\"ticks\":\"\"},\"colorscale\":[[0.0,\"#0d0887\"],[0.1111111111111111,\"#46039f\"],[0.2222222222222222,\"#7201a8\"],[0.3333333333333333,\"#9c179e\"],[0.4444444444444444,\"#bd3786\"],[0.5555555555555556,\"#d8576b\"],[0.6666666666666666,\"#ed7953\"],[0.7777777777777778,\"#fb9f3a\"],[0.8888888888888888,\"#fdca26\"],[1.0,\"#f0f921\"]]}],\"choropleth\":[{\"type\":\"choropleth\",\"colorbar\":{\"outlinewidth\":0,\"ticks\":\"\"}}],\"histogram2d\":[{\"type\":\"histogram2d\",\"colorbar\":{\"outlinewidth\":0,\"ticks\":\"\"},\"colorscale\":[[0.0,\"#0d0887\"],[0.1111111111111111,\"#46039f\"],[0.2222222222222222,\"#7201a8\"],[0.3333333333333333,\"#9c179e\"],[0.4444444444444444,\"#bd3786\"],[0.5555555555555556,\"#d8576b\"],[0.6666666666666666,\"#ed7953\"],[0.7777777777777778,\"#fb9f3a\"],[0.8888888888888888,\"#fdca26\"],[1.0,\"#f0f921\"]]}],\"heatmap\":[{\"type\":\"heatmap\",\"colorbar\":{\"outlinewidth\":0,\"ticks\":\"\"},\"colorscale\":[[0.0,\"#0d0887\"],[0.1111111111111111,\"#46039f\"],[0.2222222222222222,\"#7201a8\"],[0.3333333333333333,\"#9c179e\"],[0.4444444444444444,\"#bd3786\"],[0.5555555555555556,\"#d8576b\"],[0.6666666666666666,\"#ed7953\"],[0.7777777777777778,\"#fb9f3a\"],[0.8888888888888888,\"#fdca26\"],[1.0,\"#f0f921\"]]}],\"heatmapgl\":[{\"type\":\"heatmapgl\",\"colorbar\":{\"outlinewidth\":0,\"ticks\":\"\"},\"colorscale\":[[0.0,\"#0d0887\"],[0.1111111111111111,\"#46039f\"],[0.2222222222222222,\"#7201a8\"],[0.3333333333333333,\"#9c179e\"],[0.4444444444444444,\"#bd3786\"],[0.5555555555555556,\"#d8576b\"],[0.6666666666666666,\"#ed7953\"],[0.7777777777777778,\"#fb9f3a\"],[0.8888888888888888,\"#fdca26\"],[1.0,\"#f0f921\"]]}],\"contourcarpet\":[{\"type\":\"contourcarpet\",\"colorbar\":{\"outlinewidth\":0,\"ticks\":\"\"}}],\"contour\":[{\"type\":\"contour\",\"colorbar\":{\"outlinewidth\":0,\"ticks\":\"\"},\"colorscale\":[[0.0,\"#0d0887\"],[0.1111111111111111,\"#46039f\"],[0.2222222222222222,\"#7201a8\"],[0.3333333333333333,\"#9c179e\"],[0.4444444444444444,\"#bd3786\"],[0.5555555555555556,\"#d8576b\"],[0.6666666666666666,\"#ed7953\"],[0.7777777777777778,\"#fb9f3a\"],[0.8888888888888888,\"#fdca26\"],[1.0,\"#f0f921\"]]}],\"surface\":[{\"type\":\"surface\",\"colorbar\":{\"outlinewidth\":0,\"ticks\":\"\"},\"colorscale\":[[0.0,\"#0d0887\"],[0.1111111111111111,\"#46039f\"],[0.2222222222222222,\"#7201a8\"],[0.3333333333333333,\"#9c179e\"],[0.4444444444444444,\"#bd3786\"],[0.5555555555555556,\"#d8576b\"],[0.6666666666666666,\"#ed7953\"],[0.7777777777777778,\"#fb9f3a\"],[0.8888888888888888,\"#fdca26\"],[1.0,\"#f0f921\"]]}],\"mesh3d\":[{\"type\":\"mesh3d\",\"colorbar\":{\"outlinewidth\":0,\"ticks\":\"\"}}],\"scatter\":[{\"fillpattern\":{\"fillmode\":\"overlay\",\"size\":10,\"solidity\":0.2},\"type\":\"scatter\"}],\"parcoords\":[{\"type\":\"parcoords\",\"line\":{\"colorbar\":{\"outlinewidth\":0,\"ticks\":\"\"}}}],\"scatterpolargl\":[{\"type\":\"scatterpolargl\",\"marker\":{\"colorbar\":{\"outlinewidth\":0,\"ticks\":\"\"}}}],\"bar\":[{\"error_x\":{\"color\":\"#2a3f5f\"},\"error_y\":{\"color\":\"#2a3f5f\"},\"marker\":{\"line\":{\"color\":\"#E5ECF6\",\"width\":0.5},\"pattern\":{\"fillmode\":\"overlay\",\"size\":10,\"solidity\":0.2}},\"type\":\"bar\"}],\"scattergeo\":[{\"type\":\"scattergeo\",\"marker\":{\"colorbar\":{\"outlinewidth\":0,\"ticks\":\"\"}}}],\"scatterpolar\":[{\"type\":\"scatterpolar\",\"marker\":{\"colorbar\":{\"outlinewidth\":0,\"ticks\":\"\"}}}],\"histogram\":[{\"marker\":{\"pattern\":{\"fillmode\":\"overlay\",\"size\":10,\"solidity\":0.2}},\"type\":\"histogram\"}],\"scattergl\":[{\"type\":\"scattergl\",\"marker\":{\"colorbar\":{\"outlinewidth\":0,\"ticks\":\"\"}}}],\"scatter3d\":[{\"type\":\"scatter3d\",\"line\":{\"colorbar\":{\"outlinewidth\":0,\"ticks\":\"\"}},\"marker\":{\"colorbar\":{\"outlinewidth\":0,\"ticks\":\"\"}}}],\"scattermapbox\":[{\"type\":\"scattermapbox\",\"marker\":{\"colorbar\":{\"outlinewidth\":0,\"ticks\":\"\"}}}],\"scatterternary\":[{\"type\":\"scatterternary\",\"marker\":{\"colorbar\":{\"outlinewidth\":0,\"ticks\":\"\"}}}],\"scattercarpet\":[{\"type\":\"scattercarpet\",\"marker\":{\"colorbar\":{\"outlinewidth\":0,\"ticks\":\"\"}}}],\"carpet\":[{\"aaxis\":{\"endlinecolor\":\"#2a3f5f\",\"gridcolor\":\"white\",\"linecolor\":\"white\",\"minorgridcolor\":\"white\",\"startlinecolor\":\"#2a3f5f\"},\"baxis\":{\"endlinecolor\":\"#2a3f5f\",\"gridcolor\":\"white\",\"linecolor\":\"white\",\"minorgridcolor\":\"white\",\"startlinecolor\":\"#2a3f5f\"},\"type\":\"carpet\"}],\"table\":[{\"cells\":{\"fill\":{\"color\":\"#EBF0F8\"},\"line\":{\"color\":\"white\"}},\"header\":{\"fill\":{\"color\":\"#C8D4E3\"},\"line\":{\"color\":\"white\"}},\"type\":\"table\"}],\"barpolar\":[{\"marker\":{\"line\":{\"color\":\"#E5ECF6\",\"width\":0.5},\"pattern\":{\"fillmode\":\"overlay\",\"size\":10,\"solidity\":0.2}},\"type\":\"barpolar\"}],\"pie\":[{\"automargin\":true,\"type\":\"pie\"}]},\"layout\":{\"autotypenumbers\":\"strict\",\"colorway\":[\"#636efa\",\"#EF553B\",\"#00cc96\",\"#ab63fa\",\"#FFA15A\",\"#19d3f3\",\"#FF6692\",\"#B6E880\",\"#FF97FF\",\"#FECB52\"],\"font\":{\"color\":\"#2a3f5f\"},\"hovermode\":\"closest\",\"hoverlabel\":{\"align\":\"left\"},\"paper_bgcolor\":\"white\",\"plot_bgcolor\":\"#E5ECF6\",\"polar\":{\"bgcolor\":\"#E5ECF6\",\"angularaxis\":{\"gridcolor\":\"white\",\"linecolor\":\"white\",\"ticks\":\"\"},\"radialaxis\":{\"gridcolor\":\"white\",\"linecolor\":\"white\",\"ticks\":\"\"}},\"ternary\":{\"bgcolor\":\"#E5ECF6\",\"aaxis\":{\"gridcolor\":\"white\",\"linecolor\":\"white\",\"ticks\":\"\"},\"baxis\":{\"gridcolor\":\"white\",\"linecolor\":\"white\",\"ticks\":\"\"},\"caxis\":{\"gridcolor\":\"white\",\"linecolor\":\"white\",\"ticks\":\"\"}},\"coloraxis\":{\"colorbar\":{\"outlinewidth\":0,\"ticks\":\"\"}},\"colorscale\":{\"sequential\":[[0.0,\"#0d0887\"],[0.1111111111111111,\"#46039f\"],[0.2222222222222222,\"#7201a8\"],[0.3333333333333333,\"#9c179e\"],[0.4444444444444444,\"#bd3786\"],[0.5555555555555556,\"#d8576b\"],[0.6666666666666666,\"#ed7953\"],[0.7777777777777778,\"#fb9f3a\"],[0.8888888888888888,\"#fdca26\"],[1.0,\"#f0f921\"]],\"sequentialminus\":[[0.0,\"#0d0887\"],[0.1111111111111111,\"#46039f\"],[0.2222222222222222,\"#7201a8\"],[0.3333333333333333,\"#9c179e\"],[0.4444444444444444,\"#bd3786\"],[0.5555555555555556,\"#d8576b\"],[0.6666666666666666,\"#ed7953\"],[0.7777777777777778,\"#fb9f3a\"],[0.8888888888888888,\"#fdca26\"],[1.0,\"#f0f921\"]],\"diverging\":[[0,\"#8e0152\"],[0.1,\"#c51b7d\"],[0.2,\"#de77ae\"],[0.3,\"#f1b6da\"],[0.4,\"#fde0ef\"],[0.5,\"#f7f7f7\"],[0.6,\"#e6f5d0\"],[0.7,\"#b8e186\"],[0.8,\"#7fbc41\"],[0.9,\"#4d9221\"],[1,\"#276419\"]]},\"xaxis\":{\"gridcolor\":\"white\",\"linecolor\":\"white\",\"ticks\":\"\",\"title\":{\"standoff\":15},\"zerolinecolor\":\"white\",\"automargin\":true,\"zerolinewidth\":2},\"yaxis\":{\"gridcolor\":\"white\",\"linecolor\":\"white\",\"ticks\":\"\",\"title\":{\"standoff\":15},\"zerolinecolor\":\"white\",\"automargin\":true,\"zerolinewidth\":2},\"scene\":{\"xaxis\":{\"backgroundcolor\":\"#E5ECF6\",\"gridcolor\":\"white\",\"linecolor\":\"white\",\"showbackground\":true,\"ticks\":\"\",\"zerolinecolor\":\"white\",\"gridwidth\":2},\"yaxis\":{\"backgroundcolor\":\"#E5ECF6\",\"gridcolor\":\"white\",\"linecolor\":\"white\",\"showbackground\":true,\"ticks\":\"\",\"zerolinecolor\":\"white\",\"gridwidth\":2},\"zaxis\":{\"backgroundcolor\":\"#E5ECF6\",\"gridcolor\":\"white\",\"linecolor\":\"white\",\"showbackground\":true,\"ticks\":\"\",\"zerolinecolor\":\"white\",\"gridwidth\":2}},\"shapedefaults\":{\"line\":{\"color\":\"#2a3f5f\"}},\"annotationdefaults\":{\"arrowcolor\":\"#2a3f5f\",\"arrowhead\":0,\"arrowwidth\":1},\"geo\":{\"bgcolor\":\"white\",\"landcolor\":\"#E5ECF6\",\"subunitcolor\":\"white\",\"showland\":true,\"showlakes\":true,\"lakecolor\":\"white\"},\"title\":{\"x\":0.05},\"mapbox\":{\"style\":\"light\"}}},\"xaxis\":{\"anchor\":\"y\",\"domain\":[0.0,1.0],\"title\":{\"text\":\"Total Cases\"}},\"yaxis\":{\"anchor\":\"x\",\"domain\":[0.0,1.0],\"title\":{\"text\":\"Active Cases\"}},\"coloraxis\":{\"colorbar\":{\"title\":{\"text\":\"Active Cases\"}},\"colorscale\":[[0.0,\"#440154\"],[0.1111111111111111,\"#482878\"],[0.2222222222222222,\"#3e4989\"],[0.3333333333333333,\"#31688e\"],[0.4444444444444444,\"#26828e\"],[0.5555555555555556,\"#1f9e89\"],[0.6666666666666666,\"#35b779\"],[0.7777777777777778,\"#6ece58\"],[0.8888888888888888,\"#b5de2b\"],[1.0,\"#fde725\"]]},\"legend\":{\"tracegroupgap\":0},\"title\":{\"text\":\"Total Cases vs Active Cases\"}},                        {\"responsive\": true}                    ).then(function(){\n",
       "                            \n",
       "var gd = document.getElementById('aa94bab3-25c8-417b-bf8d-5ec6e2e1bf7f');\n",
       "var x = new MutationObserver(function (mutations, observer) {{\n",
       "        var display = window.getComputedStyle(gd).display;\n",
       "        if (!display || display === 'none') {{\n",
       "            console.log([gd, 'removed!']);\n",
       "            Plotly.purge(gd);\n",
       "            observer.disconnect();\n",
       "        }}\n",
       "}});\n",
       "\n",
       "// Listen for the removal of the full notebook cells\n",
       "var notebookContainer = gd.closest('#notebook-container');\n",
       "if (notebookContainer) {{\n",
       "    x.observe(notebookContainer, {childList: true});\n",
       "}}\n",
       "\n",
       "// Listen for the clearing of the current output cell\n",
       "var outputEl = gd.closest('.output');\n",
       "if (outputEl) {{\n",
       "    x.observe(outputEl, {childList: true});\n",
       "}}\n",
       "\n",
       "                        })                };                });            </script>        </div>"
      ]
     },
     "metadata": {},
     "output_type": "display_data"
    }
   ],
   "source": [
    "fig = px.scatter(df, x='Total Cases', y='Active Cases', title=\"Total Cases vs Active Cases\", color_continuous_scale='Viridis', color='Active Cases')\n",
    "fig.show()"
   ]
  },
  {
   "cell_type": "markdown",
   "id": "908d6a31-2bb3-4c8f-8eab-96aef30fc754",
   "metadata": {},
   "source": [
    "# Active Cases VS Serious One"
   ]
  },
  {
   "cell_type": "code",
   "execution_count": 25,
   "id": "a84e271c-b1f8-40a2-b63f-4b489279b581",
   "metadata": {},
   "outputs": [
    {
     "data": {
      "text/plain": [
       "Active Cases\n",
       "0.0           144.0\n",
       "3.0            28.0\n",
       "4.0            18.0\n",
       "5.0            40.0\n",
       "10.0            1.0\n",
       "              ...  \n",
       "804449.0      204.0\n",
       "836193.0     3086.0\n",
       "843821.0      106.0\n",
       "847225.0     1406.0\n",
       "2120510.0    2970.0\n",
       "Name: Serious Cases, Length: 196, dtype: float64"
      ]
     },
     "execution_count": 25,
     "metadata": {},
     "output_type": "execute_result"
    }
   ],
   "source": [
    "df.groupby('Active Cases')['Serious Cases'].sum()"
   ]
  },
  {
   "cell_type": "code",
   "execution_count": 26,
   "id": "b3f6d15f-7c8f-4220-8027-67d472069e1e",
   "metadata": {},
   "outputs": [
    {
     "data": {
      "application/vnd.plotly.v1+json": {
       "config": {
        "plotlyServerURL": "https://plot.ly"
       },
       "data": [
        {
         "hovertemplate": "Active Cases=%{x}<br>Serious Cases=%{marker.color}<extra></extra>",
         "legendgroup": "",
         "marker": {
          "color": [
           2970,
           698,
           869,
           8318,
           1406,
           352,
           146,
           141,
           204,
           2300,
           975,
           339,
           106,
           49,
           294,
           35,
           157,
           4798,
           2771,
           18,
           342,
           3086,
           61,
           177,
           47,
           115,
           43,
           18,
           1496,
           101,
           124,
           48,
           99,
           147,
           39,
           54,
           192,
           696,
           123,
           18,
           13,
           21,
           33,
           18,
           1331,
           9,
           22,
           18,
           18,
           8,
           59,
           13,
           47,
           20,
           24,
           21,
           293,
           43,
           12,
           10,
           74,
           22,
           99,
           5,
           23,
           220,
           52,
           18,
           759,
           18,
           18,
           16,
           18,
           192,
           5,
           18,
           32,
           7,
           2,
           18,
           3,
           4,
           18,
           17,
           4,
           49,
           60,
           36,
           122,
           101,
           1,
           10,
           105,
           4,
           18,
           18,
           2,
           18,
           1,
           18,
           18,
           1,
           18,
           6,
           6,
           11,
           12,
           36,
           23,
           11,
           3,
           8,
           18,
           131,
           2,
           8,
           1124,
           19,
           25,
           18,
           3,
           18,
           2,
           18,
           18,
           18,
           13,
           4,
           18,
           18,
           3,
           18,
           18,
           18,
           67,
           18,
           18,
           7,
           9,
           11,
           18,
           6,
           18,
           18,
           18,
           18,
           23,
           18,
           18,
           18,
           18,
           18,
           14,
           3,
           7,
           2,
           18,
           18,
           7,
           18,
           18,
           8,
           2,
           5,
           18,
           18,
           18,
           1,
           18,
           5,
           18,
           18,
           18,
           18,
           1,
           4,
           18,
           2,
           4,
           18,
           18,
           1,
           18,
           5,
           18,
           4,
           18,
           18,
           22,
           2,
           4,
           18,
           7,
           4,
           23,
           18,
           18,
           10,
           18,
           1,
           1,
           1,
           6,
           18,
           2,
           18,
           18,
           18,
           18,
           18,
           18,
           4,
           18,
           1,
           18,
           18,
           4,
           3,
           1,
           18,
           18,
           18,
           18,
           18,
           18,
           18,
           18,
           18,
           18,
           18
          ],
          "coloraxis": "coloraxis",
          "symbol": "circle"
         },
         "mode": "markers",
         "name": "",
         "orientation": "v",
         "showlegend": false,
         "type": "scatter",
         "x": [
          2120510,
          39583,
          660757,
          182094,
          847225,
          727234,
          84162,
          476145,
          804449,
          581544,
          18353,
          79287,
          843821,
          60761,
          15175,
          37229,
          78529,
          400470,
          18357,
          803743,
          30888,
          836193,
          70827,
          94457,
          91202,
          50178,
          25174,
          0,
          6459,
          8004,
          18350,
          49021,
          57109,
          11948,
          24088,
          57291,
          7319,
          28172,
          20230,
          10370,
          20122,
          923,
          43994,
          32464,
          30626,
          81415,
          4827,
          126498,
          8857,
          281988,
          1868,
          7343,
          5058,
          1112,
          1338,
          23248,
          114,
          9559,
          23663,
          5149,
          117250,
          29202,
          1246,
          688,
          101,
          34172,
          203183,
          18317,
          3564,
          1077,
          1327,
          1496,
          1177,
          1246,
          31824,
          1071,
          3492,
          366,
          3027,
          223,
          641,
          721,
          5446,
          6396,
          74198,
          73402,
          5681,
          840,
          48850,
          47,
          14073,
          52871,
          1246,
          6348,
          4000,
          5878,
          9064,
          435,
          79,
          139,
          1856,
          564,
          3867,
          1067,
          81483,
          3846,
          526,
          2969,
          1076,
          116,
          3872,
          1246,
          1246,
          6686,
          1246,
          18146,
          13418,
          1246,
          21047,
          4188,
          65337,
          375,
          334,
          49273,
          69,
          77,
          1101,
          651,
          59,
          227,
          82310,
          7906,
          720,
          108,
          470,
          44,
          1246,
          1246,
          15,
          13,
          78,
          64,
          1062,
          24,
          1034,
          28,
          71,
          145,
          58,
          532,
          93,
          526,
          61,
          125,
          347,
          249,
          651,
          1246,
          1246,
          221,
          1246,
          323,
          364,
          1246,
          7804,
          1569,
          292,
          22076,
          542,
          153,
          12680,
          445,
          13,
          101,
          5034,
          121,
          3405,
          224,
          51,
          14041,
          37,
          350,
          397,
          139,
          532,
          14291,
          22,
          74,
          92,
          280,
          67,
          108,
          10516,
          9189,
          654,
          22,
          723,
          3,
          3,
          729,
          9573,
          29,
          320,
          5,
          31,
          1246,
          2516,
          1246,
          356,
          13,
          4,
          23,
          21,
          10,
          1246,
          5,
          5,
          714,
          738,
          0,
          35,
          1353,
          0,
          316,
          0,
          0,
          0,
          20,
          0,
          0
         ],
         "xaxis": "x",
         "y": [
          2970,
          698,
          869,
          8318,
          1406,
          352,
          146,
          141,
          204,
          2300,
          975,
          339,
          106,
          49,
          294,
          35,
          157,
          4798,
          2771,
          18,
          342,
          3086,
          61,
          177,
          47,
          115,
          43,
          18,
          1496,
          101,
          124,
          48,
          99,
          147,
          39,
          54,
          192,
          696,
          123,
          18,
          13,
          21,
          33,
          18,
          1331,
          9,
          22,
          18,
          18,
          8,
          59,
          13,
          47,
          20,
          24,
          21,
          293,
          43,
          12,
          10,
          74,
          22,
          99,
          5,
          23,
          220,
          52,
          18,
          759,
          18,
          18,
          16,
          18,
          192,
          5,
          18,
          32,
          7,
          2,
          18,
          3,
          4,
          18,
          17,
          4,
          49,
          60,
          36,
          122,
          101,
          1,
          10,
          105,
          4,
          18,
          18,
          2,
          18,
          1,
          18,
          18,
          1,
          18,
          6,
          6,
          11,
          12,
          36,
          23,
          11,
          3,
          8,
          18,
          131,
          2,
          8,
          1124,
          19,
          25,
          18,
          3,
          18,
          2,
          18,
          18,
          18,
          13,
          4,
          18,
          18,
          3,
          18,
          18,
          18,
          67,
          18,
          18,
          7,
          9,
          11,
          18,
          6,
          18,
          18,
          18,
          18,
          23,
          18,
          18,
          18,
          18,
          18,
          14,
          3,
          7,
          2,
          18,
          18,
          7,
          18,
          18,
          8,
          2,
          5,
          18,
          18,
          18,
          1,
          18,
          5,
          18,
          18,
          18,
          18,
          1,
          4,
          18,
          2,
          4,
          18,
          18,
          1,
          18,
          5,
          18,
          4,
          18,
          18,
          22,
          2,
          4,
          18,
          7,
          4,
          23,
          18,
          18,
          10,
          18,
          1,
          1,
          1,
          6,
          18,
          2,
          18,
          18,
          18,
          18,
          18,
          18,
          4,
          18,
          1,
          18,
          18,
          4,
          3,
          1,
          18,
          18,
          18,
          18,
          18,
          18,
          18,
          18,
          18,
          18,
          18
         ],
         "yaxis": "y"
        }
       ],
       "layout": {
        "coloraxis": {
         "colorbar": {
          "title": {
           "text": "Serious Cases"
          }
         },
         "colorscale": [
          [
           0,
           "#440154"
          ],
          [
           0.1111111111111111,
           "#482878"
          ],
          [
           0.2222222222222222,
           "#3e4989"
          ],
          [
           0.3333333333333333,
           "#31688e"
          ],
          [
           0.4444444444444444,
           "#26828e"
          ],
          [
           0.5555555555555556,
           "#1f9e89"
          ],
          [
           0.6666666666666666,
           "#35b779"
          ],
          [
           0.7777777777777778,
           "#6ece58"
          ],
          [
           0.8888888888888888,
           "#b5de2b"
          ],
          [
           1,
           "#fde725"
          ]
         ]
        },
        "legend": {
         "tracegroupgap": 0
        },
        "template": {
         "data": {
          "bar": [
           {
            "error_x": {
             "color": "#2a3f5f"
            },
            "error_y": {
             "color": "#2a3f5f"
            },
            "marker": {
             "line": {
              "color": "#E5ECF6",
              "width": 0.5
             },
             "pattern": {
              "fillmode": "overlay",
              "size": 10,
              "solidity": 0.2
             }
            },
            "type": "bar"
           }
          ],
          "barpolar": [
           {
            "marker": {
             "line": {
              "color": "#E5ECF6",
              "width": 0.5
             },
             "pattern": {
              "fillmode": "overlay",
              "size": 10,
              "solidity": 0.2
             }
            },
            "type": "barpolar"
           }
          ],
          "carpet": [
           {
            "aaxis": {
             "endlinecolor": "#2a3f5f",
             "gridcolor": "white",
             "linecolor": "white",
             "minorgridcolor": "white",
             "startlinecolor": "#2a3f5f"
            },
            "baxis": {
             "endlinecolor": "#2a3f5f",
             "gridcolor": "white",
             "linecolor": "white",
             "minorgridcolor": "white",
             "startlinecolor": "#2a3f5f"
            },
            "type": "carpet"
           }
          ],
          "choropleth": [
           {
            "colorbar": {
             "outlinewidth": 0,
             "ticks": ""
            },
            "type": "choropleth"
           }
          ],
          "contour": [
           {
            "colorbar": {
             "outlinewidth": 0,
             "ticks": ""
            },
            "colorscale": [
             [
              0,
              "#0d0887"
             ],
             [
              0.1111111111111111,
              "#46039f"
             ],
             [
              0.2222222222222222,
              "#7201a8"
             ],
             [
              0.3333333333333333,
              "#9c179e"
             ],
             [
              0.4444444444444444,
              "#bd3786"
             ],
             [
              0.5555555555555556,
              "#d8576b"
             ],
             [
              0.6666666666666666,
              "#ed7953"
             ],
             [
              0.7777777777777778,
              "#fb9f3a"
             ],
             [
              0.8888888888888888,
              "#fdca26"
             ],
             [
              1,
              "#f0f921"
             ]
            ],
            "type": "contour"
           }
          ],
          "contourcarpet": [
           {
            "colorbar": {
             "outlinewidth": 0,
             "ticks": ""
            },
            "type": "contourcarpet"
           }
          ],
          "heatmap": [
           {
            "colorbar": {
             "outlinewidth": 0,
             "ticks": ""
            },
            "colorscale": [
             [
              0,
              "#0d0887"
             ],
             [
              0.1111111111111111,
              "#46039f"
             ],
             [
              0.2222222222222222,
              "#7201a8"
             ],
             [
              0.3333333333333333,
              "#9c179e"
             ],
             [
              0.4444444444444444,
              "#bd3786"
             ],
             [
              0.5555555555555556,
              "#d8576b"
             ],
             [
              0.6666666666666666,
              "#ed7953"
             ],
             [
              0.7777777777777778,
              "#fb9f3a"
             ],
             [
              0.8888888888888888,
              "#fdca26"
             ],
             [
              1,
              "#f0f921"
             ]
            ],
            "type": "heatmap"
           }
          ],
          "heatmapgl": [
           {
            "colorbar": {
             "outlinewidth": 0,
             "ticks": ""
            },
            "colorscale": [
             [
              0,
              "#0d0887"
             ],
             [
              0.1111111111111111,
              "#46039f"
             ],
             [
              0.2222222222222222,
              "#7201a8"
             ],
             [
              0.3333333333333333,
              "#9c179e"
             ],
             [
              0.4444444444444444,
              "#bd3786"
             ],
             [
              0.5555555555555556,
              "#d8576b"
             ],
             [
              0.6666666666666666,
              "#ed7953"
             ],
             [
              0.7777777777777778,
              "#fb9f3a"
             ],
             [
              0.8888888888888888,
              "#fdca26"
             ],
             [
              1,
              "#f0f921"
             ]
            ],
            "type": "heatmapgl"
           }
          ],
          "histogram": [
           {
            "marker": {
             "pattern": {
              "fillmode": "overlay",
              "size": 10,
              "solidity": 0.2
             }
            },
            "type": "histogram"
           }
          ],
          "histogram2d": [
           {
            "colorbar": {
             "outlinewidth": 0,
             "ticks": ""
            },
            "colorscale": [
             [
              0,
              "#0d0887"
             ],
             [
              0.1111111111111111,
              "#46039f"
             ],
             [
              0.2222222222222222,
              "#7201a8"
             ],
             [
              0.3333333333333333,
              "#9c179e"
             ],
             [
              0.4444444444444444,
              "#bd3786"
             ],
             [
              0.5555555555555556,
              "#d8576b"
             ],
             [
              0.6666666666666666,
              "#ed7953"
             ],
             [
              0.7777777777777778,
              "#fb9f3a"
             ],
             [
              0.8888888888888888,
              "#fdca26"
             ],
             [
              1,
              "#f0f921"
             ]
            ],
            "type": "histogram2d"
           }
          ],
          "histogram2dcontour": [
           {
            "colorbar": {
             "outlinewidth": 0,
             "ticks": ""
            },
            "colorscale": [
             [
              0,
              "#0d0887"
             ],
             [
              0.1111111111111111,
              "#46039f"
             ],
             [
              0.2222222222222222,
              "#7201a8"
             ],
             [
              0.3333333333333333,
              "#9c179e"
             ],
             [
              0.4444444444444444,
              "#bd3786"
             ],
             [
              0.5555555555555556,
              "#d8576b"
             ],
             [
              0.6666666666666666,
              "#ed7953"
             ],
             [
              0.7777777777777778,
              "#fb9f3a"
             ],
             [
              0.8888888888888888,
              "#fdca26"
             ],
             [
              1,
              "#f0f921"
             ]
            ],
            "type": "histogram2dcontour"
           }
          ],
          "mesh3d": [
           {
            "colorbar": {
             "outlinewidth": 0,
             "ticks": ""
            },
            "type": "mesh3d"
           }
          ],
          "parcoords": [
           {
            "line": {
             "colorbar": {
              "outlinewidth": 0,
              "ticks": ""
             }
            },
            "type": "parcoords"
           }
          ],
          "pie": [
           {
            "automargin": true,
            "type": "pie"
           }
          ],
          "scatter": [
           {
            "fillpattern": {
             "fillmode": "overlay",
             "size": 10,
             "solidity": 0.2
            },
            "type": "scatter"
           }
          ],
          "scatter3d": [
           {
            "line": {
             "colorbar": {
              "outlinewidth": 0,
              "ticks": ""
             }
            },
            "marker": {
             "colorbar": {
              "outlinewidth": 0,
              "ticks": ""
             }
            },
            "type": "scatter3d"
           }
          ],
          "scattercarpet": [
           {
            "marker": {
             "colorbar": {
              "outlinewidth": 0,
              "ticks": ""
             }
            },
            "type": "scattercarpet"
           }
          ],
          "scattergeo": [
           {
            "marker": {
             "colorbar": {
              "outlinewidth": 0,
              "ticks": ""
             }
            },
            "type": "scattergeo"
           }
          ],
          "scattergl": [
           {
            "marker": {
             "colorbar": {
              "outlinewidth": 0,
              "ticks": ""
             }
            },
            "type": "scattergl"
           }
          ],
          "scattermapbox": [
           {
            "marker": {
             "colorbar": {
              "outlinewidth": 0,
              "ticks": ""
             }
            },
            "type": "scattermapbox"
           }
          ],
          "scatterpolar": [
           {
            "marker": {
             "colorbar": {
              "outlinewidth": 0,
              "ticks": ""
             }
            },
            "type": "scatterpolar"
           }
          ],
          "scatterpolargl": [
           {
            "marker": {
             "colorbar": {
              "outlinewidth": 0,
              "ticks": ""
             }
            },
            "type": "scatterpolargl"
           }
          ],
          "scatterternary": [
           {
            "marker": {
             "colorbar": {
              "outlinewidth": 0,
              "ticks": ""
             }
            },
            "type": "scatterternary"
           }
          ],
          "surface": [
           {
            "colorbar": {
             "outlinewidth": 0,
             "ticks": ""
            },
            "colorscale": [
             [
              0,
              "#0d0887"
             ],
             [
              0.1111111111111111,
              "#46039f"
             ],
             [
              0.2222222222222222,
              "#7201a8"
             ],
             [
              0.3333333333333333,
              "#9c179e"
             ],
             [
              0.4444444444444444,
              "#bd3786"
             ],
             [
              0.5555555555555556,
              "#d8576b"
             ],
             [
              0.6666666666666666,
              "#ed7953"
             ],
             [
              0.7777777777777778,
              "#fb9f3a"
             ],
             [
              0.8888888888888888,
              "#fdca26"
             ],
             [
              1,
              "#f0f921"
             ]
            ],
            "type": "surface"
           }
          ],
          "table": [
           {
            "cells": {
             "fill": {
              "color": "#EBF0F8"
             },
             "line": {
              "color": "white"
             }
            },
            "header": {
             "fill": {
              "color": "#C8D4E3"
             },
             "line": {
              "color": "white"
             }
            },
            "type": "table"
           }
          ]
         },
         "layout": {
          "annotationdefaults": {
           "arrowcolor": "#2a3f5f",
           "arrowhead": 0,
           "arrowwidth": 1
          },
          "autotypenumbers": "strict",
          "coloraxis": {
           "colorbar": {
            "outlinewidth": 0,
            "ticks": ""
           }
          },
          "colorscale": {
           "diverging": [
            [
             0,
             "#8e0152"
            ],
            [
             0.1,
             "#c51b7d"
            ],
            [
             0.2,
             "#de77ae"
            ],
            [
             0.3,
             "#f1b6da"
            ],
            [
             0.4,
             "#fde0ef"
            ],
            [
             0.5,
             "#f7f7f7"
            ],
            [
             0.6,
             "#e6f5d0"
            ],
            [
             0.7,
             "#b8e186"
            ],
            [
             0.8,
             "#7fbc41"
            ],
            [
             0.9,
             "#4d9221"
            ],
            [
             1,
             "#276419"
            ]
           ],
           "sequential": [
            [
             0,
             "#0d0887"
            ],
            [
             0.1111111111111111,
             "#46039f"
            ],
            [
             0.2222222222222222,
             "#7201a8"
            ],
            [
             0.3333333333333333,
             "#9c179e"
            ],
            [
             0.4444444444444444,
             "#bd3786"
            ],
            [
             0.5555555555555556,
             "#d8576b"
            ],
            [
             0.6666666666666666,
             "#ed7953"
            ],
            [
             0.7777777777777778,
             "#fb9f3a"
            ],
            [
             0.8888888888888888,
             "#fdca26"
            ],
            [
             1,
             "#f0f921"
            ]
           ],
           "sequentialminus": [
            [
             0,
             "#0d0887"
            ],
            [
             0.1111111111111111,
             "#46039f"
            ],
            [
             0.2222222222222222,
             "#7201a8"
            ],
            [
             0.3333333333333333,
             "#9c179e"
            ],
            [
             0.4444444444444444,
             "#bd3786"
            ],
            [
             0.5555555555555556,
             "#d8576b"
            ],
            [
             0.6666666666666666,
             "#ed7953"
            ],
            [
             0.7777777777777778,
             "#fb9f3a"
            ],
            [
             0.8888888888888888,
             "#fdca26"
            ],
            [
             1,
             "#f0f921"
            ]
           ]
          },
          "colorway": [
           "#636efa",
           "#EF553B",
           "#00cc96",
           "#ab63fa",
           "#FFA15A",
           "#19d3f3",
           "#FF6692",
           "#B6E880",
           "#FF97FF",
           "#FECB52"
          ],
          "font": {
           "color": "#2a3f5f"
          },
          "geo": {
           "bgcolor": "white",
           "lakecolor": "white",
           "landcolor": "#E5ECF6",
           "showlakes": true,
           "showland": true,
           "subunitcolor": "white"
          },
          "hoverlabel": {
           "align": "left"
          },
          "hovermode": "closest",
          "mapbox": {
           "style": "light"
          },
          "paper_bgcolor": "white",
          "plot_bgcolor": "#E5ECF6",
          "polar": {
           "angularaxis": {
            "gridcolor": "white",
            "linecolor": "white",
            "ticks": ""
           },
           "bgcolor": "#E5ECF6",
           "radialaxis": {
            "gridcolor": "white",
            "linecolor": "white",
            "ticks": ""
           }
          },
          "scene": {
           "xaxis": {
            "backgroundcolor": "#E5ECF6",
            "gridcolor": "white",
            "gridwidth": 2,
            "linecolor": "white",
            "showbackground": true,
            "ticks": "",
            "zerolinecolor": "white"
           },
           "yaxis": {
            "backgroundcolor": "#E5ECF6",
            "gridcolor": "white",
            "gridwidth": 2,
            "linecolor": "white",
            "showbackground": true,
            "ticks": "",
            "zerolinecolor": "white"
           },
           "zaxis": {
            "backgroundcolor": "#E5ECF6",
            "gridcolor": "white",
            "gridwidth": 2,
            "linecolor": "white",
            "showbackground": true,
            "ticks": "",
            "zerolinecolor": "white"
           }
          },
          "shapedefaults": {
           "line": {
            "color": "#2a3f5f"
           }
          },
          "ternary": {
           "aaxis": {
            "gridcolor": "white",
            "linecolor": "white",
            "ticks": ""
           },
           "baxis": {
            "gridcolor": "white",
            "linecolor": "white",
            "ticks": ""
           },
           "bgcolor": "#E5ECF6",
           "caxis": {
            "gridcolor": "white",
            "linecolor": "white",
            "ticks": ""
           }
          },
          "title": {
           "x": 0.05
          },
          "xaxis": {
           "automargin": true,
           "gridcolor": "white",
           "linecolor": "white",
           "ticks": "",
           "title": {
            "standoff": 15
           },
           "zerolinecolor": "white",
           "zerolinewidth": 2
          },
          "yaxis": {
           "automargin": true,
           "gridcolor": "white",
           "linecolor": "white",
           "ticks": "",
           "title": {
            "standoff": 15
           },
           "zerolinecolor": "white",
           "zerolinewidth": 2
          }
         }
        },
        "title": {
         "text": "Active Cases vs Serious Cases"
        },
        "xaxis": {
         "anchor": "y",
         "domain": [
          0,
          1
         ],
         "title": {
          "text": "Active Cases"
         }
        },
        "yaxis": {
         "anchor": "x",
         "domain": [
          0,
          1
         ],
         "title": {
          "text": "Serious Cases"
         }
        }
       }
      },
      "text/html": [
       "<div>                            <div id=\"ebbb696e-53fa-430c-942c-317e7b27ab84\" class=\"plotly-graph-div\" style=\"height:525px; width:100%;\"></div>            <script type=\"text/javascript\">                require([\"plotly\"], function(Plotly) {                    window.PLOTLYENV=window.PLOTLYENV || {};                                    if (document.getElementById(\"ebbb696e-53fa-430c-942c-317e7b27ab84\")) {                    Plotly.newPlot(                        \"ebbb696e-53fa-430c-942c-317e7b27ab84\",                        [{\"hovertemplate\":\"Active Cases=%{x}\\u003cbr\\u003eSerious Cases=%{marker.color}\\u003cextra\\u003e\\u003c\\u002fextra\\u003e\",\"legendgroup\":\"\",\"marker\":{\"color\":[2970.0,698.0,869.0,8318.0,1406.0,352.0,146.0,141.0,204.0,2300.0,975.0,339.0,106.0,49.0,294.0,35.0,157.0,4798.0,2771.0,18.0,342.0,3086.0,61.0,177.0,47.0,115.0,43.0,18.0,1496.0,101.0,124.0,48.0,99.0,147.0,39.0,54.0,192.0,696.0,123.0,18.0,13.0,21.0,33.0,18.0,1331.0,9.0,22.0,18.0,18.0,8.0,59.0,13.0,47.0,20.0,24.0,21.0,293.0,43.0,12.0,10.0,74.0,22.0,99.0,5.0,23.0,220.0,52.0,18.0,759.0,18.0,18.0,16.0,18.0,192.0,5.0,18.0,32.0,7.0,2.0,18.0,3.0,4.0,18.0,17.0,4.0,49.0,60.0,36.0,122.0,101.0,1.0,10.0,105.0,4.0,18.0,18.0,2.0,18.0,1.0,18.0,18.0,1.0,18.0,6.0,6.0,11.0,12.0,36.0,23.0,11.0,3.0,8.0,18.0,131.0,2.0,8.0,1124.0,19.0,25.0,18.0,3.0,18.0,2.0,18.0,18.0,18.0,13.0,4.0,18.0,18.0,3.0,18.0,18.0,18.0,67.0,18.0,18.0,7.0,9.0,11.0,18.0,6.0,18.0,18.0,18.0,18.0,23.0,18.0,18.0,18.0,18.0,18.0,14.0,3.0,7.0,2.0,18.0,18.0,7.0,18.0,18.0,8.0,2.0,5.0,18.0,18.0,18.0,1.0,18.0,5.0,18.0,18.0,18.0,18.0,1.0,4.0,18.0,2.0,4.0,18.0,18.0,1.0,18.0,5.0,18.0,4.0,18.0,18.0,22.0,2.0,4.0,18.0,7.0,4.0,23.0,18.0,18.0,10.0,18.0,1.0,1.0,1.0,6.0,18.0,2.0,18.0,18.0,18.0,18.0,18.0,18.0,4.0,18.0,1.0,18.0,18.0,4.0,3.0,1.0,18.0,18.0,18.0,18.0,18.0,18.0,18.0,18.0,18.0,18.0,18.0],\"coloraxis\":\"coloraxis\",\"symbol\":\"circle\"},\"mode\":\"markers\",\"name\":\"\",\"orientation\":\"v\",\"showlegend\":false,\"x\":[2120510.0,39583.0,660757.0,182094.0,847225.0,727234.0,84162.0,476145.0,804449.0,581544.0,18353.0,79287.0,843821.0,60761.0,15175.0,37229.0,78529.0,400470.0,18357.0,803743.0,30888.0,836193.0,70827.0,94457.0,91202.0,50178.0,25174.0,0.0,6459.0,8004.0,18350.0,49021.0,57109.0,11948.0,24088.0,57291.0,7319.0,28172.0,20230.0,10370.0,20122.0,923.0,43994.0,32464.0,30626.0,81415.0,4827.0,126498.0,8857.0,281988.0,1868.0,7343.0,5058.0,1112.0,1338.0,23248.0,114.0,9559.0,23663.0,5149.0,117250.0,29202.0,1246.0,688.0,101.0,34172.0,203183.0,18317.0,3564.0,1077.0,1327.0,1496.0,1177.0,1246.0,31824.0,1071.0,3492.0,366.0,3027.0,223.0,641.0,721.0,5446.0,6396.0,74198.0,73402.0,5681.0,840.0,48850.0,47.0,14073.0,52871.0,1246.0,6348.0,4000.0,5878.0,9064.0,435.0,79.0,139.0,1856.0,564.0,3867.0,1067.0,81483.0,3846.0,526.0,2969.0,1076.0,116.0,3872.0,1246.0,1246.0,6686.0,1246.0,18146.0,13418.0,1246.0,21047.0,4188.0,65337.0,375.0,334.0,49273.0,69.0,77.0,1101.0,651.0,59.0,227.0,82310.0,7906.0,720.0,108.0,470.0,44.0,1246.0,1246.0,15.0,13.0,78.0,64.0,1062.0,24.0,1034.0,28.0,71.0,145.0,58.0,532.0,93.0,526.0,61.0,125.0,347.0,249.0,651.0,1246.0,1246.0,221.0,1246.0,323.0,364.0,1246.0,7804.0,1569.0,292.0,22076.0,542.0,153.0,12680.0,445.0,13.0,101.0,5034.0,121.0,3405.0,224.0,51.0,14041.0,37.0,350.0,397.0,139.0,532.0,14291.0,22.0,74.0,92.0,280.0,67.0,108.0,10516.0,9189.0,654.0,22.0,723.0,3.0,3.0,729.0,9573.0,29.0,320.0,5.0,31.0,1246.0,2516.0,1246.0,356.0,13.0,4.0,23.0,21.0,10.0,1246.0,5.0,5.0,714.0,738.0,0.0,35.0,1353.0,0.0,316.0,0.0,0.0,0.0,20.0,0.0,0.0],\"xaxis\":\"x\",\"y\":[2970.0,698.0,869.0,8318.0,1406.0,352.0,146.0,141.0,204.0,2300.0,975.0,339.0,106.0,49.0,294.0,35.0,157.0,4798.0,2771.0,18.0,342.0,3086.0,61.0,177.0,47.0,115.0,43.0,18.0,1496.0,101.0,124.0,48.0,99.0,147.0,39.0,54.0,192.0,696.0,123.0,18.0,13.0,21.0,33.0,18.0,1331.0,9.0,22.0,18.0,18.0,8.0,59.0,13.0,47.0,20.0,24.0,21.0,293.0,43.0,12.0,10.0,74.0,22.0,99.0,5.0,23.0,220.0,52.0,18.0,759.0,18.0,18.0,16.0,18.0,192.0,5.0,18.0,32.0,7.0,2.0,18.0,3.0,4.0,18.0,17.0,4.0,49.0,60.0,36.0,122.0,101.0,1.0,10.0,105.0,4.0,18.0,18.0,2.0,18.0,1.0,18.0,18.0,1.0,18.0,6.0,6.0,11.0,12.0,36.0,23.0,11.0,3.0,8.0,18.0,131.0,2.0,8.0,1124.0,19.0,25.0,18.0,3.0,18.0,2.0,18.0,18.0,18.0,13.0,4.0,18.0,18.0,3.0,18.0,18.0,18.0,67.0,18.0,18.0,7.0,9.0,11.0,18.0,6.0,18.0,18.0,18.0,18.0,23.0,18.0,18.0,18.0,18.0,18.0,14.0,3.0,7.0,2.0,18.0,18.0,7.0,18.0,18.0,8.0,2.0,5.0,18.0,18.0,18.0,1.0,18.0,5.0,18.0,18.0,18.0,18.0,1.0,4.0,18.0,2.0,4.0,18.0,18.0,1.0,18.0,5.0,18.0,4.0,18.0,18.0,22.0,2.0,4.0,18.0,7.0,4.0,23.0,18.0,18.0,10.0,18.0,1.0,1.0,1.0,6.0,18.0,2.0,18.0,18.0,18.0,18.0,18.0,18.0,4.0,18.0,1.0,18.0,18.0,4.0,3.0,1.0,18.0,18.0,18.0,18.0,18.0,18.0,18.0,18.0,18.0,18.0,18.0],\"yaxis\":\"y\",\"type\":\"scatter\"}],                        {\"template\":{\"data\":{\"histogram2dcontour\":[{\"type\":\"histogram2dcontour\",\"colorbar\":{\"outlinewidth\":0,\"ticks\":\"\"},\"colorscale\":[[0.0,\"#0d0887\"],[0.1111111111111111,\"#46039f\"],[0.2222222222222222,\"#7201a8\"],[0.3333333333333333,\"#9c179e\"],[0.4444444444444444,\"#bd3786\"],[0.5555555555555556,\"#d8576b\"],[0.6666666666666666,\"#ed7953\"],[0.7777777777777778,\"#fb9f3a\"],[0.8888888888888888,\"#fdca26\"],[1.0,\"#f0f921\"]]}],\"choropleth\":[{\"type\":\"choropleth\",\"colorbar\":{\"outlinewidth\":0,\"ticks\":\"\"}}],\"histogram2d\":[{\"type\":\"histogram2d\",\"colorbar\":{\"outlinewidth\":0,\"ticks\":\"\"},\"colorscale\":[[0.0,\"#0d0887\"],[0.1111111111111111,\"#46039f\"],[0.2222222222222222,\"#7201a8\"],[0.3333333333333333,\"#9c179e\"],[0.4444444444444444,\"#bd3786\"],[0.5555555555555556,\"#d8576b\"],[0.6666666666666666,\"#ed7953\"],[0.7777777777777778,\"#fb9f3a\"],[0.8888888888888888,\"#fdca26\"],[1.0,\"#f0f921\"]]}],\"heatmap\":[{\"type\":\"heatmap\",\"colorbar\":{\"outlinewidth\":0,\"ticks\":\"\"},\"colorscale\":[[0.0,\"#0d0887\"],[0.1111111111111111,\"#46039f\"],[0.2222222222222222,\"#7201a8\"],[0.3333333333333333,\"#9c179e\"],[0.4444444444444444,\"#bd3786\"],[0.5555555555555556,\"#d8576b\"],[0.6666666666666666,\"#ed7953\"],[0.7777777777777778,\"#fb9f3a\"],[0.8888888888888888,\"#fdca26\"],[1.0,\"#f0f921\"]]}],\"heatmapgl\":[{\"type\":\"heatmapgl\",\"colorbar\":{\"outlinewidth\":0,\"ticks\":\"\"},\"colorscale\":[[0.0,\"#0d0887\"],[0.1111111111111111,\"#46039f\"],[0.2222222222222222,\"#7201a8\"],[0.3333333333333333,\"#9c179e\"],[0.4444444444444444,\"#bd3786\"],[0.5555555555555556,\"#d8576b\"],[0.6666666666666666,\"#ed7953\"],[0.7777777777777778,\"#fb9f3a\"],[0.8888888888888888,\"#fdca26\"],[1.0,\"#f0f921\"]]}],\"contourcarpet\":[{\"type\":\"contourcarpet\",\"colorbar\":{\"outlinewidth\":0,\"ticks\":\"\"}}],\"contour\":[{\"type\":\"contour\",\"colorbar\":{\"outlinewidth\":0,\"ticks\":\"\"},\"colorscale\":[[0.0,\"#0d0887\"],[0.1111111111111111,\"#46039f\"],[0.2222222222222222,\"#7201a8\"],[0.3333333333333333,\"#9c179e\"],[0.4444444444444444,\"#bd3786\"],[0.5555555555555556,\"#d8576b\"],[0.6666666666666666,\"#ed7953\"],[0.7777777777777778,\"#fb9f3a\"],[0.8888888888888888,\"#fdca26\"],[1.0,\"#f0f921\"]]}],\"surface\":[{\"type\":\"surface\",\"colorbar\":{\"outlinewidth\":0,\"ticks\":\"\"},\"colorscale\":[[0.0,\"#0d0887\"],[0.1111111111111111,\"#46039f\"],[0.2222222222222222,\"#7201a8\"],[0.3333333333333333,\"#9c179e\"],[0.4444444444444444,\"#bd3786\"],[0.5555555555555556,\"#d8576b\"],[0.6666666666666666,\"#ed7953\"],[0.7777777777777778,\"#fb9f3a\"],[0.8888888888888888,\"#fdca26\"],[1.0,\"#f0f921\"]]}],\"mesh3d\":[{\"type\":\"mesh3d\",\"colorbar\":{\"outlinewidth\":0,\"ticks\":\"\"}}],\"scatter\":[{\"fillpattern\":{\"fillmode\":\"overlay\",\"size\":10,\"solidity\":0.2},\"type\":\"scatter\"}],\"parcoords\":[{\"type\":\"parcoords\",\"line\":{\"colorbar\":{\"outlinewidth\":0,\"ticks\":\"\"}}}],\"scatterpolargl\":[{\"type\":\"scatterpolargl\",\"marker\":{\"colorbar\":{\"outlinewidth\":0,\"ticks\":\"\"}}}],\"bar\":[{\"error_x\":{\"color\":\"#2a3f5f\"},\"error_y\":{\"color\":\"#2a3f5f\"},\"marker\":{\"line\":{\"color\":\"#E5ECF6\",\"width\":0.5},\"pattern\":{\"fillmode\":\"overlay\",\"size\":10,\"solidity\":0.2}},\"type\":\"bar\"}],\"scattergeo\":[{\"type\":\"scattergeo\",\"marker\":{\"colorbar\":{\"outlinewidth\":0,\"ticks\":\"\"}}}],\"scatterpolar\":[{\"type\":\"scatterpolar\",\"marker\":{\"colorbar\":{\"outlinewidth\":0,\"ticks\":\"\"}}}],\"histogram\":[{\"marker\":{\"pattern\":{\"fillmode\":\"overlay\",\"size\":10,\"solidity\":0.2}},\"type\":\"histogram\"}],\"scattergl\":[{\"type\":\"scattergl\",\"marker\":{\"colorbar\":{\"outlinewidth\":0,\"ticks\":\"\"}}}],\"scatter3d\":[{\"type\":\"scatter3d\",\"line\":{\"colorbar\":{\"outlinewidth\":0,\"ticks\":\"\"}},\"marker\":{\"colorbar\":{\"outlinewidth\":0,\"ticks\":\"\"}}}],\"scattermapbox\":[{\"type\":\"scattermapbox\",\"marker\":{\"colorbar\":{\"outlinewidth\":0,\"ticks\":\"\"}}}],\"scatterternary\":[{\"type\":\"scatterternary\",\"marker\":{\"colorbar\":{\"outlinewidth\":0,\"ticks\":\"\"}}}],\"scattercarpet\":[{\"type\":\"scattercarpet\",\"marker\":{\"colorbar\":{\"outlinewidth\":0,\"ticks\":\"\"}}}],\"carpet\":[{\"aaxis\":{\"endlinecolor\":\"#2a3f5f\",\"gridcolor\":\"white\",\"linecolor\":\"white\",\"minorgridcolor\":\"white\",\"startlinecolor\":\"#2a3f5f\"},\"baxis\":{\"endlinecolor\":\"#2a3f5f\",\"gridcolor\":\"white\",\"linecolor\":\"white\",\"minorgridcolor\":\"white\",\"startlinecolor\":\"#2a3f5f\"},\"type\":\"carpet\"}],\"table\":[{\"cells\":{\"fill\":{\"color\":\"#EBF0F8\"},\"line\":{\"color\":\"white\"}},\"header\":{\"fill\":{\"color\":\"#C8D4E3\"},\"line\":{\"color\":\"white\"}},\"type\":\"table\"}],\"barpolar\":[{\"marker\":{\"line\":{\"color\":\"#E5ECF6\",\"width\":0.5},\"pattern\":{\"fillmode\":\"overlay\",\"size\":10,\"solidity\":0.2}},\"type\":\"barpolar\"}],\"pie\":[{\"automargin\":true,\"type\":\"pie\"}]},\"layout\":{\"autotypenumbers\":\"strict\",\"colorway\":[\"#636efa\",\"#EF553B\",\"#00cc96\",\"#ab63fa\",\"#FFA15A\",\"#19d3f3\",\"#FF6692\",\"#B6E880\",\"#FF97FF\",\"#FECB52\"],\"font\":{\"color\":\"#2a3f5f\"},\"hovermode\":\"closest\",\"hoverlabel\":{\"align\":\"left\"},\"paper_bgcolor\":\"white\",\"plot_bgcolor\":\"#E5ECF6\",\"polar\":{\"bgcolor\":\"#E5ECF6\",\"angularaxis\":{\"gridcolor\":\"white\",\"linecolor\":\"white\",\"ticks\":\"\"},\"radialaxis\":{\"gridcolor\":\"white\",\"linecolor\":\"white\",\"ticks\":\"\"}},\"ternary\":{\"bgcolor\":\"#E5ECF6\",\"aaxis\":{\"gridcolor\":\"white\",\"linecolor\":\"white\",\"ticks\":\"\"},\"baxis\":{\"gridcolor\":\"white\",\"linecolor\":\"white\",\"ticks\":\"\"},\"caxis\":{\"gridcolor\":\"white\",\"linecolor\":\"white\",\"ticks\":\"\"}},\"coloraxis\":{\"colorbar\":{\"outlinewidth\":0,\"ticks\":\"\"}},\"colorscale\":{\"sequential\":[[0.0,\"#0d0887\"],[0.1111111111111111,\"#46039f\"],[0.2222222222222222,\"#7201a8\"],[0.3333333333333333,\"#9c179e\"],[0.4444444444444444,\"#bd3786\"],[0.5555555555555556,\"#d8576b\"],[0.6666666666666666,\"#ed7953\"],[0.7777777777777778,\"#fb9f3a\"],[0.8888888888888888,\"#fdca26\"],[1.0,\"#f0f921\"]],\"sequentialminus\":[[0.0,\"#0d0887\"],[0.1111111111111111,\"#46039f\"],[0.2222222222222222,\"#7201a8\"],[0.3333333333333333,\"#9c179e\"],[0.4444444444444444,\"#bd3786\"],[0.5555555555555556,\"#d8576b\"],[0.6666666666666666,\"#ed7953\"],[0.7777777777777778,\"#fb9f3a\"],[0.8888888888888888,\"#fdca26\"],[1.0,\"#f0f921\"]],\"diverging\":[[0,\"#8e0152\"],[0.1,\"#c51b7d\"],[0.2,\"#de77ae\"],[0.3,\"#f1b6da\"],[0.4,\"#fde0ef\"],[0.5,\"#f7f7f7\"],[0.6,\"#e6f5d0\"],[0.7,\"#b8e186\"],[0.8,\"#7fbc41\"],[0.9,\"#4d9221\"],[1,\"#276419\"]]},\"xaxis\":{\"gridcolor\":\"white\",\"linecolor\":\"white\",\"ticks\":\"\",\"title\":{\"standoff\":15},\"zerolinecolor\":\"white\",\"automargin\":true,\"zerolinewidth\":2},\"yaxis\":{\"gridcolor\":\"white\",\"linecolor\":\"white\",\"ticks\":\"\",\"title\":{\"standoff\":15},\"zerolinecolor\":\"white\",\"automargin\":true,\"zerolinewidth\":2},\"scene\":{\"xaxis\":{\"backgroundcolor\":\"#E5ECF6\",\"gridcolor\":\"white\",\"linecolor\":\"white\",\"showbackground\":true,\"ticks\":\"\",\"zerolinecolor\":\"white\",\"gridwidth\":2},\"yaxis\":{\"backgroundcolor\":\"#E5ECF6\",\"gridcolor\":\"white\",\"linecolor\":\"white\",\"showbackground\":true,\"ticks\":\"\",\"zerolinecolor\":\"white\",\"gridwidth\":2},\"zaxis\":{\"backgroundcolor\":\"#E5ECF6\",\"gridcolor\":\"white\",\"linecolor\":\"white\",\"showbackground\":true,\"ticks\":\"\",\"zerolinecolor\":\"white\",\"gridwidth\":2}},\"shapedefaults\":{\"line\":{\"color\":\"#2a3f5f\"}},\"annotationdefaults\":{\"arrowcolor\":\"#2a3f5f\",\"arrowhead\":0,\"arrowwidth\":1},\"geo\":{\"bgcolor\":\"white\",\"landcolor\":\"#E5ECF6\",\"subunitcolor\":\"white\",\"showland\":true,\"showlakes\":true,\"lakecolor\":\"white\"},\"title\":{\"x\":0.05},\"mapbox\":{\"style\":\"light\"}}},\"xaxis\":{\"anchor\":\"y\",\"domain\":[0.0,1.0],\"title\":{\"text\":\"Active Cases\"}},\"yaxis\":{\"anchor\":\"x\",\"domain\":[0.0,1.0],\"title\":{\"text\":\"Serious Cases\"}},\"coloraxis\":{\"colorbar\":{\"title\":{\"text\":\"Serious Cases\"}},\"colorscale\":[[0.0,\"#440154\"],[0.1111111111111111,\"#482878\"],[0.2222222222222222,\"#3e4989\"],[0.3333333333333333,\"#31688e\"],[0.4444444444444444,\"#26828e\"],[0.5555555555555556,\"#1f9e89\"],[0.6666666666666666,\"#35b779\"],[0.7777777777777778,\"#6ece58\"],[0.8888888888888888,\"#b5de2b\"],[1.0,\"#fde725\"]]},\"legend\":{\"tracegroupgap\":0},\"title\":{\"text\":\"Active Cases vs Serious Cases\"}},                        {\"responsive\": true}                    ).then(function(){\n",
       "                            \n",
       "var gd = document.getElementById('ebbb696e-53fa-430c-942c-317e7b27ab84');\n",
       "var x = new MutationObserver(function (mutations, observer) {{\n",
       "        var display = window.getComputedStyle(gd).display;\n",
       "        if (!display || display === 'none') {{\n",
       "            console.log([gd, 'removed!']);\n",
       "            Plotly.purge(gd);\n",
       "            observer.disconnect();\n",
       "        }}\n",
       "}});\n",
       "\n",
       "// Listen for the removal of the full notebook cells\n",
       "var notebookContainer = gd.closest('#notebook-container');\n",
       "if (notebookContainer) {{\n",
       "    x.observe(notebookContainer, {childList: true});\n",
       "}}\n",
       "\n",
       "// Listen for the clearing of the current output cell\n",
       "var outputEl = gd.closest('.output');\n",
       "if (outputEl) {{\n",
       "    x.observe(outputEl, {childList: true});\n",
       "}}\n",
       "\n",
       "                        })                };                });            </script>        </div>"
      ]
     },
     "metadata": {},
     "output_type": "display_data"
    }
   ],
   "source": [
    "fig = px.scatter(df, x='Active Cases', y='Serious Cases', title=\"Active Cases vs Serious Cases\", color_continuous_scale='Viridis', color='Serious Cases')\n",
    "fig.show()"
   ]
  },
  {
   "cell_type": "markdown",
   "id": "62b0776e-92c7-4748-a736-c137a6493fed",
   "metadata": {},
   "source": [
    "# Country Population and Total Cases"
   ]
  },
  {
   "cell_type": "code",
   "execution_count": 27,
   "id": "fd82309b-ee4b-4433-aac9-ad058c8404b1",
   "metadata": {},
   "outputs": [
    {
     "data": {
      "application/vnd.plotly.v1+json": {
       "config": {
        "plotlyServerURL": "https://plot.ly"
       },
       "data": [
        {
         "autocolorscale": false,
         "colorbar": {
          "title": {
           "text": "Total Cases"
          }
         },
         "colorscale": [
          [
           0,
           "#440154"
          ],
          [
           0.1111111111111111,
           "#482878"
          ],
          [
           0.2222222222222222,
           "#3e4989"
          ],
          [
           0.3333333333333333,
           "#31688e"
          ],
          [
           0.4444444444444444,
           "#26828e"
          ],
          [
           0.5555555555555556,
           "#1f9e89"
          ],
          [
           0.6666666666666666,
           "#35b779"
          ],
          [
           0.7777777777777778,
           "#6ece58"
          ],
          [
           0.8888888888888888,
           "#b5de2b"
          ],
          [
           1,
           "#fde725"
          ]
         ],
         "locationmode": "country names",
         "locations": [
          "USA",
          "India",
          "France",
          "Brazil",
          "Germany",
          "S. Korea",
          "UK",
          "Italy",
          "Japan",
          "Russia",
          "Turkey",
          "Spain",
          "Vietnam",
          "Australia",
          "Argentina",
          "Netherlands",
          "Iran",
          "Mexico",
          "Indonesia",
          "Taiwan",
          "Colombia",
          "Poland",
          "Portugal",
          "Ukraine",
          "Austria",
          "Greece",
          "Malaysia",
          "DPRK",
          "Thailand",
          "Israel",
          "Chile",
          "Belgium",
          "Canada",
          "Peru",
          "Czechia",
          "Switzerland",
          "South Africa",
          "Philippines",
          "Romania",
          "Denmark",
          "Sweden",
          "Iraq",
          "Serbia",
          "Hungary",
          "Bangladesh",
          "Singapore",
          "Slovakia",
          "Georgia",
          "New Zealand",
          "Hong Kong",
          "Jordan",
          "Ireland",
          "Pakistan",
          "Norway",
          "Kazakhstan",
          "Finland",
          "Morocco",
          "Bulgaria",
          "Lithuania",
          "Croatia",
          "Lebanon",
          "Slovenia",
          "Tunisia",
          "Guatemala",
          "Cuba",
          "Bolivia",
          "Costa Rica",
          "UAE",
          "Ecuador",
          "Nepal",
          "Belarus",
          "Panama",
          "Uruguay",
          "Mongolia",
          "Latvia",
          "Azerbaijan",
          "Saudi Arabia",
          "Paraguay",
          "Bahrain",
          "Sri Lanka",
          "Kuwait",
          "Dominican Republic",
          "Myanmar",
          "Palestine",
          "Estonia",
          "Moldova",
          "Cyprus",
          "Venezuela",
          "Egypt",
          "Libya",
          "Ethiopia",
          "Réunion",
          "Honduras",
          "Qatar",
          "Armenia",
          "Bosnia and Herzegovina",
          "Oman",
          "North Macedonia",
          "Kenya",
          "Zambia",
          "Albania",
          "Botswana",
          "Luxembourg",
          "Montenegro",
          "Algeria",
          "Nigeria",
          "Zimbabwe",
          "China",
          "Uzbekistan",
          "Mozambique",
          "Brunei",
          "Martinique",
          "Laos",
          "Kyrgyzstan",
          "Iceland",
          "El Salvador",
          "Afghanistan",
          "Guadeloupe",
          "Maldives",
          "Trinidad and Tobago",
          "Uganda",
          "Namibia",
          "Ghana",
          "Jamaica",
          "Cambodia",
          "Rwanda",
          "Cameroon",
          "Malta",
          "Angola",
          "Barbados",
          "French Guiana",
          "DRC",
          "Channel Islands",
          "Senegal",
          "Malawi",
          "Ivory Coast",
          "Suriname",
          "French Polynesia",
          "New Caledonia",
          "Eswatini",
          "Guyana",
          "Belize",
          "Fiji",
          "Madagascar",
          "Sudan",
          "Mauritania",
          "Cabo Verde",
          "Bhutan",
          "Syria",
          "Burundi",
          "Gabon",
          "Seychelles",
          "Andorra",
          "Curaçao",
          "Papua New Guinea",
          "Aruba",
          "Mauritius",
          "Mayotte",
          "Tanzania",
          "Togo",
          "Isle of Man",
          "Guinea",
          "Bahamas",
          "Faeroe Islands",
          "Lesotho",
          "Haiti",
          "Mali",
          "Cayman Islands",
          "Saint Lucia",
          "Benin",
          "Somalia",
          "Congo",
          "Timor-Leste",
          "Burkina Faso",
          "Solomon Islands",
          "San Marino",
          "Gibraltar",
          "Liechtenstein",
          "Grenada",
          "Nicaragua",
          "Bermuda",
          "South Sudan",
          "Tajikistan",
          "Equatorial Guinea",
          "Tonga",
          "Samoa",
          "Dominica",
          "Djibouti",
          "Marshall Islands",
          "CAR",
          "Monaco",
          "Gambia",
          "Saint Martin",
          "Greenland",
          "Yemen",
          "Vanuatu",
          "Caribbean Netherlands",
          "Sint Maarten",
          "Eritrea",
          "Niger",
          "Micronesia",
          "Antigua and Barbuda",
          "Guinea-Bissau",
          "Comoros",
          "Liberia",
          "Sierra Leone",
          "Chad",
          "British Virgin Islands",
          "St. Vincent Grenadines",
          "Saint Kitts and Nevis",
          "Cook Islands",
          "Turks and Caicos",
          "Sao Tome and Principe",
          "Palau",
          "St. Barth",
          "Nauru",
          "Anguilla",
          "Kiribati",
          "Saint Pierre Miquelon",
          "Falkland Islands",
          "Montserrat",
          "Saint Helena",
          "Macao",
          "Wallis and Futuna",
          "Diamond Princess",
          "Niue",
          "Vatican City",
          "Tuvalu",
          "Western Sahara",
          "MS Zaandam"
         ],
         "marker": {
          "line": {
           "color": "white"
          }
         },
         "text": [
          334805269,
          1406631776,
          65584518,
          215353593,
          83883596,
          51329899,
          68497907,
          60262770,
          125584838,
          145805947,
          85561976,
          46719142,
          98953541,
          26068792,
          46010234,
          17211447,
          86022837,
          131562772,
          279134505,
          23888595,
          51512762,
          37739785,
          10140570,
          43192122,
          9066710,
          10316637,
          33181072,
          25990679,
          70078203,
          9326000,
          19250195,
          11668278,
          38388419,
          33684208,
          10736784,
          8773637,
          60756135,
          112508994,
          19031335,
          5834950,
          10218971,
          42164965,
          8653016,
          9606259,
          167885689,
          5943546,
          5460193,
          3968738,
          4898203,
          7604299,
          10300869,
          5020199,
          229488994,
          5511370,
          19205043,
          5554960,
          37772756,
          6844597,
          2661708,
          4059286,
          6684849,
          2078034,
          12046656,
          18584039,
          11305652,
          11992656,
          5182354,
          10081785,
          18113361,
          30225582,
          9432800,
          4446964,
          3496016,
          3378078,
          1848837,
          10300205,
          35844909,
          7305843,
          1783983,
          21575842,
          4380326,
          11056370,
          55227143,
          5345541,
          1321910,
          4013171,
          1223387,
          29266991,
          106156692,
          7040745,
          120812698,
          908061,
          10221247,
          2979915,
          2971966,
          3249317,
          5323993,
          2081304,
          56215221,
          19470234,
          2866374,
          2441162,
          642371,
          627950,
          45350148,
          216746934,
          15331428,
          1448471400,
          34382084,
          33089461,
          445431,
          374087,
          7481023,
          6728271,
          345393,
          6550389,
          40754388,
          399794,
          540985,
          1406585,
          48432863,
          2633874,
          32395450,
          2985094,
          17168639,
          13600464,
          27911548,
          444033,
          35027343,
          288023,
          314169,
          95240792,
          176463,
          17653671,
          20180839,
          27742298,
          596831,
          284164,
          290915,
          1184817,
          794045,
          412190,
          909466,
          29178077,
          45992020,
          4901981,
          567678,
          787941,
          19364809,
          12624840,
          2331533,
          99426,
          77463,
          165529,
          9292169,
          107609,
          1274727,
          286259,
          63298550,
          8680837,
          85732,
          13865691,
          400516,
          49233,
          2175699,
          11680283,
          21473764,
          67277,
          185113,
          12784726,
          16841795,
          5797805,
          1369429,
          22102838,
          721159,
          34085,
          33704,
          38387,
          113475,
          6779100,
          61939,
          11618511,
          9957464,
          1496662,
          107749,
          202239,
          72344,
          1016097,
          60057,
          5016678,
          39783,
          2558482,
          39730,
          56973,
          31154867,
          321832,
          26647,
          43966,
          3662244,
          26083660,
          117489,
          99509,
          2063367,
          907419,
          5305117,
          8306436,
          17413580,
          30596,
          111551,
          53871,
          17571,
          39741,
          227679,
          18233,
          9945,
          10903,
          15230,
          123419,
          5759,
          3539,
          4965,
          6115,
          667490,
          10982,
          5816377.5,
          1622,
          799,
          12066,
          626161,
          5816377.5
         ],
         "type": "choropleth",
         "z": [
          98166904,
          44587307,
          35342950,
          34706757,
          33312373,
          24769101,
          23621952,
          22432803,
          21229216,
          20948470,
          16873793,
          13412263,
          11477886,
          10209239,
          9708420,
          8422336,
          7548320,
          7084488,
          6429767,
          6417941,
          6307372,
          6289672,
          5490639,
          5177217,
          5118512,
          4920192,
          4838872,
          4772813,
          4681309,
          4661096,
          4620377,
          4533249,
          4233468,
          4143085,
          4100480,
          4084307,
          4018769,
          3945566,
          3267370,
          3110831,
          2588441,
          2459982,
          2359530,
          2094142,
          2024489,
          1904192,
          1843220,
          1780691,
          1779476,
          1761381,
          1746997,
          1663653,
          1572598,
          1462318,
          1393468,
          1292940,
          1264935,
          1258670,
          1249134,
          1231575,
          1215511,
          1181073,
          1145686,
          1123465,
          1111179,
          1108195,
          1072807,
          1027031,
          1003778,
          999712,
          994037,
          986866,
          985422,
          982864,
          929051,
          821162,
          816389,
          716059,
          680271,
          670763,
          658520,
          644016,
          622802,
          620548,
          601869,
          589388,
          585313,
          544687,
          515645,
          506991,
          493563,
          472336,
          456391,
          450448,
          442875,
          398668,
          397993,
          342775,
          338420,
          333531,
          332173,
          326308,
          288658,
          280002,
          270668,
          265382,
          257409,
          250449,
          244199,
          230219,
          226237,
          221618,
          215843,
          206083,
          205637,
          201785,
          199067,
          192801,
          185042,
          182597,
          169396,
          169253,
          169100,
          151829,
          137870,
          132498,
          121652,
          114652,
          103131,
          102546,
          93974,
          92852,
          91561,
          88373,
          88024,
          87208,
          81106,
          76599,
          74152,
          73390,
          71336,
          68826,
          68242,
          66676,
          63285,
          62812,
          62371,
          61730,
          57299,
          50129,
          48691,
          47141,
          46227,
          45127,
          44997,
          42914,
          40461,
          40243,
          39440,
          39034,
          38008,
          37652,
          37267,
          34658,
          34490,
          33733,
          32625,
          30661,
          29408,
          27638,
          27214,
          24837,
          23253,
          21631,
          21544,
          20763,
          20092,
          19713,
          19536,
          18491,
          18154,
          17823,
          17786,
          17012,
          16182,
          15925,
          15747,
          15690,
          15275,
          14913,
          14608,
          12508,
          11978,
          11971,
          11935,
          11930,
          11235,
          10863,
          10169,
          9931,
          9759,
          9098,
          8796,
          8471,
          7961,
          7751,
          7583,
          7305,
          7112,
          6541,
          6389,
          6380,
          6230,
          5460,
          5285,
          4611,
          3865,
          3430,
          3188,
          1886,
          1396,
          1355,
          793,
          761,
          712,
          80,
          29,
          20,
          10,
          9
         ]
        }
       ],
       "layout": {
        "geo": {
         "projection": {
          "type": "equirectangular"
         },
         "showcoastlines": false,
         "showframe": true
        },
        "template": {
         "data": {
          "bar": [
           {
            "error_x": {
             "color": "#2a3f5f"
            },
            "error_y": {
             "color": "#2a3f5f"
            },
            "marker": {
             "line": {
              "color": "#E5ECF6",
              "width": 0.5
             },
             "pattern": {
              "fillmode": "overlay",
              "size": 10,
              "solidity": 0.2
             }
            },
            "type": "bar"
           }
          ],
          "barpolar": [
           {
            "marker": {
             "line": {
              "color": "#E5ECF6",
              "width": 0.5
             },
             "pattern": {
              "fillmode": "overlay",
              "size": 10,
              "solidity": 0.2
             }
            },
            "type": "barpolar"
           }
          ],
          "carpet": [
           {
            "aaxis": {
             "endlinecolor": "#2a3f5f",
             "gridcolor": "white",
             "linecolor": "white",
             "minorgridcolor": "white",
             "startlinecolor": "#2a3f5f"
            },
            "baxis": {
             "endlinecolor": "#2a3f5f",
             "gridcolor": "white",
             "linecolor": "white",
             "minorgridcolor": "white",
             "startlinecolor": "#2a3f5f"
            },
            "type": "carpet"
           }
          ],
          "choropleth": [
           {
            "colorbar": {
             "outlinewidth": 0,
             "ticks": ""
            },
            "type": "choropleth"
           }
          ],
          "contour": [
           {
            "colorbar": {
             "outlinewidth": 0,
             "ticks": ""
            },
            "colorscale": [
             [
              0,
              "#0d0887"
             ],
             [
              0.1111111111111111,
              "#46039f"
             ],
             [
              0.2222222222222222,
              "#7201a8"
             ],
             [
              0.3333333333333333,
              "#9c179e"
             ],
             [
              0.4444444444444444,
              "#bd3786"
             ],
             [
              0.5555555555555556,
              "#d8576b"
             ],
             [
              0.6666666666666666,
              "#ed7953"
             ],
             [
              0.7777777777777778,
              "#fb9f3a"
             ],
             [
              0.8888888888888888,
              "#fdca26"
             ],
             [
              1,
              "#f0f921"
             ]
            ],
            "type": "contour"
           }
          ],
          "contourcarpet": [
           {
            "colorbar": {
             "outlinewidth": 0,
             "ticks": ""
            },
            "type": "contourcarpet"
           }
          ],
          "heatmap": [
           {
            "colorbar": {
             "outlinewidth": 0,
             "ticks": ""
            },
            "colorscale": [
             [
              0,
              "#0d0887"
             ],
             [
              0.1111111111111111,
              "#46039f"
             ],
             [
              0.2222222222222222,
              "#7201a8"
             ],
             [
              0.3333333333333333,
              "#9c179e"
             ],
             [
              0.4444444444444444,
              "#bd3786"
             ],
             [
              0.5555555555555556,
              "#d8576b"
             ],
             [
              0.6666666666666666,
              "#ed7953"
             ],
             [
              0.7777777777777778,
              "#fb9f3a"
             ],
             [
              0.8888888888888888,
              "#fdca26"
             ],
             [
              1,
              "#f0f921"
             ]
            ],
            "type": "heatmap"
           }
          ],
          "heatmapgl": [
           {
            "colorbar": {
             "outlinewidth": 0,
             "ticks": ""
            },
            "colorscale": [
             [
              0,
              "#0d0887"
             ],
             [
              0.1111111111111111,
              "#46039f"
             ],
             [
              0.2222222222222222,
              "#7201a8"
             ],
             [
              0.3333333333333333,
              "#9c179e"
             ],
             [
              0.4444444444444444,
              "#bd3786"
             ],
             [
              0.5555555555555556,
              "#d8576b"
             ],
             [
              0.6666666666666666,
              "#ed7953"
             ],
             [
              0.7777777777777778,
              "#fb9f3a"
             ],
             [
              0.8888888888888888,
              "#fdca26"
             ],
             [
              1,
              "#f0f921"
             ]
            ],
            "type": "heatmapgl"
           }
          ],
          "histogram": [
           {
            "marker": {
             "pattern": {
              "fillmode": "overlay",
              "size": 10,
              "solidity": 0.2
             }
            },
            "type": "histogram"
           }
          ],
          "histogram2d": [
           {
            "colorbar": {
             "outlinewidth": 0,
             "ticks": ""
            },
            "colorscale": [
             [
              0,
              "#0d0887"
             ],
             [
              0.1111111111111111,
              "#46039f"
             ],
             [
              0.2222222222222222,
              "#7201a8"
             ],
             [
              0.3333333333333333,
              "#9c179e"
             ],
             [
              0.4444444444444444,
              "#bd3786"
             ],
             [
              0.5555555555555556,
              "#d8576b"
             ],
             [
              0.6666666666666666,
              "#ed7953"
             ],
             [
              0.7777777777777778,
              "#fb9f3a"
             ],
             [
              0.8888888888888888,
              "#fdca26"
             ],
             [
              1,
              "#f0f921"
             ]
            ],
            "type": "histogram2d"
           }
          ],
          "histogram2dcontour": [
           {
            "colorbar": {
             "outlinewidth": 0,
             "ticks": ""
            },
            "colorscale": [
             [
              0,
              "#0d0887"
             ],
             [
              0.1111111111111111,
              "#46039f"
             ],
             [
              0.2222222222222222,
              "#7201a8"
             ],
             [
              0.3333333333333333,
              "#9c179e"
             ],
             [
              0.4444444444444444,
              "#bd3786"
             ],
             [
              0.5555555555555556,
              "#d8576b"
             ],
             [
              0.6666666666666666,
              "#ed7953"
             ],
             [
              0.7777777777777778,
              "#fb9f3a"
             ],
             [
              0.8888888888888888,
              "#fdca26"
             ],
             [
              1,
              "#f0f921"
             ]
            ],
            "type": "histogram2dcontour"
           }
          ],
          "mesh3d": [
           {
            "colorbar": {
             "outlinewidth": 0,
             "ticks": ""
            },
            "type": "mesh3d"
           }
          ],
          "parcoords": [
           {
            "line": {
             "colorbar": {
              "outlinewidth": 0,
              "ticks": ""
             }
            },
            "type": "parcoords"
           }
          ],
          "pie": [
           {
            "automargin": true,
            "type": "pie"
           }
          ],
          "scatter": [
           {
            "fillpattern": {
             "fillmode": "overlay",
             "size": 10,
             "solidity": 0.2
            },
            "type": "scatter"
           }
          ],
          "scatter3d": [
           {
            "line": {
             "colorbar": {
              "outlinewidth": 0,
              "ticks": ""
             }
            },
            "marker": {
             "colorbar": {
              "outlinewidth": 0,
              "ticks": ""
             }
            },
            "type": "scatter3d"
           }
          ],
          "scattercarpet": [
           {
            "marker": {
             "colorbar": {
              "outlinewidth": 0,
              "ticks": ""
             }
            },
            "type": "scattercarpet"
           }
          ],
          "scattergeo": [
           {
            "marker": {
             "colorbar": {
              "outlinewidth": 0,
              "ticks": ""
             }
            },
            "type": "scattergeo"
           }
          ],
          "scattergl": [
           {
            "marker": {
             "colorbar": {
              "outlinewidth": 0,
              "ticks": ""
             }
            },
            "type": "scattergl"
           }
          ],
          "scattermapbox": [
           {
            "marker": {
             "colorbar": {
              "outlinewidth": 0,
              "ticks": ""
             }
            },
            "type": "scattermapbox"
           }
          ],
          "scatterpolar": [
           {
            "marker": {
             "colorbar": {
              "outlinewidth": 0,
              "ticks": ""
             }
            },
            "type": "scatterpolar"
           }
          ],
          "scatterpolargl": [
           {
            "marker": {
             "colorbar": {
              "outlinewidth": 0,
              "ticks": ""
             }
            },
            "type": "scatterpolargl"
           }
          ],
          "scatterternary": [
           {
            "marker": {
             "colorbar": {
              "outlinewidth": 0,
              "ticks": ""
             }
            },
            "type": "scatterternary"
           }
          ],
          "surface": [
           {
            "colorbar": {
             "outlinewidth": 0,
             "ticks": ""
            },
            "colorscale": [
             [
              0,
              "#0d0887"
             ],
             [
              0.1111111111111111,
              "#46039f"
             ],
             [
              0.2222222222222222,
              "#7201a8"
             ],
             [
              0.3333333333333333,
              "#9c179e"
             ],
             [
              0.4444444444444444,
              "#bd3786"
             ],
             [
              0.5555555555555556,
              "#d8576b"
             ],
             [
              0.6666666666666666,
              "#ed7953"
             ],
             [
              0.7777777777777778,
              "#fb9f3a"
             ],
             [
              0.8888888888888888,
              "#fdca26"
             ],
             [
              1,
              "#f0f921"
             ]
            ],
            "type": "surface"
           }
          ],
          "table": [
           {
            "cells": {
             "fill": {
              "color": "#EBF0F8"
             },
             "line": {
              "color": "white"
             }
            },
            "header": {
             "fill": {
              "color": "#C8D4E3"
             },
             "line": {
              "color": "white"
             }
            },
            "type": "table"
           }
          ]
         },
         "layout": {
          "annotationdefaults": {
           "arrowcolor": "#2a3f5f",
           "arrowhead": 0,
           "arrowwidth": 1
          },
          "autotypenumbers": "strict",
          "coloraxis": {
           "colorbar": {
            "outlinewidth": 0,
            "ticks": ""
           }
          },
          "colorscale": {
           "diverging": [
            [
             0,
             "#8e0152"
            ],
            [
             0.1,
             "#c51b7d"
            ],
            [
             0.2,
             "#de77ae"
            ],
            [
             0.3,
             "#f1b6da"
            ],
            [
             0.4,
             "#fde0ef"
            ],
            [
             0.5,
             "#f7f7f7"
            ],
            [
             0.6,
             "#e6f5d0"
            ],
            [
             0.7,
             "#b8e186"
            ],
            [
             0.8,
             "#7fbc41"
            ],
            [
             0.9,
             "#4d9221"
            ],
            [
             1,
             "#276419"
            ]
           ],
           "sequential": [
            [
             0,
             "#0d0887"
            ],
            [
             0.1111111111111111,
             "#46039f"
            ],
            [
             0.2222222222222222,
             "#7201a8"
            ],
            [
             0.3333333333333333,
             "#9c179e"
            ],
            [
             0.4444444444444444,
             "#bd3786"
            ],
            [
             0.5555555555555556,
             "#d8576b"
            ],
            [
             0.6666666666666666,
             "#ed7953"
            ],
            [
             0.7777777777777778,
             "#fb9f3a"
            ],
            [
             0.8888888888888888,
             "#fdca26"
            ],
            [
             1,
             "#f0f921"
            ]
           ],
           "sequentialminus": [
            [
             0,
             "#0d0887"
            ],
            [
             0.1111111111111111,
             "#46039f"
            ],
            [
             0.2222222222222222,
             "#7201a8"
            ],
            [
             0.3333333333333333,
             "#9c179e"
            ],
            [
             0.4444444444444444,
             "#bd3786"
            ],
            [
             0.5555555555555556,
             "#d8576b"
            ],
            [
             0.6666666666666666,
             "#ed7953"
            ],
            [
             0.7777777777777778,
             "#fb9f3a"
            ],
            [
             0.8888888888888888,
             "#fdca26"
            ],
            [
             1,
             "#f0f921"
            ]
           ]
          },
          "colorway": [
           "#636efa",
           "#EF553B",
           "#00cc96",
           "#ab63fa",
           "#FFA15A",
           "#19d3f3",
           "#FF6692",
           "#B6E880",
           "#FF97FF",
           "#FECB52"
          ],
          "font": {
           "color": "#2a3f5f"
          },
          "geo": {
           "bgcolor": "white",
           "lakecolor": "white",
           "landcolor": "#E5ECF6",
           "showlakes": true,
           "showland": true,
           "subunitcolor": "white"
          },
          "hoverlabel": {
           "align": "left"
          },
          "hovermode": "closest",
          "mapbox": {
           "style": "light"
          },
          "paper_bgcolor": "white",
          "plot_bgcolor": "#E5ECF6",
          "polar": {
           "angularaxis": {
            "gridcolor": "white",
            "linecolor": "white",
            "ticks": ""
           },
           "bgcolor": "#E5ECF6",
           "radialaxis": {
            "gridcolor": "white",
            "linecolor": "white",
            "ticks": ""
           }
          },
          "scene": {
           "xaxis": {
            "backgroundcolor": "#E5ECF6",
            "gridcolor": "white",
            "gridwidth": 2,
            "linecolor": "white",
            "showbackground": true,
            "ticks": "",
            "zerolinecolor": "white"
           },
           "yaxis": {
            "backgroundcolor": "#E5ECF6",
            "gridcolor": "white",
            "gridwidth": 2,
            "linecolor": "white",
            "showbackground": true,
            "ticks": "",
            "zerolinecolor": "white"
           },
           "zaxis": {
            "backgroundcolor": "#E5ECF6",
            "gridcolor": "white",
            "gridwidth": 2,
            "linecolor": "white",
            "showbackground": true,
            "ticks": "",
            "zerolinecolor": "white"
           }
          },
          "shapedefaults": {
           "line": {
            "color": "#2a3f5f"
           }
          },
          "ternary": {
           "aaxis": {
            "gridcolor": "white",
            "linecolor": "white",
            "ticks": ""
           },
           "baxis": {
            "gridcolor": "white",
            "linecolor": "white",
            "ticks": ""
           },
           "bgcolor": "#E5ECF6",
           "caxis": {
            "gridcolor": "white",
            "linecolor": "white",
            "ticks": ""
           }
          },
          "title": {
           "x": 0.05
          },
          "xaxis": {
           "automargin": true,
           "gridcolor": "white",
           "linecolor": "white",
           "ticks": "",
           "title": {
            "standoff": 15
           },
           "zerolinecolor": "white",
           "zerolinewidth": 2
          },
          "yaxis": {
           "automargin": true,
           "gridcolor": "white",
           "linecolor": "white",
           "ticks": "",
           "title": {
            "standoff": 15
           },
           "zerolinecolor": "white",
           "zerolinewidth": 2
          }
         }
        },
        "title": {
         "text": "Total Cases and Population by Country"
        }
       }
      },
      "text/html": [
       "<div>                            <div id=\"465dd7a5-5f7b-429b-971a-03ffcfb92bdf\" class=\"plotly-graph-div\" style=\"height:525px; width:100%;\"></div>            <script type=\"text/javascript\">                require([\"plotly\"], function(Plotly) {                    window.PLOTLYENV=window.PLOTLYENV || {};                                    if (document.getElementById(\"465dd7a5-5f7b-429b-971a-03ffcfb92bdf\")) {                    Plotly.newPlot(                        \"465dd7a5-5f7b-429b-971a-03ffcfb92bdf\",                        [{\"autocolorscale\":false,\"colorbar\":{\"title\":{\"text\":\"Total Cases\"}},\"colorscale\":[[0.0,\"#440154\"],[0.1111111111111111,\"#482878\"],[0.2222222222222222,\"#3e4989\"],[0.3333333333333333,\"#31688e\"],[0.4444444444444444,\"#26828e\"],[0.5555555555555556,\"#1f9e89\"],[0.6666666666666666,\"#35b779\"],[0.7777777777777778,\"#6ece58\"],[0.8888888888888888,\"#b5de2b\"],[1.0,\"#fde725\"]],\"locationmode\":\"country names\",\"locations\":[\"USA\",\"India\",\"France\",\"Brazil\",\"Germany\",\"S. Korea\",\"UK\",\"Italy\",\"Japan\",\"Russia\",\"Turkey\",\"Spain\",\"Vietnam\",\"Australia\",\"Argentina\",\"Netherlands\",\"Iran\",\"Mexico\",\"Indonesia\",\"Taiwan\",\"Colombia\",\"Poland\",\"Portugal\",\"Ukraine\",\"Austria\",\"Greece\",\"Malaysia\",\"DPRK\",\"Thailand\",\"Israel\",\"Chile\",\"Belgium\",\"Canada\",\"Peru\",\"Czechia\",\"Switzerland\",\"South Africa\",\"Philippines\",\"Romania\",\"Denmark\",\"Sweden\",\"Iraq\",\"Serbia\",\"Hungary\",\"Bangladesh\",\"Singapore\",\"Slovakia\",\"Georgia\",\"New Zealand\",\"Hong Kong\",\"Jordan\",\"Ireland\",\"Pakistan\",\"Norway\",\"Kazakhstan\",\"Finland\",\"Morocco\",\"Bulgaria\",\"Lithuania\",\"Croatia\",\"Lebanon\",\"Slovenia\",\"Tunisia\",\"Guatemala\",\"Cuba\",\"Bolivia\",\"Costa Rica\",\"UAE\",\"Ecuador\",\"Nepal\",\"Belarus\",\"Panama\",\"Uruguay\",\"Mongolia\",\"Latvia\",\"Azerbaijan\",\"Saudi Arabia\",\"Paraguay\",\"Bahrain\",\"Sri Lanka\",\"Kuwait\",\"Dominican Republic\",\"Myanmar\",\"Palestine\",\"Estonia\",\"Moldova\",\"Cyprus\",\"Venezuela\",\"Egypt\",\"Libya\",\"Ethiopia\",\"R\\u00e9union\",\"Honduras\",\"Qatar\",\"Armenia\",\"Bosnia and Herzegovina\",\"Oman\",\"North Macedonia\",\"Kenya\",\"Zambia\",\"Albania\",\"Botswana\",\"Luxembourg\",\"Montenegro\",\"Algeria\",\"Nigeria\",\"Zimbabwe\",\"China\",\"Uzbekistan\",\"Mozambique\",\"Brunei\",\"Martinique\",\"Laos\",\"Kyrgyzstan\",\"Iceland\",\"El Salvador\",\"Afghanistan\",\"Guadeloupe\",\"Maldives\",\"Trinidad and Tobago\",\"Uganda\",\"Namibia\",\"Ghana\",\"Jamaica\",\"Cambodia\",\"Rwanda\",\"Cameroon\",\"Malta\",\"Angola\",\"Barbados\",\"French Guiana\",\"DRC\",\"Channel Islands\",\"Senegal\",\"Malawi\",\"Ivory Coast\",\"Suriname\",\"French Polynesia\",\"New Caledonia\",\"Eswatini\",\"Guyana\",\"Belize\",\"Fiji\",\"Madagascar\",\"Sudan\",\"Mauritania\",\"Cabo Verde\",\"Bhutan\",\"Syria\",\"Burundi\",\"Gabon\",\"Seychelles\",\"Andorra\",\"Cura\\u00e7ao\",\"Papua New Guinea\",\"Aruba\",\"Mauritius\",\"Mayotte\",\"Tanzania\",\"Togo\",\"Isle of Man\",\"Guinea\",\"Bahamas\",\"Faeroe Islands\",\"Lesotho\",\"Haiti\",\"Mali\",\"Cayman Islands\",\"Saint Lucia\",\"Benin\",\"Somalia\",\"Congo\",\"Timor-Leste\",\"Burkina Faso\",\"Solomon Islands\",\"San Marino\",\"Gibraltar\",\"Liechtenstein\",\"Grenada\",\"Nicaragua\",\"Bermuda\",\"South Sudan\",\"Tajikistan\",\"Equatorial Guinea\",\"Tonga\",\"Samoa\",\"Dominica\",\"Djibouti\",\"Marshall Islands\",\"CAR\",\"Monaco\",\"Gambia\",\"Saint Martin\",\"Greenland\",\"Yemen\",\"Vanuatu\",\"Caribbean Netherlands\",\"Sint Maarten\",\"Eritrea\",\"Niger\",\"Micronesia\",\"Antigua and Barbuda\",\"Guinea-Bissau\",\"Comoros\",\"Liberia\",\"Sierra Leone\",\"Chad\",\"British Virgin Islands\",\"St. Vincent Grenadines\",\"Saint Kitts and Nevis\",\"Cook Islands\",\"Turks and Caicos\",\"Sao Tome and Principe\",\"Palau\",\"St. Barth\",\"Nauru\",\"Anguilla\",\"Kiribati\",\"Saint Pierre Miquelon\",\"Falkland Islands\",\"Montserrat\",\"Saint Helena\",\"Macao\",\"Wallis and Futuna\",\"Diamond Princess\",\"Niue\",\"Vatican City\",\"Tuvalu\",\"Western Sahara\",\"MS Zaandam\"],\"marker\":{\"line\":{\"color\":\"white\"}},\"text\":[334805269.0,1406631776.0,65584518.0,215353593.0,83883596.0,51329899.0,68497907.0,60262770.0,125584838.0,145805947.0,85561976.0,46719142.0,98953541.0,26068792.0,46010234.0,17211447.0,86022837.0,131562772.0,279134505.0,23888595.0,51512762.0,37739785.0,10140570.0,43192122.0,9066710.0,10316637.0,33181072.0,25990679.0,70078203.0,9326000.0,19250195.0,11668278.0,38388419.0,33684208.0,10736784.0,8773637.0,60756135.0,112508994.0,19031335.0,5834950.0,10218971.0,42164965.0,8653016.0,9606259.0,167885689.0,5943546.0,5460193.0,3968738.0,4898203.0,7604299.0,10300869.0,5020199.0,229488994.0,5511370.0,19205043.0,5554960.0,37772756.0,6844597.0,2661708.0,4059286.0,6684849.0,2078034.0,12046656.0,18584039.0,11305652.0,11992656.0,5182354.0,10081785.0,18113361.0,30225582.0,9432800.0,4446964.0,3496016.0,3378078.0,1848837.0,10300205.0,35844909.0,7305843.0,1783983.0,21575842.0,4380326.0,11056370.0,55227143.0,5345541.0,1321910.0,4013171.0,1223387.0,29266991.0,106156692.0,7040745.0,120812698.0,908061.0,10221247.0,2979915.0,2971966.0,3249317.0,5323993.0,2081304.0,56215221.0,19470234.0,2866374.0,2441162.0,642371.0,627950.0,45350148.0,216746934.0,15331428.0,1448471400.0,34382084.0,33089461.0,445431.0,374087.0,7481023.0,6728271.0,345393.0,6550389.0,40754388.0,399794.0,540985.0,1406585.0,48432863.0,2633874.0,32395450.0,2985094.0,17168639.0,13600464.0,27911548.0,444033.0,35027343.0,288023.0,314169.0,95240792.0,176463.0,17653671.0,20180839.0,27742298.0,596831.0,284164.0,290915.0,1184817.0,794045.0,412190.0,909466.0,29178077.0,45992020.0,4901981.0,567678.0,787941.0,19364809.0,12624840.0,2331533.0,99426.0,77463.0,165529.0,9292169.0,107609.0,1274727.0,286259.0,63298550.0,8680837.0,85732.0,13865691.0,400516.0,49233.0,2175699.0,11680283.0,21473764.0,67277.0,185113.0,12784726.0,16841795.0,5797805.0,1369429.0,22102838.0,721159.0,34085.0,33704.0,38387.0,113475.0,6779100.0,61939.0,11618511.0,9957464.0,1496662.0,107749.0,202239.0,72344.0,1016097.0,60057.0,5016678.0,39783.0,2558482.0,39730.0,56973.0,31154867.0,321832.0,26647.0,43966.0,3662244.0,26083660.0,117489.0,99509.0,2063367.0,907419.0,5305117.0,8306436.0,17413580.0,30596.0,111551.0,53871.0,17571.0,39741.0,227679.0,18233.0,9945.0,10903.0,15230.0,123419.0,5759.0,3539.0,4965.0,6115.0,667490.0,10982.0,5816377.5,1622.0,799.0,12066.0,626161.0,5816377.5],\"z\":[98166904.0,44587307.0,35342950.0,34706757.0,33312373.0,24769101.0,23621952.0,22432803.0,21229216.0,20948470.0,16873793.0,13412263.0,11477886.0,10209239.0,9708420.0,8422336.0,7548320.0,7084488.0,6429767.0,6417941.0,6307372.0,6289672.0,5490639.0,5177217.0,5118512.0,4920192.0,4838872.0,4772813.0,4681309.0,4661096.0,4620377.0,4533249.0,4233468.0,4143085.0,4100480.0,4084307.0,4018769.0,3945566.0,3267370.0,3110831.0,2588441.0,2459982.0,2359530.0,2094142.0,2024489.0,1904192.0,1843220.0,1780691.0,1779476.0,1761381.0,1746997.0,1663653.0,1572598.0,1462318.0,1393468.0,1292940.0,1264935.0,1258670.0,1249134.0,1231575.0,1215511.0,1181073.0,1145686.0,1123465.0,1111179.0,1108195.0,1072807.0,1027031.0,1003778.0,999712.0,994037.0,986866.0,985422.0,982864.0,929051.0,821162.0,816389.0,716059.0,680271.0,670763.0,658520.0,644016.0,622802.0,620548.0,601869.0,589388.0,585313.0,544687.0,515645.0,506991.0,493563.0,472336.0,456391.0,450448.0,442875.0,398668.0,397993.0,342775.0,338420.0,333531.0,332173.0,326308.0,288658.0,280002.0,270668.0,265382.0,257409.0,250449.0,244199.0,230219.0,226237.0,221618.0,215843.0,206083.0,205637.0,201785.0,199067.0,192801.0,185042.0,182597.0,169396.0,169253.0,169100.0,151829.0,137870.0,132498.0,121652.0,114652.0,103131.0,102546.0,93974.0,92852.0,91561.0,88373.0,88024.0,87208.0,81106.0,76599.0,74152.0,73390.0,71336.0,68826.0,68242.0,66676.0,63285.0,62812.0,62371.0,61730.0,57299.0,50129.0,48691.0,47141.0,46227.0,45127.0,44997.0,42914.0,40461.0,40243.0,39440.0,39034.0,38008.0,37652.0,37267.0,34658.0,34490.0,33733.0,32625.0,30661.0,29408.0,27638.0,27214.0,24837.0,23253.0,21631.0,21544.0,20763.0,20092.0,19713.0,19536.0,18491.0,18154.0,17823.0,17786.0,17012.0,16182.0,15925.0,15747.0,15690.0,15275.0,14913.0,14608.0,12508.0,11978.0,11971.0,11935.0,11930.0,11235.0,10863.0,10169.0,9931.0,9759.0,9098.0,8796.0,8471.0,7961.0,7751.0,7583.0,7305.0,7112.0,6541.0,6389.0,6380.0,6230.0,5460.0,5285.0,4611.0,3865.0,3430.0,3188.0,1886.0,1396.0,1355.0,793.0,761.0,712.0,80.0,29.0,20.0,10.0,9.0],\"type\":\"choropleth\"}],                        {\"template\":{\"data\":{\"histogram2dcontour\":[{\"type\":\"histogram2dcontour\",\"colorbar\":{\"outlinewidth\":0,\"ticks\":\"\"},\"colorscale\":[[0.0,\"#0d0887\"],[0.1111111111111111,\"#46039f\"],[0.2222222222222222,\"#7201a8\"],[0.3333333333333333,\"#9c179e\"],[0.4444444444444444,\"#bd3786\"],[0.5555555555555556,\"#d8576b\"],[0.6666666666666666,\"#ed7953\"],[0.7777777777777778,\"#fb9f3a\"],[0.8888888888888888,\"#fdca26\"],[1.0,\"#f0f921\"]]}],\"choropleth\":[{\"type\":\"choropleth\",\"colorbar\":{\"outlinewidth\":0,\"ticks\":\"\"}}],\"histogram2d\":[{\"type\":\"histogram2d\",\"colorbar\":{\"outlinewidth\":0,\"ticks\":\"\"},\"colorscale\":[[0.0,\"#0d0887\"],[0.1111111111111111,\"#46039f\"],[0.2222222222222222,\"#7201a8\"],[0.3333333333333333,\"#9c179e\"],[0.4444444444444444,\"#bd3786\"],[0.5555555555555556,\"#d8576b\"],[0.6666666666666666,\"#ed7953\"],[0.7777777777777778,\"#fb9f3a\"],[0.8888888888888888,\"#fdca26\"],[1.0,\"#f0f921\"]]}],\"heatmap\":[{\"type\":\"heatmap\",\"colorbar\":{\"outlinewidth\":0,\"ticks\":\"\"},\"colorscale\":[[0.0,\"#0d0887\"],[0.1111111111111111,\"#46039f\"],[0.2222222222222222,\"#7201a8\"],[0.3333333333333333,\"#9c179e\"],[0.4444444444444444,\"#bd3786\"],[0.5555555555555556,\"#d8576b\"],[0.6666666666666666,\"#ed7953\"],[0.7777777777777778,\"#fb9f3a\"],[0.8888888888888888,\"#fdca26\"],[1.0,\"#f0f921\"]]}],\"heatmapgl\":[{\"type\":\"heatmapgl\",\"colorbar\":{\"outlinewidth\":0,\"ticks\":\"\"},\"colorscale\":[[0.0,\"#0d0887\"],[0.1111111111111111,\"#46039f\"],[0.2222222222222222,\"#7201a8\"],[0.3333333333333333,\"#9c179e\"],[0.4444444444444444,\"#bd3786\"],[0.5555555555555556,\"#d8576b\"],[0.6666666666666666,\"#ed7953\"],[0.7777777777777778,\"#fb9f3a\"],[0.8888888888888888,\"#fdca26\"],[1.0,\"#f0f921\"]]}],\"contourcarpet\":[{\"type\":\"contourcarpet\",\"colorbar\":{\"outlinewidth\":0,\"ticks\":\"\"}}],\"contour\":[{\"type\":\"contour\",\"colorbar\":{\"outlinewidth\":0,\"ticks\":\"\"},\"colorscale\":[[0.0,\"#0d0887\"],[0.1111111111111111,\"#46039f\"],[0.2222222222222222,\"#7201a8\"],[0.3333333333333333,\"#9c179e\"],[0.4444444444444444,\"#bd3786\"],[0.5555555555555556,\"#d8576b\"],[0.6666666666666666,\"#ed7953\"],[0.7777777777777778,\"#fb9f3a\"],[0.8888888888888888,\"#fdca26\"],[1.0,\"#f0f921\"]]}],\"surface\":[{\"type\":\"surface\",\"colorbar\":{\"outlinewidth\":0,\"ticks\":\"\"},\"colorscale\":[[0.0,\"#0d0887\"],[0.1111111111111111,\"#46039f\"],[0.2222222222222222,\"#7201a8\"],[0.3333333333333333,\"#9c179e\"],[0.4444444444444444,\"#bd3786\"],[0.5555555555555556,\"#d8576b\"],[0.6666666666666666,\"#ed7953\"],[0.7777777777777778,\"#fb9f3a\"],[0.8888888888888888,\"#fdca26\"],[1.0,\"#f0f921\"]]}],\"mesh3d\":[{\"type\":\"mesh3d\",\"colorbar\":{\"outlinewidth\":0,\"ticks\":\"\"}}],\"scatter\":[{\"fillpattern\":{\"fillmode\":\"overlay\",\"size\":10,\"solidity\":0.2},\"type\":\"scatter\"}],\"parcoords\":[{\"type\":\"parcoords\",\"line\":{\"colorbar\":{\"outlinewidth\":0,\"ticks\":\"\"}}}],\"scatterpolargl\":[{\"type\":\"scatterpolargl\",\"marker\":{\"colorbar\":{\"outlinewidth\":0,\"ticks\":\"\"}}}],\"bar\":[{\"error_x\":{\"color\":\"#2a3f5f\"},\"error_y\":{\"color\":\"#2a3f5f\"},\"marker\":{\"line\":{\"color\":\"#E5ECF6\",\"width\":0.5},\"pattern\":{\"fillmode\":\"overlay\",\"size\":10,\"solidity\":0.2}},\"type\":\"bar\"}],\"scattergeo\":[{\"type\":\"scattergeo\",\"marker\":{\"colorbar\":{\"outlinewidth\":0,\"ticks\":\"\"}}}],\"scatterpolar\":[{\"type\":\"scatterpolar\",\"marker\":{\"colorbar\":{\"outlinewidth\":0,\"ticks\":\"\"}}}],\"histogram\":[{\"marker\":{\"pattern\":{\"fillmode\":\"overlay\",\"size\":10,\"solidity\":0.2}},\"type\":\"histogram\"}],\"scattergl\":[{\"type\":\"scattergl\",\"marker\":{\"colorbar\":{\"outlinewidth\":0,\"ticks\":\"\"}}}],\"scatter3d\":[{\"type\":\"scatter3d\",\"line\":{\"colorbar\":{\"outlinewidth\":0,\"ticks\":\"\"}},\"marker\":{\"colorbar\":{\"outlinewidth\":0,\"ticks\":\"\"}}}],\"scattermapbox\":[{\"type\":\"scattermapbox\",\"marker\":{\"colorbar\":{\"outlinewidth\":0,\"ticks\":\"\"}}}],\"scatterternary\":[{\"type\":\"scatterternary\",\"marker\":{\"colorbar\":{\"outlinewidth\":0,\"ticks\":\"\"}}}],\"scattercarpet\":[{\"type\":\"scattercarpet\",\"marker\":{\"colorbar\":{\"outlinewidth\":0,\"ticks\":\"\"}}}],\"carpet\":[{\"aaxis\":{\"endlinecolor\":\"#2a3f5f\",\"gridcolor\":\"white\",\"linecolor\":\"white\",\"minorgridcolor\":\"white\",\"startlinecolor\":\"#2a3f5f\"},\"baxis\":{\"endlinecolor\":\"#2a3f5f\",\"gridcolor\":\"white\",\"linecolor\":\"white\",\"minorgridcolor\":\"white\",\"startlinecolor\":\"#2a3f5f\"},\"type\":\"carpet\"}],\"table\":[{\"cells\":{\"fill\":{\"color\":\"#EBF0F8\"},\"line\":{\"color\":\"white\"}},\"header\":{\"fill\":{\"color\":\"#C8D4E3\"},\"line\":{\"color\":\"white\"}},\"type\":\"table\"}],\"barpolar\":[{\"marker\":{\"line\":{\"color\":\"#E5ECF6\",\"width\":0.5},\"pattern\":{\"fillmode\":\"overlay\",\"size\":10,\"solidity\":0.2}},\"type\":\"barpolar\"}],\"pie\":[{\"automargin\":true,\"type\":\"pie\"}]},\"layout\":{\"autotypenumbers\":\"strict\",\"colorway\":[\"#636efa\",\"#EF553B\",\"#00cc96\",\"#ab63fa\",\"#FFA15A\",\"#19d3f3\",\"#FF6692\",\"#B6E880\",\"#FF97FF\",\"#FECB52\"],\"font\":{\"color\":\"#2a3f5f\"},\"hovermode\":\"closest\",\"hoverlabel\":{\"align\":\"left\"},\"paper_bgcolor\":\"white\",\"plot_bgcolor\":\"#E5ECF6\",\"polar\":{\"bgcolor\":\"#E5ECF6\",\"angularaxis\":{\"gridcolor\":\"white\",\"linecolor\":\"white\",\"ticks\":\"\"},\"radialaxis\":{\"gridcolor\":\"white\",\"linecolor\":\"white\",\"ticks\":\"\"}},\"ternary\":{\"bgcolor\":\"#E5ECF6\",\"aaxis\":{\"gridcolor\":\"white\",\"linecolor\":\"white\",\"ticks\":\"\"},\"baxis\":{\"gridcolor\":\"white\",\"linecolor\":\"white\",\"ticks\":\"\"},\"caxis\":{\"gridcolor\":\"white\",\"linecolor\":\"white\",\"ticks\":\"\"}},\"coloraxis\":{\"colorbar\":{\"outlinewidth\":0,\"ticks\":\"\"}},\"colorscale\":{\"sequential\":[[0.0,\"#0d0887\"],[0.1111111111111111,\"#46039f\"],[0.2222222222222222,\"#7201a8\"],[0.3333333333333333,\"#9c179e\"],[0.4444444444444444,\"#bd3786\"],[0.5555555555555556,\"#d8576b\"],[0.6666666666666666,\"#ed7953\"],[0.7777777777777778,\"#fb9f3a\"],[0.8888888888888888,\"#fdca26\"],[1.0,\"#f0f921\"]],\"sequentialminus\":[[0.0,\"#0d0887\"],[0.1111111111111111,\"#46039f\"],[0.2222222222222222,\"#7201a8\"],[0.3333333333333333,\"#9c179e\"],[0.4444444444444444,\"#bd3786\"],[0.5555555555555556,\"#d8576b\"],[0.6666666666666666,\"#ed7953\"],[0.7777777777777778,\"#fb9f3a\"],[0.8888888888888888,\"#fdca26\"],[1.0,\"#f0f921\"]],\"diverging\":[[0,\"#8e0152\"],[0.1,\"#c51b7d\"],[0.2,\"#de77ae\"],[0.3,\"#f1b6da\"],[0.4,\"#fde0ef\"],[0.5,\"#f7f7f7\"],[0.6,\"#e6f5d0\"],[0.7,\"#b8e186\"],[0.8,\"#7fbc41\"],[0.9,\"#4d9221\"],[1,\"#276419\"]]},\"xaxis\":{\"gridcolor\":\"white\",\"linecolor\":\"white\",\"ticks\":\"\",\"title\":{\"standoff\":15},\"zerolinecolor\":\"white\",\"automargin\":true,\"zerolinewidth\":2},\"yaxis\":{\"gridcolor\":\"white\",\"linecolor\":\"white\",\"ticks\":\"\",\"title\":{\"standoff\":15},\"zerolinecolor\":\"white\",\"automargin\":true,\"zerolinewidth\":2},\"scene\":{\"xaxis\":{\"backgroundcolor\":\"#E5ECF6\",\"gridcolor\":\"white\",\"linecolor\":\"white\",\"showbackground\":true,\"ticks\":\"\",\"zerolinecolor\":\"white\",\"gridwidth\":2},\"yaxis\":{\"backgroundcolor\":\"#E5ECF6\",\"gridcolor\":\"white\",\"linecolor\":\"white\",\"showbackground\":true,\"ticks\":\"\",\"zerolinecolor\":\"white\",\"gridwidth\":2},\"zaxis\":{\"backgroundcolor\":\"#E5ECF6\",\"gridcolor\":\"white\",\"linecolor\":\"white\",\"showbackground\":true,\"ticks\":\"\",\"zerolinecolor\":\"white\",\"gridwidth\":2}},\"shapedefaults\":{\"line\":{\"color\":\"#2a3f5f\"}},\"annotationdefaults\":{\"arrowcolor\":\"#2a3f5f\",\"arrowhead\":0,\"arrowwidth\":1},\"geo\":{\"bgcolor\":\"white\",\"landcolor\":\"#E5ECF6\",\"subunitcolor\":\"white\",\"showland\":true,\"showlakes\":true,\"lakecolor\":\"white\"},\"title\":{\"x\":0.05},\"mapbox\":{\"style\":\"light\"}}},\"title\":{\"text\":\"Total Cases and Population by Country\"},\"geo\":{\"projection\":{\"type\":\"equirectangular\"},\"showframe\":true,\"showcoastlines\":false}},                        {\"responsive\": true}                    ).then(function(){\n",
       "                            \n",
       "var gd = document.getElementById('465dd7a5-5f7b-429b-971a-03ffcfb92bdf');\n",
       "var x = new MutationObserver(function (mutations, observer) {{\n",
       "        var display = window.getComputedStyle(gd).display;\n",
       "        if (!display || display === 'none') {{\n",
       "            console.log([gd, 'removed!']);\n",
       "            Plotly.purge(gd);\n",
       "            observer.disconnect();\n",
       "        }}\n",
       "}});\n",
       "\n",
       "// Listen for the removal of the full notebook cells\n",
       "var notebookContainer = gd.closest('#notebook-container');\n",
       "if (notebookContainer) {{\n",
       "    x.observe(notebookContainer, {childList: true});\n",
       "}}\n",
       "\n",
       "// Listen for the clearing of the current output cell\n",
       "var outputEl = gd.closest('.output');\n",
       "if (outputEl) {{\n",
       "    x.observe(outputEl, {childList: true});\n",
       "}}\n",
       "\n",
       "                        })                };                });            </script>        </div>"
      ]
     },
     "metadata": {},
     "output_type": "display_data"
    }
   ],
   "source": [
    "import plotly.graph_objects as go\n",
    "\n",
    "fig = go.Figure(data=go.Choropleth(\n",
    "    locations=df['Country'],\n",
    "    locationmode='country names',\n",
    "    z=df['Total Cases'],\n",
    "    text=df['Population'],\n",
    "    colorscale='Viridis',\n",
    "    autocolorscale=False,\n",
    "    marker_line_color='white',\n",
    "    colorbar_title='Total Cases'\n",
    "))\n",
    "\n",
    "fig.update_layout(\n",
    "    title_text='Total Cases and Population by Country',\n",
    "    geo=dict(\n",
    "        showframe=True,\n",
    "        showcoastlines=False,\n",
    "        projection_type='equirectangular'              \n",
    "    )\n",
    ")\n",
    "\n",
    "fig.show()"
   ]
  },
  {
   "cell_type": "markdown",
   "id": "e697e8ea-0427-4709-92df-f17103dc11d5",
   "metadata": {},
   "source": [
    "# Country Population and Serious Cases"
   ]
  },
  {
   "cell_type": "code",
   "execution_count": 28,
   "id": "302ff87a-04a6-4c88-b194-6715b76c0174",
   "metadata": {},
   "outputs": [
    {
     "data": {
      "application/vnd.plotly.v1+json": {
       "config": {
        "plotlyServerURL": "https://plot.ly"
       },
       "data": [
        {
         "autocolorscale": false,
         "colorbar": {
          "title": {
           "text": "Serious Cases"
          }
         },
         "colorscale": [
          [
           0,
           "rgb(158,1,66)"
          ],
          [
           0.1,
           "rgb(213,62,79)"
          ],
          [
           0.2,
           "rgb(244,109,67)"
          ],
          [
           0.3,
           "rgb(253,174,97)"
          ],
          [
           0.4,
           "rgb(254,224,139)"
          ],
          [
           0.5,
           "rgb(255,255,191)"
          ],
          [
           0.6,
           "rgb(230,245,152)"
          ],
          [
           0.7,
           "rgb(171,221,164)"
          ],
          [
           0.8,
           "rgb(102,194,165)"
          ],
          [
           0.9,
           "rgb(50,136,189)"
          ],
          [
           1,
           "rgb(94,79,162)"
          ]
         ],
         "locationmode": "country names",
         "locations": [
          "USA",
          "India",
          "France",
          "Brazil",
          "Germany",
          "S. Korea",
          "UK",
          "Italy",
          "Japan",
          "Russia",
          "Turkey",
          "Spain",
          "Vietnam",
          "Australia",
          "Argentina",
          "Netherlands",
          "Iran",
          "Mexico",
          "Indonesia",
          "Taiwan",
          "Colombia",
          "Poland",
          "Portugal",
          "Ukraine",
          "Austria",
          "Greece",
          "Malaysia",
          "DPRK",
          "Thailand",
          "Israel",
          "Chile",
          "Belgium",
          "Canada",
          "Peru",
          "Czechia",
          "Switzerland",
          "South Africa",
          "Philippines",
          "Romania",
          "Denmark",
          "Sweden",
          "Iraq",
          "Serbia",
          "Hungary",
          "Bangladesh",
          "Singapore",
          "Slovakia",
          "Georgia",
          "New Zealand",
          "Hong Kong",
          "Jordan",
          "Ireland",
          "Pakistan",
          "Norway",
          "Kazakhstan",
          "Finland",
          "Morocco",
          "Bulgaria",
          "Lithuania",
          "Croatia",
          "Lebanon",
          "Slovenia",
          "Tunisia",
          "Guatemala",
          "Cuba",
          "Bolivia",
          "Costa Rica",
          "UAE",
          "Ecuador",
          "Nepal",
          "Belarus",
          "Panama",
          "Uruguay",
          "Mongolia",
          "Latvia",
          "Azerbaijan",
          "Saudi Arabia",
          "Paraguay",
          "Bahrain",
          "Sri Lanka",
          "Kuwait",
          "Dominican Republic",
          "Myanmar",
          "Palestine",
          "Estonia",
          "Moldova",
          "Cyprus",
          "Venezuela",
          "Egypt",
          "Libya",
          "Ethiopia",
          "Réunion",
          "Honduras",
          "Qatar",
          "Armenia",
          "Bosnia and Herzegovina",
          "Oman",
          "North Macedonia",
          "Kenya",
          "Zambia",
          "Albania",
          "Botswana",
          "Luxembourg",
          "Montenegro",
          "Algeria",
          "Nigeria",
          "Zimbabwe",
          "China",
          "Uzbekistan",
          "Mozambique",
          "Brunei",
          "Martinique",
          "Laos",
          "Kyrgyzstan",
          "Iceland",
          "El Salvador",
          "Afghanistan",
          "Guadeloupe",
          "Maldives",
          "Trinidad and Tobago",
          "Uganda",
          "Namibia",
          "Ghana",
          "Jamaica",
          "Cambodia",
          "Rwanda",
          "Cameroon",
          "Malta",
          "Angola",
          "Barbados",
          "French Guiana",
          "DRC",
          "Channel Islands",
          "Senegal",
          "Malawi",
          "Ivory Coast",
          "Suriname",
          "French Polynesia",
          "New Caledonia",
          "Eswatini",
          "Guyana",
          "Belize",
          "Fiji",
          "Madagascar",
          "Sudan",
          "Mauritania",
          "Cabo Verde",
          "Bhutan",
          "Syria",
          "Burundi",
          "Gabon",
          "Seychelles",
          "Andorra",
          "Curaçao",
          "Papua New Guinea",
          "Aruba",
          "Mauritius",
          "Mayotte",
          "Tanzania",
          "Togo",
          "Isle of Man",
          "Guinea",
          "Bahamas",
          "Faeroe Islands",
          "Lesotho",
          "Haiti",
          "Mali",
          "Cayman Islands",
          "Saint Lucia",
          "Benin",
          "Somalia",
          "Congo",
          "Timor-Leste",
          "Burkina Faso",
          "Solomon Islands",
          "San Marino",
          "Gibraltar",
          "Liechtenstein",
          "Grenada",
          "Nicaragua",
          "Bermuda",
          "South Sudan",
          "Tajikistan",
          "Equatorial Guinea",
          "Tonga",
          "Samoa",
          "Dominica",
          "Djibouti",
          "Marshall Islands",
          "CAR",
          "Monaco",
          "Gambia",
          "Saint Martin",
          "Greenland",
          "Yemen",
          "Vanuatu",
          "Caribbean Netherlands",
          "Sint Maarten",
          "Eritrea",
          "Niger",
          "Micronesia",
          "Antigua and Barbuda",
          "Guinea-Bissau",
          "Comoros",
          "Liberia",
          "Sierra Leone",
          "Chad",
          "British Virgin Islands",
          "St. Vincent Grenadines",
          "Saint Kitts and Nevis",
          "Cook Islands",
          "Turks and Caicos",
          "Sao Tome and Principe",
          "Palau",
          "St. Barth",
          "Nauru",
          "Anguilla",
          "Kiribati",
          "Saint Pierre Miquelon",
          "Falkland Islands",
          "Montserrat",
          "Saint Helena",
          "Macao",
          "Wallis and Futuna",
          "Diamond Princess",
          "Niue",
          "Vatican City",
          "Tuvalu",
          "Western Sahara",
          "MS Zaandam"
         ],
         "marker": {
          "line": {
           "color": "white"
          }
         },
         "text": [
          334805269,
          1406631776,
          65584518,
          215353593,
          83883596,
          51329899,
          68497907,
          60262770,
          125584838,
          145805947,
          85561976,
          46719142,
          98953541,
          26068792,
          46010234,
          17211447,
          86022837,
          131562772,
          279134505,
          23888595,
          51512762,
          37739785,
          10140570,
          43192122,
          9066710,
          10316637,
          33181072,
          25990679,
          70078203,
          9326000,
          19250195,
          11668278,
          38388419,
          33684208,
          10736784,
          8773637,
          60756135,
          112508994,
          19031335,
          5834950,
          10218971,
          42164965,
          8653016,
          9606259,
          167885689,
          5943546,
          5460193,
          3968738,
          4898203,
          7604299,
          10300869,
          5020199,
          229488994,
          5511370,
          19205043,
          5554960,
          37772756,
          6844597,
          2661708,
          4059286,
          6684849,
          2078034,
          12046656,
          18584039,
          11305652,
          11992656,
          5182354,
          10081785,
          18113361,
          30225582,
          9432800,
          4446964,
          3496016,
          3378078,
          1848837,
          10300205,
          35844909,
          7305843,
          1783983,
          21575842,
          4380326,
          11056370,
          55227143,
          5345541,
          1321910,
          4013171,
          1223387,
          29266991,
          106156692,
          7040745,
          120812698,
          908061,
          10221247,
          2979915,
          2971966,
          3249317,
          5323993,
          2081304,
          56215221,
          19470234,
          2866374,
          2441162,
          642371,
          627950,
          45350148,
          216746934,
          15331428,
          1448471400,
          34382084,
          33089461,
          445431,
          374087,
          7481023,
          6728271,
          345393,
          6550389,
          40754388,
          399794,
          540985,
          1406585,
          48432863,
          2633874,
          32395450,
          2985094,
          17168639,
          13600464,
          27911548,
          444033,
          35027343,
          288023,
          314169,
          95240792,
          176463,
          17653671,
          20180839,
          27742298,
          596831,
          284164,
          290915,
          1184817,
          794045,
          412190,
          909466,
          29178077,
          45992020,
          4901981,
          567678,
          787941,
          19364809,
          12624840,
          2331533,
          99426,
          77463,
          165529,
          9292169,
          107609,
          1274727,
          286259,
          63298550,
          8680837,
          85732,
          13865691,
          400516,
          49233,
          2175699,
          11680283,
          21473764,
          67277,
          185113,
          12784726,
          16841795,
          5797805,
          1369429,
          22102838,
          721159,
          34085,
          33704,
          38387,
          113475,
          6779100,
          61939,
          11618511,
          9957464,
          1496662,
          107749,
          202239,
          72344,
          1016097,
          60057,
          5016678,
          39783,
          2558482,
          39730,
          56973,
          31154867,
          321832,
          26647,
          43966,
          3662244,
          26083660,
          117489,
          99509,
          2063367,
          907419,
          5305117,
          8306436,
          17413580,
          30596,
          111551,
          53871,
          17571,
          39741,
          227679,
          18233,
          9945,
          10903,
          15230,
          123419,
          5759,
          3539,
          4965,
          6115,
          667490,
          10982,
          5816377.5,
          1622,
          799,
          12066,
          626161,
          5816377.5
         ],
         "type": "choropleth",
         "z": [
          2970,
          698,
          869,
          8318,
          1406,
          352,
          146,
          141,
          204,
          2300,
          975,
          339,
          106,
          49,
          294,
          35,
          157,
          4798,
          2771,
          18,
          342,
          3086,
          61,
          177,
          47,
          115,
          43,
          18,
          1496,
          101,
          124,
          48,
          99,
          147,
          39,
          54,
          192,
          696,
          123,
          18,
          13,
          21,
          33,
          18,
          1331,
          9,
          22,
          18,
          18,
          8,
          59,
          13,
          47,
          20,
          24,
          21,
          293,
          43,
          12,
          10,
          74,
          22,
          99,
          5,
          23,
          220,
          52,
          18,
          759,
          18,
          18,
          16,
          18,
          192,
          5,
          18,
          32,
          7,
          2,
          18,
          3,
          4,
          18,
          17,
          4,
          49,
          60,
          36,
          122,
          101,
          1,
          10,
          105,
          4,
          18,
          18,
          2,
          18,
          1,
          18,
          18,
          1,
          18,
          6,
          6,
          11,
          12,
          36,
          23,
          11,
          3,
          8,
          18,
          131,
          2,
          8,
          1124,
          19,
          25,
          18,
          3,
          18,
          2,
          18,
          18,
          18,
          13,
          4,
          18,
          18,
          3,
          18,
          18,
          18,
          67,
          18,
          18,
          7,
          9,
          11,
          18,
          6,
          18,
          18,
          18,
          18,
          23,
          18,
          18,
          18,
          18,
          18,
          14,
          3,
          7,
          2,
          18,
          18,
          7,
          18,
          18,
          8,
          2,
          5,
          18,
          18,
          18,
          1,
          18,
          5,
          18,
          18,
          18,
          18,
          1,
          4,
          18,
          2,
          4,
          18,
          18,
          1,
          18,
          5,
          18,
          4,
          18,
          18,
          22,
          2,
          4,
          18,
          7,
          4,
          23,
          18,
          18,
          10,
          18,
          1,
          1,
          1,
          6,
          18,
          2,
          18,
          18,
          18,
          18,
          18,
          18,
          4,
          18,
          1,
          18,
          18,
          4,
          3,
          1,
          18,
          18,
          18,
          18,
          18,
          18,
          18,
          18,
          18,
          18,
          18
         ]
        }
       ],
       "layout": {
        "geo": {
         "projection": {
          "type": "equirectangular"
         },
         "showcoastlines": false,
         "showframe": true
        },
        "template": {
         "data": {
          "bar": [
           {
            "error_x": {
             "color": "#2a3f5f"
            },
            "error_y": {
             "color": "#2a3f5f"
            },
            "marker": {
             "line": {
              "color": "#E5ECF6",
              "width": 0.5
             },
             "pattern": {
              "fillmode": "overlay",
              "size": 10,
              "solidity": 0.2
             }
            },
            "type": "bar"
           }
          ],
          "barpolar": [
           {
            "marker": {
             "line": {
              "color": "#E5ECF6",
              "width": 0.5
             },
             "pattern": {
              "fillmode": "overlay",
              "size": 10,
              "solidity": 0.2
             }
            },
            "type": "barpolar"
           }
          ],
          "carpet": [
           {
            "aaxis": {
             "endlinecolor": "#2a3f5f",
             "gridcolor": "white",
             "linecolor": "white",
             "minorgridcolor": "white",
             "startlinecolor": "#2a3f5f"
            },
            "baxis": {
             "endlinecolor": "#2a3f5f",
             "gridcolor": "white",
             "linecolor": "white",
             "minorgridcolor": "white",
             "startlinecolor": "#2a3f5f"
            },
            "type": "carpet"
           }
          ],
          "choropleth": [
           {
            "colorbar": {
             "outlinewidth": 0,
             "ticks": ""
            },
            "type": "choropleth"
           }
          ],
          "contour": [
           {
            "colorbar": {
             "outlinewidth": 0,
             "ticks": ""
            },
            "colorscale": [
             [
              0,
              "#0d0887"
             ],
             [
              0.1111111111111111,
              "#46039f"
             ],
             [
              0.2222222222222222,
              "#7201a8"
             ],
             [
              0.3333333333333333,
              "#9c179e"
             ],
             [
              0.4444444444444444,
              "#bd3786"
             ],
             [
              0.5555555555555556,
              "#d8576b"
             ],
             [
              0.6666666666666666,
              "#ed7953"
             ],
             [
              0.7777777777777778,
              "#fb9f3a"
             ],
             [
              0.8888888888888888,
              "#fdca26"
             ],
             [
              1,
              "#f0f921"
             ]
            ],
            "type": "contour"
           }
          ],
          "contourcarpet": [
           {
            "colorbar": {
             "outlinewidth": 0,
             "ticks": ""
            },
            "type": "contourcarpet"
           }
          ],
          "heatmap": [
           {
            "colorbar": {
             "outlinewidth": 0,
             "ticks": ""
            },
            "colorscale": [
             [
              0,
              "#0d0887"
             ],
             [
              0.1111111111111111,
              "#46039f"
             ],
             [
              0.2222222222222222,
              "#7201a8"
             ],
             [
              0.3333333333333333,
              "#9c179e"
             ],
             [
              0.4444444444444444,
              "#bd3786"
             ],
             [
              0.5555555555555556,
              "#d8576b"
             ],
             [
              0.6666666666666666,
              "#ed7953"
             ],
             [
              0.7777777777777778,
              "#fb9f3a"
             ],
             [
              0.8888888888888888,
              "#fdca26"
             ],
             [
              1,
              "#f0f921"
             ]
            ],
            "type": "heatmap"
           }
          ],
          "heatmapgl": [
           {
            "colorbar": {
             "outlinewidth": 0,
             "ticks": ""
            },
            "colorscale": [
             [
              0,
              "#0d0887"
             ],
             [
              0.1111111111111111,
              "#46039f"
             ],
             [
              0.2222222222222222,
              "#7201a8"
             ],
             [
              0.3333333333333333,
              "#9c179e"
             ],
             [
              0.4444444444444444,
              "#bd3786"
             ],
             [
              0.5555555555555556,
              "#d8576b"
             ],
             [
              0.6666666666666666,
              "#ed7953"
             ],
             [
              0.7777777777777778,
              "#fb9f3a"
             ],
             [
              0.8888888888888888,
              "#fdca26"
             ],
             [
              1,
              "#f0f921"
             ]
            ],
            "type": "heatmapgl"
           }
          ],
          "histogram": [
           {
            "marker": {
             "pattern": {
              "fillmode": "overlay",
              "size": 10,
              "solidity": 0.2
             }
            },
            "type": "histogram"
           }
          ],
          "histogram2d": [
           {
            "colorbar": {
             "outlinewidth": 0,
             "ticks": ""
            },
            "colorscale": [
             [
              0,
              "#0d0887"
             ],
             [
              0.1111111111111111,
              "#46039f"
             ],
             [
              0.2222222222222222,
              "#7201a8"
             ],
             [
              0.3333333333333333,
              "#9c179e"
             ],
             [
              0.4444444444444444,
              "#bd3786"
             ],
             [
              0.5555555555555556,
              "#d8576b"
             ],
             [
              0.6666666666666666,
              "#ed7953"
             ],
             [
              0.7777777777777778,
              "#fb9f3a"
             ],
             [
              0.8888888888888888,
              "#fdca26"
             ],
             [
              1,
              "#f0f921"
             ]
            ],
            "type": "histogram2d"
           }
          ],
          "histogram2dcontour": [
           {
            "colorbar": {
             "outlinewidth": 0,
             "ticks": ""
            },
            "colorscale": [
             [
              0,
              "#0d0887"
             ],
             [
              0.1111111111111111,
              "#46039f"
             ],
             [
              0.2222222222222222,
              "#7201a8"
             ],
             [
              0.3333333333333333,
              "#9c179e"
             ],
             [
              0.4444444444444444,
              "#bd3786"
             ],
             [
              0.5555555555555556,
              "#d8576b"
             ],
             [
              0.6666666666666666,
              "#ed7953"
             ],
             [
              0.7777777777777778,
              "#fb9f3a"
             ],
             [
              0.8888888888888888,
              "#fdca26"
             ],
             [
              1,
              "#f0f921"
             ]
            ],
            "type": "histogram2dcontour"
           }
          ],
          "mesh3d": [
           {
            "colorbar": {
             "outlinewidth": 0,
             "ticks": ""
            },
            "type": "mesh3d"
           }
          ],
          "parcoords": [
           {
            "line": {
             "colorbar": {
              "outlinewidth": 0,
              "ticks": ""
             }
            },
            "type": "parcoords"
           }
          ],
          "pie": [
           {
            "automargin": true,
            "type": "pie"
           }
          ],
          "scatter": [
           {
            "fillpattern": {
             "fillmode": "overlay",
             "size": 10,
             "solidity": 0.2
            },
            "type": "scatter"
           }
          ],
          "scatter3d": [
           {
            "line": {
             "colorbar": {
              "outlinewidth": 0,
              "ticks": ""
             }
            },
            "marker": {
             "colorbar": {
              "outlinewidth": 0,
              "ticks": ""
             }
            },
            "type": "scatter3d"
           }
          ],
          "scattercarpet": [
           {
            "marker": {
             "colorbar": {
              "outlinewidth": 0,
              "ticks": ""
             }
            },
            "type": "scattercarpet"
           }
          ],
          "scattergeo": [
           {
            "marker": {
             "colorbar": {
              "outlinewidth": 0,
              "ticks": ""
             }
            },
            "type": "scattergeo"
           }
          ],
          "scattergl": [
           {
            "marker": {
             "colorbar": {
              "outlinewidth": 0,
              "ticks": ""
             }
            },
            "type": "scattergl"
           }
          ],
          "scattermapbox": [
           {
            "marker": {
             "colorbar": {
              "outlinewidth": 0,
              "ticks": ""
             }
            },
            "type": "scattermapbox"
           }
          ],
          "scatterpolar": [
           {
            "marker": {
             "colorbar": {
              "outlinewidth": 0,
              "ticks": ""
             }
            },
            "type": "scatterpolar"
           }
          ],
          "scatterpolargl": [
           {
            "marker": {
             "colorbar": {
              "outlinewidth": 0,
              "ticks": ""
             }
            },
            "type": "scatterpolargl"
           }
          ],
          "scatterternary": [
           {
            "marker": {
             "colorbar": {
              "outlinewidth": 0,
              "ticks": ""
             }
            },
            "type": "scatterternary"
           }
          ],
          "surface": [
           {
            "colorbar": {
             "outlinewidth": 0,
             "ticks": ""
            },
            "colorscale": [
             [
              0,
              "#0d0887"
             ],
             [
              0.1111111111111111,
              "#46039f"
             ],
             [
              0.2222222222222222,
              "#7201a8"
             ],
             [
              0.3333333333333333,
              "#9c179e"
             ],
             [
              0.4444444444444444,
              "#bd3786"
             ],
             [
              0.5555555555555556,
              "#d8576b"
             ],
             [
              0.6666666666666666,
              "#ed7953"
             ],
             [
              0.7777777777777778,
              "#fb9f3a"
             ],
             [
              0.8888888888888888,
              "#fdca26"
             ],
             [
              1,
              "#f0f921"
             ]
            ],
            "type": "surface"
           }
          ],
          "table": [
           {
            "cells": {
             "fill": {
              "color": "#EBF0F8"
             },
             "line": {
              "color": "white"
             }
            },
            "header": {
             "fill": {
              "color": "#C8D4E3"
             },
             "line": {
              "color": "white"
             }
            },
            "type": "table"
           }
          ]
         },
         "layout": {
          "annotationdefaults": {
           "arrowcolor": "#2a3f5f",
           "arrowhead": 0,
           "arrowwidth": 1
          },
          "autotypenumbers": "strict",
          "coloraxis": {
           "colorbar": {
            "outlinewidth": 0,
            "ticks": ""
           }
          },
          "colorscale": {
           "diverging": [
            [
             0,
             "#8e0152"
            ],
            [
             0.1,
             "#c51b7d"
            ],
            [
             0.2,
             "#de77ae"
            ],
            [
             0.3,
             "#f1b6da"
            ],
            [
             0.4,
             "#fde0ef"
            ],
            [
             0.5,
             "#f7f7f7"
            ],
            [
             0.6,
             "#e6f5d0"
            ],
            [
             0.7,
             "#b8e186"
            ],
            [
             0.8,
             "#7fbc41"
            ],
            [
             0.9,
             "#4d9221"
            ],
            [
             1,
             "#276419"
            ]
           ],
           "sequential": [
            [
             0,
             "#0d0887"
            ],
            [
             0.1111111111111111,
             "#46039f"
            ],
            [
             0.2222222222222222,
             "#7201a8"
            ],
            [
             0.3333333333333333,
             "#9c179e"
            ],
            [
             0.4444444444444444,
             "#bd3786"
            ],
            [
             0.5555555555555556,
             "#d8576b"
            ],
            [
             0.6666666666666666,
             "#ed7953"
            ],
            [
             0.7777777777777778,
             "#fb9f3a"
            ],
            [
             0.8888888888888888,
             "#fdca26"
            ],
            [
             1,
             "#f0f921"
            ]
           ],
           "sequentialminus": [
            [
             0,
             "#0d0887"
            ],
            [
             0.1111111111111111,
             "#46039f"
            ],
            [
             0.2222222222222222,
             "#7201a8"
            ],
            [
             0.3333333333333333,
             "#9c179e"
            ],
            [
             0.4444444444444444,
             "#bd3786"
            ],
            [
             0.5555555555555556,
             "#d8576b"
            ],
            [
             0.6666666666666666,
             "#ed7953"
            ],
            [
             0.7777777777777778,
             "#fb9f3a"
            ],
            [
             0.8888888888888888,
             "#fdca26"
            ],
            [
             1,
             "#f0f921"
            ]
           ]
          },
          "colorway": [
           "#636efa",
           "#EF553B",
           "#00cc96",
           "#ab63fa",
           "#FFA15A",
           "#19d3f3",
           "#FF6692",
           "#B6E880",
           "#FF97FF",
           "#FECB52"
          ],
          "font": {
           "color": "#2a3f5f"
          },
          "geo": {
           "bgcolor": "white",
           "lakecolor": "white",
           "landcolor": "#E5ECF6",
           "showlakes": true,
           "showland": true,
           "subunitcolor": "white"
          },
          "hoverlabel": {
           "align": "left"
          },
          "hovermode": "closest",
          "mapbox": {
           "style": "light"
          },
          "paper_bgcolor": "white",
          "plot_bgcolor": "#E5ECF6",
          "polar": {
           "angularaxis": {
            "gridcolor": "white",
            "linecolor": "white",
            "ticks": ""
           },
           "bgcolor": "#E5ECF6",
           "radialaxis": {
            "gridcolor": "white",
            "linecolor": "white",
            "ticks": ""
           }
          },
          "scene": {
           "xaxis": {
            "backgroundcolor": "#E5ECF6",
            "gridcolor": "white",
            "gridwidth": 2,
            "linecolor": "white",
            "showbackground": true,
            "ticks": "",
            "zerolinecolor": "white"
           },
           "yaxis": {
            "backgroundcolor": "#E5ECF6",
            "gridcolor": "white",
            "gridwidth": 2,
            "linecolor": "white",
            "showbackground": true,
            "ticks": "",
            "zerolinecolor": "white"
           },
           "zaxis": {
            "backgroundcolor": "#E5ECF6",
            "gridcolor": "white",
            "gridwidth": 2,
            "linecolor": "white",
            "showbackground": true,
            "ticks": "",
            "zerolinecolor": "white"
           }
          },
          "shapedefaults": {
           "line": {
            "color": "#2a3f5f"
           }
          },
          "ternary": {
           "aaxis": {
            "gridcolor": "white",
            "linecolor": "white",
            "ticks": ""
           },
           "baxis": {
            "gridcolor": "white",
            "linecolor": "white",
            "ticks": ""
           },
           "bgcolor": "#E5ECF6",
           "caxis": {
            "gridcolor": "white",
            "linecolor": "white",
            "ticks": ""
           }
          },
          "title": {
           "x": 0.05
          },
          "xaxis": {
           "automargin": true,
           "gridcolor": "white",
           "linecolor": "white",
           "ticks": "",
           "title": {
            "standoff": 15
           },
           "zerolinecolor": "white",
           "zerolinewidth": 2
          },
          "yaxis": {
           "automargin": true,
           "gridcolor": "white",
           "linecolor": "white",
           "ticks": "",
           "title": {
            "standoff": 15
           },
           "zerolinecolor": "white",
           "zerolinewidth": 2
          }
         }
        },
        "title": {
         "text": "Serious Cases and Population by Country"
        }
       }
      },
      "text/html": [
       "<div>                            <div id=\"e6eb138c-ab5d-4323-8e9d-6003f611399b\" class=\"plotly-graph-div\" style=\"height:525px; width:100%;\"></div>            <script type=\"text/javascript\">                require([\"plotly\"], function(Plotly) {                    window.PLOTLYENV=window.PLOTLYENV || {};                                    if (document.getElementById(\"e6eb138c-ab5d-4323-8e9d-6003f611399b\")) {                    Plotly.newPlot(                        \"e6eb138c-ab5d-4323-8e9d-6003f611399b\",                        [{\"autocolorscale\":false,\"colorbar\":{\"title\":{\"text\":\"Serious Cases\"}},\"colorscale\":[[0.0,\"rgb(158,1,66)\"],[0.1,\"rgb(213,62,79)\"],[0.2,\"rgb(244,109,67)\"],[0.3,\"rgb(253,174,97)\"],[0.4,\"rgb(254,224,139)\"],[0.5,\"rgb(255,255,191)\"],[0.6,\"rgb(230,245,152)\"],[0.7,\"rgb(171,221,164)\"],[0.8,\"rgb(102,194,165)\"],[0.9,\"rgb(50,136,189)\"],[1.0,\"rgb(94,79,162)\"]],\"locationmode\":\"country names\",\"locations\":[\"USA\",\"India\",\"France\",\"Brazil\",\"Germany\",\"S. Korea\",\"UK\",\"Italy\",\"Japan\",\"Russia\",\"Turkey\",\"Spain\",\"Vietnam\",\"Australia\",\"Argentina\",\"Netherlands\",\"Iran\",\"Mexico\",\"Indonesia\",\"Taiwan\",\"Colombia\",\"Poland\",\"Portugal\",\"Ukraine\",\"Austria\",\"Greece\",\"Malaysia\",\"DPRK\",\"Thailand\",\"Israel\",\"Chile\",\"Belgium\",\"Canada\",\"Peru\",\"Czechia\",\"Switzerland\",\"South Africa\",\"Philippines\",\"Romania\",\"Denmark\",\"Sweden\",\"Iraq\",\"Serbia\",\"Hungary\",\"Bangladesh\",\"Singapore\",\"Slovakia\",\"Georgia\",\"New Zealand\",\"Hong Kong\",\"Jordan\",\"Ireland\",\"Pakistan\",\"Norway\",\"Kazakhstan\",\"Finland\",\"Morocco\",\"Bulgaria\",\"Lithuania\",\"Croatia\",\"Lebanon\",\"Slovenia\",\"Tunisia\",\"Guatemala\",\"Cuba\",\"Bolivia\",\"Costa Rica\",\"UAE\",\"Ecuador\",\"Nepal\",\"Belarus\",\"Panama\",\"Uruguay\",\"Mongolia\",\"Latvia\",\"Azerbaijan\",\"Saudi Arabia\",\"Paraguay\",\"Bahrain\",\"Sri Lanka\",\"Kuwait\",\"Dominican Republic\",\"Myanmar\",\"Palestine\",\"Estonia\",\"Moldova\",\"Cyprus\",\"Venezuela\",\"Egypt\",\"Libya\",\"Ethiopia\",\"R\\u00e9union\",\"Honduras\",\"Qatar\",\"Armenia\",\"Bosnia and Herzegovina\",\"Oman\",\"North Macedonia\",\"Kenya\",\"Zambia\",\"Albania\",\"Botswana\",\"Luxembourg\",\"Montenegro\",\"Algeria\",\"Nigeria\",\"Zimbabwe\",\"China\",\"Uzbekistan\",\"Mozambique\",\"Brunei\",\"Martinique\",\"Laos\",\"Kyrgyzstan\",\"Iceland\",\"El Salvador\",\"Afghanistan\",\"Guadeloupe\",\"Maldives\",\"Trinidad and Tobago\",\"Uganda\",\"Namibia\",\"Ghana\",\"Jamaica\",\"Cambodia\",\"Rwanda\",\"Cameroon\",\"Malta\",\"Angola\",\"Barbados\",\"French Guiana\",\"DRC\",\"Channel Islands\",\"Senegal\",\"Malawi\",\"Ivory Coast\",\"Suriname\",\"French Polynesia\",\"New Caledonia\",\"Eswatini\",\"Guyana\",\"Belize\",\"Fiji\",\"Madagascar\",\"Sudan\",\"Mauritania\",\"Cabo Verde\",\"Bhutan\",\"Syria\",\"Burundi\",\"Gabon\",\"Seychelles\",\"Andorra\",\"Cura\\u00e7ao\",\"Papua New Guinea\",\"Aruba\",\"Mauritius\",\"Mayotte\",\"Tanzania\",\"Togo\",\"Isle of Man\",\"Guinea\",\"Bahamas\",\"Faeroe Islands\",\"Lesotho\",\"Haiti\",\"Mali\",\"Cayman Islands\",\"Saint Lucia\",\"Benin\",\"Somalia\",\"Congo\",\"Timor-Leste\",\"Burkina Faso\",\"Solomon Islands\",\"San Marino\",\"Gibraltar\",\"Liechtenstein\",\"Grenada\",\"Nicaragua\",\"Bermuda\",\"South Sudan\",\"Tajikistan\",\"Equatorial Guinea\",\"Tonga\",\"Samoa\",\"Dominica\",\"Djibouti\",\"Marshall Islands\",\"CAR\",\"Monaco\",\"Gambia\",\"Saint Martin\",\"Greenland\",\"Yemen\",\"Vanuatu\",\"Caribbean Netherlands\",\"Sint Maarten\",\"Eritrea\",\"Niger\",\"Micronesia\",\"Antigua and Barbuda\",\"Guinea-Bissau\",\"Comoros\",\"Liberia\",\"Sierra Leone\",\"Chad\",\"British Virgin Islands\",\"St. Vincent Grenadines\",\"Saint Kitts and Nevis\",\"Cook Islands\",\"Turks and Caicos\",\"Sao Tome and Principe\",\"Palau\",\"St. Barth\",\"Nauru\",\"Anguilla\",\"Kiribati\",\"Saint Pierre Miquelon\",\"Falkland Islands\",\"Montserrat\",\"Saint Helena\",\"Macao\",\"Wallis and Futuna\",\"Diamond Princess\",\"Niue\",\"Vatican City\",\"Tuvalu\",\"Western Sahara\",\"MS Zaandam\"],\"marker\":{\"line\":{\"color\":\"white\"}},\"text\":[334805269.0,1406631776.0,65584518.0,215353593.0,83883596.0,51329899.0,68497907.0,60262770.0,125584838.0,145805947.0,85561976.0,46719142.0,98953541.0,26068792.0,46010234.0,17211447.0,86022837.0,131562772.0,279134505.0,23888595.0,51512762.0,37739785.0,10140570.0,43192122.0,9066710.0,10316637.0,33181072.0,25990679.0,70078203.0,9326000.0,19250195.0,11668278.0,38388419.0,33684208.0,10736784.0,8773637.0,60756135.0,112508994.0,19031335.0,5834950.0,10218971.0,42164965.0,8653016.0,9606259.0,167885689.0,5943546.0,5460193.0,3968738.0,4898203.0,7604299.0,10300869.0,5020199.0,229488994.0,5511370.0,19205043.0,5554960.0,37772756.0,6844597.0,2661708.0,4059286.0,6684849.0,2078034.0,12046656.0,18584039.0,11305652.0,11992656.0,5182354.0,10081785.0,18113361.0,30225582.0,9432800.0,4446964.0,3496016.0,3378078.0,1848837.0,10300205.0,35844909.0,7305843.0,1783983.0,21575842.0,4380326.0,11056370.0,55227143.0,5345541.0,1321910.0,4013171.0,1223387.0,29266991.0,106156692.0,7040745.0,120812698.0,908061.0,10221247.0,2979915.0,2971966.0,3249317.0,5323993.0,2081304.0,56215221.0,19470234.0,2866374.0,2441162.0,642371.0,627950.0,45350148.0,216746934.0,15331428.0,1448471400.0,34382084.0,33089461.0,445431.0,374087.0,7481023.0,6728271.0,345393.0,6550389.0,40754388.0,399794.0,540985.0,1406585.0,48432863.0,2633874.0,32395450.0,2985094.0,17168639.0,13600464.0,27911548.0,444033.0,35027343.0,288023.0,314169.0,95240792.0,176463.0,17653671.0,20180839.0,27742298.0,596831.0,284164.0,290915.0,1184817.0,794045.0,412190.0,909466.0,29178077.0,45992020.0,4901981.0,567678.0,787941.0,19364809.0,12624840.0,2331533.0,99426.0,77463.0,165529.0,9292169.0,107609.0,1274727.0,286259.0,63298550.0,8680837.0,85732.0,13865691.0,400516.0,49233.0,2175699.0,11680283.0,21473764.0,67277.0,185113.0,12784726.0,16841795.0,5797805.0,1369429.0,22102838.0,721159.0,34085.0,33704.0,38387.0,113475.0,6779100.0,61939.0,11618511.0,9957464.0,1496662.0,107749.0,202239.0,72344.0,1016097.0,60057.0,5016678.0,39783.0,2558482.0,39730.0,56973.0,31154867.0,321832.0,26647.0,43966.0,3662244.0,26083660.0,117489.0,99509.0,2063367.0,907419.0,5305117.0,8306436.0,17413580.0,30596.0,111551.0,53871.0,17571.0,39741.0,227679.0,18233.0,9945.0,10903.0,15230.0,123419.0,5759.0,3539.0,4965.0,6115.0,667490.0,10982.0,5816377.5,1622.0,799.0,12066.0,626161.0,5816377.5],\"z\":[2970.0,698.0,869.0,8318.0,1406.0,352.0,146.0,141.0,204.0,2300.0,975.0,339.0,106.0,49.0,294.0,35.0,157.0,4798.0,2771.0,18.0,342.0,3086.0,61.0,177.0,47.0,115.0,43.0,18.0,1496.0,101.0,124.0,48.0,99.0,147.0,39.0,54.0,192.0,696.0,123.0,18.0,13.0,21.0,33.0,18.0,1331.0,9.0,22.0,18.0,18.0,8.0,59.0,13.0,47.0,20.0,24.0,21.0,293.0,43.0,12.0,10.0,74.0,22.0,99.0,5.0,23.0,220.0,52.0,18.0,759.0,18.0,18.0,16.0,18.0,192.0,5.0,18.0,32.0,7.0,2.0,18.0,3.0,4.0,18.0,17.0,4.0,49.0,60.0,36.0,122.0,101.0,1.0,10.0,105.0,4.0,18.0,18.0,2.0,18.0,1.0,18.0,18.0,1.0,18.0,6.0,6.0,11.0,12.0,36.0,23.0,11.0,3.0,8.0,18.0,131.0,2.0,8.0,1124.0,19.0,25.0,18.0,3.0,18.0,2.0,18.0,18.0,18.0,13.0,4.0,18.0,18.0,3.0,18.0,18.0,18.0,67.0,18.0,18.0,7.0,9.0,11.0,18.0,6.0,18.0,18.0,18.0,18.0,23.0,18.0,18.0,18.0,18.0,18.0,14.0,3.0,7.0,2.0,18.0,18.0,7.0,18.0,18.0,8.0,2.0,5.0,18.0,18.0,18.0,1.0,18.0,5.0,18.0,18.0,18.0,18.0,1.0,4.0,18.0,2.0,4.0,18.0,18.0,1.0,18.0,5.0,18.0,4.0,18.0,18.0,22.0,2.0,4.0,18.0,7.0,4.0,23.0,18.0,18.0,10.0,18.0,1.0,1.0,1.0,6.0,18.0,2.0,18.0,18.0,18.0,18.0,18.0,18.0,4.0,18.0,1.0,18.0,18.0,4.0,3.0,1.0,18.0,18.0,18.0,18.0,18.0,18.0,18.0,18.0,18.0,18.0,18.0],\"type\":\"choropleth\"}],                        {\"template\":{\"data\":{\"histogram2dcontour\":[{\"type\":\"histogram2dcontour\",\"colorbar\":{\"outlinewidth\":0,\"ticks\":\"\"},\"colorscale\":[[0.0,\"#0d0887\"],[0.1111111111111111,\"#46039f\"],[0.2222222222222222,\"#7201a8\"],[0.3333333333333333,\"#9c179e\"],[0.4444444444444444,\"#bd3786\"],[0.5555555555555556,\"#d8576b\"],[0.6666666666666666,\"#ed7953\"],[0.7777777777777778,\"#fb9f3a\"],[0.8888888888888888,\"#fdca26\"],[1.0,\"#f0f921\"]]}],\"choropleth\":[{\"type\":\"choropleth\",\"colorbar\":{\"outlinewidth\":0,\"ticks\":\"\"}}],\"histogram2d\":[{\"type\":\"histogram2d\",\"colorbar\":{\"outlinewidth\":0,\"ticks\":\"\"},\"colorscale\":[[0.0,\"#0d0887\"],[0.1111111111111111,\"#46039f\"],[0.2222222222222222,\"#7201a8\"],[0.3333333333333333,\"#9c179e\"],[0.4444444444444444,\"#bd3786\"],[0.5555555555555556,\"#d8576b\"],[0.6666666666666666,\"#ed7953\"],[0.7777777777777778,\"#fb9f3a\"],[0.8888888888888888,\"#fdca26\"],[1.0,\"#f0f921\"]]}],\"heatmap\":[{\"type\":\"heatmap\",\"colorbar\":{\"outlinewidth\":0,\"ticks\":\"\"},\"colorscale\":[[0.0,\"#0d0887\"],[0.1111111111111111,\"#46039f\"],[0.2222222222222222,\"#7201a8\"],[0.3333333333333333,\"#9c179e\"],[0.4444444444444444,\"#bd3786\"],[0.5555555555555556,\"#d8576b\"],[0.6666666666666666,\"#ed7953\"],[0.7777777777777778,\"#fb9f3a\"],[0.8888888888888888,\"#fdca26\"],[1.0,\"#f0f921\"]]}],\"heatmapgl\":[{\"type\":\"heatmapgl\",\"colorbar\":{\"outlinewidth\":0,\"ticks\":\"\"},\"colorscale\":[[0.0,\"#0d0887\"],[0.1111111111111111,\"#46039f\"],[0.2222222222222222,\"#7201a8\"],[0.3333333333333333,\"#9c179e\"],[0.4444444444444444,\"#bd3786\"],[0.5555555555555556,\"#d8576b\"],[0.6666666666666666,\"#ed7953\"],[0.7777777777777778,\"#fb9f3a\"],[0.8888888888888888,\"#fdca26\"],[1.0,\"#f0f921\"]]}],\"contourcarpet\":[{\"type\":\"contourcarpet\",\"colorbar\":{\"outlinewidth\":0,\"ticks\":\"\"}}],\"contour\":[{\"type\":\"contour\",\"colorbar\":{\"outlinewidth\":0,\"ticks\":\"\"},\"colorscale\":[[0.0,\"#0d0887\"],[0.1111111111111111,\"#46039f\"],[0.2222222222222222,\"#7201a8\"],[0.3333333333333333,\"#9c179e\"],[0.4444444444444444,\"#bd3786\"],[0.5555555555555556,\"#d8576b\"],[0.6666666666666666,\"#ed7953\"],[0.7777777777777778,\"#fb9f3a\"],[0.8888888888888888,\"#fdca26\"],[1.0,\"#f0f921\"]]}],\"surface\":[{\"type\":\"surface\",\"colorbar\":{\"outlinewidth\":0,\"ticks\":\"\"},\"colorscale\":[[0.0,\"#0d0887\"],[0.1111111111111111,\"#46039f\"],[0.2222222222222222,\"#7201a8\"],[0.3333333333333333,\"#9c179e\"],[0.4444444444444444,\"#bd3786\"],[0.5555555555555556,\"#d8576b\"],[0.6666666666666666,\"#ed7953\"],[0.7777777777777778,\"#fb9f3a\"],[0.8888888888888888,\"#fdca26\"],[1.0,\"#f0f921\"]]}],\"mesh3d\":[{\"type\":\"mesh3d\",\"colorbar\":{\"outlinewidth\":0,\"ticks\":\"\"}}],\"scatter\":[{\"fillpattern\":{\"fillmode\":\"overlay\",\"size\":10,\"solidity\":0.2},\"type\":\"scatter\"}],\"parcoords\":[{\"type\":\"parcoords\",\"line\":{\"colorbar\":{\"outlinewidth\":0,\"ticks\":\"\"}}}],\"scatterpolargl\":[{\"type\":\"scatterpolargl\",\"marker\":{\"colorbar\":{\"outlinewidth\":0,\"ticks\":\"\"}}}],\"bar\":[{\"error_x\":{\"color\":\"#2a3f5f\"},\"error_y\":{\"color\":\"#2a3f5f\"},\"marker\":{\"line\":{\"color\":\"#E5ECF6\",\"width\":0.5},\"pattern\":{\"fillmode\":\"overlay\",\"size\":10,\"solidity\":0.2}},\"type\":\"bar\"}],\"scattergeo\":[{\"type\":\"scattergeo\",\"marker\":{\"colorbar\":{\"outlinewidth\":0,\"ticks\":\"\"}}}],\"scatterpolar\":[{\"type\":\"scatterpolar\",\"marker\":{\"colorbar\":{\"outlinewidth\":0,\"ticks\":\"\"}}}],\"histogram\":[{\"marker\":{\"pattern\":{\"fillmode\":\"overlay\",\"size\":10,\"solidity\":0.2}},\"type\":\"histogram\"}],\"scattergl\":[{\"type\":\"scattergl\",\"marker\":{\"colorbar\":{\"outlinewidth\":0,\"ticks\":\"\"}}}],\"scatter3d\":[{\"type\":\"scatter3d\",\"line\":{\"colorbar\":{\"outlinewidth\":0,\"ticks\":\"\"}},\"marker\":{\"colorbar\":{\"outlinewidth\":0,\"ticks\":\"\"}}}],\"scattermapbox\":[{\"type\":\"scattermapbox\",\"marker\":{\"colorbar\":{\"outlinewidth\":0,\"ticks\":\"\"}}}],\"scatterternary\":[{\"type\":\"scatterternary\",\"marker\":{\"colorbar\":{\"outlinewidth\":0,\"ticks\":\"\"}}}],\"scattercarpet\":[{\"type\":\"scattercarpet\",\"marker\":{\"colorbar\":{\"outlinewidth\":0,\"ticks\":\"\"}}}],\"carpet\":[{\"aaxis\":{\"endlinecolor\":\"#2a3f5f\",\"gridcolor\":\"white\",\"linecolor\":\"white\",\"minorgridcolor\":\"white\",\"startlinecolor\":\"#2a3f5f\"},\"baxis\":{\"endlinecolor\":\"#2a3f5f\",\"gridcolor\":\"white\",\"linecolor\":\"white\",\"minorgridcolor\":\"white\",\"startlinecolor\":\"#2a3f5f\"},\"type\":\"carpet\"}],\"table\":[{\"cells\":{\"fill\":{\"color\":\"#EBF0F8\"},\"line\":{\"color\":\"white\"}},\"header\":{\"fill\":{\"color\":\"#C8D4E3\"},\"line\":{\"color\":\"white\"}},\"type\":\"table\"}],\"barpolar\":[{\"marker\":{\"line\":{\"color\":\"#E5ECF6\",\"width\":0.5},\"pattern\":{\"fillmode\":\"overlay\",\"size\":10,\"solidity\":0.2}},\"type\":\"barpolar\"}],\"pie\":[{\"automargin\":true,\"type\":\"pie\"}]},\"layout\":{\"autotypenumbers\":\"strict\",\"colorway\":[\"#636efa\",\"#EF553B\",\"#00cc96\",\"#ab63fa\",\"#FFA15A\",\"#19d3f3\",\"#FF6692\",\"#B6E880\",\"#FF97FF\",\"#FECB52\"],\"font\":{\"color\":\"#2a3f5f\"},\"hovermode\":\"closest\",\"hoverlabel\":{\"align\":\"left\"},\"paper_bgcolor\":\"white\",\"plot_bgcolor\":\"#E5ECF6\",\"polar\":{\"bgcolor\":\"#E5ECF6\",\"angularaxis\":{\"gridcolor\":\"white\",\"linecolor\":\"white\",\"ticks\":\"\"},\"radialaxis\":{\"gridcolor\":\"white\",\"linecolor\":\"white\",\"ticks\":\"\"}},\"ternary\":{\"bgcolor\":\"#E5ECF6\",\"aaxis\":{\"gridcolor\":\"white\",\"linecolor\":\"white\",\"ticks\":\"\"},\"baxis\":{\"gridcolor\":\"white\",\"linecolor\":\"white\",\"ticks\":\"\"},\"caxis\":{\"gridcolor\":\"white\",\"linecolor\":\"white\",\"ticks\":\"\"}},\"coloraxis\":{\"colorbar\":{\"outlinewidth\":0,\"ticks\":\"\"}},\"colorscale\":{\"sequential\":[[0.0,\"#0d0887\"],[0.1111111111111111,\"#46039f\"],[0.2222222222222222,\"#7201a8\"],[0.3333333333333333,\"#9c179e\"],[0.4444444444444444,\"#bd3786\"],[0.5555555555555556,\"#d8576b\"],[0.6666666666666666,\"#ed7953\"],[0.7777777777777778,\"#fb9f3a\"],[0.8888888888888888,\"#fdca26\"],[1.0,\"#f0f921\"]],\"sequentialminus\":[[0.0,\"#0d0887\"],[0.1111111111111111,\"#46039f\"],[0.2222222222222222,\"#7201a8\"],[0.3333333333333333,\"#9c179e\"],[0.4444444444444444,\"#bd3786\"],[0.5555555555555556,\"#d8576b\"],[0.6666666666666666,\"#ed7953\"],[0.7777777777777778,\"#fb9f3a\"],[0.8888888888888888,\"#fdca26\"],[1.0,\"#f0f921\"]],\"diverging\":[[0,\"#8e0152\"],[0.1,\"#c51b7d\"],[0.2,\"#de77ae\"],[0.3,\"#f1b6da\"],[0.4,\"#fde0ef\"],[0.5,\"#f7f7f7\"],[0.6,\"#e6f5d0\"],[0.7,\"#b8e186\"],[0.8,\"#7fbc41\"],[0.9,\"#4d9221\"],[1,\"#276419\"]]},\"xaxis\":{\"gridcolor\":\"white\",\"linecolor\":\"white\",\"ticks\":\"\",\"title\":{\"standoff\":15},\"zerolinecolor\":\"white\",\"automargin\":true,\"zerolinewidth\":2},\"yaxis\":{\"gridcolor\":\"white\",\"linecolor\":\"white\",\"ticks\":\"\",\"title\":{\"standoff\":15},\"zerolinecolor\":\"white\",\"automargin\":true,\"zerolinewidth\":2},\"scene\":{\"xaxis\":{\"backgroundcolor\":\"#E5ECF6\",\"gridcolor\":\"white\",\"linecolor\":\"white\",\"showbackground\":true,\"ticks\":\"\",\"zerolinecolor\":\"white\",\"gridwidth\":2},\"yaxis\":{\"backgroundcolor\":\"#E5ECF6\",\"gridcolor\":\"white\",\"linecolor\":\"white\",\"showbackground\":true,\"ticks\":\"\",\"zerolinecolor\":\"white\",\"gridwidth\":2},\"zaxis\":{\"backgroundcolor\":\"#E5ECF6\",\"gridcolor\":\"white\",\"linecolor\":\"white\",\"showbackground\":true,\"ticks\":\"\",\"zerolinecolor\":\"white\",\"gridwidth\":2}},\"shapedefaults\":{\"line\":{\"color\":\"#2a3f5f\"}},\"annotationdefaults\":{\"arrowcolor\":\"#2a3f5f\",\"arrowhead\":0,\"arrowwidth\":1},\"geo\":{\"bgcolor\":\"white\",\"landcolor\":\"#E5ECF6\",\"subunitcolor\":\"white\",\"showland\":true,\"showlakes\":true,\"lakecolor\":\"white\"},\"title\":{\"x\":0.05},\"mapbox\":{\"style\":\"light\"}}},\"title\":{\"text\":\"Serious Cases and Population by Country\"},\"geo\":{\"projection\":{\"type\":\"equirectangular\"},\"showframe\":true,\"showcoastlines\":false}},                        {\"responsive\": true}                    ).then(function(){\n",
       "                            \n",
       "var gd = document.getElementById('e6eb138c-ab5d-4323-8e9d-6003f611399b');\n",
       "var x = new MutationObserver(function (mutations, observer) {{\n",
       "        var display = window.getComputedStyle(gd).display;\n",
       "        if (!display || display === 'none') {{\n",
       "            console.log([gd, 'removed!']);\n",
       "            Plotly.purge(gd);\n",
       "            observer.disconnect();\n",
       "        }}\n",
       "}});\n",
       "\n",
       "// Listen for the removal of the full notebook cells\n",
       "var notebookContainer = gd.closest('#notebook-container');\n",
       "if (notebookContainer) {{\n",
       "    x.observe(notebookContainer, {childList: true});\n",
       "}}\n",
       "\n",
       "// Listen for the clearing of the current output cell\n",
       "var outputEl = gd.closest('.output');\n",
       "if (outputEl) {{\n",
       "    x.observe(outputEl, {childList: true});\n",
       "}}\n",
       "\n",
       "                        })                };                });            </script>        </div>"
      ]
     },
     "metadata": {},
     "output_type": "display_data"
    }
   ],
   "source": [
    "import plotly.graph_objects as go\n",
    "\n",
    "fig = go.Figure(data=go.Choropleth(\n",
    "    locations=df['Country'],\n",
    "    locationmode='country names',\n",
    "    z=df['Serious Cases'],\n",
    "    text=df['Population'],\n",
    "    colorscale='Spectral',\n",
    "    autocolorscale=False,\n",
    "    marker_line_color='white',\n",
    "    colorbar_title='Serious Cases'\n",
    "))\n",
    "\n",
    "fig.update_layout(\n",
    "    title_text='Serious Cases and Population by Country',\n",
    "    geo=dict(\n",
    "        showframe=True,\n",
    "        showcoastlines=False,\n",
    "        projection_type='equirectangular'              \n",
    "    )\n",
    ")\n",
    "\n",
    "fig.show()"
   ]
  },
  {
   "cell_type": "markdown",
   "id": "a07986d3-b469-4624-a2eb-89f92ed5f7e6",
   "metadata": {},
   "source": [
    "# Country Population and Active Cases"
   ]
  },
  {
   "cell_type": "code",
   "execution_count": 29,
   "id": "5ab4cb3b-8671-4817-bcdf-ab8f6733e001",
   "metadata": {},
   "outputs": [
    {
     "data": {
      "application/vnd.plotly.v1+json": {
       "config": {
        "plotlyServerURL": "https://plot.ly"
       },
       "data": [
        {
         "autocolorscale": false,
         "colorbar": {
          "title": {
           "text": "Active Cases"
          }
         },
         "colorscale": [
          [
           0,
           "rgb(158,1,66)"
          ],
          [
           0.1,
           "rgb(213,62,79)"
          ],
          [
           0.2,
           "rgb(244,109,67)"
          ],
          [
           0.3,
           "rgb(253,174,97)"
          ],
          [
           0.4,
           "rgb(254,224,139)"
          ],
          [
           0.5,
           "rgb(255,255,191)"
          ],
          [
           0.6,
           "rgb(230,245,152)"
          ],
          [
           0.7,
           "rgb(171,221,164)"
          ],
          [
           0.8,
           "rgb(102,194,165)"
          ],
          [
           0.9,
           "rgb(50,136,189)"
          ],
          [
           1,
           "rgb(94,79,162)"
          ]
         ],
         "locationmode": "country names",
         "locations": [
          "USA",
          "India",
          "France",
          "Brazil",
          "Germany",
          "S. Korea",
          "UK",
          "Italy",
          "Japan",
          "Russia",
          "Turkey",
          "Spain",
          "Vietnam",
          "Australia",
          "Argentina",
          "Netherlands",
          "Iran",
          "Mexico",
          "Indonesia",
          "Taiwan",
          "Colombia",
          "Poland",
          "Portugal",
          "Ukraine",
          "Austria",
          "Greece",
          "Malaysia",
          "DPRK",
          "Thailand",
          "Israel",
          "Chile",
          "Belgium",
          "Canada",
          "Peru",
          "Czechia",
          "Switzerland",
          "South Africa",
          "Philippines",
          "Romania",
          "Denmark",
          "Sweden",
          "Iraq",
          "Serbia",
          "Hungary",
          "Bangladesh",
          "Singapore",
          "Slovakia",
          "Georgia",
          "New Zealand",
          "Hong Kong",
          "Jordan",
          "Ireland",
          "Pakistan",
          "Norway",
          "Kazakhstan",
          "Finland",
          "Morocco",
          "Bulgaria",
          "Lithuania",
          "Croatia",
          "Lebanon",
          "Slovenia",
          "Tunisia",
          "Guatemala",
          "Cuba",
          "Bolivia",
          "Costa Rica",
          "UAE",
          "Ecuador",
          "Nepal",
          "Belarus",
          "Panama",
          "Uruguay",
          "Mongolia",
          "Latvia",
          "Azerbaijan",
          "Saudi Arabia",
          "Paraguay",
          "Bahrain",
          "Sri Lanka",
          "Kuwait",
          "Dominican Republic",
          "Myanmar",
          "Palestine",
          "Estonia",
          "Moldova",
          "Cyprus",
          "Venezuela",
          "Egypt",
          "Libya",
          "Ethiopia",
          "Réunion",
          "Honduras",
          "Qatar",
          "Armenia",
          "Bosnia and Herzegovina",
          "Oman",
          "North Macedonia",
          "Kenya",
          "Zambia",
          "Albania",
          "Botswana",
          "Luxembourg",
          "Montenegro",
          "Algeria",
          "Nigeria",
          "Zimbabwe",
          "China",
          "Uzbekistan",
          "Mozambique",
          "Brunei",
          "Martinique",
          "Laos",
          "Kyrgyzstan",
          "Iceland",
          "El Salvador",
          "Afghanistan",
          "Guadeloupe",
          "Maldives",
          "Trinidad and Tobago",
          "Uganda",
          "Namibia",
          "Ghana",
          "Jamaica",
          "Cambodia",
          "Rwanda",
          "Cameroon",
          "Malta",
          "Angola",
          "Barbados",
          "French Guiana",
          "DRC",
          "Channel Islands",
          "Senegal",
          "Malawi",
          "Ivory Coast",
          "Suriname",
          "French Polynesia",
          "New Caledonia",
          "Eswatini",
          "Guyana",
          "Belize",
          "Fiji",
          "Madagascar",
          "Sudan",
          "Mauritania",
          "Cabo Verde",
          "Bhutan",
          "Syria",
          "Burundi",
          "Gabon",
          "Seychelles",
          "Andorra",
          "Curaçao",
          "Papua New Guinea",
          "Aruba",
          "Mauritius",
          "Mayotte",
          "Tanzania",
          "Togo",
          "Isle of Man",
          "Guinea",
          "Bahamas",
          "Faeroe Islands",
          "Lesotho",
          "Haiti",
          "Mali",
          "Cayman Islands",
          "Saint Lucia",
          "Benin",
          "Somalia",
          "Congo",
          "Timor-Leste",
          "Burkina Faso",
          "Solomon Islands",
          "San Marino",
          "Gibraltar",
          "Liechtenstein",
          "Grenada",
          "Nicaragua",
          "Bermuda",
          "South Sudan",
          "Tajikistan",
          "Equatorial Guinea",
          "Tonga",
          "Samoa",
          "Dominica",
          "Djibouti",
          "Marshall Islands",
          "CAR",
          "Monaco",
          "Gambia",
          "Saint Martin",
          "Greenland",
          "Yemen",
          "Vanuatu",
          "Caribbean Netherlands",
          "Sint Maarten",
          "Eritrea",
          "Niger",
          "Micronesia",
          "Antigua and Barbuda",
          "Guinea-Bissau",
          "Comoros",
          "Liberia",
          "Sierra Leone",
          "Chad",
          "British Virgin Islands",
          "St. Vincent Grenadines",
          "Saint Kitts and Nevis",
          "Cook Islands",
          "Turks and Caicos",
          "Sao Tome and Principe",
          "Palau",
          "St. Barth",
          "Nauru",
          "Anguilla",
          "Kiribati",
          "Saint Pierre Miquelon",
          "Falkland Islands",
          "Montserrat",
          "Saint Helena",
          "Macao",
          "Wallis and Futuna",
          "Diamond Princess",
          "Niue",
          "Vatican City",
          "Tuvalu",
          "Western Sahara",
          "MS Zaandam"
         ],
         "marker": {
          "line": {
           "color": "white"
          }
         },
         "text": [
          334805269,
          1406631776,
          65584518,
          215353593,
          83883596,
          51329899,
          68497907,
          60262770,
          125584838,
          145805947,
          85561976,
          46719142,
          98953541,
          26068792,
          46010234,
          17211447,
          86022837,
          131562772,
          279134505,
          23888595,
          51512762,
          37739785,
          10140570,
          43192122,
          9066710,
          10316637,
          33181072,
          25990679,
          70078203,
          9326000,
          19250195,
          11668278,
          38388419,
          33684208,
          10736784,
          8773637,
          60756135,
          112508994,
          19031335,
          5834950,
          10218971,
          42164965,
          8653016,
          9606259,
          167885689,
          5943546,
          5460193,
          3968738,
          4898203,
          7604299,
          10300869,
          5020199,
          229488994,
          5511370,
          19205043,
          5554960,
          37772756,
          6844597,
          2661708,
          4059286,
          6684849,
          2078034,
          12046656,
          18584039,
          11305652,
          11992656,
          5182354,
          10081785,
          18113361,
          30225582,
          9432800,
          4446964,
          3496016,
          3378078,
          1848837,
          10300205,
          35844909,
          7305843,
          1783983,
          21575842,
          4380326,
          11056370,
          55227143,
          5345541,
          1321910,
          4013171,
          1223387,
          29266991,
          106156692,
          7040745,
          120812698,
          908061,
          10221247,
          2979915,
          2971966,
          3249317,
          5323993,
          2081304,
          56215221,
          19470234,
          2866374,
          2441162,
          642371,
          627950,
          45350148,
          216746934,
          15331428,
          1448471400,
          34382084,
          33089461,
          445431,
          374087,
          7481023,
          6728271,
          345393,
          6550389,
          40754388,
          399794,
          540985,
          1406585,
          48432863,
          2633874,
          32395450,
          2985094,
          17168639,
          13600464,
          27911548,
          444033,
          35027343,
          288023,
          314169,
          95240792,
          176463,
          17653671,
          20180839,
          27742298,
          596831,
          284164,
          290915,
          1184817,
          794045,
          412190,
          909466,
          29178077,
          45992020,
          4901981,
          567678,
          787941,
          19364809,
          12624840,
          2331533,
          99426,
          77463,
          165529,
          9292169,
          107609,
          1274727,
          286259,
          63298550,
          8680837,
          85732,
          13865691,
          400516,
          49233,
          2175699,
          11680283,
          21473764,
          67277,
          185113,
          12784726,
          16841795,
          5797805,
          1369429,
          22102838,
          721159,
          34085,
          33704,
          38387,
          113475,
          6779100,
          61939,
          11618511,
          9957464,
          1496662,
          107749,
          202239,
          72344,
          1016097,
          60057,
          5016678,
          39783,
          2558482,
          39730,
          56973,
          31154867,
          321832,
          26647,
          43966,
          3662244,
          26083660,
          117489,
          99509,
          2063367,
          907419,
          5305117,
          8306436,
          17413580,
          30596,
          111551,
          53871,
          17571,
          39741,
          227679,
          18233,
          9945,
          10903,
          15230,
          123419,
          5759,
          3539,
          4965,
          6115,
          667490,
          10982,
          5816377.5,
          1622,
          799,
          12066,
          626161,
          5816377.5
         ],
         "type": "choropleth",
         "z": [
          2120510,
          39583,
          660757,
          182094,
          847225,
          727234,
          84162,
          476145,
          804449,
          581544,
          18353,
          79287,
          843821,
          60761,
          15175,
          37229,
          78529,
          400470,
          18357,
          803743,
          30888,
          836193,
          70827,
          94457,
          91202,
          50178,
          25174,
          0,
          6459,
          8004,
          18350,
          49021,
          57109,
          11948,
          24088,
          57291,
          7319,
          28172,
          20230,
          10370,
          20122,
          923,
          43994,
          32464,
          30626,
          81415,
          4827,
          126498,
          8857,
          281988,
          1868,
          7343,
          5058,
          1112,
          1338,
          23248,
          114,
          9559,
          23663,
          5149,
          117250,
          29202,
          1246,
          688,
          101,
          34172,
          203183,
          18317,
          3564,
          1077,
          1327,
          1496,
          1177,
          1246,
          31824,
          1071,
          3492,
          366,
          3027,
          223,
          641,
          721,
          5446,
          6396,
          74198,
          73402,
          5681,
          840,
          48850,
          47,
          14073,
          52871,
          1246,
          6348,
          4000,
          5878,
          9064,
          435,
          79,
          139,
          1856,
          564,
          3867,
          1067,
          81483,
          3846,
          526,
          2969,
          1076,
          116,
          3872,
          1246,
          1246,
          6686,
          1246,
          18146,
          13418,
          1246,
          21047,
          4188,
          65337,
          375,
          334,
          49273,
          69,
          77,
          1101,
          651,
          59,
          227,
          82310,
          7906,
          720,
          108,
          470,
          44,
          1246,
          1246,
          15,
          13,
          78,
          64,
          1062,
          24,
          1034,
          28,
          71,
          145,
          58,
          532,
          93,
          526,
          61,
          125,
          347,
          249,
          651,
          1246,
          1246,
          221,
          1246,
          323,
          364,
          1246,
          7804,
          1569,
          292,
          22076,
          542,
          153,
          12680,
          445,
          13,
          101,
          5034,
          121,
          3405,
          224,
          51,
          14041,
          37,
          350,
          397,
          139,
          532,
          14291,
          22,
          74,
          92,
          280,
          67,
          108,
          10516,
          9189,
          654,
          22,
          723,
          3,
          3,
          729,
          9573,
          29,
          320,
          5,
          31,
          1246,
          2516,
          1246,
          356,
          13,
          4,
          23,
          21,
          10,
          1246,
          5,
          5,
          714,
          738,
          0,
          35,
          1353,
          0,
          316,
          0,
          0,
          0,
          20,
          0,
          0
         ]
        }
       ],
       "layout": {
        "geo": {
         "projection": {
          "type": "equirectangular"
         },
         "showcoastlines": false,
         "showframe": true
        },
        "template": {
         "data": {
          "bar": [
           {
            "error_x": {
             "color": "#2a3f5f"
            },
            "error_y": {
             "color": "#2a3f5f"
            },
            "marker": {
             "line": {
              "color": "#E5ECF6",
              "width": 0.5
             },
             "pattern": {
              "fillmode": "overlay",
              "size": 10,
              "solidity": 0.2
             }
            },
            "type": "bar"
           }
          ],
          "barpolar": [
           {
            "marker": {
             "line": {
              "color": "#E5ECF6",
              "width": 0.5
             },
             "pattern": {
              "fillmode": "overlay",
              "size": 10,
              "solidity": 0.2
             }
            },
            "type": "barpolar"
           }
          ],
          "carpet": [
           {
            "aaxis": {
             "endlinecolor": "#2a3f5f",
             "gridcolor": "white",
             "linecolor": "white",
             "minorgridcolor": "white",
             "startlinecolor": "#2a3f5f"
            },
            "baxis": {
             "endlinecolor": "#2a3f5f",
             "gridcolor": "white",
             "linecolor": "white",
             "minorgridcolor": "white",
             "startlinecolor": "#2a3f5f"
            },
            "type": "carpet"
           }
          ],
          "choropleth": [
           {
            "colorbar": {
             "outlinewidth": 0,
             "ticks": ""
            },
            "type": "choropleth"
           }
          ],
          "contour": [
           {
            "colorbar": {
             "outlinewidth": 0,
             "ticks": ""
            },
            "colorscale": [
             [
              0,
              "#0d0887"
             ],
             [
              0.1111111111111111,
              "#46039f"
             ],
             [
              0.2222222222222222,
              "#7201a8"
             ],
             [
              0.3333333333333333,
              "#9c179e"
             ],
             [
              0.4444444444444444,
              "#bd3786"
             ],
             [
              0.5555555555555556,
              "#d8576b"
             ],
             [
              0.6666666666666666,
              "#ed7953"
             ],
             [
              0.7777777777777778,
              "#fb9f3a"
             ],
             [
              0.8888888888888888,
              "#fdca26"
             ],
             [
              1,
              "#f0f921"
             ]
            ],
            "type": "contour"
           }
          ],
          "contourcarpet": [
           {
            "colorbar": {
             "outlinewidth": 0,
             "ticks": ""
            },
            "type": "contourcarpet"
           }
          ],
          "heatmap": [
           {
            "colorbar": {
             "outlinewidth": 0,
             "ticks": ""
            },
            "colorscale": [
             [
              0,
              "#0d0887"
             ],
             [
              0.1111111111111111,
              "#46039f"
             ],
             [
              0.2222222222222222,
              "#7201a8"
             ],
             [
              0.3333333333333333,
              "#9c179e"
             ],
             [
              0.4444444444444444,
              "#bd3786"
             ],
             [
              0.5555555555555556,
              "#d8576b"
             ],
             [
              0.6666666666666666,
              "#ed7953"
             ],
             [
              0.7777777777777778,
              "#fb9f3a"
             ],
             [
              0.8888888888888888,
              "#fdca26"
             ],
             [
              1,
              "#f0f921"
             ]
            ],
            "type": "heatmap"
           }
          ],
          "heatmapgl": [
           {
            "colorbar": {
             "outlinewidth": 0,
             "ticks": ""
            },
            "colorscale": [
             [
              0,
              "#0d0887"
             ],
             [
              0.1111111111111111,
              "#46039f"
             ],
             [
              0.2222222222222222,
              "#7201a8"
             ],
             [
              0.3333333333333333,
              "#9c179e"
             ],
             [
              0.4444444444444444,
              "#bd3786"
             ],
             [
              0.5555555555555556,
              "#d8576b"
             ],
             [
              0.6666666666666666,
              "#ed7953"
             ],
             [
              0.7777777777777778,
              "#fb9f3a"
             ],
             [
              0.8888888888888888,
              "#fdca26"
             ],
             [
              1,
              "#f0f921"
             ]
            ],
            "type": "heatmapgl"
           }
          ],
          "histogram": [
           {
            "marker": {
             "pattern": {
              "fillmode": "overlay",
              "size": 10,
              "solidity": 0.2
             }
            },
            "type": "histogram"
           }
          ],
          "histogram2d": [
           {
            "colorbar": {
             "outlinewidth": 0,
             "ticks": ""
            },
            "colorscale": [
             [
              0,
              "#0d0887"
             ],
             [
              0.1111111111111111,
              "#46039f"
             ],
             [
              0.2222222222222222,
              "#7201a8"
             ],
             [
              0.3333333333333333,
              "#9c179e"
             ],
             [
              0.4444444444444444,
              "#bd3786"
             ],
             [
              0.5555555555555556,
              "#d8576b"
             ],
             [
              0.6666666666666666,
              "#ed7953"
             ],
             [
              0.7777777777777778,
              "#fb9f3a"
             ],
             [
              0.8888888888888888,
              "#fdca26"
             ],
             [
              1,
              "#f0f921"
             ]
            ],
            "type": "histogram2d"
           }
          ],
          "histogram2dcontour": [
           {
            "colorbar": {
             "outlinewidth": 0,
             "ticks": ""
            },
            "colorscale": [
             [
              0,
              "#0d0887"
             ],
             [
              0.1111111111111111,
              "#46039f"
             ],
             [
              0.2222222222222222,
              "#7201a8"
             ],
             [
              0.3333333333333333,
              "#9c179e"
             ],
             [
              0.4444444444444444,
              "#bd3786"
             ],
             [
              0.5555555555555556,
              "#d8576b"
             ],
             [
              0.6666666666666666,
              "#ed7953"
             ],
             [
              0.7777777777777778,
              "#fb9f3a"
             ],
             [
              0.8888888888888888,
              "#fdca26"
             ],
             [
              1,
              "#f0f921"
             ]
            ],
            "type": "histogram2dcontour"
           }
          ],
          "mesh3d": [
           {
            "colorbar": {
             "outlinewidth": 0,
             "ticks": ""
            },
            "type": "mesh3d"
           }
          ],
          "parcoords": [
           {
            "line": {
             "colorbar": {
              "outlinewidth": 0,
              "ticks": ""
             }
            },
            "type": "parcoords"
           }
          ],
          "pie": [
           {
            "automargin": true,
            "type": "pie"
           }
          ],
          "scatter": [
           {
            "fillpattern": {
             "fillmode": "overlay",
             "size": 10,
             "solidity": 0.2
            },
            "type": "scatter"
           }
          ],
          "scatter3d": [
           {
            "line": {
             "colorbar": {
              "outlinewidth": 0,
              "ticks": ""
             }
            },
            "marker": {
             "colorbar": {
              "outlinewidth": 0,
              "ticks": ""
             }
            },
            "type": "scatter3d"
           }
          ],
          "scattercarpet": [
           {
            "marker": {
             "colorbar": {
              "outlinewidth": 0,
              "ticks": ""
             }
            },
            "type": "scattercarpet"
           }
          ],
          "scattergeo": [
           {
            "marker": {
             "colorbar": {
              "outlinewidth": 0,
              "ticks": ""
             }
            },
            "type": "scattergeo"
           }
          ],
          "scattergl": [
           {
            "marker": {
             "colorbar": {
              "outlinewidth": 0,
              "ticks": ""
             }
            },
            "type": "scattergl"
           }
          ],
          "scattermapbox": [
           {
            "marker": {
             "colorbar": {
              "outlinewidth": 0,
              "ticks": ""
             }
            },
            "type": "scattermapbox"
           }
          ],
          "scatterpolar": [
           {
            "marker": {
             "colorbar": {
              "outlinewidth": 0,
              "ticks": ""
             }
            },
            "type": "scatterpolar"
           }
          ],
          "scatterpolargl": [
           {
            "marker": {
             "colorbar": {
              "outlinewidth": 0,
              "ticks": ""
             }
            },
            "type": "scatterpolargl"
           }
          ],
          "scatterternary": [
           {
            "marker": {
             "colorbar": {
              "outlinewidth": 0,
              "ticks": ""
             }
            },
            "type": "scatterternary"
           }
          ],
          "surface": [
           {
            "colorbar": {
             "outlinewidth": 0,
             "ticks": ""
            },
            "colorscale": [
             [
              0,
              "#0d0887"
             ],
             [
              0.1111111111111111,
              "#46039f"
             ],
             [
              0.2222222222222222,
              "#7201a8"
             ],
             [
              0.3333333333333333,
              "#9c179e"
             ],
             [
              0.4444444444444444,
              "#bd3786"
             ],
             [
              0.5555555555555556,
              "#d8576b"
             ],
             [
              0.6666666666666666,
              "#ed7953"
             ],
             [
              0.7777777777777778,
              "#fb9f3a"
             ],
             [
              0.8888888888888888,
              "#fdca26"
             ],
             [
              1,
              "#f0f921"
             ]
            ],
            "type": "surface"
           }
          ],
          "table": [
           {
            "cells": {
             "fill": {
              "color": "#EBF0F8"
             },
             "line": {
              "color": "white"
             }
            },
            "header": {
             "fill": {
              "color": "#C8D4E3"
             },
             "line": {
              "color": "white"
             }
            },
            "type": "table"
           }
          ]
         },
         "layout": {
          "annotationdefaults": {
           "arrowcolor": "#2a3f5f",
           "arrowhead": 0,
           "arrowwidth": 1
          },
          "autotypenumbers": "strict",
          "coloraxis": {
           "colorbar": {
            "outlinewidth": 0,
            "ticks": ""
           }
          },
          "colorscale": {
           "diverging": [
            [
             0,
             "#8e0152"
            ],
            [
             0.1,
             "#c51b7d"
            ],
            [
             0.2,
             "#de77ae"
            ],
            [
             0.3,
             "#f1b6da"
            ],
            [
             0.4,
             "#fde0ef"
            ],
            [
             0.5,
             "#f7f7f7"
            ],
            [
             0.6,
             "#e6f5d0"
            ],
            [
             0.7,
             "#b8e186"
            ],
            [
             0.8,
             "#7fbc41"
            ],
            [
             0.9,
             "#4d9221"
            ],
            [
             1,
             "#276419"
            ]
           ],
           "sequential": [
            [
             0,
             "#0d0887"
            ],
            [
             0.1111111111111111,
             "#46039f"
            ],
            [
             0.2222222222222222,
             "#7201a8"
            ],
            [
             0.3333333333333333,
             "#9c179e"
            ],
            [
             0.4444444444444444,
             "#bd3786"
            ],
            [
             0.5555555555555556,
             "#d8576b"
            ],
            [
             0.6666666666666666,
             "#ed7953"
            ],
            [
             0.7777777777777778,
             "#fb9f3a"
            ],
            [
             0.8888888888888888,
             "#fdca26"
            ],
            [
             1,
             "#f0f921"
            ]
           ],
           "sequentialminus": [
            [
             0,
             "#0d0887"
            ],
            [
             0.1111111111111111,
             "#46039f"
            ],
            [
             0.2222222222222222,
             "#7201a8"
            ],
            [
             0.3333333333333333,
             "#9c179e"
            ],
            [
             0.4444444444444444,
             "#bd3786"
            ],
            [
             0.5555555555555556,
             "#d8576b"
            ],
            [
             0.6666666666666666,
             "#ed7953"
            ],
            [
             0.7777777777777778,
             "#fb9f3a"
            ],
            [
             0.8888888888888888,
             "#fdca26"
            ],
            [
             1,
             "#f0f921"
            ]
           ]
          },
          "colorway": [
           "#636efa",
           "#EF553B",
           "#00cc96",
           "#ab63fa",
           "#FFA15A",
           "#19d3f3",
           "#FF6692",
           "#B6E880",
           "#FF97FF",
           "#FECB52"
          ],
          "font": {
           "color": "#2a3f5f"
          },
          "geo": {
           "bgcolor": "white",
           "lakecolor": "white",
           "landcolor": "#E5ECF6",
           "showlakes": true,
           "showland": true,
           "subunitcolor": "white"
          },
          "hoverlabel": {
           "align": "left"
          },
          "hovermode": "closest",
          "mapbox": {
           "style": "light"
          },
          "paper_bgcolor": "white",
          "plot_bgcolor": "#E5ECF6",
          "polar": {
           "angularaxis": {
            "gridcolor": "white",
            "linecolor": "white",
            "ticks": ""
           },
           "bgcolor": "#E5ECF6",
           "radialaxis": {
            "gridcolor": "white",
            "linecolor": "white",
            "ticks": ""
           }
          },
          "scene": {
           "xaxis": {
            "backgroundcolor": "#E5ECF6",
            "gridcolor": "white",
            "gridwidth": 2,
            "linecolor": "white",
            "showbackground": true,
            "ticks": "",
            "zerolinecolor": "white"
           },
           "yaxis": {
            "backgroundcolor": "#E5ECF6",
            "gridcolor": "white",
            "gridwidth": 2,
            "linecolor": "white",
            "showbackground": true,
            "ticks": "",
            "zerolinecolor": "white"
           },
           "zaxis": {
            "backgroundcolor": "#E5ECF6",
            "gridcolor": "white",
            "gridwidth": 2,
            "linecolor": "white",
            "showbackground": true,
            "ticks": "",
            "zerolinecolor": "white"
           }
          },
          "shapedefaults": {
           "line": {
            "color": "#2a3f5f"
           }
          },
          "ternary": {
           "aaxis": {
            "gridcolor": "white",
            "linecolor": "white",
            "ticks": ""
           },
           "baxis": {
            "gridcolor": "white",
            "linecolor": "white",
            "ticks": ""
           },
           "bgcolor": "#E5ECF6",
           "caxis": {
            "gridcolor": "white",
            "linecolor": "white",
            "ticks": ""
           }
          },
          "title": {
           "x": 0.05
          },
          "xaxis": {
           "automargin": true,
           "gridcolor": "white",
           "linecolor": "white",
           "ticks": "",
           "title": {
            "standoff": 15
           },
           "zerolinecolor": "white",
           "zerolinewidth": 2
          },
          "yaxis": {
           "automargin": true,
           "gridcolor": "white",
           "linecolor": "white",
           "ticks": "",
           "title": {
            "standoff": 15
           },
           "zerolinecolor": "white",
           "zerolinewidth": 2
          }
         }
        },
        "title": {
         "text": "Active Cases and Population by Country"
        }
       }
      },
      "text/html": [
       "<div>                            <div id=\"fe575d6d-d6f3-4fa7-9c3a-ecb9f2bc8f89\" class=\"plotly-graph-div\" style=\"height:525px; width:100%;\"></div>            <script type=\"text/javascript\">                require([\"plotly\"], function(Plotly) {                    window.PLOTLYENV=window.PLOTLYENV || {};                                    if (document.getElementById(\"fe575d6d-d6f3-4fa7-9c3a-ecb9f2bc8f89\")) {                    Plotly.newPlot(                        \"fe575d6d-d6f3-4fa7-9c3a-ecb9f2bc8f89\",                        [{\"autocolorscale\":false,\"colorbar\":{\"title\":{\"text\":\"Active Cases\"}},\"colorscale\":[[0.0,\"rgb(158,1,66)\"],[0.1,\"rgb(213,62,79)\"],[0.2,\"rgb(244,109,67)\"],[0.3,\"rgb(253,174,97)\"],[0.4,\"rgb(254,224,139)\"],[0.5,\"rgb(255,255,191)\"],[0.6,\"rgb(230,245,152)\"],[0.7,\"rgb(171,221,164)\"],[0.8,\"rgb(102,194,165)\"],[0.9,\"rgb(50,136,189)\"],[1.0,\"rgb(94,79,162)\"]],\"locationmode\":\"country names\",\"locations\":[\"USA\",\"India\",\"France\",\"Brazil\",\"Germany\",\"S. Korea\",\"UK\",\"Italy\",\"Japan\",\"Russia\",\"Turkey\",\"Spain\",\"Vietnam\",\"Australia\",\"Argentina\",\"Netherlands\",\"Iran\",\"Mexico\",\"Indonesia\",\"Taiwan\",\"Colombia\",\"Poland\",\"Portugal\",\"Ukraine\",\"Austria\",\"Greece\",\"Malaysia\",\"DPRK\",\"Thailand\",\"Israel\",\"Chile\",\"Belgium\",\"Canada\",\"Peru\",\"Czechia\",\"Switzerland\",\"South Africa\",\"Philippines\",\"Romania\",\"Denmark\",\"Sweden\",\"Iraq\",\"Serbia\",\"Hungary\",\"Bangladesh\",\"Singapore\",\"Slovakia\",\"Georgia\",\"New Zealand\",\"Hong Kong\",\"Jordan\",\"Ireland\",\"Pakistan\",\"Norway\",\"Kazakhstan\",\"Finland\",\"Morocco\",\"Bulgaria\",\"Lithuania\",\"Croatia\",\"Lebanon\",\"Slovenia\",\"Tunisia\",\"Guatemala\",\"Cuba\",\"Bolivia\",\"Costa Rica\",\"UAE\",\"Ecuador\",\"Nepal\",\"Belarus\",\"Panama\",\"Uruguay\",\"Mongolia\",\"Latvia\",\"Azerbaijan\",\"Saudi Arabia\",\"Paraguay\",\"Bahrain\",\"Sri Lanka\",\"Kuwait\",\"Dominican Republic\",\"Myanmar\",\"Palestine\",\"Estonia\",\"Moldova\",\"Cyprus\",\"Venezuela\",\"Egypt\",\"Libya\",\"Ethiopia\",\"R\\u00e9union\",\"Honduras\",\"Qatar\",\"Armenia\",\"Bosnia and Herzegovina\",\"Oman\",\"North Macedonia\",\"Kenya\",\"Zambia\",\"Albania\",\"Botswana\",\"Luxembourg\",\"Montenegro\",\"Algeria\",\"Nigeria\",\"Zimbabwe\",\"China\",\"Uzbekistan\",\"Mozambique\",\"Brunei\",\"Martinique\",\"Laos\",\"Kyrgyzstan\",\"Iceland\",\"El Salvador\",\"Afghanistan\",\"Guadeloupe\",\"Maldives\",\"Trinidad and Tobago\",\"Uganda\",\"Namibia\",\"Ghana\",\"Jamaica\",\"Cambodia\",\"Rwanda\",\"Cameroon\",\"Malta\",\"Angola\",\"Barbados\",\"French Guiana\",\"DRC\",\"Channel Islands\",\"Senegal\",\"Malawi\",\"Ivory Coast\",\"Suriname\",\"French Polynesia\",\"New Caledonia\",\"Eswatini\",\"Guyana\",\"Belize\",\"Fiji\",\"Madagascar\",\"Sudan\",\"Mauritania\",\"Cabo Verde\",\"Bhutan\",\"Syria\",\"Burundi\",\"Gabon\",\"Seychelles\",\"Andorra\",\"Cura\\u00e7ao\",\"Papua New Guinea\",\"Aruba\",\"Mauritius\",\"Mayotte\",\"Tanzania\",\"Togo\",\"Isle of Man\",\"Guinea\",\"Bahamas\",\"Faeroe Islands\",\"Lesotho\",\"Haiti\",\"Mali\",\"Cayman Islands\",\"Saint Lucia\",\"Benin\",\"Somalia\",\"Congo\",\"Timor-Leste\",\"Burkina Faso\",\"Solomon Islands\",\"San Marino\",\"Gibraltar\",\"Liechtenstein\",\"Grenada\",\"Nicaragua\",\"Bermuda\",\"South Sudan\",\"Tajikistan\",\"Equatorial Guinea\",\"Tonga\",\"Samoa\",\"Dominica\",\"Djibouti\",\"Marshall Islands\",\"CAR\",\"Monaco\",\"Gambia\",\"Saint Martin\",\"Greenland\",\"Yemen\",\"Vanuatu\",\"Caribbean Netherlands\",\"Sint Maarten\",\"Eritrea\",\"Niger\",\"Micronesia\",\"Antigua and Barbuda\",\"Guinea-Bissau\",\"Comoros\",\"Liberia\",\"Sierra Leone\",\"Chad\",\"British Virgin Islands\",\"St. Vincent Grenadines\",\"Saint Kitts and Nevis\",\"Cook Islands\",\"Turks and Caicos\",\"Sao Tome and Principe\",\"Palau\",\"St. Barth\",\"Nauru\",\"Anguilla\",\"Kiribati\",\"Saint Pierre Miquelon\",\"Falkland Islands\",\"Montserrat\",\"Saint Helena\",\"Macao\",\"Wallis and Futuna\",\"Diamond Princess\",\"Niue\",\"Vatican City\",\"Tuvalu\",\"Western Sahara\",\"MS Zaandam\"],\"marker\":{\"line\":{\"color\":\"white\"}},\"text\":[334805269.0,1406631776.0,65584518.0,215353593.0,83883596.0,51329899.0,68497907.0,60262770.0,125584838.0,145805947.0,85561976.0,46719142.0,98953541.0,26068792.0,46010234.0,17211447.0,86022837.0,131562772.0,279134505.0,23888595.0,51512762.0,37739785.0,10140570.0,43192122.0,9066710.0,10316637.0,33181072.0,25990679.0,70078203.0,9326000.0,19250195.0,11668278.0,38388419.0,33684208.0,10736784.0,8773637.0,60756135.0,112508994.0,19031335.0,5834950.0,10218971.0,42164965.0,8653016.0,9606259.0,167885689.0,5943546.0,5460193.0,3968738.0,4898203.0,7604299.0,10300869.0,5020199.0,229488994.0,5511370.0,19205043.0,5554960.0,37772756.0,6844597.0,2661708.0,4059286.0,6684849.0,2078034.0,12046656.0,18584039.0,11305652.0,11992656.0,5182354.0,10081785.0,18113361.0,30225582.0,9432800.0,4446964.0,3496016.0,3378078.0,1848837.0,10300205.0,35844909.0,7305843.0,1783983.0,21575842.0,4380326.0,11056370.0,55227143.0,5345541.0,1321910.0,4013171.0,1223387.0,29266991.0,106156692.0,7040745.0,120812698.0,908061.0,10221247.0,2979915.0,2971966.0,3249317.0,5323993.0,2081304.0,56215221.0,19470234.0,2866374.0,2441162.0,642371.0,627950.0,45350148.0,216746934.0,15331428.0,1448471400.0,34382084.0,33089461.0,445431.0,374087.0,7481023.0,6728271.0,345393.0,6550389.0,40754388.0,399794.0,540985.0,1406585.0,48432863.0,2633874.0,32395450.0,2985094.0,17168639.0,13600464.0,27911548.0,444033.0,35027343.0,288023.0,314169.0,95240792.0,176463.0,17653671.0,20180839.0,27742298.0,596831.0,284164.0,290915.0,1184817.0,794045.0,412190.0,909466.0,29178077.0,45992020.0,4901981.0,567678.0,787941.0,19364809.0,12624840.0,2331533.0,99426.0,77463.0,165529.0,9292169.0,107609.0,1274727.0,286259.0,63298550.0,8680837.0,85732.0,13865691.0,400516.0,49233.0,2175699.0,11680283.0,21473764.0,67277.0,185113.0,12784726.0,16841795.0,5797805.0,1369429.0,22102838.0,721159.0,34085.0,33704.0,38387.0,113475.0,6779100.0,61939.0,11618511.0,9957464.0,1496662.0,107749.0,202239.0,72344.0,1016097.0,60057.0,5016678.0,39783.0,2558482.0,39730.0,56973.0,31154867.0,321832.0,26647.0,43966.0,3662244.0,26083660.0,117489.0,99509.0,2063367.0,907419.0,5305117.0,8306436.0,17413580.0,30596.0,111551.0,53871.0,17571.0,39741.0,227679.0,18233.0,9945.0,10903.0,15230.0,123419.0,5759.0,3539.0,4965.0,6115.0,667490.0,10982.0,5816377.5,1622.0,799.0,12066.0,626161.0,5816377.5],\"z\":[2120510.0,39583.0,660757.0,182094.0,847225.0,727234.0,84162.0,476145.0,804449.0,581544.0,18353.0,79287.0,843821.0,60761.0,15175.0,37229.0,78529.0,400470.0,18357.0,803743.0,30888.0,836193.0,70827.0,94457.0,91202.0,50178.0,25174.0,0.0,6459.0,8004.0,18350.0,49021.0,57109.0,11948.0,24088.0,57291.0,7319.0,28172.0,20230.0,10370.0,20122.0,923.0,43994.0,32464.0,30626.0,81415.0,4827.0,126498.0,8857.0,281988.0,1868.0,7343.0,5058.0,1112.0,1338.0,23248.0,114.0,9559.0,23663.0,5149.0,117250.0,29202.0,1246.0,688.0,101.0,34172.0,203183.0,18317.0,3564.0,1077.0,1327.0,1496.0,1177.0,1246.0,31824.0,1071.0,3492.0,366.0,3027.0,223.0,641.0,721.0,5446.0,6396.0,74198.0,73402.0,5681.0,840.0,48850.0,47.0,14073.0,52871.0,1246.0,6348.0,4000.0,5878.0,9064.0,435.0,79.0,139.0,1856.0,564.0,3867.0,1067.0,81483.0,3846.0,526.0,2969.0,1076.0,116.0,3872.0,1246.0,1246.0,6686.0,1246.0,18146.0,13418.0,1246.0,21047.0,4188.0,65337.0,375.0,334.0,49273.0,69.0,77.0,1101.0,651.0,59.0,227.0,82310.0,7906.0,720.0,108.0,470.0,44.0,1246.0,1246.0,15.0,13.0,78.0,64.0,1062.0,24.0,1034.0,28.0,71.0,145.0,58.0,532.0,93.0,526.0,61.0,125.0,347.0,249.0,651.0,1246.0,1246.0,221.0,1246.0,323.0,364.0,1246.0,7804.0,1569.0,292.0,22076.0,542.0,153.0,12680.0,445.0,13.0,101.0,5034.0,121.0,3405.0,224.0,51.0,14041.0,37.0,350.0,397.0,139.0,532.0,14291.0,22.0,74.0,92.0,280.0,67.0,108.0,10516.0,9189.0,654.0,22.0,723.0,3.0,3.0,729.0,9573.0,29.0,320.0,5.0,31.0,1246.0,2516.0,1246.0,356.0,13.0,4.0,23.0,21.0,10.0,1246.0,5.0,5.0,714.0,738.0,0.0,35.0,1353.0,0.0,316.0,0.0,0.0,0.0,20.0,0.0,0.0],\"type\":\"choropleth\"}],                        {\"template\":{\"data\":{\"histogram2dcontour\":[{\"type\":\"histogram2dcontour\",\"colorbar\":{\"outlinewidth\":0,\"ticks\":\"\"},\"colorscale\":[[0.0,\"#0d0887\"],[0.1111111111111111,\"#46039f\"],[0.2222222222222222,\"#7201a8\"],[0.3333333333333333,\"#9c179e\"],[0.4444444444444444,\"#bd3786\"],[0.5555555555555556,\"#d8576b\"],[0.6666666666666666,\"#ed7953\"],[0.7777777777777778,\"#fb9f3a\"],[0.8888888888888888,\"#fdca26\"],[1.0,\"#f0f921\"]]}],\"choropleth\":[{\"type\":\"choropleth\",\"colorbar\":{\"outlinewidth\":0,\"ticks\":\"\"}}],\"histogram2d\":[{\"type\":\"histogram2d\",\"colorbar\":{\"outlinewidth\":0,\"ticks\":\"\"},\"colorscale\":[[0.0,\"#0d0887\"],[0.1111111111111111,\"#46039f\"],[0.2222222222222222,\"#7201a8\"],[0.3333333333333333,\"#9c179e\"],[0.4444444444444444,\"#bd3786\"],[0.5555555555555556,\"#d8576b\"],[0.6666666666666666,\"#ed7953\"],[0.7777777777777778,\"#fb9f3a\"],[0.8888888888888888,\"#fdca26\"],[1.0,\"#f0f921\"]]}],\"heatmap\":[{\"type\":\"heatmap\",\"colorbar\":{\"outlinewidth\":0,\"ticks\":\"\"},\"colorscale\":[[0.0,\"#0d0887\"],[0.1111111111111111,\"#46039f\"],[0.2222222222222222,\"#7201a8\"],[0.3333333333333333,\"#9c179e\"],[0.4444444444444444,\"#bd3786\"],[0.5555555555555556,\"#d8576b\"],[0.6666666666666666,\"#ed7953\"],[0.7777777777777778,\"#fb9f3a\"],[0.8888888888888888,\"#fdca26\"],[1.0,\"#f0f921\"]]}],\"heatmapgl\":[{\"type\":\"heatmapgl\",\"colorbar\":{\"outlinewidth\":0,\"ticks\":\"\"},\"colorscale\":[[0.0,\"#0d0887\"],[0.1111111111111111,\"#46039f\"],[0.2222222222222222,\"#7201a8\"],[0.3333333333333333,\"#9c179e\"],[0.4444444444444444,\"#bd3786\"],[0.5555555555555556,\"#d8576b\"],[0.6666666666666666,\"#ed7953\"],[0.7777777777777778,\"#fb9f3a\"],[0.8888888888888888,\"#fdca26\"],[1.0,\"#f0f921\"]]}],\"contourcarpet\":[{\"type\":\"contourcarpet\",\"colorbar\":{\"outlinewidth\":0,\"ticks\":\"\"}}],\"contour\":[{\"type\":\"contour\",\"colorbar\":{\"outlinewidth\":0,\"ticks\":\"\"},\"colorscale\":[[0.0,\"#0d0887\"],[0.1111111111111111,\"#46039f\"],[0.2222222222222222,\"#7201a8\"],[0.3333333333333333,\"#9c179e\"],[0.4444444444444444,\"#bd3786\"],[0.5555555555555556,\"#d8576b\"],[0.6666666666666666,\"#ed7953\"],[0.7777777777777778,\"#fb9f3a\"],[0.8888888888888888,\"#fdca26\"],[1.0,\"#f0f921\"]]}],\"surface\":[{\"type\":\"surface\",\"colorbar\":{\"outlinewidth\":0,\"ticks\":\"\"},\"colorscale\":[[0.0,\"#0d0887\"],[0.1111111111111111,\"#46039f\"],[0.2222222222222222,\"#7201a8\"],[0.3333333333333333,\"#9c179e\"],[0.4444444444444444,\"#bd3786\"],[0.5555555555555556,\"#d8576b\"],[0.6666666666666666,\"#ed7953\"],[0.7777777777777778,\"#fb9f3a\"],[0.8888888888888888,\"#fdca26\"],[1.0,\"#f0f921\"]]}],\"mesh3d\":[{\"type\":\"mesh3d\",\"colorbar\":{\"outlinewidth\":0,\"ticks\":\"\"}}],\"scatter\":[{\"fillpattern\":{\"fillmode\":\"overlay\",\"size\":10,\"solidity\":0.2},\"type\":\"scatter\"}],\"parcoords\":[{\"type\":\"parcoords\",\"line\":{\"colorbar\":{\"outlinewidth\":0,\"ticks\":\"\"}}}],\"scatterpolargl\":[{\"type\":\"scatterpolargl\",\"marker\":{\"colorbar\":{\"outlinewidth\":0,\"ticks\":\"\"}}}],\"bar\":[{\"error_x\":{\"color\":\"#2a3f5f\"},\"error_y\":{\"color\":\"#2a3f5f\"},\"marker\":{\"line\":{\"color\":\"#E5ECF6\",\"width\":0.5},\"pattern\":{\"fillmode\":\"overlay\",\"size\":10,\"solidity\":0.2}},\"type\":\"bar\"}],\"scattergeo\":[{\"type\":\"scattergeo\",\"marker\":{\"colorbar\":{\"outlinewidth\":0,\"ticks\":\"\"}}}],\"scatterpolar\":[{\"type\":\"scatterpolar\",\"marker\":{\"colorbar\":{\"outlinewidth\":0,\"ticks\":\"\"}}}],\"histogram\":[{\"marker\":{\"pattern\":{\"fillmode\":\"overlay\",\"size\":10,\"solidity\":0.2}},\"type\":\"histogram\"}],\"scattergl\":[{\"type\":\"scattergl\",\"marker\":{\"colorbar\":{\"outlinewidth\":0,\"ticks\":\"\"}}}],\"scatter3d\":[{\"type\":\"scatter3d\",\"line\":{\"colorbar\":{\"outlinewidth\":0,\"ticks\":\"\"}},\"marker\":{\"colorbar\":{\"outlinewidth\":0,\"ticks\":\"\"}}}],\"scattermapbox\":[{\"type\":\"scattermapbox\",\"marker\":{\"colorbar\":{\"outlinewidth\":0,\"ticks\":\"\"}}}],\"scatterternary\":[{\"type\":\"scatterternary\",\"marker\":{\"colorbar\":{\"outlinewidth\":0,\"ticks\":\"\"}}}],\"scattercarpet\":[{\"type\":\"scattercarpet\",\"marker\":{\"colorbar\":{\"outlinewidth\":0,\"ticks\":\"\"}}}],\"carpet\":[{\"aaxis\":{\"endlinecolor\":\"#2a3f5f\",\"gridcolor\":\"white\",\"linecolor\":\"white\",\"minorgridcolor\":\"white\",\"startlinecolor\":\"#2a3f5f\"},\"baxis\":{\"endlinecolor\":\"#2a3f5f\",\"gridcolor\":\"white\",\"linecolor\":\"white\",\"minorgridcolor\":\"white\",\"startlinecolor\":\"#2a3f5f\"},\"type\":\"carpet\"}],\"table\":[{\"cells\":{\"fill\":{\"color\":\"#EBF0F8\"},\"line\":{\"color\":\"white\"}},\"header\":{\"fill\":{\"color\":\"#C8D4E3\"},\"line\":{\"color\":\"white\"}},\"type\":\"table\"}],\"barpolar\":[{\"marker\":{\"line\":{\"color\":\"#E5ECF6\",\"width\":0.5},\"pattern\":{\"fillmode\":\"overlay\",\"size\":10,\"solidity\":0.2}},\"type\":\"barpolar\"}],\"pie\":[{\"automargin\":true,\"type\":\"pie\"}]},\"layout\":{\"autotypenumbers\":\"strict\",\"colorway\":[\"#636efa\",\"#EF553B\",\"#00cc96\",\"#ab63fa\",\"#FFA15A\",\"#19d3f3\",\"#FF6692\",\"#B6E880\",\"#FF97FF\",\"#FECB52\"],\"font\":{\"color\":\"#2a3f5f\"},\"hovermode\":\"closest\",\"hoverlabel\":{\"align\":\"left\"},\"paper_bgcolor\":\"white\",\"plot_bgcolor\":\"#E5ECF6\",\"polar\":{\"bgcolor\":\"#E5ECF6\",\"angularaxis\":{\"gridcolor\":\"white\",\"linecolor\":\"white\",\"ticks\":\"\"},\"radialaxis\":{\"gridcolor\":\"white\",\"linecolor\":\"white\",\"ticks\":\"\"}},\"ternary\":{\"bgcolor\":\"#E5ECF6\",\"aaxis\":{\"gridcolor\":\"white\",\"linecolor\":\"white\",\"ticks\":\"\"},\"baxis\":{\"gridcolor\":\"white\",\"linecolor\":\"white\",\"ticks\":\"\"},\"caxis\":{\"gridcolor\":\"white\",\"linecolor\":\"white\",\"ticks\":\"\"}},\"coloraxis\":{\"colorbar\":{\"outlinewidth\":0,\"ticks\":\"\"}},\"colorscale\":{\"sequential\":[[0.0,\"#0d0887\"],[0.1111111111111111,\"#46039f\"],[0.2222222222222222,\"#7201a8\"],[0.3333333333333333,\"#9c179e\"],[0.4444444444444444,\"#bd3786\"],[0.5555555555555556,\"#d8576b\"],[0.6666666666666666,\"#ed7953\"],[0.7777777777777778,\"#fb9f3a\"],[0.8888888888888888,\"#fdca26\"],[1.0,\"#f0f921\"]],\"sequentialminus\":[[0.0,\"#0d0887\"],[0.1111111111111111,\"#46039f\"],[0.2222222222222222,\"#7201a8\"],[0.3333333333333333,\"#9c179e\"],[0.4444444444444444,\"#bd3786\"],[0.5555555555555556,\"#d8576b\"],[0.6666666666666666,\"#ed7953\"],[0.7777777777777778,\"#fb9f3a\"],[0.8888888888888888,\"#fdca26\"],[1.0,\"#f0f921\"]],\"diverging\":[[0,\"#8e0152\"],[0.1,\"#c51b7d\"],[0.2,\"#de77ae\"],[0.3,\"#f1b6da\"],[0.4,\"#fde0ef\"],[0.5,\"#f7f7f7\"],[0.6,\"#e6f5d0\"],[0.7,\"#b8e186\"],[0.8,\"#7fbc41\"],[0.9,\"#4d9221\"],[1,\"#276419\"]]},\"xaxis\":{\"gridcolor\":\"white\",\"linecolor\":\"white\",\"ticks\":\"\",\"title\":{\"standoff\":15},\"zerolinecolor\":\"white\",\"automargin\":true,\"zerolinewidth\":2},\"yaxis\":{\"gridcolor\":\"white\",\"linecolor\":\"white\",\"ticks\":\"\",\"title\":{\"standoff\":15},\"zerolinecolor\":\"white\",\"automargin\":true,\"zerolinewidth\":2},\"scene\":{\"xaxis\":{\"backgroundcolor\":\"#E5ECF6\",\"gridcolor\":\"white\",\"linecolor\":\"white\",\"showbackground\":true,\"ticks\":\"\",\"zerolinecolor\":\"white\",\"gridwidth\":2},\"yaxis\":{\"backgroundcolor\":\"#E5ECF6\",\"gridcolor\":\"white\",\"linecolor\":\"white\",\"showbackground\":true,\"ticks\":\"\",\"zerolinecolor\":\"white\",\"gridwidth\":2},\"zaxis\":{\"backgroundcolor\":\"#E5ECF6\",\"gridcolor\":\"white\",\"linecolor\":\"white\",\"showbackground\":true,\"ticks\":\"\",\"zerolinecolor\":\"white\",\"gridwidth\":2}},\"shapedefaults\":{\"line\":{\"color\":\"#2a3f5f\"}},\"annotationdefaults\":{\"arrowcolor\":\"#2a3f5f\",\"arrowhead\":0,\"arrowwidth\":1},\"geo\":{\"bgcolor\":\"white\",\"landcolor\":\"#E5ECF6\",\"subunitcolor\":\"white\",\"showland\":true,\"showlakes\":true,\"lakecolor\":\"white\"},\"title\":{\"x\":0.05},\"mapbox\":{\"style\":\"light\"}}},\"title\":{\"text\":\"Active Cases and Population by Country\"},\"geo\":{\"projection\":{\"type\":\"equirectangular\"},\"showframe\":true,\"showcoastlines\":false}},                        {\"responsive\": true}                    ).then(function(){\n",
       "                            \n",
       "var gd = document.getElementById('fe575d6d-d6f3-4fa7-9c3a-ecb9f2bc8f89');\n",
       "var x = new MutationObserver(function (mutations, observer) {{\n",
       "        var display = window.getComputedStyle(gd).display;\n",
       "        if (!display || display === 'none') {{\n",
       "            console.log([gd, 'removed!']);\n",
       "            Plotly.purge(gd);\n",
       "            observer.disconnect();\n",
       "        }}\n",
       "}});\n",
       "\n",
       "// Listen for the removal of the full notebook cells\n",
       "var notebookContainer = gd.closest('#notebook-container');\n",
       "if (notebookContainer) {{\n",
       "    x.observe(notebookContainer, {childList: true});\n",
       "}}\n",
       "\n",
       "// Listen for the clearing of the current output cell\n",
       "var outputEl = gd.closest('.output');\n",
       "if (outputEl) {{\n",
       "    x.observe(outputEl, {childList: true});\n",
       "}}\n",
       "\n",
       "                        })                };                });            </script>        </div>"
      ]
     },
     "metadata": {},
     "output_type": "display_data"
    }
   ],
   "source": [
    "import plotly.graph_objects as go\n",
    "\n",
    "fig = go.Figure(data=go.Choropleth(\n",
    "    locations=df['Country'],\n",
    "    locationmode='country names',\n",
    "    z=df['Active Cases'],\n",
    "    text=df['Population'],\n",
    "    colorscale='spectral',\n",
    "    autocolorscale=False,\n",
    "    marker_line_color='white',\n",
    "    colorbar_title='Active Cases'\n",
    "))\n",
    "\n",
    "fig.update_layout(\n",
    "    title_text='Active Cases and Population by Country',\n",
    "    geo=dict(\n",
    "        showframe=True,\n",
    "        showcoastlines=False,\n",
    "        projection_type='equirectangular'              \n",
    "    )\n",
    ")\n",
    "\n",
    "fig.show()"
   ]
  },
  {
   "cell_type": "markdown",
   "id": "8b56e92e-5040-4ccb-9530-441fca0b67a9",
   "metadata": {},
   "source": [
    "# Population VS TEST"
   ]
  },
  {
   "cell_type": "code",
   "execution_count": 30,
   "id": "f8035671-b944-4894-acc6-fea63210128c",
   "metadata": {},
   "outputs": [
    {
     "data": {
      "application/vnd.plotly.v1+json": {
       "config": {
        "plotlyServerURL": "https://plot.ly"
       },
       "data": [
        {
         "hovertemplate": "Population=%{x}<br>Total Tests=%{marker.color}<extra></extra>",
         "legendgroup": "",
         "marker": {
          "color": [
           1118158870,
           894416853,
           271490188,
           63776166,
           122332384,
           15804065,
           522526476,
           246636495,
           76201407,
           273400000,
           162743369,
           471036328,
           85826548,
           78835048,
           35716069,
           21107399,
           54095556,
           18393211,
           108656989,
           25998416,
           36572720,
           37335609,
           44988307,
           19521252,
           197543761,
           94139966,
           64604259,
           2172044,
           17270775,
           41373364,
           45128974,
           35555508,
           64928884,
           35126382,
           56212735,
           22318542,
           26174429,
           32796350,
           25094131,
           128397719,
           18965590,
           19239264,
           11030499,
           11394556,
           14872260,
           24345019,
           7298163,
           16920079,
           7544063,
           54352132,
           17201885,
           12708583,
           30477451,
           11002430,
           11575012,
           11505032,
           12577650,
           10559171,
           10174473,
           5225875,
           4795578,
           2743244,
           4948208,
           5884813,
           14149157,
           2705422,
           4659757,
           190586733,
           3082403,
           5936702,
           13646641,
           7062027,
           6114822,
           4030048,
           7650009,
           7245111,
           44321147,
           2657506,
           10376306,
           6486117,
           8365279,
           3657057,
           9056450,
           3078533,
           3536858,
           3216305,
           9640118,
           3359014,
           3693367,
           2481983,
           5258807,
           1603660,
           1528531,
           3951470,
           3210961,
           1861041,
           25000000,
           2130257,
           3881967,
           3731374,
           1941032,
           2026898,
           4402293,
           2624193,
           230861,
           5441162,
           2511501,
           160000000,
           1377915,
           1371127,
           717784,
           828928,
           1233207,
           1907195,
           1996384,
           2610114,
           1103716,
           938039,
           2213831,
           834508,
           3012408,
           1062663,
           2504017,
           1183986,
           3069567,
           5816624,
           1751774,
           2060900,
           1499795,
           765378,
           651257,
           846704,
           1252808,
           1146543,
           616772,
           1628106,
           239178,
           2172044,
           98964,
           1045903,
           695695,
           576016,
           662620,
           512993,
           562941,
           970892,
           401622,
           2303734,
           146269,
           345742,
           1616256,
           2172044,
           249838,
           496693,
           249149,
           177885,
           358675,
           176919,
           2172044,
           791865,
           150753,
           660107,
           248846,
           778000,
           431221,
           132422,
           759178,
           222773,
           210354,
           604310,
           400466,
           347815,
           278529,
           248995,
           5117,
           157634,
           534283,
           102174,
           179808,
           2172044,
           1006083,
           410280,
           2172044,
           365697,
           535009,
           187397,
           228799,
           305941,
           2172044,
           81294,
           78646,
           155686,
           112382,
           164926,
           329592,
           24976,
           30126,
           62056,
           23693,
           254538,
           21923,
           18901,
           145231,
           2172044,
           139824,
           259958,
           191341,
           107339,
           100856,
           124861,
           19690,
           550093,
           29036,
           64681,
           78646,
           20509,
           51382,
           2172044,
           24902,
           8632,
           17579,
           2172044,
           7850,
           20508,
           2172044,
           2172044,
           2172044,
           2172044,
           2172044,
           2172044
          ],
          "coloraxis": "coloraxis",
          "symbol": "circle"
         },
         "mode": "markers",
         "name": "",
         "orientation": "v",
         "showlegend": false,
         "type": "scatter",
         "x": [
          334805269,
          1406631776,
          65584518,
          215353593,
          83883596,
          51329899,
          68497907,
          60262770,
          125584838,
          145805947,
          85561976,
          46719142,
          98953541,
          26068792,
          46010234,
          17211447,
          86022837,
          131562772,
          279134505,
          23888595,
          51512762,
          37739785,
          10140570,
          43192122,
          9066710,
          10316637,
          33181072,
          25990679,
          70078203,
          9326000,
          19250195,
          11668278,
          38388419,
          33684208,
          10736784,
          8773637,
          60756135,
          112508994,
          19031335,
          5834950,
          10218971,
          42164965,
          8653016,
          9606259,
          167885689,
          5943546,
          5460193,
          3968738,
          4898203,
          7604299,
          10300869,
          5020199,
          229488994,
          5511370,
          19205043,
          5554960,
          37772756,
          6844597,
          2661708,
          4059286,
          6684849,
          2078034,
          12046656,
          18584039,
          11305652,
          11992656,
          5182354,
          10081785,
          18113361,
          30225582,
          9432800,
          4446964,
          3496016,
          3378078,
          1848837,
          10300205,
          35844909,
          7305843,
          1783983,
          21575842,
          4380326,
          11056370,
          55227143,
          5345541,
          1321910,
          4013171,
          1223387,
          29266991,
          106156692,
          7040745,
          120812698,
          908061,
          10221247,
          2979915,
          2971966,
          3249317,
          5323993,
          2081304,
          56215221,
          19470234,
          2866374,
          2441162,
          642371,
          627950,
          45350148,
          216746934,
          15331428,
          1448471400,
          34382084,
          33089461,
          445431,
          374087,
          7481023,
          6728271,
          345393,
          6550389,
          40754388,
          399794,
          540985,
          1406585,
          48432863,
          2633874,
          32395450,
          2985094,
          17168639,
          13600464,
          27911548,
          444033,
          35027343,
          288023,
          314169,
          95240792,
          176463,
          17653671,
          20180839,
          27742298,
          596831,
          284164,
          290915,
          1184817,
          794045,
          412190,
          909466,
          29178077,
          45992020,
          4901981,
          567678,
          787941,
          19364809,
          12624840,
          2331533,
          99426,
          77463,
          165529,
          9292169,
          107609,
          1274727,
          286259,
          63298550,
          8680837,
          85732,
          13865691,
          400516,
          49233,
          2175699,
          11680283,
          21473764,
          67277,
          185113,
          12784726,
          16841795,
          5797805,
          1369429,
          22102838,
          721159,
          34085,
          33704,
          38387,
          113475,
          6779100,
          61939,
          11618511,
          9957464,
          1496662,
          107749,
          202239,
          72344,
          1016097,
          60057,
          5016678,
          39783,
          2558482,
          39730,
          56973,
          31154867,
          321832,
          26647,
          43966,
          3662244,
          26083660,
          117489,
          99509,
          2063367,
          907419,
          5305117,
          8306436,
          17413580,
          30596,
          111551,
          53871,
          17571,
          39741,
          227679,
          18233,
          9945,
          10903,
          15230,
          123419,
          5759,
          3539,
          4965,
          6115,
          667490,
          10982,
          5816377.5,
          1622,
          799,
          12066,
          626161,
          5816377.5
         ],
         "xaxis": "x",
         "y": [
          1118158870,
          894416853,
          271490188,
          63776166,
          122332384,
          15804065,
          522526476,
          246636495,
          76201407,
          273400000,
          162743369,
          471036328,
          85826548,
          78835048,
          35716069,
          21107399,
          54095556,
          18393211,
          108656989,
          25998416,
          36572720,
          37335609,
          44988307,
          19521252,
          197543761,
          94139966,
          64604259,
          2172044,
          17270775,
          41373364,
          45128974,
          35555508,
          64928884,
          35126382,
          56212735,
          22318542,
          26174429,
          32796350,
          25094131,
          128397719,
          18965590,
          19239264,
          11030499,
          11394556,
          14872260,
          24345019,
          7298163,
          16920079,
          7544063,
          54352132,
          17201885,
          12708583,
          30477451,
          11002430,
          11575012,
          11505032,
          12577650,
          10559171,
          10174473,
          5225875,
          4795578,
          2743244,
          4948208,
          5884813,
          14149157,
          2705422,
          4659757,
          190586733,
          3082403,
          5936702,
          13646641,
          7062027,
          6114822,
          4030048,
          7650009,
          7245111,
          44321147,
          2657506,
          10376306,
          6486117,
          8365279,
          3657057,
          9056450,
          3078533,
          3536858,
          3216305,
          9640118,
          3359014,
          3693367,
          2481983,
          5258807,
          1603660,
          1528531,
          3951470,
          3210961,
          1861041,
          25000000,
          2130257,
          3881967,
          3731374,
          1941032,
          2026898,
          4402293,
          2624193,
          230861,
          5441162,
          2511501,
          160000000,
          1377915,
          1371127,
          717784,
          828928,
          1233207,
          1907195,
          1996384,
          2610114,
          1103716,
          938039,
          2213831,
          834508,
          3012408,
          1062663,
          2504017,
          1183986,
          3069567,
          5816624,
          1751774,
          2060900,
          1499795,
          765378,
          651257,
          846704,
          1252808,
          1146543,
          616772,
          1628106,
          239178,
          2172044,
          98964,
          1045903,
          695695,
          576016,
          662620,
          512993,
          562941,
          970892,
          401622,
          2303734,
          146269,
          345742,
          1616256,
          2172044,
          249838,
          496693,
          249149,
          177885,
          358675,
          176919,
          2172044,
          791865,
          150753,
          660107,
          248846,
          778000,
          431221,
          132422,
          759178,
          222773,
          210354,
          604310,
          400466,
          347815,
          278529,
          248995,
          5117,
          157634,
          534283,
          102174,
          179808,
          2172044,
          1006083,
          410280,
          2172044,
          365697,
          535009,
          187397,
          228799,
          305941,
          2172044,
          81294,
          78646,
          155686,
          112382,
          164926,
          329592,
          24976,
          30126,
          62056,
          23693,
          254538,
          21923,
          18901,
          145231,
          2172044,
          139824,
          259958,
          191341,
          107339,
          100856,
          124861,
          19690,
          550093,
          29036,
          64681,
          78646,
          20509,
          51382,
          2172044,
          24902,
          8632,
          17579,
          2172044,
          7850,
          20508,
          2172044,
          2172044,
          2172044,
          2172044,
          2172044,
          2172044
         ],
         "yaxis": "y"
        }
       ],
       "layout": {
        "coloraxis": {
         "colorbar": {
          "title": {
           "text": "Total Tests"
          }
         },
         "colorscale": [
          [
           0,
           "#440154"
          ],
          [
           0.1111111111111111,
           "#482878"
          ],
          [
           0.2222222222222222,
           "#3e4989"
          ],
          [
           0.3333333333333333,
           "#31688e"
          ],
          [
           0.4444444444444444,
           "#26828e"
          ],
          [
           0.5555555555555556,
           "#1f9e89"
          ],
          [
           0.6666666666666666,
           "#35b779"
          ],
          [
           0.7777777777777778,
           "#6ece58"
          ],
          [
           0.8888888888888888,
           "#b5de2b"
          ],
          [
           1,
           "#fde725"
          ]
         ]
        },
        "legend": {
         "tracegroupgap": 0
        },
        "template": {
         "data": {
          "bar": [
           {
            "error_x": {
             "color": "#2a3f5f"
            },
            "error_y": {
             "color": "#2a3f5f"
            },
            "marker": {
             "line": {
              "color": "#E5ECF6",
              "width": 0.5
             },
             "pattern": {
              "fillmode": "overlay",
              "size": 10,
              "solidity": 0.2
             }
            },
            "type": "bar"
           }
          ],
          "barpolar": [
           {
            "marker": {
             "line": {
              "color": "#E5ECF6",
              "width": 0.5
             },
             "pattern": {
              "fillmode": "overlay",
              "size": 10,
              "solidity": 0.2
             }
            },
            "type": "barpolar"
           }
          ],
          "carpet": [
           {
            "aaxis": {
             "endlinecolor": "#2a3f5f",
             "gridcolor": "white",
             "linecolor": "white",
             "minorgridcolor": "white",
             "startlinecolor": "#2a3f5f"
            },
            "baxis": {
             "endlinecolor": "#2a3f5f",
             "gridcolor": "white",
             "linecolor": "white",
             "minorgridcolor": "white",
             "startlinecolor": "#2a3f5f"
            },
            "type": "carpet"
           }
          ],
          "choropleth": [
           {
            "colorbar": {
             "outlinewidth": 0,
             "ticks": ""
            },
            "type": "choropleth"
           }
          ],
          "contour": [
           {
            "colorbar": {
             "outlinewidth": 0,
             "ticks": ""
            },
            "colorscale": [
             [
              0,
              "#0d0887"
             ],
             [
              0.1111111111111111,
              "#46039f"
             ],
             [
              0.2222222222222222,
              "#7201a8"
             ],
             [
              0.3333333333333333,
              "#9c179e"
             ],
             [
              0.4444444444444444,
              "#bd3786"
             ],
             [
              0.5555555555555556,
              "#d8576b"
             ],
             [
              0.6666666666666666,
              "#ed7953"
             ],
             [
              0.7777777777777778,
              "#fb9f3a"
             ],
             [
              0.8888888888888888,
              "#fdca26"
             ],
             [
              1,
              "#f0f921"
             ]
            ],
            "type": "contour"
           }
          ],
          "contourcarpet": [
           {
            "colorbar": {
             "outlinewidth": 0,
             "ticks": ""
            },
            "type": "contourcarpet"
           }
          ],
          "heatmap": [
           {
            "colorbar": {
             "outlinewidth": 0,
             "ticks": ""
            },
            "colorscale": [
             [
              0,
              "#0d0887"
             ],
             [
              0.1111111111111111,
              "#46039f"
             ],
             [
              0.2222222222222222,
              "#7201a8"
             ],
             [
              0.3333333333333333,
              "#9c179e"
             ],
             [
              0.4444444444444444,
              "#bd3786"
             ],
             [
              0.5555555555555556,
              "#d8576b"
             ],
             [
              0.6666666666666666,
              "#ed7953"
             ],
             [
              0.7777777777777778,
              "#fb9f3a"
             ],
             [
              0.8888888888888888,
              "#fdca26"
             ],
             [
              1,
              "#f0f921"
             ]
            ],
            "type": "heatmap"
           }
          ],
          "heatmapgl": [
           {
            "colorbar": {
             "outlinewidth": 0,
             "ticks": ""
            },
            "colorscale": [
             [
              0,
              "#0d0887"
             ],
             [
              0.1111111111111111,
              "#46039f"
             ],
             [
              0.2222222222222222,
              "#7201a8"
             ],
             [
              0.3333333333333333,
              "#9c179e"
             ],
             [
              0.4444444444444444,
              "#bd3786"
             ],
             [
              0.5555555555555556,
              "#d8576b"
             ],
             [
              0.6666666666666666,
              "#ed7953"
             ],
             [
              0.7777777777777778,
              "#fb9f3a"
             ],
             [
              0.8888888888888888,
              "#fdca26"
             ],
             [
              1,
              "#f0f921"
             ]
            ],
            "type": "heatmapgl"
           }
          ],
          "histogram": [
           {
            "marker": {
             "pattern": {
              "fillmode": "overlay",
              "size": 10,
              "solidity": 0.2
             }
            },
            "type": "histogram"
           }
          ],
          "histogram2d": [
           {
            "colorbar": {
             "outlinewidth": 0,
             "ticks": ""
            },
            "colorscale": [
             [
              0,
              "#0d0887"
             ],
             [
              0.1111111111111111,
              "#46039f"
             ],
             [
              0.2222222222222222,
              "#7201a8"
             ],
             [
              0.3333333333333333,
              "#9c179e"
             ],
             [
              0.4444444444444444,
              "#bd3786"
             ],
             [
              0.5555555555555556,
              "#d8576b"
             ],
             [
              0.6666666666666666,
              "#ed7953"
             ],
             [
              0.7777777777777778,
              "#fb9f3a"
             ],
             [
              0.8888888888888888,
              "#fdca26"
             ],
             [
              1,
              "#f0f921"
             ]
            ],
            "type": "histogram2d"
           }
          ],
          "histogram2dcontour": [
           {
            "colorbar": {
             "outlinewidth": 0,
             "ticks": ""
            },
            "colorscale": [
             [
              0,
              "#0d0887"
             ],
             [
              0.1111111111111111,
              "#46039f"
             ],
             [
              0.2222222222222222,
              "#7201a8"
             ],
             [
              0.3333333333333333,
              "#9c179e"
             ],
             [
              0.4444444444444444,
              "#bd3786"
             ],
             [
              0.5555555555555556,
              "#d8576b"
             ],
             [
              0.6666666666666666,
              "#ed7953"
             ],
             [
              0.7777777777777778,
              "#fb9f3a"
             ],
             [
              0.8888888888888888,
              "#fdca26"
             ],
             [
              1,
              "#f0f921"
             ]
            ],
            "type": "histogram2dcontour"
           }
          ],
          "mesh3d": [
           {
            "colorbar": {
             "outlinewidth": 0,
             "ticks": ""
            },
            "type": "mesh3d"
           }
          ],
          "parcoords": [
           {
            "line": {
             "colorbar": {
              "outlinewidth": 0,
              "ticks": ""
             }
            },
            "type": "parcoords"
           }
          ],
          "pie": [
           {
            "automargin": true,
            "type": "pie"
           }
          ],
          "scatter": [
           {
            "fillpattern": {
             "fillmode": "overlay",
             "size": 10,
             "solidity": 0.2
            },
            "type": "scatter"
           }
          ],
          "scatter3d": [
           {
            "line": {
             "colorbar": {
              "outlinewidth": 0,
              "ticks": ""
             }
            },
            "marker": {
             "colorbar": {
              "outlinewidth": 0,
              "ticks": ""
             }
            },
            "type": "scatter3d"
           }
          ],
          "scattercarpet": [
           {
            "marker": {
             "colorbar": {
              "outlinewidth": 0,
              "ticks": ""
             }
            },
            "type": "scattercarpet"
           }
          ],
          "scattergeo": [
           {
            "marker": {
             "colorbar": {
              "outlinewidth": 0,
              "ticks": ""
             }
            },
            "type": "scattergeo"
           }
          ],
          "scattergl": [
           {
            "marker": {
             "colorbar": {
              "outlinewidth": 0,
              "ticks": ""
             }
            },
            "type": "scattergl"
           }
          ],
          "scattermapbox": [
           {
            "marker": {
             "colorbar": {
              "outlinewidth": 0,
              "ticks": ""
             }
            },
            "type": "scattermapbox"
           }
          ],
          "scatterpolar": [
           {
            "marker": {
             "colorbar": {
              "outlinewidth": 0,
              "ticks": ""
             }
            },
            "type": "scatterpolar"
           }
          ],
          "scatterpolargl": [
           {
            "marker": {
             "colorbar": {
              "outlinewidth": 0,
              "ticks": ""
             }
            },
            "type": "scatterpolargl"
           }
          ],
          "scatterternary": [
           {
            "marker": {
             "colorbar": {
              "outlinewidth": 0,
              "ticks": ""
             }
            },
            "type": "scatterternary"
           }
          ],
          "surface": [
           {
            "colorbar": {
             "outlinewidth": 0,
             "ticks": ""
            },
            "colorscale": [
             [
              0,
              "#0d0887"
             ],
             [
              0.1111111111111111,
              "#46039f"
             ],
             [
              0.2222222222222222,
              "#7201a8"
             ],
             [
              0.3333333333333333,
              "#9c179e"
             ],
             [
              0.4444444444444444,
              "#bd3786"
             ],
             [
              0.5555555555555556,
              "#d8576b"
             ],
             [
              0.6666666666666666,
              "#ed7953"
             ],
             [
              0.7777777777777778,
              "#fb9f3a"
             ],
             [
              0.8888888888888888,
              "#fdca26"
             ],
             [
              1,
              "#f0f921"
             ]
            ],
            "type": "surface"
           }
          ],
          "table": [
           {
            "cells": {
             "fill": {
              "color": "#EBF0F8"
             },
             "line": {
              "color": "white"
             }
            },
            "header": {
             "fill": {
              "color": "#C8D4E3"
             },
             "line": {
              "color": "white"
             }
            },
            "type": "table"
           }
          ]
         },
         "layout": {
          "annotationdefaults": {
           "arrowcolor": "#2a3f5f",
           "arrowhead": 0,
           "arrowwidth": 1
          },
          "autotypenumbers": "strict",
          "coloraxis": {
           "colorbar": {
            "outlinewidth": 0,
            "ticks": ""
           }
          },
          "colorscale": {
           "diverging": [
            [
             0,
             "#8e0152"
            ],
            [
             0.1,
             "#c51b7d"
            ],
            [
             0.2,
             "#de77ae"
            ],
            [
             0.3,
             "#f1b6da"
            ],
            [
             0.4,
             "#fde0ef"
            ],
            [
             0.5,
             "#f7f7f7"
            ],
            [
             0.6,
             "#e6f5d0"
            ],
            [
             0.7,
             "#b8e186"
            ],
            [
             0.8,
             "#7fbc41"
            ],
            [
             0.9,
             "#4d9221"
            ],
            [
             1,
             "#276419"
            ]
           ],
           "sequential": [
            [
             0,
             "#0d0887"
            ],
            [
             0.1111111111111111,
             "#46039f"
            ],
            [
             0.2222222222222222,
             "#7201a8"
            ],
            [
             0.3333333333333333,
             "#9c179e"
            ],
            [
             0.4444444444444444,
             "#bd3786"
            ],
            [
             0.5555555555555556,
             "#d8576b"
            ],
            [
             0.6666666666666666,
             "#ed7953"
            ],
            [
             0.7777777777777778,
             "#fb9f3a"
            ],
            [
             0.8888888888888888,
             "#fdca26"
            ],
            [
             1,
             "#f0f921"
            ]
           ],
           "sequentialminus": [
            [
             0,
             "#0d0887"
            ],
            [
             0.1111111111111111,
             "#46039f"
            ],
            [
             0.2222222222222222,
             "#7201a8"
            ],
            [
             0.3333333333333333,
             "#9c179e"
            ],
            [
             0.4444444444444444,
             "#bd3786"
            ],
            [
             0.5555555555555556,
             "#d8576b"
            ],
            [
             0.6666666666666666,
             "#ed7953"
            ],
            [
             0.7777777777777778,
             "#fb9f3a"
            ],
            [
             0.8888888888888888,
             "#fdca26"
            ],
            [
             1,
             "#f0f921"
            ]
           ]
          },
          "colorway": [
           "#636efa",
           "#EF553B",
           "#00cc96",
           "#ab63fa",
           "#FFA15A",
           "#19d3f3",
           "#FF6692",
           "#B6E880",
           "#FF97FF",
           "#FECB52"
          ],
          "font": {
           "color": "#2a3f5f"
          },
          "geo": {
           "bgcolor": "white",
           "lakecolor": "white",
           "landcolor": "#E5ECF6",
           "showlakes": true,
           "showland": true,
           "subunitcolor": "white"
          },
          "hoverlabel": {
           "align": "left"
          },
          "hovermode": "closest",
          "mapbox": {
           "style": "light"
          },
          "paper_bgcolor": "white",
          "plot_bgcolor": "#E5ECF6",
          "polar": {
           "angularaxis": {
            "gridcolor": "white",
            "linecolor": "white",
            "ticks": ""
           },
           "bgcolor": "#E5ECF6",
           "radialaxis": {
            "gridcolor": "white",
            "linecolor": "white",
            "ticks": ""
           }
          },
          "scene": {
           "xaxis": {
            "backgroundcolor": "#E5ECF6",
            "gridcolor": "white",
            "gridwidth": 2,
            "linecolor": "white",
            "showbackground": true,
            "ticks": "",
            "zerolinecolor": "white"
           },
           "yaxis": {
            "backgroundcolor": "#E5ECF6",
            "gridcolor": "white",
            "gridwidth": 2,
            "linecolor": "white",
            "showbackground": true,
            "ticks": "",
            "zerolinecolor": "white"
           },
           "zaxis": {
            "backgroundcolor": "#E5ECF6",
            "gridcolor": "white",
            "gridwidth": 2,
            "linecolor": "white",
            "showbackground": true,
            "ticks": "",
            "zerolinecolor": "white"
           }
          },
          "shapedefaults": {
           "line": {
            "color": "#2a3f5f"
           }
          },
          "ternary": {
           "aaxis": {
            "gridcolor": "white",
            "linecolor": "white",
            "ticks": ""
           },
           "baxis": {
            "gridcolor": "white",
            "linecolor": "white",
            "ticks": ""
           },
           "bgcolor": "#E5ECF6",
           "caxis": {
            "gridcolor": "white",
            "linecolor": "white",
            "ticks": ""
           }
          },
          "title": {
           "x": 0.05
          },
          "xaxis": {
           "automargin": true,
           "gridcolor": "white",
           "linecolor": "white",
           "ticks": "",
           "title": {
            "standoff": 15
           },
           "zerolinecolor": "white",
           "zerolinewidth": 2
          },
          "yaxis": {
           "automargin": true,
           "gridcolor": "white",
           "linecolor": "white",
           "ticks": "",
           "title": {
            "standoff": 15
           },
           "zerolinecolor": "white",
           "zerolinewidth": 2
          }
         }
        },
        "title": {
         "text": "Total Population vs Total Tests"
        },
        "xaxis": {
         "anchor": "y",
         "domain": [
          0,
          1
         ],
         "title": {
          "text": "Population"
         }
        },
        "yaxis": {
         "anchor": "x",
         "domain": [
          0,
          1
         ],
         "title": {
          "text": "Total Tests"
         }
        }
       }
      },
      "text/html": [
       "<div>                            <div id=\"13a96049-67ce-4938-b154-e2ecc2ee4719\" class=\"plotly-graph-div\" style=\"height:525px; width:100%;\"></div>            <script type=\"text/javascript\">                require([\"plotly\"], function(Plotly) {                    window.PLOTLYENV=window.PLOTLYENV || {};                                    if (document.getElementById(\"13a96049-67ce-4938-b154-e2ecc2ee4719\")) {                    Plotly.newPlot(                        \"13a96049-67ce-4938-b154-e2ecc2ee4719\",                        [{\"hovertemplate\":\"Population=%{x}\\u003cbr\\u003eTotal Tests=%{marker.color}\\u003cextra\\u003e\\u003c\\u002fextra\\u003e\",\"legendgroup\":\"\",\"marker\":{\"color\":[1118158870.0,894416853.0,271490188.0,63776166.0,122332384.0,15804065.0,522526476.0,246636495.0,76201407.0,273400000.0,162743369.0,471036328.0,85826548.0,78835048.0,35716069.0,21107399.0,54095556.0,18393211.0,108656989.0,25998416.0,36572720.0,37335609.0,44988307.0,19521252.0,197543761.0,94139966.0,64604259.0,2172044.0,17270775.0,41373364.0,45128974.0,35555508.0,64928884.0,35126382.0,56212735.0,22318542.0,26174429.0,32796350.0,25094131.0,128397719.0,18965590.0,19239264.0,11030499.0,11394556.0,14872260.0,24345019.0,7298163.0,16920079.0,7544063.0,54352132.0,17201885.0,12708583.0,30477451.0,11002430.0,11575012.0,11505032.0,12577650.0,10559171.0,10174473.0,5225875.0,4795578.0,2743244.0,4948208.0,5884813.0,14149157.0,2705422.0,4659757.0,190586733.0,3082403.0,5936702.0,13646641.0,7062027.0,6114822.0,4030048.0,7650009.0,7245111.0,44321147.0,2657506.0,10376306.0,6486117.0,8365279.0,3657057.0,9056450.0,3078533.0,3536858.0,3216305.0,9640118.0,3359014.0,3693367.0,2481983.0,5258807.0,1603660.0,1528531.0,3951470.0,3210961.0,1861041.0,25000000.0,2130257.0,3881967.0,3731374.0,1941032.0,2026898.0,4402293.0,2624193.0,230861.0,5441162.0,2511501.0,160000000.0,1377915.0,1371127.0,717784.0,828928.0,1233207.0,1907195.0,1996384.0,2610114.0,1103716.0,938039.0,2213831.0,834508.0,3012408.0,1062663.0,2504017.0,1183986.0,3069567.0,5816624.0,1751774.0,2060900.0,1499795.0,765378.0,651257.0,846704.0,1252808.0,1146543.0,616772.0,1628106.0,239178.0,2172044.0,98964.0,1045903.0,695695.0,576016.0,662620.0,512993.0,562941.0,970892.0,401622.0,2303734.0,146269.0,345742.0,1616256.0,2172044.0,249838.0,496693.0,249149.0,177885.0,358675.0,176919.0,2172044.0,791865.0,150753.0,660107.0,248846.0,778000.0,431221.0,132422.0,759178.0,222773.0,210354.0,604310.0,400466.0,347815.0,278529.0,248995.0,5117.0,157634.0,534283.0,102174.0,179808.0,2172044.0,1006083.0,410280.0,2172044.0,365697.0,535009.0,187397.0,228799.0,305941.0,2172044.0,81294.0,78646.0,155686.0,112382.0,164926.0,329592.0,24976.0,30126.0,62056.0,23693.0,254538.0,21923.0,18901.0,145231.0,2172044.0,139824.0,259958.0,191341.0,107339.0,100856.0,124861.0,19690.0,550093.0,29036.0,64681.0,78646.0,20509.0,51382.0,2172044.0,24902.0,8632.0,17579.0,2172044.0,7850.0,20508.0,2172044.0,2172044.0,2172044.0,2172044.0,2172044.0,2172044.0],\"coloraxis\":\"coloraxis\",\"symbol\":\"circle\"},\"mode\":\"markers\",\"name\":\"\",\"orientation\":\"v\",\"showlegend\":false,\"x\":[334805269.0,1406631776.0,65584518.0,215353593.0,83883596.0,51329899.0,68497907.0,60262770.0,125584838.0,145805947.0,85561976.0,46719142.0,98953541.0,26068792.0,46010234.0,17211447.0,86022837.0,131562772.0,279134505.0,23888595.0,51512762.0,37739785.0,10140570.0,43192122.0,9066710.0,10316637.0,33181072.0,25990679.0,70078203.0,9326000.0,19250195.0,11668278.0,38388419.0,33684208.0,10736784.0,8773637.0,60756135.0,112508994.0,19031335.0,5834950.0,10218971.0,42164965.0,8653016.0,9606259.0,167885689.0,5943546.0,5460193.0,3968738.0,4898203.0,7604299.0,10300869.0,5020199.0,229488994.0,5511370.0,19205043.0,5554960.0,37772756.0,6844597.0,2661708.0,4059286.0,6684849.0,2078034.0,12046656.0,18584039.0,11305652.0,11992656.0,5182354.0,10081785.0,18113361.0,30225582.0,9432800.0,4446964.0,3496016.0,3378078.0,1848837.0,10300205.0,35844909.0,7305843.0,1783983.0,21575842.0,4380326.0,11056370.0,55227143.0,5345541.0,1321910.0,4013171.0,1223387.0,29266991.0,106156692.0,7040745.0,120812698.0,908061.0,10221247.0,2979915.0,2971966.0,3249317.0,5323993.0,2081304.0,56215221.0,19470234.0,2866374.0,2441162.0,642371.0,627950.0,45350148.0,216746934.0,15331428.0,1448471400.0,34382084.0,33089461.0,445431.0,374087.0,7481023.0,6728271.0,345393.0,6550389.0,40754388.0,399794.0,540985.0,1406585.0,48432863.0,2633874.0,32395450.0,2985094.0,17168639.0,13600464.0,27911548.0,444033.0,35027343.0,288023.0,314169.0,95240792.0,176463.0,17653671.0,20180839.0,27742298.0,596831.0,284164.0,290915.0,1184817.0,794045.0,412190.0,909466.0,29178077.0,45992020.0,4901981.0,567678.0,787941.0,19364809.0,12624840.0,2331533.0,99426.0,77463.0,165529.0,9292169.0,107609.0,1274727.0,286259.0,63298550.0,8680837.0,85732.0,13865691.0,400516.0,49233.0,2175699.0,11680283.0,21473764.0,67277.0,185113.0,12784726.0,16841795.0,5797805.0,1369429.0,22102838.0,721159.0,34085.0,33704.0,38387.0,113475.0,6779100.0,61939.0,11618511.0,9957464.0,1496662.0,107749.0,202239.0,72344.0,1016097.0,60057.0,5016678.0,39783.0,2558482.0,39730.0,56973.0,31154867.0,321832.0,26647.0,43966.0,3662244.0,26083660.0,117489.0,99509.0,2063367.0,907419.0,5305117.0,8306436.0,17413580.0,30596.0,111551.0,53871.0,17571.0,39741.0,227679.0,18233.0,9945.0,10903.0,15230.0,123419.0,5759.0,3539.0,4965.0,6115.0,667490.0,10982.0,5816377.5,1622.0,799.0,12066.0,626161.0,5816377.5],\"xaxis\":\"x\",\"y\":[1118158870.0,894416853.0,271490188.0,63776166.0,122332384.0,15804065.0,522526476.0,246636495.0,76201407.0,273400000.0,162743369.0,471036328.0,85826548.0,78835048.0,35716069.0,21107399.0,54095556.0,18393211.0,108656989.0,25998416.0,36572720.0,37335609.0,44988307.0,19521252.0,197543761.0,94139966.0,64604259.0,2172044.0,17270775.0,41373364.0,45128974.0,35555508.0,64928884.0,35126382.0,56212735.0,22318542.0,26174429.0,32796350.0,25094131.0,128397719.0,18965590.0,19239264.0,11030499.0,11394556.0,14872260.0,24345019.0,7298163.0,16920079.0,7544063.0,54352132.0,17201885.0,12708583.0,30477451.0,11002430.0,11575012.0,11505032.0,12577650.0,10559171.0,10174473.0,5225875.0,4795578.0,2743244.0,4948208.0,5884813.0,14149157.0,2705422.0,4659757.0,190586733.0,3082403.0,5936702.0,13646641.0,7062027.0,6114822.0,4030048.0,7650009.0,7245111.0,44321147.0,2657506.0,10376306.0,6486117.0,8365279.0,3657057.0,9056450.0,3078533.0,3536858.0,3216305.0,9640118.0,3359014.0,3693367.0,2481983.0,5258807.0,1603660.0,1528531.0,3951470.0,3210961.0,1861041.0,25000000.0,2130257.0,3881967.0,3731374.0,1941032.0,2026898.0,4402293.0,2624193.0,230861.0,5441162.0,2511501.0,160000000.0,1377915.0,1371127.0,717784.0,828928.0,1233207.0,1907195.0,1996384.0,2610114.0,1103716.0,938039.0,2213831.0,834508.0,3012408.0,1062663.0,2504017.0,1183986.0,3069567.0,5816624.0,1751774.0,2060900.0,1499795.0,765378.0,651257.0,846704.0,1252808.0,1146543.0,616772.0,1628106.0,239178.0,2172044.0,98964.0,1045903.0,695695.0,576016.0,662620.0,512993.0,562941.0,970892.0,401622.0,2303734.0,146269.0,345742.0,1616256.0,2172044.0,249838.0,496693.0,249149.0,177885.0,358675.0,176919.0,2172044.0,791865.0,150753.0,660107.0,248846.0,778000.0,431221.0,132422.0,759178.0,222773.0,210354.0,604310.0,400466.0,347815.0,278529.0,248995.0,5117.0,157634.0,534283.0,102174.0,179808.0,2172044.0,1006083.0,410280.0,2172044.0,365697.0,535009.0,187397.0,228799.0,305941.0,2172044.0,81294.0,78646.0,155686.0,112382.0,164926.0,329592.0,24976.0,30126.0,62056.0,23693.0,254538.0,21923.0,18901.0,145231.0,2172044.0,139824.0,259958.0,191341.0,107339.0,100856.0,124861.0,19690.0,550093.0,29036.0,64681.0,78646.0,20509.0,51382.0,2172044.0,24902.0,8632.0,17579.0,2172044.0,7850.0,20508.0,2172044.0,2172044.0,2172044.0,2172044.0,2172044.0,2172044.0],\"yaxis\":\"y\",\"type\":\"scatter\"}],                        {\"template\":{\"data\":{\"histogram2dcontour\":[{\"type\":\"histogram2dcontour\",\"colorbar\":{\"outlinewidth\":0,\"ticks\":\"\"},\"colorscale\":[[0.0,\"#0d0887\"],[0.1111111111111111,\"#46039f\"],[0.2222222222222222,\"#7201a8\"],[0.3333333333333333,\"#9c179e\"],[0.4444444444444444,\"#bd3786\"],[0.5555555555555556,\"#d8576b\"],[0.6666666666666666,\"#ed7953\"],[0.7777777777777778,\"#fb9f3a\"],[0.8888888888888888,\"#fdca26\"],[1.0,\"#f0f921\"]]}],\"choropleth\":[{\"type\":\"choropleth\",\"colorbar\":{\"outlinewidth\":0,\"ticks\":\"\"}}],\"histogram2d\":[{\"type\":\"histogram2d\",\"colorbar\":{\"outlinewidth\":0,\"ticks\":\"\"},\"colorscale\":[[0.0,\"#0d0887\"],[0.1111111111111111,\"#46039f\"],[0.2222222222222222,\"#7201a8\"],[0.3333333333333333,\"#9c179e\"],[0.4444444444444444,\"#bd3786\"],[0.5555555555555556,\"#d8576b\"],[0.6666666666666666,\"#ed7953\"],[0.7777777777777778,\"#fb9f3a\"],[0.8888888888888888,\"#fdca26\"],[1.0,\"#f0f921\"]]}],\"heatmap\":[{\"type\":\"heatmap\",\"colorbar\":{\"outlinewidth\":0,\"ticks\":\"\"},\"colorscale\":[[0.0,\"#0d0887\"],[0.1111111111111111,\"#46039f\"],[0.2222222222222222,\"#7201a8\"],[0.3333333333333333,\"#9c179e\"],[0.4444444444444444,\"#bd3786\"],[0.5555555555555556,\"#d8576b\"],[0.6666666666666666,\"#ed7953\"],[0.7777777777777778,\"#fb9f3a\"],[0.8888888888888888,\"#fdca26\"],[1.0,\"#f0f921\"]]}],\"heatmapgl\":[{\"type\":\"heatmapgl\",\"colorbar\":{\"outlinewidth\":0,\"ticks\":\"\"},\"colorscale\":[[0.0,\"#0d0887\"],[0.1111111111111111,\"#46039f\"],[0.2222222222222222,\"#7201a8\"],[0.3333333333333333,\"#9c179e\"],[0.4444444444444444,\"#bd3786\"],[0.5555555555555556,\"#d8576b\"],[0.6666666666666666,\"#ed7953\"],[0.7777777777777778,\"#fb9f3a\"],[0.8888888888888888,\"#fdca26\"],[1.0,\"#f0f921\"]]}],\"contourcarpet\":[{\"type\":\"contourcarpet\",\"colorbar\":{\"outlinewidth\":0,\"ticks\":\"\"}}],\"contour\":[{\"type\":\"contour\",\"colorbar\":{\"outlinewidth\":0,\"ticks\":\"\"},\"colorscale\":[[0.0,\"#0d0887\"],[0.1111111111111111,\"#46039f\"],[0.2222222222222222,\"#7201a8\"],[0.3333333333333333,\"#9c179e\"],[0.4444444444444444,\"#bd3786\"],[0.5555555555555556,\"#d8576b\"],[0.6666666666666666,\"#ed7953\"],[0.7777777777777778,\"#fb9f3a\"],[0.8888888888888888,\"#fdca26\"],[1.0,\"#f0f921\"]]}],\"surface\":[{\"type\":\"surface\",\"colorbar\":{\"outlinewidth\":0,\"ticks\":\"\"},\"colorscale\":[[0.0,\"#0d0887\"],[0.1111111111111111,\"#46039f\"],[0.2222222222222222,\"#7201a8\"],[0.3333333333333333,\"#9c179e\"],[0.4444444444444444,\"#bd3786\"],[0.5555555555555556,\"#d8576b\"],[0.6666666666666666,\"#ed7953\"],[0.7777777777777778,\"#fb9f3a\"],[0.8888888888888888,\"#fdca26\"],[1.0,\"#f0f921\"]]}],\"mesh3d\":[{\"type\":\"mesh3d\",\"colorbar\":{\"outlinewidth\":0,\"ticks\":\"\"}}],\"scatter\":[{\"fillpattern\":{\"fillmode\":\"overlay\",\"size\":10,\"solidity\":0.2},\"type\":\"scatter\"}],\"parcoords\":[{\"type\":\"parcoords\",\"line\":{\"colorbar\":{\"outlinewidth\":0,\"ticks\":\"\"}}}],\"scatterpolargl\":[{\"type\":\"scatterpolargl\",\"marker\":{\"colorbar\":{\"outlinewidth\":0,\"ticks\":\"\"}}}],\"bar\":[{\"error_x\":{\"color\":\"#2a3f5f\"},\"error_y\":{\"color\":\"#2a3f5f\"},\"marker\":{\"line\":{\"color\":\"#E5ECF6\",\"width\":0.5},\"pattern\":{\"fillmode\":\"overlay\",\"size\":10,\"solidity\":0.2}},\"type\":\"bar\"}],\"scattergeo\":[{\"type\":\"scattergeo\",\"marker\":{\"colorbar\":{\"outlinewidth\":0,\"ticks\":\"\"}}}],\"scatterpolar\":[{\"type\":\"scatterpolar\",\"marker\":{\"colorbar\":{\"outlinewidth\":0,\"ticks\":\"\"}}}],\"histogram\":[{\"marker\":{\"pattern\":{\"fillmode\":\"overlay\",\"size\":10,\"solidity\":0.2}},\"type\":\"histogram\"}],\"scattergl\":[{\"type\":\"scattergl\",\"marker\":{\"colorbar\":{\"outlinewidth\":0,\"ticks\":\"\"}}}],\"scatter3d\":[{\"type\":\"scatter3d\",\"line\":{\"colorbar\":{\"outlinewidth\":0,\"ticks\":\"\"}},\"marker\":{\"colorbar\":{\"outlinewidth\":0,\"ticks\":\"\"}}}],\"scattermapbox\":[{\"type\":\"scattermapbox\",\"marker\":{\"colorbar\":{\"outlinewidth\":0,\"ticks\":\"\"}}}],\"scatterternary\":[{\"type\":\"scatterternary\",\"marker\":{\"colorbar\":{\"outlinewidth\":0,\"ticks\":\"\"}}}],\"scattercarpet\":[{\"type\":\"scattercarpet\",\"marker\":{\"colorbar\":{\"outlinewidth\":0,\"ticks\":\"\"}}}],\"carpet\":[{\"aaxis\":{\"endlinecolor\":\"#2a3f5f\",\"gridcolor\":\"white\",\"linecolor\":\"white\",\"minorgridcolor\":\"white\",\"startlinecolor\":\"#2a3f5f\"},\"baxis\":{\"endlinecolor\":\"#2a3f5f\",\"gridcolor\":\"white\",\"linecolor\":\"white\",\"minorgridcolor\":\"white\",\"startlinecolor\":\"#2a3f5f\"},\"type\":\"carpet\"}],\"table\":[{\"cells\":{\"fill\":{\"color\":\"#EBF0F8\"},\"line\":{\"color\":\"white\"}},\"header\":{\"fill\":{\"color\":\"#C8D4E3\"},\"line\":{\"color\":\"white\"}},\"type\":\"table\"}],\"barpolar\":[{\"marker\":{\"line\":{\"color\":\"#E5ECF6\",\"width\":0.5},\"pattern\":{\"fillmode\":\"overlay\",\"size\":10,\"solidity\":0.2}},\"type\":\"barpolar\"}],\"pie\":[{\"automargin\":true,\"type\":\"pie\"}]},\"layout\":{\"autotypenumbers\":\"strict\",\"colorway\":[\"#636efa\",\"#EF553B\",\"#00cc96\",\"#ab63fa\",\"#FFA15A\",\"#19d3f3\",\"#FF6692\",\"#B6E880\",\"#FF97FF\",\"#FECB52\"],\"font\":{\"color\":\"#2a3f5f\"},\"hovermode\":\"closest\",\"hoverlabel\":{\"align\":\"left\"},\"paper_bgcolor\":\"white\",\"plot_bgcolor\":\"#E5ECF6\",\"polar\":{\"bgcolor\":\"#E5ECF6\",\"angularaxis\":{\"gridcolor\":\"white\",\"linecolor\":\"white\",\"ticks\":\"\"},\"radialaxis\":{\"gridcolor\":\"white\",\"linecolor\":\"white\",\"ticks\":\"\"}},\"ternary\":{\"bgcolor\":\"#E5ECF6\",\"aaxis\":{\"gridcolor\":\"white\",\"linecolor\":\"white\",\"ticks\":\"\"},\"baxis\":{\"gridcolor\":\"white\",\"linecolor\":\"white\",\"ticks\":\"\"},\"caxis\":{\"gridcolor\":\"white\",\"linecolor\":\"white\",\"ticks\":\"\"}},\"coloraxis\":{\"colorbar\":{\"outlinewidth\":0,\"ticks\":\"\"}},\"colorscale\":{\"sequential\":[[0.0,\"#0d0887\"],[0.1111111111111111,\"#46039f\"],[0.2222222222222222,\"#7201a8\"],[0.3333333333333333,\"#9c179e\"],[0.4444444444444444,\"#bd3786\"],[0.5555555555555556,\"#d8576b\"],[0.6666666666666666,\"#ed7953\"],[0.7777777777777778,\"#fb9f3a\"],[0.8888888888888888,\"#fdca26\"],[1.0,\"#f0f921\"]],\"sequentialminus\":[[0.0,\"#0d0887\"],[0.1111111111111111,\"#46039f\"],[0.2222222222222222,\"#7201a8\"],[0.3333333333333333,\"#9c179e\"],[0.4444444444444444,\"#bd3786\"],[0.5555555555555556,\"#d8576b\"],[0.6666666666666666,\"#ed7953\"],[0.7777777777777778,\"#fb9f3a\"],[0.8888888888888888,\"#fdca26\"],[1.0,\"#f0f921\"]],\"diverging\":[[0,\"#8e0152\"],[0.1,\"#c51b7d\"],[0.2,\"#de77ae\"],[0.3,\"#f1b6da\"],[0.4,\"#fde0ef\"],[0.5,\"#f7f7f7\"],[0.6,\"#e6f5d0\"],[0.7,\"#b8e186\"],[0.8,\"#7fbc41\"],[0.9,\"#4d9221\"],[1,\"#276419\"]]},\"xaxis\":{\"gridcolor\":\"white\",\"linecolor\":\"white\",\"ticks\":\"\",\"title\":{\"standoff\":15},\"zerolinecolor\":\"white\",\"automargin\":true,\"zerolinewidth\":2},\"yaxis\":{\"gridcolor\":\"white\",\"linecolor\":\"white\",\"ticks\":\"\",\"title\":{\"standoff\":15},\"zerolinecolor\":\"white\",\"automargin\":true,\"zerolinewidth\":2},\"scene\":{\"xaxis\":{\"backgroundcolor\":\"#E5ECF6\",\"gridcolor\":\"white\",\"linecolor\":\"white\",\"showbackground\":true,\"ticks\":\"\",\"zerolinecolor\":\"white\",\"gridwidth\":2},\"yaxis\":{\"backgroundcolor\":\"#E5ECF6\",\"gridcolor\":\"white\",\"linecolor\":\"white\",\"showbackground\":true,\"ticks\":\"\",\"zerolinecolor\":\"white\",\"gridwidth\":2},\"zaxis\":{\"backgroundcolor\":\"#E5ECF6\",\"gridcolor\":\"white\",\"linecolor\":\"white\",\"showbackground\":true,\"ticks\":\"\",\"zerolinecolor\":\"white\",\"gridwidth\":2}},\"shapedefaults\":{\"line\":{\"color\":\"#2a3f5f\"}},\"annotationdefaults\":{\"arrowcolor\":\"#2a3f5f\",\"arrowhead\":0,\"arrowwidth\":1},\"geo\":{\"bgcolor\":\"white\",\"landcolor\":\"#E5ECF6\",\"subunitcolor\":\"white\",\"showland\":true,\"showlakes\":true,\"lakecolor\":\"white\"},\"title\":{\"x\":0.05},\"mapbox\":{\"style\":\"light\"}}},\"xaxis\":{\"anchor\":\"y\",\"domain\":[0.0,1.0],\"title\":{\"text\":\"Population\"}},\"yaxis\":{\"anchor\":\"x\",\"domain\":[0.0,1.0],\"title\":{\"text\":\"Total Tests\"}},\"coloraxis\":{\"colorbar\":{\"title\":{\"text\":\"Total Tests\"}},\"colorscale\":[[0.0,\"#440154\"],[0.1111111111111111,\"#482878\"],[0.2222222222222222,\"#3e4989\"],[0.3333333333333333,\"#31688e\"],[0.4444444444444444,\"#26828e\"],[0.5555555555555556,\"#1f9e89\"],[0.6666666666666666,\"#35b779\"],[0.7777777777777778,\"#6ece58\"],[0.8888888888888888,\"#b5de2b\"],[1.0,\"#fde725\"]]},\"legend\":{\"tracegroupgap\":0},\"title\":{\"text\":\"Total Population vs Total Tests\"}},                        {\"responsive\": true}                    ).then(function(){\n",
       "                            \n",
       "var gd = document.getElementById('13a96049-67ce-4938-b154-e2ecc2ee4719');\n",
       "var x = new MutationObserver(function (mutations, observer) {{\n",
       "        var display = window.getComputedStyle(gd).display;\n",
       "        if (!display || display === 'none') {{\n",
       "            console.log([gd, 'removed!']);\n",
       "            Plotly.purge(gd);\n",
       "            observer.disconnect();\n",
       "        }}\n",
       "}});\n",
       "\n",
       "// Listen for the removal of the full notebook cells\n",
       "var notebookContainer = gd.closest('#notebook-container');\n",
       "if (notebookContainer) {{\n",
       "    x.observe(notebookContainer, {childList: true});\n",
       "}}\n",
       "\n",
       "// Listen for the clearing of the current output cell\n",
       "var outputEl = gd.closest('.output');\n",
       "if (outputEl) {{\n",
       "    x.observe(outputEl, {childList: true});\n",
       "}}\n",
       "\n",
       "                        })                };                });            </script>        </div>"
      ]
     },
     "metadata": {},
     "output_type": "display_data"
    }
   ],
   "source": [
    "fig = px.scatter(df, x='Population', y='Total Tests', title=\"Total Population vs Total Tests\", color_continuous_scale='Viridis', color='Total Tests')\n",
    "fig.show()"
   ]
  },
  {
   "cell_type": "code",
   "execution_count": null,
   "id": "436a80bd-3b47-4197-b5a8-3d4308fce417",
   "metadata": {},
   "outputs": [],
   "source": []
  }
 ],
 "metadata": {
  "kernelspec": {
   "display_name": "Python 3 (ipykernel)",
   "language": "python",
   "name": "python3"
  },
  "language_info": {
   "codemirror_mode": {
    "name": "ipython",
    "version": 3
   },
   "file_extension": ".py",
   "mimetype": "text/x-python",
   "name": "python",
   "nbconvert_exporter": "python",
   "pygments_lexer": "ipython3",
   "version": "3.13.5"
  }
 },
 "nbformat": 4,
 "nbformat_minor": 5
}
